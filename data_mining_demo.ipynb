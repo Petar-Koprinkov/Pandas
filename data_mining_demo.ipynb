{
 "cells": [
  {
   "cell_type": "code",
   "id": "initial_id",
   "metadata": {
    "collapsed": true
   },
   "source": "import pandas as pd",
   "outputs": [],
   "execution_count": null
  },
  {
   "metadata": {},
   "cell_type": "markdown",
   "source": "## Intro to Series",
   "id": "1a79327b3bfc886"
  },
  {
   "metadata": {},
   "cell_type": "code",
   "source": [
    "cars = ['BMW', 'Audi', 'Opel', 'VW', 'Mercedes-Benz']\n",
    "my_series = pd.Series(cars)\n",
    "my_series"
   ],
   "id": "6383edfc7a698121",
   "outputs": [],
   "execution_count": null
  },
  {
   "metadata": {},
   "cell_type": "code",
   "source": "type(my_series)",
   "id": "406427aed42ca56f",
   "outputs": [],
   "execution_count": null
  },
  {
   "metadata": {},
   "cell_type": "code",
   "source": [
    "my_dict = {'a': 1, 'b': 2, 'c': 3, 'd': 4}\n",
    "pd.Series(my_dict)"
   ],
   "id": "367ef5a111e8cad",
   "outputs": [],
   "execution_count": null
  },
  {
   "metadata": {},
   "cell_type": "code",
   "source": [
    "my_cars = {\n",
    "    'Mercedes-Benz': 'CLS',\n",
    "    'BMW': 'M5 CS',\n",
    "    'Audi': 'RS 7',\n",
    "}\n",
    "cars_series = pd.Series(my_cars)\n",
    "cars_series"
   ],
   "id": "52c130847b6b2fba",
   "outputs": [],
   "execution_count": null
  },
  {
   "metadata": {},
   "cell_type": "code",
   "source": [
    "fruits = ['Orange', 'Apple', 'Manga', 'Grape', 'Tomato']\n",
    "weekdays = ['Monday', 'Tuesday', 'Wednesday', 'Thursday', 'Friday']"
   ],
   "id": "11b9ab9b0701f71c",
   "outputs": [],
   "execution_count": null
  },
  {
   "metadata": {},
   "cell_type": "code",
   "source": "pd.Series(data=fruits, index=weekdays)",
   "id": "907a513ab8c6dce5",
   "outputs": [],
   "execution_count": null
  },
  {
   "metadata": {},
   "cell_type": "code",
   "source": "cars_series.size",
   "id": "81c073c6b10caff2",
   "outputs": [],
   "execution_count": null
  },
  {
   "metadata": {},
   "cell_type": "code",
   "source": "type(cars_series)",
   "id": "b4db96620e2d30a3",
   "outputs": [],
   "execution_count": null
  },
  {
   "metadata": {},
   "cell_type": "code",
   "source": [
    "my_numbers = pd.Series([1, 2, 3, 4, 5, 6, 7, 8, 9, 10])\n",
    "my_numbers.sum()"
   ],
   "id": "a91c83df5d4ee214",
   "outputs": [],
   "execution_count": null
  },
  {
   "metadata": {},
   "cell_type": "code",
   "source": "my_numbers.mean()",
   "id": "2a69bbe90293ead6",
   "outputs": [],
   "execution_count": null
  },
  {
   "metadata": {},
   "cell_type": "code",
   "source": "my_numbers.product()",
   "id": "4a5e1f62e5e23201",
   "outputs": [],
   "execution_count": null
  },
  {
   "metadata": {},
   "cell_type": "code",
   "source": [
    "pokemons = pd.read_csv('Incomplete/pokemon.csv', usecols=['Name']).squeeze('columns')\n",
    "pokemons"
   ],
   "id": "996a4f40960cc6f7",
   "outputs": [],
   "execution_count": null
  },
  {
   "metadata": {},
   "cell_type": "code",
   "source": "'Pikachu' in pokemons.values",
   "id": "a64bf82916c3c4db",
   "outputs": [],
   "execution_count": null
  },
  {
   "metadata": {},
   "cell_type": "code",
   "source": "2 in pokemons.index",
   "id": "c1077bd8b441c291",
   "outputs": [],
   "execution_count": null
  },
  {
   "metadata": {},
   "cell_type": "code",
   "source": [
    "type(pokemons)\n",
    "pokemons.describe()"
   ],
   "id": "d25fe82dd1261574",
   "outputs": [],
   "execution_count": null
  },
  {
   "metadata": {},
   "cell_type": "code",
   "source": "pokemons.head(6)",
   "id": "7c56efba8de925cd",
   "outputs": [],
   "execution_count": null
  },
  {
   "metadata": {},
   "cell_type": "code",
   "source": "pokemons.tail(2)",
   "id": "c6da1964af06e3e",
   "outputs": [],
   "execution_count": null
  },
  {
   "metadata": {},
   "cell_type": "code",
   "source": "pokemons.iloc[8:26]",
   "id": "cec7f34c9c9685ed",
   "outputs": [],
   "execution_count": null
  },
  {
   "metadata": {},
   "cell_type": "code",
   "source": "pokemons.loc['Kakuna']",
   "id": "9d31df0a7aaf6241",
   "outputs": [],
   "execution_count": null
  },
  {
   "metadata": {},
   "cell_type": "code",
   "source": [
    "def count_a(pokemon):\n",
    "    return pokemon.count('a')"
   ],
   "id": "79594f9afd89d6a2",
   "outputs": [],
   "execution_count": null
  },
  {
   "metadata": {},
   "cell_type": "code",
   "source": "pokemons",
   "id": "d48333618b6a005b",
   "outputs": [],
   "execution_count": null
  },
  {
   "metadata": {},
   "cell_type": "code",
   "source": "pokemons.apply(count_a)",
   "id": "b06a9d9ecc6f3179",
   "outputs": [],
   "execution_count": null
  },
  {
   "metadata": {},
   "cell_type": "code",
   "source": [
    "def add_a_at_the_end(pokemon):\n",
    "    return pokemon + 'a'"
   ],
   "id": "33f753c1bf3e89f9",
   "outputs": [],
   "execution_count": null
  },
  {
   "metadata": {},
   "cell_type": "code",
   "source": "pokemons.apply(add_a_at_the_end)",
   "id": "32e0ca2d67abd0ad",
   "outputs": [],
   "execution_count": null
  },
  {
   "metadata": {},
   "cell_type": "code",
   "source": [
    "pokemons = pd.read_csv('Incomplete/pokemon.csv', index_col='Name').squeeze('columns')\n",
    "pokemons"
   ],
   "id": "f649be0c3b0efefb",
   "outputs": [],
   "execution_count": null
  },
  {
   "metadata": {},
   "cell_type": "code",
   "source": "type(pokemons)",
   "id": "8e90fb6bb1691fe4",
   "outputs": [],
   "execution_count": null
  },
  {
   "metadata": {},
   "cell_type": "code",
   "source": [
    "attacking_points = pd.Series({\n",
    "    'Grass, Poison': 10,\n",
    "    'Fire': 20,\n",
    "    'Fire, Flying': 30,\n",
    "    'Water': 40,\n",
    "    'Bug': 50\n",
    "})\n",
    "attacking_points"
   ],
   "id": "bdeb41de2b94612b",
   "outputs": [],
   "execution_count": null
  },
  {
   "metadata": {},
   "cell_type": "code",
   "source": "pokemons.map(attacking_points)",
   "id": "7ff8d1d896c154eb",
   "outputs": [],
   "execution_count": null
  }
 ],
 "metadata": {
  "kernelspec": {
   "display_name": "Python 3",
   "language": "python",
   "name": "python3"
  },
  "language_info": {
   "codemirror_mode": {
    "name": "ipython",
    "version": 2
   },
   "file_extension": ".py",
   "mimetype": "text/x-python",
   "name": "python",
   "nbconvert_exporter": "python",
   "pygments_lexer": "ipython2",
   "version": "2.7.6"
  }
 },
 "nbformat": 4,
 "nbformat_minor": 5
}
