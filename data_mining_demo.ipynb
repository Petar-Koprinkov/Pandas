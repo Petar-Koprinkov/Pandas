{
 "cells": [
  {
   "cell_type": "code",
   "id": "initial_id",
   "metadata": {
    "collapsed": true
   },
   "source": [
    "import pandas as pd\n",
    "import numpy as np"
   ],
   "outputs": [],
   "execution_count": null
  },
  {
   "metadata": {},
   "cell_type": "markdown",
   "source": "## What is Series ?",
   "id": "c9bdb40290250cd5"
  },
  {
   "metadata": {},
   "cell_type": "code",
   "source": "car1 = ['BMW', 'Audi', 'Opel', 'VW', 'Mercedes-Benz', 'Honda', 'Subaru', 'Toyota', 'Skoda']",
   "id": "3befc6b2a049456a",
   "outputs": [],
   "execution_count": null
  },
  {
   "metadata": {},
   "cell_type": "code",
   "source": "pd.Series(car1)",
   "id": "b1e0b2846dfdad84",
   "outputs": [],
   "execution_count": null
  },
  {
   "metadata": {},
   "cell_type": "code",
   "source": [
    "car2 = {\n",
    "    'Mercedes-Benz': 'CLS',\n",
    "    'BMW': 'M5 CS',\n",
    "    'Audi': 'RS 7',\n",
    "    'Opel': 'Vectra',\n",
    "    'Toyota': 'Yaris',\n",
    "    'Subaru': 'Impreza',\n",
    "    'Honda': 'CIVIC',\n",
    "\n",
    "    \n",
    "}"
   ],
   "id": "2a36918d874b4f8d",
   "outputs": [],
   "execution_count": null
  },
  {
   "metadata": {},
   "cell_type": "code",
   "source": "pd.Series(car2)",
   "id": "f6732ad261642e4a",
   "outputs": [],
   "execution_count": null
  },
  {
   "metadata": {},
   "cell_type": "code",
   "source": "numpy_array = np.array([10, 20, 30, 40, 50])",
   "id": "3695c5199309eda0",
   "outputs": [],
   "execution_count": null
  },
  {
   "metadata": {},
   "cell_type": "code",
   "source": "pd.Series(numpy_array)",
   "id": "32fe76db78579e42",
   "outputs": [],
   "execution_count": null
  },
  {
   "metadata": {},
   "cell_type": "markdown",
   "source": "## What is DataFrame ?",
   "id": "c66449ddd81cb4a4"
  },
  {
   "metadata": {},
   "cell_type": "code",
   "source": [
    "nba = pd.read_csv('nba.csv')\n",
    "nba"
   ],
   "id": "28a854f50b2a97bc",
   "outputs": [],
   "execution_count": null
  },
  {
   "metadata": {},
   "cell_type": "code",
   "source": [
    "data = [10, 20, 30, 40, 50]\n",
    "pd.DataFrame(data, columns=['Numbers'])"
   ],
   "id": "c6a11a709ba99a19",
   "outputs": [],
   "execution_count": null
  },
  {
   "metadata": {},
   "cell_type": "code",
   "source": [
    "data = {\n",
    "    \"Name\": [\"Alice\", \"Bob\", \"Charlie\"],\n",
    "    \"Age\": [25, 30, 35],\n",
    "    \"City\": [\"New York\", \"Los Angeles\", \"Chicago\"]\n",
    "}\n",
    "pd.DataFrame(data)"
   ],
   "id": "875b32ce4ad1c4c8",
   "outputs": [],
   "execution_count": null
  },
  {
   "metadata": {},
   "cell_type": "markdown",
   "source": "## Basic Operations on DataFrames",
   "id": "23d08227ef70d086"
  },
  {
   "metadata": {},
   "cell_type": "code",
   "source": [
    "nba = pd.read_csv('nba.csv')\n",
    "nba"
   ],
   "id": "bfcb85cc332cc68a",
   "outputs": [],
   "execution_count": null
  },
  {
   "metadata": {},
   "cell_type": "code",
   "source": "nba.head(10)",
   "id": "b7883c15e3601e5",
   "outputs": [],
   "execution_count": null
  },
  {
   "metadata": {},
   "cell_type": "code",
   "source": "nba.tail(10)",
   "id": "b738fc3410331f66",
   "outputs": [],
   "execution_count": null
  },
  {
   "metadata": {},
   "cell_type": "code",
   "source": "nba.info()",
   "id": "6ee321b1e51e14d9",
   "outputs": [],
   "execution_count": null
  },
  {
   "metadata": {},
   "cell_type": "code",
   "source": "nba.describe()",
   "id": "32ce0b6e27e1bea7",
   "outputs": [],
   "execution_count": null
  },
  {
   "metadata": {},
   "cell_type": "code",
   "source": "nba.loc[5]",
   "id": "4e98499515b634d2",
   "outputs": [],
   "execution_count": null
  },
  {
   "metadata": {},
   "cell_type": "code",
   "source": "nba.iloc[5:9]",
   "id": "b343d71c673df9d9",
   "outputs": [],
   "execution_count": null
  },
  {
   "metadata": {},
   "cell_type": "code",
   "source": [
    "nba = pd.read_csv('nba.csv', index_col='Name')\n",
    "nba"
   ],
   "id": "a7641fd75ed91594",
   "outputs": [],
   "execution_count": null
  },
  {
   "metadata": {},
   "cell_type": "code",
   "source": "nba.loc['Saddiq Bey']",
   "id": "35a49c798ee81d59",
   "outputs": [],
   "execution_count": null
  },
  {
   "metadata": {},
   "cell_type": "code",
   "source": "nba.loc['Saddiq Bey': 'Trent Forrest']",
   "id": "ca87472f2e112213",
   "outputs": [],
   "execution_count": null
  },
  {
   "metadata": {},
   "cell_type": "markdown",
   "source": "## Data Cleaning and Preprocessing in Pandas",
   "id": "b6461f3f4d93b7f0"
  },
  {
   "metadata": {},
   "cell_type": "code",
   "source": [
    "nba = pd.read_csv('nba.csv')\n",
    "nba"
   ],
   "id": "58c7e08dae5792d2",
   "outputs": [],
   "execution_count": null
  },
  {
   "metadata": {},
   "cell_type": "code",
   "source": "nba.dropna(how='any')",
   "id": "16030e5097c47502",
   "outputs": [],
   "execution_count": null
  },
  {
   "metadata": {},
   "cell_type": "code",
   "source": "nba.dropna(how='all')",
   "id": "6a811021ea0c62d0",
   "outputs": [],
   "execution_count": null
  },
  {
   "metadata": {},
   "cell_type": "code",
   "source": [
    "nba['Salary'] = nba['Salary'].fillna(value=0)\n",
    "nba"
   ],
   "id": "bc80474bfd04cd76",
   "outputs": [],
   "execution_count": null
  },
  {
   "metadata": {},
   "cell_type": "code",
   "source": [
    "nba['College'] = nba['College'].fillna(value='Uknown')\n",
    "nba"
   ],
   "id": "38681c23d4e5c02d",
   "outputs": [],
   "execution_count": null
  },
  {
   "metadata": {},
   "cell_type": "code",
   "source": [
    "nba['Salary'] = nba['Salary'].astype('int64')\n",
    "nba"
   ],
   "id": "ea63f1b08c1413a0",
   "outputs": [],
   "execution_count": null
  },
  {
   "metadata": {},
   "cell_type": "markdown",
   "source": "## Data Analysis in Pandas",
   "id": "eb1bb6220c2fdd3f"
  },
  {
   "metadata": {},
   "cell_type": "code",
   "source": [
    "nba = pd.read_csv('nba.csv')\n",
    "nba"
   ],
   "id": "19b9d6b292e5cd1c",
   "outputs": [],
   "execution_count": null
  },
  {
   "metadata": {},
   "cell_type": "code",
   "source": "nba.sort_values(by='Name', ascending=True)",
   "id": "13c6a09357421b84",
   "outputs": [],
   "execution_count": null
  },
  {
   "metadata": {},
   "cell_type": "code",
   "source": "nba.sort_values(by=['Salary', 'Team'], ascending=False, na_position='first')",
   "id": "23dbe689615af225",
   "outputs": [],
   "execution_count": null
  },
  {
   "metadata": {},
   "cell_type": "code",
   "source": [
    "nba = pd.read_csv('nba.csv')\n",
    "nba"
   ],
   "id": "76fca49a73b70ff0",
   "outputs": [],
   "execution_count": null
  },
  {
   "metadata": {},
   "cell_type": "code",
   "source": [
    "nba = nba.sort_values(by=['Salary', 'Name'], ascending=[False, True], na_position='last')\n",
    "nba"
   ],
   "id": "9a78febbaf9f5f79",
   "outputs": [],
   "execution_count": null
  },
  {
   "metadata": {},
   "cell_type": "code",
   "source": [
    "nba = pd.read_csv('nba.csv')\n",
    "nba"
   ],
   "id": "124b93996b49954c",
   "outputs": [],
   "execution_count": null
  },
  {
   "metadata": {},
   "cell_type": "code",
   "source": "nba.sort_index(ascending=False)",
   "id": "d353832997816ca2",
   "outputs": [],
   "execution_count": null
  },
  {
   "metadata": {},
   "cell_type": "code",
   "outputs": [],
   "execution_count": null,
   "source": [
    "food = pd.read_csv('restaurant_foods.csv')\n",
    "customers = pd.read_csv('restaurant_customers.csv')\n",
    "week1 = pd.read_csv('restaurant_week_1_sales.csv')\n",
    "week2 = pd.read_csv('restaurant_week_2_sales.csv')"
   ],
   "id": "740db13ea94beaef"
  }
 ],
 "metadata": {
  "kernelspec": {
   "display_name": "Python 3",
   "language": "python",
   "name": "python3"
  },
  "language_info": {
   "codemirror_mode": {
    "name": "ipython",
    "version": 2
   },
   "file_extension": ".py",
   "mimetype": "text/x-python",
   "name": "python",
   "nbconvert_exporter": "python",
   "pygments_lexer": "ipython2",
   "version": "2.7.6"
  }
 },
 "nbformat": 4,
 "nbformat_minor": 5
}
