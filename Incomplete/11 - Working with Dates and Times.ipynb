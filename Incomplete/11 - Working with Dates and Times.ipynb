{
 "cells": [
  {
   "cell_type": "markdown",
   "metadata": {},
   "source": [
    "# Working with Dates and Times"
   ]
  },
  {
   "cell_type": "code",
   "metadata": {
    "scrolled": true
   },
   "source": "import pandas as pd",
   "outputs": [],
   "execution_count": null
  },
  {
   "cell_type": "markdown",
   "metadata": {},
   "source": [
    "## Review of Python's datetime Module\n",
    "- The `datetime` module is built into the core Python programming language.\n",
    "- The common alias for the `datetime` module is `dt`.\n",
    "- A module is a Python source file; think of like an internal library that Python loads on demand.\n",
    "- The `datetime` module includes `date` and `datetime` classes for representing dates and datetimes.\n",
    "- The `date` constructor accepts arguments for year, month, and day. Python defaults to 0 for any missing values.\n",
    "- The `datetime` constructor accepts arguments for year, month, day, hour, minute, and second."
   ]
  },
  {
   "cell_type": "code",
   "metadata": {},
   "source": "import datetime as dt",
   "outputs": [],
   "execution_count": null
  },
  {
   "cell_type": "code",
   "metadata": {},
   "source": [
    "now = dt.datetime.today()\n",
    "print(now)"
   ],
   "outputs": [],
   "execution_count": null
  },
  {
   "cell_type": "code",
   "metadata": {},
   "source": "date = dt.date(2025, 1, 6)",
   "outputs": [],
   "execution_count": null
  },
  {
   "cell_type": "code",
   "metadata": {},
   "source": "date.year",
   "outputs": [],
   "execution_count": null
  },
  {
   "metadata": {},
   "cell_type": "code",
   "source": "date.month",
   "outputs": [],
   "execution_count": null
  },
  {
   "metadata": {},
   "cell_type": "code",
   "source": "date.day",
   "outputs": [],
   "execution_count": null
  },
  {
   "metadata": {},
   "cell_type": "code",
   "source": [
    "other_date = dt.datetime(2025, 1, 6, 18, 30, 0)\n",
    "other_date.year"
   ],
   "outputs": [],
   "execution_count": null
  },
  {
   "metadata": {},
   "cell_type": "code",
   "source": "other_date.month",
   "outputs": [],
   "execution_count": null
  },
  {
   "metadata": {},
   "cell_type": "code",
   "source": "other_date.second",
   "outputs": [],
   "execution_count": null
  },
  {
   "metadata": {},
   "cell_type": "code",
   "source": "other_date.hour",
   "outputs": [],
   "execution_count": null
  },
  {
   "cell_type": "markdown",
   "metadata": {},
   "source": [
    "## The Timestamp and DatetimeIndex Objects\n",
    "\n",
    "- Pandas ships with several classes related to datetimes.\n",
    "- The **Timestamp** is similar to Python's **datetime** object (but with expanded functionality).\n",
    "- A **DatetimeIndex** is an index of **Timestamp** objects.\n",
    "- The **Timestamp** constructor accepts a string, a **datetime** object, or equivalent arguments to the **datetime** clas."
   ]
  },
  {
   "cell_type": "code",
   "metadata": {
    "scrolled": true
   },
   "source": "date = pd.Timestamp(2025, 1, 6, 18, 30, 0)",
   "outputs": [],
   "execution_count": null
  },
  {
   "cell_type": "code",
   "metadata": {},
   "source": "date.second",
   "outputs": [],
   "execution_count": null
  },
  {
   "cell_type": "code",
   "metadata": {},
   "source": "date.minute",
   "outputs": [],
   "execution_count": null
  },
  {
   "metadata": {},
   "cell_type": "code",
   "source": "date.hour",
   "outputs": [],
   "execution_count": null
  },
  {
   "metadata": {},
   "cell_type": "code",
   "source": "date = pd.Timestamp('2025-01-06 18:30:33')",
   "outputs": [],
   "execution_count": null
  },
  {
   "metadata": {},
   "cell_type": "code",
   "source": "print(date)",
   "outputs": [],
   "execution_count": null
  },
  {
   "cell_type": "code",
   "metadata": {},
   "source": "date.second",
   "outputs": [],
   "execution_count": null
  },
  {
   "cell_type": "markdown",
   "metadata": {},
   "source": [
    "## Create Range of Dates with pd.date_range Function\n",
    "- The `date_range` function generates and returns a **DatetimeIndex** holding a sequence of dates.\n",
    "- The function requires 2 of the 3 following parameters: `start`, `end`, and `period`.\n",
    "- With `start` and `end`, Pandas will assume a daily period/interval.\n",
    "- Every element within a **DatetimeIndex** is a **Timestamp**."
   ]
  },
  {
   "cell_type": "code",
   "metadata": {
    "ExecuteTime": {
     "end_time": "2025-01-05T18:48:22.945455Z",
     "start_time": "2025-01-05T18:48:22.938702Z"
    }
   },
   "source": "pd.date_range(start='2025-01-05', end='2025-02-05', freq='D')",
   "outputs": [
    {
     "data": {
      "text/plain": [
       "DatetimeIndex(['2025-01-05', '2025-01-06', '2025-01-07', '2025-01-08',\n",
       "               '2025-01-09', '2025-01-10', '2025-01-11', '2025-01-12',\n",
       "               '2025-01-13', '2025-01-14', '2025-01-15', '2025-01-16',\n",
       "               '2025-01-17', '2025-01-18', '2025-01-19', '2025-01-20',\n",
       "               '2025-01-21', '2025-01-22', '2025-01-23', '2025-01-24',\n",
       "               '2025-01-25', '2025-01-26', '2025-01-27', '2025-01-28',\n",
       "               '2025-01-29', '2025-01-30', '2025-01-31', '2025-02-01',\n",
       "               '2025-02-02', '2025-02-03', '2025-02-04', '2025-02-05'],\n",
       "              dtype='datetime64[ns]', freq='D')"
      ]
     },
     "execution_count": 26,
     "metadata": {},
     "output_type": "execute_result"
    }
   ],
   "execution_count": 26
  },
  {
   "cell_type": "code",
   "metadata": {
    "ExecuteTime": {
     "end_time": "2025-01-05T18:48:41.829394Z",
     "start_time": "2025-01-05T18:48:41.820213Z"
    }
   },
   "source": "pd.date_range(start='2025-01-05', end='2025-02-05', freq='B')",
   "outputs": [
    {
     "data": {
      "text/plain": [
       "DatetimeIndex(['2025-01-06', '2025-01-07', '2025-01-08', '2025-01-09',\n",
       "               '2025-01-10', '2025-01-13', '2025-01-14', '2025-01-15',\n",
       "               '2025-01-16', '2025-01-17', '2025-01-20', '2025-01-21',\n",
       "               '2025-01-22', '2025-01-23', '2025-01-24', '2025-01-27',\n",
       "               '2025-01-28', '2025-01-29', '2025-01-30', '2025-01-31',\n",
       "               '2025-02-03', '2025-02-04', '2025-02-05'],\n",
       "              dtype='datetime64[ns]', freq='B')"
      ]
     },
     "execution_count": 28,
     "metadata": {},
     "output_type": "execute_result"
    }
   ],
   "execution_count": 28
  },
  {
   "metadata": {
    "ExecuteTime": {
     "end_time": "2025-01-05T18:49:31.559106Z",
     "start_time": "2025-01-05T18:49:31.550700Z"
    }
   },
   "cell_type": "code",
   "source": "pd.date_range(start='2025-01-05', end='2025-02-05', freq='2d')",
   "outputs": [
    {
     "data": {
      "text/plain": [
       "DatetimeIndex(['2025-01-05', '2025-01-07', '2025-01-09', '2025-01-11',\n",
       "               '2025-01-13', '2025-01-15', '2025-01-17', '2025-01-19',\n",
       "               '2025-01-21', '2025-01-23', '2025-01-25', '2025-01-27',\n",
       "               '2025-01-29', '2025-01-31', '2025-02-02', '2025-02-04'],\n",
       "              dtype='datetime64[ns]', freq='2D')"
      ]
     },
     "execution_count": 34,
     "metadata": {},
     "output_type": "execute_result"
    }
   ],
   "execution_count": 34
  },
  {
   "metadata": {
    "ExecuteTime": {
     "end_time": "2025-01-05T18:50:00.068117Z",
     "start_time": "2025-01-05T18:50:00.060699Z"
    }
   },
   "cell_type": "code",
   "source": "pd.date_range(start='2025-01-05', end='2025-02-05', freq='W-FRI')",
   "outputs": [
    {
     "data": {
      "text/plain": [
       "DatetimeIndex(['2025-01-10', '2025-01-17', '2025-01-24', '2025-01-31'], dtype='datetime64[ns]', freq='W-FRI')"
      ]
     },
     "execution_count": 38,
     "metadata": {},
     "output_type": "execute_result"
    }
   ],
   "execution_count": 38
  },
  {
   "cell_type": "code",
   "metadata": {
    "ExecuteTime": {
     "end_time": "2025-01-05T18:50:22.052832Z",
     "start_time": "2025-01-05T18:50:22.046025Z"
    }
   },
   "source": "pd.date_range(start='2025-01-05', freq='W', periods=10)",
   "outputs": [
    {
     "data": {
      "text/plain": [
       "DatetimeIndex(['2025-01-05', '2025-01-12', '2025-01-19', '2025-01-26',\n",
       "               '2025-02-02', '2025-02-09', '2025-02-16', '2025-02-23',\n",
       "               '2025-03-02', '2025-03-09'],\n",
       "              dtype='datetime64[ns]', freq='W-SUN')"
      ]
     },
     "execution_count": 39,
     "metadata": {},
     "output_type": "execute_result"
    }
   ],
   "execution_count": 39
  },
  {
   "cell_type": "code",
   "metadata": {
    "ExecuteTime": {
     "end_time": "2025-01-05T18:50:29.277389Z",
     "start_time": "2025-01-05T18:50:29.269878Z"
    }
   },
   "source": "pd.date_range(end='2025-01-05', freq='W', periods=10)",
   "outputs": [
    {
     "data": {
      "text/plain": [
       "DatetimeIndex(['2024-11-03', '2024-11-10', '2024-11-17', '2024-11-24',\n",
       "               '2024-12-01', '2024-12-08', '2024-12-15', '2024-12-22',\n",
       "               '2024-12-29', '2025-01-05'],\n",
       "              dtype='datetime64[ns]', freq='W-SUN')"
      ]
     },
     "execution_count": 40,
     "metadata": {},
     "output_type": "execute_result"
    }
   ],
   "execution_count": 40
  },
  {
   "metadata": {
    "ExecuteTime": {
     "end_time": "2025-01-05T18:51:26.623340Z",
     "start_time": "2025-01-05T18:51:26.617138Z"
    }
   },
   "cell_type": "code",
   "source": "pd.date_range(start='2025-01-05', freq='YE', periods=10)",
   "outputs": [
    {
     "data": {
      "text/plain": [
       "DatetimeIndex(['2025-12-31', '2026-12-31', '2027-12-31', '2028-12-31',\n",
       "               '2029-12-31', '2030-12-31', '2031-12-31', '2032-12-31',\n",
       "               '2033-12-31', '2034-12-31'],\n",
       "              dtype='datetime64[ns]', freq='YE-DEC')"
      ]
     },
     "execution_count": 44,
     "metadata": {},
     "output_type": "execute_result"
    }
   ],
   "execution_count": 44
  },
  {
   "metadata": {
    "ExecuteTime": {
     "end_time": "2025-01-05T18:52:01.116220Z",
     "start_time": "2025-01-05T18:52:01.109420Z"
    }
   },
   "cell_type": "code",
   "source": "pd.date_range(start='2000-02-29', freq='W', periods=10)",
   "outputs": [
    {
     "data": {
      "text/plain": [
       "DatetimeIndex(['2000-03-05', '2000-03-12', '2000-03-19', '2000-03-26',\n",
       "               '2000-04-02', '2000-04-09', '2000-04-16', '2000-04-23',\n",
       "               '2000-04-30', '2000-05-07'],\n",
       "              dtype='datetime64[ns]', freq='W-SUN')"
      ]
     },
     "execution_count": 45,
     "metadata": {},
     "output_type": "execute_result"
    }
   ],
   "execution_count": 45
  },
  {
   "metadata": {
    "ExecuteTime": {
     "end_time": "2025-01-05T18:53:06.744387Z",
     "start_time": "2025-01-05T18:53:06.736570Z"
    }
   },
   "cell_type": "code",
   "source": "pd.date_range(start='2000-02-29', freq='YE', periods=10)",
   "outputs": [
    {
     "data": {
      "text/plain": [
       "DatetimeIndex(['2000-12-31', '2001-12-31', '2002-12-31', '2003-12-31',\n",
       "               '2004-12-31', '2005-12-31', '2006-12-31', '2007-12-31',\n",
       "               '2008-12-31', '2009-12-31'],\n",
       "              dtype='datetime64[ns]', freq='YE-DEC')"
      ]
     },
     "execution_count": 50,
     "metadata": {},
     "output_type": "execute_result"
    }
   ],
   "execution_count": 50
  },
  {
   "metadata": {
    "ExecuteTime": {
     "end_time": "2025-01-05T19:00:51.527940Z",
     "start_time": "2025-01-05T19:00:51.522241Z"
    }
   },
   "cell_type": "code",
   "source": "pd.date_range(start='2000-02-29', end='2050-02-28', freq='24D 8h 20min 45s')",
   "outputs": [
    {
     "data": {
      "text/plain": [
       "DatetimeIndex(['2000-02-29 00:00:00', '2000-03-24 08:20:45',\n",
       "               '2000-04-17 16:41:30', '2000-05-12 01:02:15',\n",
       "               '2000-06-05 09:23:00', '2000-06-29 17:43:45',\n",
       "               '2000-07-24 02:04:30', '2000-08-17 10:25:15',\n",
       "               '2000-09-10 18:46:00', '2000-10-05 03:06:45',\n",
       "               ...\n",
       "               '2049-07-22 16:15:45', '2049-08-16 00:36:30',\n",
       "               '2049-09-09 08:57:15', '2049-10-03 17:18:00',\n",
       "               '2049-10-28 01:38:45', '2049-11-21 09:59:30',\n",
       "               '2049-12-15 18:20:15', '2050-01-09 02:41:00',\n",
       "               '2050-02-02 11:01:45', '2050-02-26 19:22:30'],\n",
       "              dtype='datetime64[ns]', length=751, freq='2103645s')"
      ]
     },
     "execution_count": 62,
     "metadata": {},
     "output_type": "execute_result"
    }
   ],
   "execution_count": 62
  },
  {
   "cell_type": "markdown",
   "metadata": {},
   "source": [
    "## The dt Attribute\n",
    "- The `dt` attribute reveals a `DatetimeProperties` object with attributes/methods for working with datetimes. It is similar to the `str` attribute for string methods.\n",
    "- The `DatetimeProperties` object has attributes like `day`, `month`, and `year` to reveal information about each date in the **Series**.\n",
    "- The `day_name` method returns the written day of the week.\n",
    "- Attributes like `is_month_end` and `is_quarter_start` return Boolean **Series**."
   ]
  },
  {
   "cell_type": "code",
   "metadata": {
    "ExecuteTime": {
     "end_time": "2025-01-05T19:26:07.202894Z",
     "start_time": "2025-01-05T19:26:07.195826Z"
    }
   },
   "source": [
    "bunch_of_weeks = pd.Series(pd.date_range(start='2000-01-01', end='2025-01-01', freq='2D'))\n",
    "bunch_of_weeks"
   ],
   "outputs": [
    {
     "data": {
      "text/plain": [
       "0      2000-01-01\n",
       "1      2000-01-03\n",
       "2      2000-01-05\n",
       "3      2000-01-07\n",
       "4      2000-01-09\n",
       "          ...    \n",
       "4562   2024-12-24\n",
       "4563   2024-12-26\n",
       "4564   2024-12-28\n",
       "4565   2024-12-30\n",
       "4566   2025-01-01\n",
       "Length: 4567, dtype: datetime64[ns]"
      ]
     },
     "execution_count": 72,
     "metadata": {},
     "output_type": "execute_result"
    }
   ],
   "execution_count": 72
  },
  {
   "cell_type": "code",
   "metadata": {
    "ExecuteTime": {
     "end_time": "2025-01-05T19:26:07.677909Z",
     "start_time": "2025-01-05T19:26:07.667646Z"
    }
   },
   "source": "bunch_of_weeks.dt.day",
   "outputs": [
    {
     "data": {
      "text/plain": [
       "0        1\n",
       "1        3\n",
       "2        5\n",
       "3        7\n",
       "4        9\n",
       "        ..\n",
       "4562    24\n",
       "4563    26\n",
       "4564    28\n",
       "4565    30\n",
       "4566     1\n",
       "Length: 4567, dtype: int32"
      ]
     },
     "execution_count": 73,
     "metadata": {},
     "output_type": "execute_result"
    }
   ],
   "execution_count": 73
  },
  {
   "cell_type": "code",
   "metadata": {
    "ExecuteTime": {
     "end_time": "2025-01-05T19:26:08.251754Z",
     "start_time": "2025-01-05T19:26:08.240753Z"
    }
   },
   "source": "bunch_of_weeks.dt.year",
   "outputs": [
    {
     "data": {
      "text/plain": [
       "0       2000\n",
       "1       2000\n",
       "2       2000\n",
       "3       2000\n",
       "4       2000\n",
       "        ... \n",
       "4562    2024\n",
       "4563    2024\n",
       "4564    2024\n",
       "4565    2024\n",
       "4566    2025\n",
       "Length: 4567, dtype: int32"
      ]
     },
     "execution_count": 74,
     "metadata": {},
     "output_type": "execute_result"
    }
   ],
   "execution_count": 74
  },
  {
   "metadata": {
    "ExecuteTime": {
     "end_time": "2025-01-05T19:26:09.486278Z",
     "start_time": "2025-01-05T19:26:09.478396Z"
    }
   },
   "cell_type": "code",
   "source": "bunch_of_weeks.dt.hour",
   "outputs": [
    {
     "data": {
      "text/plain": [
       "0       0\n",
       "1       0\n",
       "2       0\n",
       "3       0\n",
       "4       0\n",
       "       ..\n",
       "4562    0\n",
       "4563    0\n",
       "4564    0\n",
       "4565    0\n",
       "4566    0\n",
       "Length: 4567, dtype: int32"
      ]
     },
     "execution_count": 75,
     "metadata": {},
     "output_type": "execute_result"
    }
   ],
   "execution_count": 75
  },
  {
   "metadata": {
    "ExecuteTime": {
     "end_time": "2025-01-05T19:26:10.453831Z",
     "start_time": "2025-01-05T19:26:10.445723Z"
    }
   },
   "cell_type": "code",
   "source": "bunch_of_weeks.dt.day_name()",
   "outputs": [
    {
     "data": {
      "text/plain": [
       "0        Saturday\n",
       "1          Monday\n",
       "2       Wednesday\n",
       "3          Friday\n",
       "4          Sunday\n",
       "          ...    \n",
       "4562      Tuesday\n",
       "4563     Thursday\n",
       "4564     Saturday\n",
       "4565       Monday\n",
       "4566    Wednesday\n",
       "Length: 4567, dtype: object"
      ]
     },
     "execution_count": 76,
     "metadata": {},
     "output_type": "execute_result"
    }
   ],
   "execution_count": 76
  },
  {
   "metadata": {
    "ExecuteTime": {
     "end_time": "2025-01-05T19:28:50.137859Z",
     "start_time": "2025-01-05T19:28:50.130945Z"
    }
   },
   "cell_type": "code",
   "source": "bunch_of_weeks.dt.weekday",
   "outputs": [
    {
     "data": {
      "text/plain": [
       "0       5\n",
       "1       0\n",
       "2       2\n",
       "3       4\n",
       "4       6\n",
       "       ..\n",
       "4562    1\n",
       "4563    3\n",
       "4564    5\n",
       "4565    0\n",
       "4566    2\n",
       "Length: 4567, dtype: int32"
      ]
     },
     "execution_count": 77,
     "metadata": {},
     "output_type": "execute_result"
    }
   ],
   "execution_count": 77
  },
  {
   "cell_type": "code",
   "metadata": {
    "ExecuteTime": {
     "end_time": "2025-01-05T19:30:55.701756Z",
     "start_time": "2025-01-05T19:30:55.693748Z"
    }
   },
   "source": "bunch_of_weeks.dt.hour",
   "outputs": [
    {
     "data": {
      "text/plain": [
       "0       0\n",
       "1       0\n",
       "2       0\n",
       "3       0\n",
       "4       0\n",
       "       ..\n",
       "4562    0\n",
       "4563    0\n",
       "4564    0\n",
       "4565    0\n",
       "4566    0\n",
       "Length: 4567, dtype: int32"
      ]
     },
     "execution_count": 81,
     "metadata": {},
     "output_type": "execute_result"
    }
   ],
   "execution_count": 81
  },
  {
   "cell_type": "markdown",
   "metadata": {},
   "source": [
    "## Selecting Rows from a DataFrame with a DateTimeIndex\n",
    "- The `iloc` accessor is available for index position-based extraction.\n",
    "- The `loc` accessor accepts strings or **Timestamps** to extract by index label/value. Note that Python's `datetime` objects will not work.\n",
    "- Use list slicing to extract a sequence of dates. The `truncate` method is another alternative."
   ]
  },
  {
   "cell_type": "code",
   "metadata": {},
   "source": [],
   "outputs": [],
   "execution_count": null
  },
  {
   "cell_type": "code",
   "metadata": {},
   "source": [],
   "outputs": [],
   "execution_count": null
  },
  {
   "cell_type": "code",
   "metadata": {},
   "source": [],
   "outputs": [],
   "execution_count": null
  },
  {
   "cell_type": "code",
   "metadata": {},
   "source": [],
   "outputs": [],
   "execution_count": null
  },
  {
   "cell_type": "markdown",
   "metadata": {},
   "source": [
    "## The DateOffset Object\n",
    "- A **DateOffset** object adds time to a **Timestamp** to arrive at a new **Timestamp**.\n",
    "- The **DateOffset** constructor accepts `days`, `weeks`, `months`, `years` parameters, and more.\n",
    "- We can pass a **DateOffset** object to the `freq` parameter of the `pd.date_range` function."
   ]
  },
  {
   "cell_type": "code",
   "metadata": {},
   "source": [],
   "outputs": [],
   "execution_count": null
  },
  {
   "cell_type": "code",
   "metadata": {},
   "source": [],
   "outputs": [],
   "execution_count": null
  },
  {
   "cell_type": "code",
   "metadata": {},
   "source": [],
   "outputs": [],
   "execution_count": null
  },
  {
   "cell_type": "code",
   "metadata": {},
   "source": [],
   "outputs": [],
   "execution_count": null
  },
  {
   "cell_type": "markdown",
   "metadata": {},
   "source": [
    "## Specialized Date Offsets\n",
    "- Pandas nests more specialized date offsets in `pd.tseries.offsets`.\n",
    "- We can add a different amount of time to each date (for example, month end, quarter end, year begin)"
   ]
  },
  {
   "cell_type": "code",
   "metadata": {},
   "source": [],
   "outputs": [],
   "execution_count": null
  },
  {
   "cell_type": "code",
   "metadata": {},
   "source": [],
   "outputs": [],
   "execution_count": null
  },
  {
   "cell_type": "code",
   "metadata": {},
   "source": [],
   "outputs": [],
   "execution_count": null
  },
  {
   "cell_type": "code",
   "metadata": {},
   "source": [],
   "outputs": [],
   "execution_count": null
  },
  {
   "cell_type": "markdown",
   "metadata": {},
   "source": [
    "## Timedeltas\n",
    "- A **Timedelta** is a pandas object that represents a duration (an amount of time).\n",
    "- Subtracting two **Timestamp** objects will yield a **Timedelta** object (this applies to subtracting a **Series** from another **Series**).\n",
    "- The **Timedelta** constructor accepts parameters for time as well as string descriptions."
   ]
  },
  {
   "cell_type": "code",
   "metadata": {},
   "source": [],
   "outputs": [],
   "execution_count": null
  },
  {
   "cell_type": "code",
   "metadata": {},
   "source": [],
   "outputs": [],
   "execution_count": null
  },
  {
   "cell_type": "code",
   "metadata": {},
   "source": [],
   "outputs": [],
   "execution_count": null
  },
  {
   "cell_type": "code",
   "metadata": {},
   "source": [],
   "outputs": [],
   "execution_count": null
  },
  {
   "cell_type": "code",
   "metadata": {},
   "source": [],
   "outputs": [],
   "execution_count": null
  },
  {
   "cell_type": "code",
   "metadata": {},
   "source": [],
   "outputs": [],
   "execution_count": null
  },
  {
   "cell_type": "code",
   "metadata": {},
   "source": [],
   "outputs": [],
   "execution_count": null
  }
 ],
 "metadata": {
  "anaconda-cloud": {},
  "kernelspec": {
   "display_name": "Python 3 (ipykernel)",
   "language": "python",
   "name": "python3"
  },
  "language_info": {
   "codemirror_mode": {
    "name": "ipython",
    "version": 3
   },
   "file_extension": ".py",
   "mimetype": "text/x-python",
   "name": "python",
   "nbconvert_exporter": "python",
   "pygments_lexer": "ipython3",
   "version": "3.11.5"
  }
 },
 "nbformat": 4,
 "nbformat_minor": 4
}
