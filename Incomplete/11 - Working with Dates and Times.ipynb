{
 "cells": [
  {
   "cell_type": "markdown",
   "metadata": {},
   "source": [
    "# Working with Dates and Times"
   ]
  },
  {
   "cell_type": "code",
   "metadata": {
    "scrolled": true
   },
   "source": "import pandas as pd",
   "outputs": [],
   "execution_count": null
  },
  {
   "cell_type": "markdown",
   "metadata": {},
   "source": [
    "## Review of Python's datetime Module\n",
    "- The `datetime` module is built into the core Python programming language.\n",
    "- The common alias for the `datetime` module is `dt`.\n",
    "- A module is a Python source file; think of like an internal library that Python loads on demand.\n",
    "- The `datetime` module includes `date` and `datetime` classes for representing dates and datetimes.\n",
    "- The `date` constructor accepts arguments for year, month, and day. Python defaults to 0 for any missing values.\n",
    "- The `datetime` constructor accepts arguments for year, month, day, hour, minute, and second."
   ]
  },
  {
   "cell_type": "code",
   "metadata": {},
   "source": "import datetime as dt",
   "outputs": [],
   "execution_count": null
  },
  {
   "cell_type": "code",
   "metadata": {},
   "source": [
    "now = dt.datetime.today()\n",
    "print(now)"
   ],
   "outputs": [],
   "execution_count": null
  },
  {
   "cell_type": "code",
   "metadata": {},
   "source": "date = dt.date(2025, 1, 6)",
   "outputs": [],
   "execution_count": null
  },
  {
   "cell_type": "code",
   "metadata": {},
   "source": "date.year",
   "outputs": [],
   "execution_count": null
  },
  {
   "metadata": {},
   "cell_type": "code",
   "source": "date.month",
   "outputs": [],
   "execution_count": null
  },
  {
   "metadata": {},
   "cell_type": "code",
   "source": "date.day",
   "outputs": [],
   "execution_count": null
  },
  {
   "metadata": {},
   "cell_type": "code",
   "source": [
    "other_date = dt.datetime(2025, 1, 6, 18, 30, 0)\n",
    "other_date.year"
   ],
   "outputs": [],
   "execution_count": null
  },
  {
   "metadata": {},
   "cell_type": "code",
   "source": "other_date.month",
   "outputs": [],
   "execution_count": null
  },
  {
   "metadata": {},
   "cell_type": "code",
   "source": "other_date.second",
   "outputs": [],
   "execution_count": null
  },
  {
   "metadata": {},
   "cell_type": "code",
   "source": "other_date.hour",
   "outputs": [],
   "execution_count": null
  },
  {
   "cell_type": "markdown",
   "metadata": {},
   "source": [
    "## The Timestamp and DatetimeIndex Objects\n",
    "\n",
    "- Pandas ships with several classes related to datetimes.\n",
    "- The **Timestamp** is similar to Python's **datetime** object (but with expanded functionality).\n",
    "- A **DatetimeIndex** is an index of **Timestamp** objects.\n",
    "- The **Timestamp** constructor accepts a string, a **datetime** object, or equivalent arguments to the **datetime** clas."
   ]
  },
  {
   "cell_type": "code",
   "metadata": {
    "scrolled": true
   },
   "source": "date = pd.Timestamp(2025, 1, 6, 18, 30, 0)",
   "outputs": [],
   "execution_count": null
  },
  {
   "cell_type": "code",
   "metadata": {},
   "source": "date.second",
   "outputs": [],
   "execution_count": null
  },
  {
   "cell_type": "code",
   "metadata": {},
   "source": "date.minute",
   "outputs": [],
   "execution_count": null
  },
  {
   "metadata": {},
   "cell_type": "code",
   "source": "date.hour",
   "outputs": [],
   "execution_count": null
  },
  {
   "metadata": {},
   "cell_type": "code",
   "source": "date = pd.Timestamp('2025-01-06 18:30:33')",
   "outputs": [],
   "execution_count": null
  },
  {
   "metadata": {},
   "cell_type": "code",
   "source": "print(date)",
   "outputs": [],
   "execution_count": null
  },
  {
   "cell_type": "code",
   "metadata": {},
   "source": "date.second",
   "outputs": [],
   "execution_count": null
  },
  {
   "cell_type": "markdown",
   "metadata": {},
   "source": [
    "## Create Range of Dates with pd.date_range Function\n",
    "- The `date_range` function generates and returns a **DatetimeIndex** holding a sequence of dates.\n",
    "- The function requires 2 of the 3 following parameters: `start`, `end`, and `period`.\n",
    "- With `start` and `end`, Pandas will assume a daily period/interval.\n",
    "- Every element within a **DatetimeIndex** is a **Timestamp**."
   ]
  },
  {
   "cell_type": "code",
   "metadata": {},
   "source": "pd.date_range(start='2025-01-05', end='2025-02-05', freq='D')",
   "outputs": [],
   "execution_count": null
  },
  {
   "cell_type": "code",
   "metadata": {},
   "source": "pd.date_range(start='2025-01-05', end='2025-02-05', freq='B')",
   "outputs": [],
   "execution_count": null
  },
  {
   "metadata": {},
   "cell_type": "code",
   "source": "pd.date_range(start='2025-01-05', end='2025-02-05', freq='2d')",
   "outputs": [],
   "execution_count": null
  },
  {
   "metadata": {},
   "cell_type": "code",
   "source": "pd.date_range(start='2025-01-05', end='2025-02-05', freq='W-FRI')",
   "outputs": [],
   "execution_count": null
  },
  {
   "cell_type": "code",
   "metadata": {},
   "source": "pd.date_range(start='2025-01-05', freq='W', periods=10)",
   "outputs": [],
   "execution_count": null
  },
  {
   "cell_type": "code",
   "metadata": {},
   "source": "pd.date_range(end='2025-01-05', freq='W', periods=10)",
   "outputs": [],
   "execution_count": null
  },
  {
   "metadata": {},
   "cell_type": "code",
   "source": "pd.date_range(start='2025-01-05', freq='YE', periods=10)",
   "outputs": [],
   "execution_count": null
  },
  {
   "metadata": {},
   "cell_type": "code",
   "source": "pd.date_range(start='2000-02-29', freq='W', periods=10)",
   "outputs": [],
   "execution_count": null
  },
  {
   "metadata": {},
   "cell_type": "code",
   "source": "pd.date_range(start='2000-02-29', freq='YE', periods=10)",
   "outputs": [],
   "execution_count": null
  },
  {
   "metadata": {},
   "cell_type": "code",
   "source": "pd.date_range(start='2000-02-29', end='2050-02-28', freq='24D 8h 20min 45s')",
   "outputs": [],
   "execution_count": null
  },
  {
   "cell_type": "markdown",
   "metadata": {},
   "source": [
    "## The dt Attribute\n",
    "- The `dt` attribute reveals a `DatetimeProperties` object with attributes/methods for working with datetimes. It is similar to the `str` attribute for string methods.\n",
    "- The `DatetimeProperties` object has attributes like `day`, `month`, and `year` to reveal information about each date in the **Series**.\n",
    "- The `day_name` method returns the written day of the week.\n",
    "- Attributes like `is_month_end` and `is_quarter_start` return Boolean **Series**."
   ]
  },
  {
   "cell_type": "code",
   "metadata": {},
   "source": [
    "bunch_of_weeks = pd.Series(pd.date_range(start='2000-01-01', end='2025-01-01', freq='2D'))\n",
    "bunch_of_weeks"
   ],
   "outputs": [],
   "execution_count": null
  },
  {
   "cell_type": "code",
   "metadata": {},
   "source": "bunch_of_weeks.dt.day",
   "outputs": [],
   "execution_count": null
  },
  {
   "cell_type": "code",
   "metadata": {},
   "source": "bunch_of_weeks.dt.year",
   "outputs": [],
   "execution_count": null
  },
  {
   "metadata": {},
   "cell_type": "code",
   "source": "bunch_of_weeks.dt.hour",
   "outputs": [],
   "execution_count": null
  },
  {
   "metadata": {},
   "cell_type": "code",
   "source": "bunch_of_weeks.dt.day_name()",
   "outputs": [],
   "execution_count": null
  },
  {
   "metadata": {},
   "cell_type": "code",
   "source": "bunch_of_weeks.dt.weekday",
   "outputs": [],
   "execution_count": null
  },
  {
   "cell_type": "code",
   "metadata": {},
   "source": "bunch_of_weeks.dt.hour",
   "outputs": [],
   "execution_count": null
  },
  {
   "cell_type": "markdown",
   "metadata": {},
   "source": [
    "## Selecting Rows from a DataFrame with a DateTimeIndex\n",
    "- The `iloc` accessor is available for index position-based extraction.\n",
    "- The `loc` accessor accepts strings or **Timestamps** to extract by index label/value. Note that Python's `datetime` objects will not work.\n",
    "- Use list slicing to extract a sequence of dates. The `truncate` method is another alternative."
   ]
  },
  {
   "cell_type": "code",
   "metadata": {},
   "source": [
    "stock = pd.read_csv('ibm.csv', parse_dates=['Date'], index_col='Date').sort_index()\n",
    "stock"
   ],
   "outputs": [],
   "execution_count": null
  },
  {
   "cell_type": "code",
   "metadata": {},
   "source": "stock.iloc[0]",
   "outputs": [],
   "execution_count": null
  },
  {
   "cell_type": "code",
   "metadata": {},
   "source": "stock.loc['2023-10-11']",
   "outputs": [],
   "execution_count": null
  },
  {
   "cell_type": "code",
   "metadata": {},
   "source": "stock.loc['2020-10-11': '2023-10-11', 'Open': 'Close']",
   "outputs": [],
   "execution_count": null
  },
  {
   "metadata": {},
   "cell_type": "code",
   "source": "stock.loc['1999-10-11', 'Open': 'Close']",
   "outputs": [],
   "execution_count": null
  },
  {
   "cell_type": "markdown",
   "metadata": {},
   "source": [
    "## The DateOffset Object\n",
    "- A **DateOffset** object adds time to a **Timestamp** to arrive at a new **Timestamp**.\n",
    "- The **DateOffset** constructor accepts `days`, `weeks`, `months`, `years` parameters, and more.\n",
    "- We can pass a **DateOffset** object to the `freq` parameter of the `pd.date_range` function."
   ]
  },
  {
   "cell_type": "code",
   "metadata": {},
   "source": [
    "stocks = pd.read_csv('ibm.csv', parse_dates=['Date'], index_col='Date').sort_index()\n",
    "stock"
   ],
   "outputs": [],
   "execution_count": null
  },
  {
   "cell_type": "code",
   "metadata": {},
   "source": "stock.index + pd.DateOffset(years=1)",
   "outputs": [],
   "execution_count": null
  },
  {
   "cell_type": "code",
   "metadata": {},
   "source": "stock.index + pd.DateOffset(years=3, months=1, days=1, hours=1, minutes=10, seconds=19)",
   "outputs": [],
   "execution_count": null
  },
  {
   "cell_type": "code",
   "metadata": {},
   "source": "stock",
   "outputs": [],
   "execution_count": null
  },
  {
   "metadata": {},
   "cell_type": "code",
   "source": "pd.date_range(start='2000-02-20', end='2023-02-20', freq=pd.DateOffset(years=1))",
   "outputs": [],
   "execution_count": null
  },
  {
   "metadata": {},
   "cell_type": "code",
   "source": "stock.index - pd.DateOffset(years=1)",
   "outputs": [],
   "execution_count": null
  },
  {
   "cell_type": "markdown",
   "metadata": {},
   "source": [
    "## Specialized Date Offsets\n",
    "- Pandas nests more specialized date offsets in `pd.tseries.offsets`.\n",
    "- We can add a different amount of time to each date (for example, month end, quarter end, year begin)"
   ]
  },
  {
   "cell_type": "code",
   "metadata": {
    "ExecuteTime": {
     "end_time": "2025-01-06T09:49:16.784755Z",
     "start_time": "2025-01-06T09:49:16.723807Z"
    }
   },
   "source": [
    "stocks = pd.read_csv('ibm.csv', parse_dates=['Date'], index_col='Date').sort_index()\n",
    "stock"
   ],
   "outputs": [
    {
     "data": {
      "text/plain": [
       "                 Open       High        Low      Close        Volume\n",
       "Date                                                                \n",
       "1962-01-02    5.04610    5.04610    4.98716    4.98716  5.935630e+05\n",
       "1962-01-03    4.98716    5.03292    4.98716    5.03292  4.451750e+05\n",
       "1962-01-04    5.03292    5.03292    4.98052    4.98052  3.995136e+05\n",
       "1962-01-05    4.97389    4.97389    4.87511    4.88166  5.593215e+05\n",
       "1962-01-08    4.88166    4.88166    4.75059    4.78972  8.332738e+05\n",
       "...               ...        ...        ...        ...           ...\n",
       "2023-10-05  140.90000  141.70000  140.19000  141.52000  3.223910e+06\n",
       "2023-10-06  141.40000  142.94000  140.11000  142.03000  3.511347e+06\n",
       "2023-10-09  142.30000  142.40000  140.68000  142.20000  2.354396e+06\n",
       "2023-10-10  142.60000  143.41500  141.72000  142.11000  3.015784e+06\n",
       "2023-10-11  142.51000  143.34000  142.14000  143.23000  2.511459e+06\n",
       "\n",
       "[15546 rows x 5 columns]"
      ],
      "text/html": [
       "<div>\n",
       "<style scoped>\n",
       "    .dataframe tbody tr th:only-of-type {\n",
       "        vertical-align: middle;\n",
       "    }\n",
       "\n",
       "    .dataframe tbody tr th {\n",
       "        vertical-align: top;\n",
       "    }\n",
       "\n",
       "    .dataframe thead th {\n",
       "        text-align: right;\n",
       "    }\n",
       "</style>\n",
       "<table border=\"1\" class=\"dataframe\">\n",
       "  <thead>\n",
       "    <tr style=\"text-align: right;\">\n",
       "      <th></th>\n",
       "      <th>Open</th>\n",
       "      <th>High</th>\n",
       "      <th>Low</th>\n",
       "      <th>Close</th>\n",
       "      <th>Volume</th>\n",
       "    </tr>\n",
       "    <tr>\n",
       "      <th>Date</th>\n",
       "      <th></th>\n",
       "      <th></th>\n",
       "      <th></th>\n",
       "      <th></th>\n",
       "      <th></th>\n",
       "    </tr>\n",
       "  </thead>\n",
       "  <tbody>\n",
       "    <tr>\n",
       "      <th>1962-01-02</th>\n",
       "      <td>5.04610</td>\n",
       "      <td>5.04610</td>\n",
       "      <td>4.98716</td>\n",
       "      <td>4.98716</td>\n",
       "      <td>5.935630e+05</td>\n",
       "    </tr>\n",
       "    <tr>\n",
       "      <th>1962-01-03</th>\n",
       "      <td>4.98716</td>\n",
       "      <td>5.03292</td>\n",
       "      <td>4.98716</td>\n",
       "      <td>5.03292</td>\n",
       "      <td>4.451750e+05</td>\n",
       "    </tr>\n",
       "    <tr>\n",
       "      <th>1962-01-04</th>\n",
       "      <td>5.03292</td>\n",
       "      <td>5.03292</td>\n",
       "      <td>4.98052</td>\n",
       "      <td>4.98052</td>\n",
       "      <td>3.995136e+05</td>\n",
       "    </tr>\n",
       "    <tr>\n",
       "      <th>1962-01-05</th>\n",
       "      <td>4.97389</td>\n",
       "      <td>4.97389</td>\n",
       "      <td>4.87511</td>\n",
       "      <td>4.88166</td>\n",
       "      <td>5.593215e+05</td>\n",
       "    </tr>\n",
       "    <tr>\n",
       "      <th>1962-01-08</th>\n",
       "      <td>4.88166</td>\n",
       "      <td>4.88166</td>\n",
       "      <td>4.75059</td>\n",
       "      <td>4.78972</td>\n",
       "      <td>8.332738e+05</td>\n",
       "    </tr>\n",
       "    <tr>\n",
       "      <th>...</th>\n",
       "      <td>...</td>\n",
       "      <td>...</td>\n",
       "      <td>...</td>\n",
       "      <td>...</td>\n",
       "      <td>...</td>\n",
       "    </tr>\n",
       "    <tr>\n",
       "      <th>2023-10-05</th>\n",
       "      <td>140.90000</td>\n",
       "      <td>141.70000</td>\n",
       "      <td>140.19000</td>\n",
       "      <td>141.52000</td>\n",
       "      <td>3.223910e+06</td>\n",
       "    </tr>\n",
       "    <tr>\n",
       "      <th>2023-10-06</th>\n",
       "      <td>141.40000</td>\n",
       "      <td>142.94000</td>\n",
       "      <td>140.11000</td>\n",
       "      <td>142.03000</td>\n",
       "      <td>3.511347e+06</td>\n",
       "    </tr>\n",
       "    <tr>\n",
       "      <th>2023-10-09</th>\n",
       "      <td>142.30000</td>\n",
       "      <td>142.40000</td>\n",
       "      <td>140.68000</td>\n",
       "      <td>142.20000</td>\n",
       "      <td>2.354396e+06</td>\n",
       "    </tr>\n",
       "    <tr>\n",
       "      <th>2023-10-10</th>\n",
       "      <td>142.60000</td>\n",
       "      <td>143.41500</td>\n",
       "      <td>141.72000</td>\n",
       "      <td>142.11000</td>\n",
       "      <td>3.015784e+06</td>\n",
       "    </tr>\n",
       "    <tr>\n",
       "      <th>2023-10-11</th>\n",
       "      <td>142.51000</td>\n",
       "      <td>143.34000</td>\n",
       "      <td>142.14000</td>\n",
       "      <td>143.23000</td>\n",
       "      <td>2.511459e+06</td>\n",
       "    </tr>\n",
       "  </tbody>\n",
       "</table>\n",
       "<p>15546 rows × 5 columns</p>\n",
       "</div>"
      ]
     },
     "execution_count": 27,
     "metadata": {},
     "output_type": "execute_result"
    }
   ],
   "execution_count": 27
  },
  {
   "cell_type": "code",
   "metadata": {
    "ExecuteTime": {
     "end_time": "2025-01-06T09:49:25.183346Z",
     "start_time": "2025-01-06T09:49:25.176793Z"
    }
   },
   "source": "stock.index",
   "outputs": [
    {
     "data": {
      "text/plain": [
       "DatetimeIndex(['1962-01-02', '1962-01-03', '1962-01-04', '1962-01-05',\n",
       "               '1962-01-08', '1962-01-09', '1962-01-10', '1962-01-11',\n",
       "               '1962-01-12', '1962-01-15',\n",
       "               ...\n",
       "               '2023-09-28', '2023-09-29', '2023-10-02', '2023-10-03',\n",
       "               '2023-10-04', '2023-10-05', '2023-10-06', '2023-10-09',\n",
       "               '2023-10-10', '2023-10-11'],\n",
       "              dtype='datetime64[ns]', name='Date', length=15546, freq=None)"
      ]
     },
     "execution_count": 28,
     "metadata": {},
     "output_type": "execute_result"
    }
   ],
   "execution_count": 28
  },
  {
   "cell_type": "code",
   "metadata": {
    "ExecuteTime": {
     "end_time": "2025-01-06T09:49:54.318728Z",
     "start_time": "2025-01-06T09:49:54.310728Z"
    }
   },
   "source": "stock.index + pd.tseries.offsets.YearBegin()",
   "outputs": [
    {
     "data": {
      "text/plain": [
       "DatetimeIndex(['1963-01-01', '1963-01-01', '1963-01-01', '1963-01-01',\n",
       "               '1963-01-01', '1963-01-01', '1963-01-01', '1963-01-01',\n",
       "               '1963-01-01', '1963-01-01',\n",
       "               ...\n",
       "               '2024-01-01', '2024-01-01', '2024-01-01', '2024-01-01',\n",
       "               '2024-01-01', '2024-01-01', '2024-01-01', '2024-01-01',\n",
       "               '2024-01-01', '2024-01-01'],\n",
       "              dtype='datetime64[ns]', name='Date', length=15546, freq=None)"
      ]
     },
     "execution_count": 30,
     "metadata": {},
     "output_type": "execute_result"
    }
   ],
   "execution_count": 30
  },
  {
   "cell_type": "code",
   "metadata": {
    "ExecuteTime": {
     "end_time": "2025-01-06T09:50:09.552175Z",
     "start_time": "2025-01-06T09:50:09.544255Z"
    }
   },
   "source": "stock.index + pd.tseries.offsets.YearEnd()",
   "outputs": [
    {
     "data": {
      "text/plain": [
       "DatetimeIndex(['1962-12-31', '1962-12-31', '1962-12-31', '1962-12-31',\n",
       "               '1962-12-31', '1962-12-31', '1962-12-31', '1962-12-31',\n",
       "               '1962-12-31', '1962-12-31',\n",
       "               ...\n",
       "               '2023-12-31', '2023-12-31', '2023-12-31', '2023-12-31',\n",
       "               '2023-12-31', '2023-12-31', '2023-12-31', '2023-12-31',\n",
       "               '2023-12-31', '2023-12-31'],\n",
       "              dtype='datetime64[ns]', name='Date', length=15546, freq=None)"
      ]
     },
     "execution_count": 31,
     "metadata": {},
     "output_type": "execute_result"
    }
   ],
   "execution_count": 31
  },
  {
   "metadata": {
    "ExecuteTime": {
     "end_time": "2025-01-06T09:50:42.991015Z",
     "start_time": "2025-01-06T09:50:42.982019Z"
    }
   },
   "cell_type": "code",
   "source": "stock.index + pd.tseries.offsets.YearBegin(10)",
   "outputs": [
    {
     "data": {
      "text/plain": [
       "DatetimeIndex(['1972-01-01', '1972-01-01', '1972-01-01', '1972-01-01',\n",
       "               '1972-01-01', '1972-01-01', '1972-01-01', '1972-01-01',\n",
       "               '1972-01-01', '1972-01-01',\n",
       "               ...\n",
       "               '2033-01-01', '2033-01-01', '2033-01-01', '2033-01-01',\n",
       "               '2033-01-01', '2033-01-01', '2033-01-01', '2033-01-01',\n",
       "               '2033-01-01', '2033-01-01'],\n",
       "              dtype='datetime64[ns]', name='Date', length=15546, freq=None)"
      ]
     },
     "execution_count": 33,
     "metadata": {},
     "output_type": "execute_result"
    }
   ],
   "execution_count": 33
  },
  {
   "metadata": {
    "ExecuteTime": {
     "end_time": "2025-01-06T09:51:04.463274Z",
     "start_time": "2025-01-06T09:51:04.452938Z"
    }
   },
   "cell_type": "code",
   "source": "stock.index + pd.tseries.offsets.QuarterEnd()",
   "outputs": [
    {
     "data": {
      "text/plain": [
       "DatetimeIndex(['1962-03-31', '1962-03-31', '1962-03-31', '1962-03-31',\n",
       "               '1962-03-31', '1962-03-31', '1962-03-31', '1962-03-31',\n",
       "               '1962-03-31', '1962-03-31',\n",
       "               ...\n",
       "               '2023-09-30', '2023-09-30', '2023-12-31', '2023-12-31',\n",
       "               '2023-12-31', '2023-12-31', '2023-12-31', '2023-12-31',\n",
       "               '2023-12-31', '2023-12-31'],\n",
       "              dtype='datetime64[ns]', name='Date', length=15546, freq=None)"
      ]
     },
     "execution_count": 35,
     "metadata": {},
     "output_type": "execute_result"
    }
   ],
   "execution_count": 35
  },
  {
   "metadata": {
    "ExecuteTime": {
     "end_time": "2025-01-06T09:51:30.297784Z",
     "start_time": "2025-01-06T09:51:30.288678Z"
    }
   },
   "cell_type": "code",
   "source": "stock.index + pd.tseries.offsets.QuarterBegin()",
   "outputs": [
    {
     "data": {
      "text/plain": [
       "DatetimeIndex(['1962-03-01', '1962-03-01', '1962-03-01', '1962-03-01',\n",
       "               '1962-03-01', '1962-03-01', '1962-03-01', '1962-03-01',\n",
       "               '1962-03-01', '1962-03-01',\n",
       "               ...\n",
       "               '2023-12-01', '2023-12-01', '2023-12-01', '2023-12-01',\n",
       "               '2023-12-01', '2023-12-01', '2023-12-01', '2023-12-01',\n",
       "               '2023-12-01', '2023-12-01'],\n",
       "              dtype='datetime64[ns]', name='Date', length=15546, freq=None)"
      ]
     },
     "execution_count": 39,
     "metadata": {},
     "output_type": "execute_result"
    }
   ],
   "execution_count": 39
  },
  {
   "cell_type": "markdown",
   "metadata": {},
   "source": [
    "## Timedeltas\n",
    "- A **Timedelta** is a pandas object that represents a duration (an amount of time).\n",
    "- Subtracting two **Timestamp** objects will yield a **Timedelta** object (this applies to subtracting a **Series** from another **Series**).\n",
    "- The **Timedelta** constructor accepts parameters for time as well as string descriptions."
   ]
  },
  {
   "cell_type": "code",
   "metadata": {},
   "source": [],
   "outputs": [],
   "execution_count": null
  },
  {
   "cell_type": "code",
   "metadata": {},
   "source": [],
   "outputs": [],
   "execution_count": null
  },
  {
   "cell_type": "code",
   "metadata": {},
   "source": [],
   "outputs": [],
   "execution_count": null
  },
  {
   "cell_type": "code",
   "metadata": {},
   "source": [],
   "outputs": [],
   "execution_count": null
  },
  {
   "cell_type": "code",
   "metadata": {},
   "source": [],
   "outputs": [],
   "execution_count": null
  },
  {
   "cell_type": "code",
   "metadata": {},
   "source": [],
   "outputs": [],
   "execution_count": null
  },
  {
   "cell_type": "code",
   "metadata": {},
   "source": [],
   "outputs": [],
   "execution_count": null
  }
 ],
 "metadata": {
  "anaconda-cloud": {},
  "kernelspec": {
   "display_name": "Python 3 (ipykernel)",
   "language": "python",
   "name": "python3"
  },
  "language_info": {
   "codemirror_mode": {
    "name": "ipython",
    "version": 3
   },
   "file_extension": ".py",
   "mimetype": "text/x-python",
   "name": "python",
   "nbconvert_exporter": "python",
   "pygments_lexer": "ipython3",
   "version": "3.11.5"
  }
 },
 "nbformat": 4,
 "nbformat_minor": 4
}
