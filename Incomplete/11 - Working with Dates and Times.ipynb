{
 "cells": [
  {
   "cell_type": "markdown",
   "metadata": {},
   "source": [
    "# Working with Dates and Times"
   ]
  },
  {
   "cell_type": "code",
   "metadata": {
    "scrolled": true
   },
   "source": "import pandas as pd",
   "outputs": [],
   "execution_count": null
  },
  {
   "cell_type": "markdown",
   "metadata": {},
   "source": [
    "## Review of Python's datetime Module\n",
    "- The `datetime` module is built into the core Python programming language.\n",
    "- The common alias for the `datetime` module is `dt`.\n",
    "- A module is a Python source file; think of like an internal library that Python loads on demand.\n",
    "- The `datetime` module includes `date` and `datetime` classes for representing dates and datetimes.\n",
    "- The `date` constructor accepts arguments for year, month, and day. Python defaults to 0 for any missing values.\n",
    "- The `datetime` constructor accepts arguments for year, month, day, hour, minute, and second."
   ]
  },
  {
   "cell_type": "code",
   "metadata": {},
   "source": "import datetime as dt",
   "outputs": [],
   "execution_count": null
  },
  {
   "cell_type": "code",
   "metadata": {},
   "source": [
    "now = dt.datetime.today()\n",
    "print(now)"
   ],
   "outputs": [],
   "execution_count": null
  },
  {
   "cell_type": "code",
   "metadata": {},
   "source": "date = dt.date(2025, 1, 6)",
   "outputs": [],
   "execution_count": null
  },
  {
   "cell_type": "code",
   "metadata": {},
   "source": "date.year",
   "outputs": [],
   "execution_count": null
  },
  {
   "metadata": {},
   "cell_type": "code",
   "source": "date.month",
   "outputs": [],
   "execution_count": null
  },
  {
   "metadata": {},
   "cell_type": "code",
   "source": "date.day",
   "outputs": [],
   "execution_count": null
  },
  {
   "metadata": {},
   "cell_type": "code",
   "source": [
    "other_date = dt.datetime(2025, 1, 6, 18, 30, 0)\n",
    "other_date.year"
   ],
   "outputs": [],
   "execution_count": null
  },
  {
   "metadata": {},
   "cell_type": "code",
   "source": "other_date.month",
   "outputs": [],
   "execution_count": null
  },
  {
   "metadata": {},
   "cell_type": "code",
   "source": "other_date.second",
   "outputs": [],
   "execution_count": null
  },
  {
   "metadata": {},
   "cell_type": "code",
   "source": "other_date.hour",
   "outputs": [],
   "execution_count": null
  },
  {
   "cell_type": "markdown",
   "metadata": {},
   "source": [
    "## The Timestamp and DatetimeIndex Objects\n",
    "\n",
    "- Pandas ships with several classes related to datetimes.\n",
    "- The **Timestamp** is similar to Python's **datetime** object (but with expanded functionality).\n",
    "- A **DatetimeIndex** is an index of **Timestamp** objects.\n",
    "- The **Timestamp** constructor accepts a string, a **datetime** object, or equivalent arguments to the **datetime** clas."
   ]
  },
  {
   "cell_type": "code",
   "metadata": {
    "scrolled": true
   },
   "source": "date = pd.Timestamp(2025, 1, 6, 18, 30, 0)",
   "outputs": [],
   "execution_count": null
  },
  {
   "cell_type": "code",
   "metadata": {},
   "source": "date.second",
   "outputs": [],
   "execution_count": null
  },
  {
   "cell_type": "code",
   "metadata": {},
   "source": "date.minute",
   "outputs": [],
   "execution_count": null
  },
  {
   "metadata": {},
   "cell_type": "code",
   "source": "date.hour",
   "outputs": [],
   "execution_count": null
  },
  {
   "metadata": {},
   "cell_type": "code",
   "source": "date = pd.Timestamp('2025-01-06 18:30:33')",
   "outputs": [],
   "execution_count": null
  },
  {
   "metadata": {},
   "cell_type": "code",
   "source": "print(date)",
   "outputs": [],
   "execution_count": null
  },
  {
   "cell_type": "code",
   "metadata": {},
   "source": "date.second",
   "outputs": [],
   "execution_count": null
  },
  {
   "cell_type": "markdown",
   "metadata": {},
   "source": [
    "## Create Range of Dates with pd.date_range Function\n",
    "- The `date_range` function generates and returns a **DatetimeIndex** holding a sequence of dates.\n",
    "- The function requires 2 of the 3 following parameters: `start`, `end`, and `period`.\n",
    "- With `start` and `end`, Pandas will assume a daily period/interval.\n",
    "- Every element within a **DatetimeIndex** is a **Timestamp**."
   ]
  },
  {
   "cell_type": "code",
   "metadata": {},
   "source": "pd.date_range(start='2025-01-05', end='2025-02-05', freq='D')",
   "outputs": [],
   "execution_count": null
  },
  {
   "cell_type": "code",
   "metadata": {},
   "source": "pd.date_range(start='2025-01-05', end='2025-02-05', freq='B')",
   "outputs": [],
   "execution_count": null
  },
  {
   "metadata": {},
   "cell_type": "code",
   "source": "pd.date_range(start='2025-01-05', end='2025-02-05', freq='2d')",
   "outputs": [],
   "execution_count": null
  },
  {
   "metadata": {},
   "cell_type": "code",
   "source": "pd.date_range(start='2025-01-05', end='2025-02-05', freq='W-FRI')",
   "outputs": [],
   "execution_count": null
  },
  {
   "cell_type": "code",
   "metadata": {},
   "source": "pd.date_range(start='2025-01-05', freq='W', periods=10)",
   "outputs": [],
   "execution_count": null
  },
  {
   "cell_type": "code",
   "metadata": {},
   "source": "pd.date_range(end='2025-01-05', freq='W', periods=10)",
   "outputs": [],
   "execution_count": null
  },
  {
   "metadata": {},
   "cell_type": "code",
   "source": "pd.date_range(start='2025-01-05', freq='YE', periods=10)",
   "outputs": [],
   "execution_count": null
  },
  {
   "metadata": {},
   "cell_type": "code",
   "source": "pd.date_range(start='2000-02-29', freq='W', periods=10)",
   "outputs": [],
   "execution_count": null
  },
  {
   "metadata": {},
   "cell_type": "code",
   "source": "pd.date_range(start='2000-02-29', freq='YE', periods=10)",
   "outputs": [],
   "execution_count": null
  },
  {
   "metadata": {},
   "cell_type": "code",
   "source": "pd.date_range(start='2000-02-29', end='2050-02-28', freq='24D 8h 20min 45s')",
   "outputs": [],
   "execution_count": null
  },
  {
   "cell_type": "markdown",
   "metadata": {},
   "source": [
    "## The dt Attribute\n",
    "- The `dt` attribute reveals a `DatetimeProperties` object with attributes/methods for working with datetimes. It is similar to the `str` attribute for string methods.\n",
    "- The `DatetimeProperties` object has attributes like `day`, `month`, and `year` to reveal information about each date in the **Series**.\n",
    "- The `day_name` method returns the written day of the week.\n",
    "- Attributes like `is_month_end` and `is_quarter_start` return Boolean **Series**."
   ]
  },
  {
   "cell_type": "code",
   "metadata": {},
   "source": [
    "bunch_of_weeks = pd.Series(pd.date_range(start='2000-01-01', end='2025-01-01', freq='2D'))\n",
    "bunch_of_weeks"
   ],
   "outputs": [],
   "execution_count": null
  },
  {
   "cell_type": "code",
   "metadata": {},
   "source": "bunch_of_weeks.dt.day",
   "outputs": [],
   "execution_count": null
  },
  {
   "cell_type": "code",
   "metadata": {},
   "source": "bunch_of_weeks.dt.year",
   "outputs": [],
   "execution_count": null
  },
  {
   "metadata": {},
   "cell_type": "code",
   "source": "bunch_of_weeks.dt.hour",
   "outputs": [],
   "execution_count": null
  },
  {
   "metadata": {},
   "cell_type": "code",
   "source": "bunch_of_weeks.dt.day_name()",
   "outputs": [],
   "execution_count": null
  },
  {
   "metadata": {},
   "cell_type": "code",
   "source": "bunch_of_weeks.dt.weekday",
   "outputs": [],
   "execution_count": null
  },
  {
   "cell_type": "code",
   "metadata": {},
   "source": "bunch_of_weeks.dt.hour",
   "outputs": [],
   "execution_count": null
  },
  {
   "cell_type": "markdown",
   "metadata": {},
   "source": [
    "## Selecting Rows from a DataFrame with a DateTimeIndex\n",
    "- The `iloc` accessor is available for index position-based extraction.\n",
    "- The `loc` accessor accepts strings or **Timestamps** to extract by index label/value. Note that Python's `datetime` objects will not work.\n",
    "- Use list slicing to extract a sequence of dates. The `truncate` method is another alternative."
   ]
  },
  {
   "cell_type": "code",
   "metadata": {},
   "source": [
    "stock = pd.read_csv('ibm.csv', parse_dates=['Date'], index_col='Date').sort_index()\n",
    "stock"
   ],
   "outputs": [],
   "execution_count": null
  },
  {
   "cell_type": "code",
   "metadata": {},
   "source": "stock.iloc[0]",
   "outputs": [],
   "execution_count": null
  },
  {
   "cell_type": "code",
   "metadata": {},
   "source": "stock.loc['2023-10-11']",
   "outputs": [],
   "execution_count": null
  },
  {
   "cell_type": "code",
   "metadata": {},
   "source": "stock.loc['2020-10-11': '2023-10-11', 'Open': 'Close']",
   "outputs": [],
   "execution_count": null
  },
  {
   "metadata": {},
   "cell_type": "code",
   "source": "stock.loc['1999-10-11', 'Open': 'Close']",
   "outputs": [],
   "execution_count": null
  },
  {
   "cell_type": "markdown",
   "metadata": {},
   "source": [
    "## The DateOffset Object\n",
    "- A **DateOffset** object adds time to a **Timestamp** to arrive at a new **Timestamp**.\n",
    "- The **DateOffset** constructor accepts `days`, `weeks`, `months`, `years` parameters, and more.\n",
    "- We can pass a **DateOffset** object to the `freq` parameter of the `pd.date_range` function."
   ]
  },
  {
   "cell_type": "code",
   "metadata": {},
   "source": [
    "stocks = pd.read_csv('ibm.csv', parse_dates=['Date'], index_col='Date').sort_index()\n",
    "stock"
   ],
   "outputs": [],
   "execution_count": null
  },
  {
   "cell_type": "code",
   "metadata": {},
   "source": "stock.index + pd.DateOffset(years=1)",
   "outputs": [],
   "execution_count": null
  },
  {
   "cell_type": "code",
   "metadata": {},
   "source": "stock.index + pd.DateOffset(years=3, months=1, days=1, hours=1, minutes=10, seconds=19)",
   "outputs": [],
   "execution_count": null
  },
  {
   "cell_type": "code",
   "metadata": {},
   "source": "stock",
   "outputs": [],
   "execution_count": null
  },
  {
   "metadata": {},
   "cell_type": "code",
   "source": "pd.date_range(start='2000-02-20', end='2023-02-20', freq=pd.DateOffset(years=1))",
   "outputs": [],
   "execution_count": null
  },
  {
   "metadata": {},
   "cell_type": "code",
   "source": "stock.index - pd.DateOffset(years=1)",
   "outputs": [],
   "execution_count": null
  },
  {
   "cell_type": "markdown",
   "metadata": {},
   "source": [
    "## Specialized Date Offsets\n",
    "- Pandas nests more specialized date offsets in `pd.tseries.offsets`.\n",
    "- We can add a different amount of time to each date (for example, month end, quarter end, year begin)"
   ]
  },
  {
   "cell_type": "code",
   "metadata": {},
   "source": [
    "stocks = pd.read_csv('ibm.csv', parse_dates=['Date'], index_col='Date').sort_index()\n",
    "stock"
   ],
   "outputs": [],
   "execution_count": null
  },
  {
   "cell_type": "code",
   "metadata": {},
   "source": "stock.index",
   "outputs": [],
   "execution_count": null
  },
  {
   "cell_type": "code",
   "metadata": {},
   "source": "stock.index + pd.tseries.offsets.YearBegin()",
   "outputs": [],
   "execution_count": null
  },
  {
   "cell_type": "code",
   "metadata": {},
   "source": "stock.index + pd.tseries.offsets.YearEnd()",
   "outputs": [],
   "execution_count": null
  },
  {
   "metadata": {},
   "cell_type": "code",
   "source": "stock.index + pd.tseries.offsets.YearBegin(10)",
   "outputs": [],
   "execution_count": null
  },
  {
   "metadata": {},
   "cell_type": "code",
   "source": "stock.index + pd.tseries.offsets.QuarterEnd()",
   "outputs": [],
   "execution_count": null
  },
  {
   "metadata": {},
   "cell_type": "code",
   "source": "stock.index + pd.tseries.offsets.QuarterBegin()",
   "outputs": [],
   "execution_count": null
  },
  {
   "cell_type": "markdown",
   "metadata": {},
   "source": [
    "## Timedeltas\n",
    "- A **Timedelta** is a pandas object that represents a duration (an amount of time).\n",
    "- Subtracting two **Timestamp** objects will yield a **Timedelta** object (this applies to subtracting a **Series** from another **Series**).\n",
    "- The **Timedelta** constructor accepts parameters for time as well as string descriptions."
   ]
  },
  {
   "cell_type": "code",
   "metadata": {
    "ExecuteTime": {
     "end_time": "2025-01-06T10:24:45.663249Z",
     "start_time": "2025-01-06T10:24:45.651253Z"
    }
   },
   "source": [
    "ecommerce = pd.read_csv('ecommerce.csv', index_col='ID', parse_dates=['order_date', 'delivery_date'], date_format=\"%m/%d/%y\")\n",
    "ecommerce"
   ],
   "outputs": [
    {
     "data": {
      "text/plain": [
       "    order_date delivery_date\n",
       "ID                          \n",
       "1   1998-05-24    1999-02-05\n",
       "2   1992-04-22    1998-03-06\n",
       "4   1991-02-10    1992-08-26\n",
       "5   1992-07-21    1997-11-20\n",
       "7   1993-09-02    1998-06-10\n",
       "..         ...           ...\n",
       "990 1991-06-24    1996-02-02\n",
       "991 1991-09-09    1998-03-30\n",
       "993 1990-11-16    1998-04-27\n",
       "994 1993-06-03    1993-06-13\n",
       "997 1990-01-04    1991-10-03\n",
       "\n",
       "[501 rows x 2 columns]"
      ],
      "text/html": [
       "<div>\n",
       "<style scoped>\n",
       "    .dataframe tbody tr th:only-of-type {\n",
       "        vertical-align: middle;\n",
       "    }\n",
       "\n",
       "    .dataframe tbody tr th {\n",
       "        vertical-align: top;\n",
       "    }\n",
       "\n",
       "    .dataframe thead th {\n",
       "        text-align: right;\n",
       "    }\n",
       "</style>\n",
       "<table border=\"1\" class=\"dataframe\">\n",
       "  <thead>\n",
       "    <tr style=\"text-align: right;\">\n",
       "      <th></th>\n",
       "      <th>order_date</th>\n",
       "      <th>delivery_date</th>\n",
       "    </tr>\n",
       "    <tr>\n",
       "      <th>ID</th>\n",
       "      <th></th>\n",
       "      <th></th>\n",
       "    </tr>\n",
       "  </thead>\n",
       "  <tbody>\n",
       "    <tr>\n",
       "      <th>1</th>\n",
       "      <td>1998-05-24</td>\n",
       "      <td>1999-02-05</td>\n",
       "    </tr>\n",
       "    <tr>\n",
       "      <th>2</th>\n",
       "      <td>1992-04-22</td>\n",
       "      <td>1998-03-06</td>\n",
       "    </tr>\n",
       "    <tr>\n",
       "      <th>4</th>\n",
       "      <td>1991-02-10</td>\n",
       "      <td>1992-08-26</td>\n",
       "    </tr>\n",
       "    <tr>\n",
       "      <th>5</th>\n",
       "      <td>1992-07-21</td>\n",
       "      <td>1997-11-20</td>\n",
       "    </tr>\n",
       "    <tr>\n",
       "      <th>7</th>\n",
       "      <td>1993-09-02</td>\n",
       "      <td>1998-06-10</td>\n",
       "    </tr>\n",
       "    <tr>\n",
       "      <th>...</th>\n",
       "      <td>...</td>\n",
       "      <td>...</td>\n",
       "    </tr>\n",
       "    <tr>\n",
       "      <th>990</th>\n",
       "      <td>1991-06-24</td>\n",
       "      <td>1996-02-02</td>\n",
       "    </tr>\n",
       "    <tr>\n",
       "      <th>991</th>\n",
       "      <td>1991-09-09</td>\n",
       "      <td>1998-03-30</td>\n",
       "    </tr>\n",
       "    <tr>\n",
       "      <th>993</th>\n",
       "      <td>1990-11-16</td>\n",
       "      <td>1998-04-27</td>\n",
       "    </tr>\n",
       "    <tr>\n",
       "      <th>994</th>\n",
       "      <td>1993-06-03</td>\n",
       "      <td>1993-06-13</td>\n",
       "    </tr>\n",
       "    <tr>\n",
       "      <th>997</th>\n",
       "      <td>1990-01-04</td>\n",
       "      <td>1991-10-03</td>\n",
       "    </tr>\n",
       "  </tbody>\n",
       "</table>\n",
       "<p>501 rows × 2 columns</p>\n",
       "</div>"
      ]
     },
     "execution_count": 51,
     "metadata": {},
     "output_type": "execute_result"
    }
   ],
   "execution_count": 51
  },
  {
   "cell_type": "code",
   "metadata": {
    "ExecuteTime": {
     "end_time": "2025-01-06T10:26:23.635232Z",
     "start_time": "2025-01-06T10:26:23.625860Z"
    }
   },
   "source": [
    "ecommerce['Result'] = ecommerce['delivery_date'] - ecommerce['order_date']\n",
    "ecommerce"
   ],
   "outputs": [
    {
     "data": {
      "text/plain": [
       "    order_date delivery_date    Result\n",
       "ID                                    \n",
       "1   1998-05-24    1999-02-05  257 days\n",
       "2   1992-04-22    1998-03-06 2144 days\n",
       "4   1991-02-10    1992-08-26  563 days\n",
       "5   1992-07-21    1997-11-20 1948 days\n",
       "7   1993-09-02    1998-06-10 1742 days\n",
       "..         ...           ...       ...\n",
       "990 1991-06-24    1996-02-02 1684 days\n",
       "991 1991-09-09    1998-03-30 2394 days\n",
       "993 1990-11-16    1998-04-27 2719 days\n",
       "994 1993-06-03    1993-06-13   10 days\n",
       "997 1990-01-04    1991-10-03  637 days\n",
       "\n",
       "[501 rows x 3 columns]"
      ],
      "text/html": [
       "<div>\n",
       "<style scoped>\n",
       "    .dataframe tbody tr th:only-of-type {\n",
       "        vertical-align: middle;\n",
       "    }\n",
       "\n",
       "    .dataframe tbody tr th {\n",
       "        vertical-align: top;\n",
       "    }\n",
       "\n",
       "    .dataframe thead th {\n",
       "        text-align: right;\n",
       "    }\n",
       "</style>\n",
       "<table border=\"1\" class=\"dataframe\">\n",
       "  <thead>\n",
       "    <tr style=\"text-align: right;\">\n",
       "      <th></th>\n",
       "      <th>order_date</th>\n",
       "      <th>delivery_date</th>\n",
       "      <th>Result</th>\n",
       "    </tr>\n",
       "    <tr>\n",
       "      <th>ID</th>\n",
       "      <th></th>\n",
       "      <th></th>\n",
       "      <th></th>\n",
       "    </tr>\n",
       "  </thead>\n",
       "  <tbody>\n",
       "    <tr>\n",
       "      <th>1</th>\n",
       "      <td>1998-05-24</td>\n",
       "      <td>1999-02-05</td>\n",
       "      <td>257 days</td>\n",
       "    </tr>\n",
       "    <tr>\n",
       "      <th>2</th>\n",
       "      <td>1992-04-22</td>\n",
       "      <td>1998-03-06</td>\n",
       "      <td>2144 days</td>\n",
       "    </tr>\n",
       "    <tr>\n",
       "      <th>4</th>\n",
       "      <td>1991-02-10</td>\n",
       "      <td>1992-08-26</td>\n",
       "      <td>563 days</td>\n",
       "    </tr>\n",
       "    <tr>\n",
       "      <th>5</th>\n",
       "      <td>1992-07-21</td>\n",
       "      <td>1997-11-20</td>\n",
       "      <td>1948 days</td>\n",
       "    </tr>\n",
       "    <tr>\n",
       "      <th>7</th>\n",
       "      <td>1993-09-02</td>\n",
       "      <td>1998-06-10</td>\n",
       "      <td>1742 days</td>\n",
       "    </tr>\n",
       "    <tr>\n",
       "      <th>...</th>\n",
       "      <td>...</td>\n",
       "      <td>...</td>\n",
       "      <td>...</td>\n",
       "    </tr>\n",
       "    <tr>\n",
       "      <th>990</th>\n",
       "      <td>1991-06-24</td>\n",
       "      <td>1996-02-02</td>\n",
       "      <td>1684 days</td>\n",
       "    </tr>\n",
       "    <tr>\n",
       "      <th>991</th>\n",
       "      <td>1991-09-09</td>\n",
       "      <td>1998-03-30</td>\n",
       "      <td>2394 days</td>\n",
       "    </tr>\n",
       "    <tr>\n",
       "      <th>993</th>\n",
       "      <td>1990-11-16</td>\n",
       "      <td>1998-04-27</td>\n",
       "      <td>2719 days</td>\n",
       "    </tr>\n",
       "    <tr>\n",
       "      <th>994</th>\n",
       "      <td>1993-06-03</td>\n",
       "      <td>1993-06-13</td>\n",
       "      <td>10 days</td>\n",
       "    </tr>\n",
       "    <tr>\n",
       "      <th>997</th>\n",
       "      <td>1990-01-04</td>\n",
       "      <td>1991-10-03</td>\n",
       "      <td>637 days</td>\n",
       "    </tr>\n",
       "  </tbody>\n",
       "</table>\n",
       "<p>501 rows × 3 columns</p>\n",
       "</div>"
      ]
     },
     "execution_count": 60,
     "metadata": {},
     "output_type": "execute_result"
    }
   ],
   "execution_count": 60
  },
  {
   "metadata": {
    "ExecuteTime": {
     "end_time": "2025-01-06T10:27:22.124384Z",
     "start_time": "2025-01-06T10:27:22.118018Z"
    }
   },
   "cell_type": "code",
   "source": [
    "my_time = pd.Timedelta(days=1)\n",
    "my_time"
   ],
   "outputs": [
    {
     "data": {
      "text/plain": [
       "Timedelta('1 days 00:00:00')"
      ]
     },
     "execution_count": 61,
     "metadata": {},
     "output_type": "execute_result"
    }
   ],
   "execution_count": 61
  },
  {
   "metadata": {
    "ExecuteTime": {
     "end_time": "2025-01-06T10:28:18.951584Z",
     "start_time": "2025-01-06T10:28:18.945666Z"
    }
   },
   "cell_type": "code",
   "source": [
    "my_time = pd.Timedelta(weeks=10, days=1, hours=15, minutes=30, seconds=35)\n",
    "my_time"
   ],
   "outputs": [
    {
     "data": {
      "text/plain": [
       "Timedelta('71 days 15:30:35')"
      ]
     },
     "execution_count": 65,
     "metadata": {},
     "output_type": "execute_result"
    }
   ],
   "execution_count": 65
  }
 ],
 "metadata": {
  "anaconda-cloud": {},
  "kernelspec": {
   "display_name": "Python 3 (ipykernel)",
   "language": "python",
   "name": "python3"
  },
  "language_info": {
   "codemirror_mode": {
    "name": "ipython",
    "version": 3
   },
   "file_extension": ".py",
   "mimetype": "text/x-python",
   "name": "python",
   "nbconvert_exporter": "python",
   "pygments_lexer": "ipython3",
   "version": "3.11.5"
  }
 },
 "nbformat": 4,
 "nbformat_minor": 4
}
