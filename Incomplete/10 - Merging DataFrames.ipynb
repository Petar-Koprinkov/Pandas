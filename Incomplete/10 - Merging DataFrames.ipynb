{
 "cells": [
  {
   "cell_type": "markdown",
   "metadata": {},
   "source": [
    "# Merging DataFrames"
   ]
  },
  {
   "cell_type": "code",
   "metadata": {},
   "source": [
    "import numpy as np\n",
    "import pandas as pd"
   ],
   "outputs": [],
   "execution_count": null
  },
  {
   "cell_type": "markdown",
   "metadata": {},
   "source": [
    "## Our Dataset\n",
    "- Our datasets are spread across multiple files in this section. Each file has a `restaurant_` prefix.\n",
    "- The `customers.csv` file stores our restaurant's customers.\n",
    "- The `foods.csv` file stores our restaurant's menu items.\n",
    "- The `week_1_sales` and `week_2_sales` files store our orders."
   ]
  },
  {
   "cell_type": "code",
   "metadata": {
    "collapsed": false,
    "jupyter": {
     "outputs_hidden": false
    }
   },
   "source": [
    "food = pd.read_csv('restaurant_foods.csv')\n",
    "customers = pd.read_csv('restaurant_customers.csv')\n",
    "week1 = pd.read_csv('restaurant_week_1_sales.csv')\n",
    "week2 = pd.read_csv('restaurant_week_2_sales.csv')"
   ],
   "outputs": [],
   "execution_count": null
  },
  {
   "cell_type": "markdown",
   "metadata": {},
   "source": [
    "## The pd.concat Function I\n",
    "- The `concat` function concatenates one **DataFrame** to the end of another.\n",
    "- The original index labels will be kept by default. Set `ignore_index` to True to generate a new index.\n",
    "- The `keys` parameter create a **MultiIndex** using the specified keys/labels."
   ]
  },
  {
   "cell_type": "code",
   "metadata": {},
   "source": "pd.concat([week1, week2], ignore_index=False)",
   "outputs": [],
   "execution_count": null
  },
  {
   "cell_type": "code",
   "metadata": {},
   "source": "pd.concat([week1, week2], ignore_index=True)",
   "outputs": [],
   "execution_count": null
  },
  {
   "cell_type": "code",
   "metadata": {},
   "source": "pd.concat([week1, week2], keys=['First week', 'Second week'])",
   "outputs": [],
   "execution_count": null
  },
  {
   "metadata": {},
   "cell_type": "markdown",
   "source": [
    "## The pd.concat Function II\n",
    "- Pandas will concatenate the **DataFrames** along the row/index axis.\n",
    "- Pandas will include all columns that exist in either **DataFrame**. If there are no matching values, pandas will use `NaN` values.\n",
    "- We can pass the `axis` parameter an argument of `\"columns\"` to concatenate on the column axis."
   ]
  },
  {
   "cell_type": "code",
   "metadata": {
    "collapsed": false,
    "jupyter": {
     "outputs_hidden": false
    }
   },
   "source": [
    "df1 = pd.DataFrame(data=[1, 2, 3], columns=['A'])\n",
    "df1"
   ],
   "outputs": [],
   "execution_count": null
  },
  {
   "cell_type": "code",
   "metadata": {},
   "source": [
    "df2 = pd.DataFrame(data=[4, 5, 6], columns=['B'])\n",
    "df2"
   ],
   "outputs": [],
   "execution_count": null
  },
  {
   "cell_type": "code",
   "metadata": {},
   "source": "pd.concat([df1, df2])",
   "outputs": [],
   "execution_count": null
  },
  {
   "metadata": {},
   "cell_type": "code",
   "source": "pd.concat([df1, df2], axis='index')",
   "outputs": [],
   "execution_count": null
  },
  {
   "metadata": {},
   "cell_type": "code",
   "source": "pd.concat([df1, df2], axis='columns')",
   "outputs": [],
   "execution_count": null
  },
  {
   "cell_type": "markdown",
   "metadata": {},
   "source": [
    "## Left Joins\n",
    "- The `merge` method joins two **DataFrames** together based on shared values in a column or an index.\n",
    "- A left join merges one **DataFrame** into another based on values in the first one.\n",
    "- The \"left\" **DataFrame** is the one we invoke the `merge` method on.\n",
    "- If the left **DataFrame's** value is not found in the right **DataFrame**, the row will hold `NaN` values.\n",
    "<img src=\"SQL_Joins.png\" width=\"800\" height=\"800\"/>"
   ]
  },
  {
   "cell_type": "code",
   "metadata": {},
   "source": "week1.merge(right=food, how='left', on='Food ID')",
   "outputs": [],
   "execution_count": null
  },
  {
   "cell_type": "markdown",
   "metadata": {},
   "source": [
    "## The left_on and right_on Parameters\n",
    "- The `left_on` and `right_on` parameters designate the column names from each **DataFrame** to use in the merge."
   ]
  },
  {
   "cell_type": "code",
   "metadata": {},
   "source": "week1",
   "outputs": [],
   "execution_count": null
  },
  {
   "cell_type": "code",
   "metadata": {},
   "source": "customers",
   "outputs": [],
   "execution_count": null
  },
  {
   "cell_type": "code",
   "metadata": {},
   "source": "week1.merge(right=customers, how='left', left_on='Customer ID', right_on='ID')",
   "outputs": [],
   "execution_count": null
  },
  {
   "cell_type": "code",
   "metadata": {},
   "source": [
    "week1.merge(right=customers, how='left', left_on='Customer ID', right_on='ID').drop('ID', axis='columns')\n",
    "week1.merge(right=customers, how='left', left_on='Customer ID', right_on='ID').drop('ID', axis=1)"
   ],
   "outputs": [],
   "execution_count": null
  },
  {
   "cell_type": "markdown",
   "metadata": {},
   "source": [
    "## Inner Joins I\n",
    "- Inner joins merge two tables based on *shared*/*common* values in columns.\n",
    "- If only one **DataFrame** has a value, pandas will exclude it from the final results set.\n",
    "- If the same ID occurs multiple times, pandas will store each possible combination of the values.\n",
    "- The design of the join ensures that the results will be the same no matter what **DataFrame** the `merge` method is invoked upon.\n",
    "<img src=\"SQL_Joins.png\" width=\"800\" height=\"800\"/>"
   ]
  },
  {
   "cell_type": "code",
   "metadata": {},
   "source": "week1",
   "outputs": [],
   "execution_count": null
  },
  {
   "cell_type": "code",
   "metadata": {},
   "source": "week2",
   "outputs": [],
   "execution_count": null
  },
  {
   "cell_type": "code",
   "metadata": {},
   "source": "week1.merge(right=week1, how='inner', on='Customer ID')",
   "outputs": [],
   "execution_count": null
  },
  {
   "cell_type": "code",
   "metadata": {},
   "source": "week1.merge(right=week1, how='inner', on='Customer ID', suffixes=(' - Week 1', ' - Week 2'))",
   "outputs": [],
   "execution_count": null
  },
  {
   "cell_type": "markdown",
   "metadata": {},
   "source": [
    "## Inner Joins II\n",
    "- We can pass multiple arguments to the `on` parameter of the `merge` method. Pandas will require matches in both columns across the **DataFrames**."
   ]
  },
  {
   "cell_type": "code",
   "metadata": {
    "collapsed": false,
    "jupyter": {
     "outputs_hidden": false
    }
   },
   "source": "week1",
   "outputs": [],
   "execution_count": null
  },
  {
   "cell_type": "code",
   "metadata": {},
   "source": "week2",
   "outputs": [],
   "execution_count": null
  },
  {
   "cell_type": "code",
   "metadata": {},
   "source": "week1.merge(right=week2, how='inner', on=['Customer ID', 'Food ID'])",
   "outputs": [],
   "execution_count": null
  },
  {
   "cell_type": "markdown",
   "metadata": {},
   "source": [
    "## Full/Outer Join\n",
    "- A **full/outer** joins values that are found in either **DataFrame** or both **DataFrames**.\n",
    "- Pandas does not mind if a value exists in one **DataFrame** but not the other.\n",
    "- If a value does not exist in one **DataFrame**, it will have a `NaN`.\n",
    "\n",
    "<img src=\"SQL_Joins.png\" width=\"800\" height=\"800\"/>"
   ]
  },
  {
   "cell_type": "code",
   "metadata": {
    "collapsed": false,
    "jupyter": {
     "outputs_hidden": false
    }
   },
   "source": "week1",
   "outputs": [],
   "execution_count": null
  },
  {
   "cell_type": "code",
   "metadata": {},
   "source": "week2",
   "outputs": [],
   "execution_count": null
  },
  {
   "cell_type": "code",
   "metadata": {},
   "source": [
    "merged = week1.merge(right=week2, how='outer', on='Customer ID', suffixes=(' - Week 1', ' - Week 2'), indicator=True)\n",
    "merged"
   ],
   "outputs": [],
   "execution_count": null
  },
  {
   "cell_type": "code",
   "metadata": {},
   "source": [
    "merged.rename(columns={'_merge': 'Merge'}, inplace=True)\n",
    "merged"
   ],
   "outputs": [],
   "execution_count": null
  },
  {
   "cell_type": "code",
   "metadata": {},
   "source": "merged[merged['Merge'].isin(['left_only', 'right_only'])]",
   "outputs": [],
   "execution_count": null
  },
  {
   "metadata": {},
   "cell_type": "code",
   "source": "merged[merged['Merge'] == 'both']",
   "outputs": [],
   "execution_count": null
  },
  {
   "cell_type": "markdown",
   "metadata": {},
   "source": [
    "## Merging by Indexes with the left_index and right_index Parameters\n",
    "- Use the `on` parameter if the column(s) to be matched on have the same names in both **DataFrames**.\n",
    "- Use the `left_on` and `right_on` parameters if the column(s) to be matched on have different names in the two **DataFrames**.\n",
    "- Use the `left_index` or `right_index` parameters (set to True) to if the values to be matched on are found in the index of a **DataFrame**."
   ]
  },
  {
   "cell_type": "code",
   "metadata": {
    "ExecuteTime": {
     "end_time": "2025-01-03T19:30:16.084320Z",
     "start_time": "2025-01-03T19:30:16.070319Z"
    }
   },
   "source": "week1",
   "outputs": [
    {
     "data": {
      "text/plain": [
       "     Customer ID  Food ID\n",
       "0            537        9\n",
       "1             97        4\n",
       "2            658        1\n",
       "3            202        2\n",
       "4            155        9\n",
       "..           ...      ...\n",
       "245          413        9\n",
       "246          926        6\n",
       "247          134        3\n",
       "248          396        6\n",
       "249          535       10\n",
       "\n",
       "[250 rows x 2 columns]"
      ],
      "text/html": [
       "<div>\n",
       "<style scoped>\n",
       "    .dataframe tbody tr th:only-of-type {\n",
       "        vertical-align: middle;\n",
       "    }\n",
       "\n",
       "    .dataframe tbody tr th {\n",
       "        vertical-align: top;\n",
       "    }\n",
       "\n",
       "    .dataframe thead th {\n",
       "        text-align: right;\n",
       "    }\n",
       "</style>\n",
       "<table border=\"1\" class=\"dataframe\">\n",
       "  <thead>\n",
       "    <tr style=\"text-align: right;\">\n",
       "      <th></th>\n",
       "      <th>Customer ID</th>\n",
       "      <th>Food ID</th>\n",
       "    </tr>\n",
       "  </thead>\n",
       "  <tbody>\n",
       "    <tr>\n",
       "      <th>0</th>\n",
       "      <td>537</td>\n",
       "      <td>9</td>\n",
       "    </tr>\n",
       "    <tr>\n",
       "      <th>1</th>\n",
       "      <td>97</td>\n",
       "      <td>4</td>\n",
       "    </tr>\n",
       "    <tr>\n",
       "      <th>2</th>\n",
       "      <td>658</td>\n",
       "      <td>1</td>\n",
       "    </tr>\n",
       "    <tr>\n",
       "      <th>3</th>\n",
       "      <td>202</td>\n",
       "      <td>2</td>\n",
       "    </tr>\n",
       "    <tr>\n",
       "      <th>4</th>\n",
       "      <td>155</td>\n",
       "      <td>9</td>\n",
       "    </tr>\n",
       "    <tr>\n",
       "      <th>...</th>\n",
       "      <td>...</td>\n",
       "      <td>...</td>\n",
       "    </tr>\n",
       "    <tr>\n",
       "      <th>245</th>\n",
       "      <td>413</td>\n",
       "      <td>9</td>\n",
       "    </tr>\n",
       "    <tr>\n",
       "      <th>246</th>\n",
       "      <td>926</td>\n",
       "      <td>6</td>\n",
       "    </tr>\n",
       "    <tr>\n",
       "      <th>247</th>\n",
       "      <td>134</td>\n",
       "      <td>3</td>\n",
       "    </tr>\n",
       "    <tr>\n",
       "      <th>248</th>\n",
       "      <td>396</td>\n",
       "      <td>6</td>\n",
       "    </tr>\n",
       "    <tr>\n",
       "      <th>249</th>\n",
       "      <td>535</td>\n",
       "      <td>10</td>\n",
       "    </tr>\n",
       "  </tbody>\n",
       "</table>\n",
       "<p>250 rows × 2 columns</p>\n",
       "</div>"
      ]
     },
     "execution_count": 62,
     "metadata": {},
     "output_type": "execute_result"
    }
   ],
   "execution_count": 62
  },
  {
   "cell_type": "code",
   "metadata": {
    "ExecuteTime": {
     "end_time": "2025-01-03T19:30:57.608673Z",
     "start_time": "2025-01-03T19:30:57.595141Z"
    }
   },
   "source": [
    "food = pd.read_csv('restaurant_foods.csv', index_col='Food ID')\n",
    "food"
   ],
   "outputs": [
    {
     "data": {
      "text/plain": [
       "          Food Item  Price\n",
       "Food ID                   \n",
       "1             Sushi   3.99\n",
       "2           Burrito   9.99\n",
       "3              Taco   2.99\n",
       "4        Quesadilla   4.25\n",
       "5             Pizza   2.49\n",
       "6             Pasta  13.99\n",
       "7             Steak  24.99\n",
       "8             Salad  11.25\n",
       "9             Donut   0.99\n",
       "10            Drink   1.75"
      ],
      "text/html": [
       "<div>\n",
       "<style scoped>\n",
       "    .dataframe tbody tr th:only-of-type {\n",
       "        vertical-align: middle;\n",
       "    }\n",
       "\n",
       "    .dataframe tbody tr th {\n",
       "        vertical-align: top;\n",
       "    }\n",
       "\n",
       "    .dataframe thead th {\n",
       "        text-align: right;\n",
       "    }\n",
       "</style>\n",
       "<table border=\"1\" class=\"dataframe\">\n",
       "  <thead>\n",
       "    <tr style=\"text-align: right;\">\n",
       "      <th></th>\n",
       "      <th>Food Item</th>\n",
       "      <th>Price</th>\n",
       "    </tr>\n",
       "    <tr>\n",
       "      <th>Food ID</th>\n",
       "      <th></th>\n",
       "      <th></th>\n",
       "    </tr>\n",
       "  </thead>\n",
       "  <tbody>\n",
       "    <tr>\n",
       "      <th>1</th>\n",
       "      <td>Sushi</td>\n",
       "      <td>3.99</td>\n",
       "    </tr>\n",
       "    <tr>\n",
       "      <th>2</th>\n",
       "      <td>Burrito</td>\n",
       "      <td>9.99</td>\n",
       "    </tr>\n",
       "    <tr>\n",
       "      <th>3</th>\n",
       "      <td>Taco</td>\n",
       "      <td>2.99</td>\n",
       "    </tr>\n",
       "    <tr>\n",
       "      <th>4</th>\n",
       "      <td>Quesadilla</td>\n",
       "      <td>4.25</td>\n",
       "    </tr>\n",
       "    <tr>\n",
       "      <th>5</th>\n",
       "      <td>Pizza</td>\n",
       "      <td>2.49</td>\n",
       "    </tr>\n",
       "    <tr>\n",
       "      <th>6</th>\n",
       "      <td>Pasta</td>\n",
       "      <td>13.99</td>\n",
       "    </tr>\n",
       "    <tr>\n",
       "      <th>7</th>\n",
       "      <td>Steak</td>\n",
       "      <td>24.99</td>\n",
       "    </tr>\n",
       "    <tr>\n",
       "      <th>8</th>\n",
       "      <td>Salad</td>\n",
       "      <td>11.25</td>\n",
       "    </tr>\n",
       "    <tr>\n",
       "      <th>9</th>\n",
       "      <td>Donut</td>\n",
       "      <td>0.99</td>\n",
       "    </tr>\n",
       "    <tr>\n",
       "      <th>10</th>\n",
       "      <td>Drink</td>\n",
       "      <td>1.75</td>\n",
       "    </tr>\n",
       "  </tbody>\n",
       "</table>\n",
       "</div>"
      ]
     },
     "execution_count": 67,
     "metadata": {},
     "output_type": "execute_result"
    }
   ],
   "execution_count": 67
  },
  {
   "cell_type": "code",
   "metadata": {
    "ExecuteTime": {
     "end_time": "2025-01-03T19:31:24.532903Z",
     "start_time": "2025-01-03T19:31:24.518894Z"
    }
   },
   "source": [
    "customers = pd.read_csv('restaurant_customers.csv', index_col='ID')\n",
    "customers"
   ],
   "outputs": [
    {
     "data": {
      "text/plain": [
       "     First Name Last Name  Gender       Company                     Occupation\n",
       "ID                                                                            \n",
       "1        Joseph   Perkins    Male       Dynazzy  Community Outreach Specialist\n",
       "2      Jennifer   Alvarez  Female          DabZ        Senior Quality Engineer\n",
       "3         Roger     Black    Male       Tagfeed              Account Executive\n",
       "4        Steven     Evans    Male          Fatz               Registered Nurse\n",
       "5          Judy  Morrison  Female       Demivee                Legal Assistant\n",
       "...         ...       ...     ...           ...                            ...\n",
       "996       Debra    Garcia  Female  Dazzlesphere            Structural Engineer\n",
       "997     Douglas    Bishop    Male      Livepath                    Developer I\n",
       "998       Frank  Franklin    Male    Brainverse             Nurse Practicioner\n",
       "999     Jessica     Burns  Female    Babbleblab              Financial Advisor\n",
       "1000      Brian   Daniels    Male         Tazzy     Physical Therapy Assistant\n",
       "\n",
       "[1000 rows x 5 columns]"
      ],
      "text/html": [
       "<div>\n",
       "<style scoped>\n",
       "    .dataframe tbody tr th:only-of-type {\n",
       "        vertical-align: middle;\n",
       "    }\n",
       "\n",
       "    .dataframe tbody tr th {\n",
       "        vertical-align: top;\n",
       "    }\n",
       "\n",
       "    .dataframe thead th {\n",
       "        text-align: right;\n",
       "    }\n",
       "</style>\n",
       "<table border=\"1\" class=\"dataframe\">\n",
       "  <thead>\n",
       "    <tr style=\"text-align: right;\">\n",
       "      <th></th>\n",
       "      <th>First Name</th>\n",
       "      <th>Last Name</th>\n",
       "      <th>Gender</th>\n",
       "      <th>Company</th>\n",
       "      <th>Occupation</th>\n",
       "    </tr>\n",
       "    <tr>\n",
       "      <th>ID</th>\n",
       "      <th></th>\n",
       "      <th></th>\n",
       "      <th></th>\n",
       "      <th></th>\n",
       "      <th></th>\n",
       "    </tr>\n",
       "  </thead>\n",
       "  <tbody>\n",
       "    <tr>\n",
       "      <th>1</th>\n",
       "      <td>Joseph</td>\n",
       "      <td>Perkins</td>\n",
       "      <td>Male</td>\n",
       "      <td>Dynazzy</td>\n",
       "      <td>Community Outreach Specialist</td>\n",
       "    </tr>\n",
       "    <tr>\n",
       "      <th>2</th>\n",
       "      <td>Jennifer</td>\n",
       "      <td>Alvarez</td>\n",
       "      <td>Female</td>\n",
       "      <td>DabZ</td>\n",
       "      <td>Senior Quality Engineer</td>\n",
       "    </tr>\n",
       "    <tr>\n",
       "      <th>3</th>\n",
       "      <td>Roger</td>\n",
       "      <td>Black</td>\n",
       "      <td>Male</td>\n",
       "      <td>Tagfeed</td>\n",
       "      <td>Account Executive</td>\n",
       "    </tr>\n",
       "    <tr>\n",
       "      <th>4</th>\n",
       "      <td>Steven</td>\n",
       "      <td>Evans</td>\n",
       "      <td>Male</td>\n",
       "      <td>Fatz</td>\n",
       "      <td>Registered Nurse</td>\n",
       "    </tr>\n",
       "    <tr>\n",
       "      <th>5</th>\n",
       "      <td>Judy</td>\n",
       "      <td>Morrison</td>\n",
       "      <td>Female</td>\n",
       "      <td>Demivee</td>\n",
       "      <td>Legal Assistant</td>\n",
       "    </tr>\n",
       "    <tr>\n",
       "      <th>...</th>\n",
       "      <td>...</td>\n",
       "      <td>...</td>\n",
       "      <td>...</td>\n",
       "      <td>...</td>\n",
       "      <td>...</td>\n",
       "    </tr>\n",
       "    <tr>\n",
       "      <th>996</th>\n",
       "      <td>Debra</td>\n",
       "      <td>Garcia</td>\n",
       "      <td>Female</td>\n",
       "      <td>Dazzlesphere</td>\n",
       "      <td>Structural Engineer</td>\n",
       "    </tr>\n",
       "    <tr>\n",
       "      <th>997</th>\n",
       "      <td>Douglas</td>\n",
       "      <td>Bishop</td>\n",
       "      <td>Male</td>\n",
       "      <td>Livepath</td>\n",
       "      <td>Developer I</td>\n",
       "    </tr>\n",
       "    <tr>\n",
       "      <th>998</th>\n",
       "      <td>Frank</td>\n",
       "      <td>Franklin</td>\n",
       "      <td>Male</td>\n",
       "      <td>Brainverse</td>\n",
       "      <td>Nurse Practicioner</td>\n",
       "    </tr>\n",
       "    <tr>\n",
       "      <th>999</th>\n",
       "      <td>Jessica</td>\n",
       "      <td>Burns</td>\n",
       "      <td>Female</td>\n",
       "      <td>Babbleblab</td>\n",
       "      <td>Financial Advisor</td>\n",
       "    </tr>\n",
       "    <tr>\n",
       "      <th>1000</th>\n",
       "      <td>Brian</td>\n",
       "      <td>Daniels</td>\n",
       "      <td>Male</td>\n",
       "      <td>Tazzy</td>\n",
       "      <td>Physical Therapy Assistant</td>\n",
       "    </tr>\n",
       "  </tbody>\n",
       "</table>\n",
       "<p>1000 rows × 5 columns</p>\n",
       "</div>"
      ]
     },
     "execution_count": 70,
     "metadata": {},
     "output_type": "execute_result"
    }
   ],
   "execution_count": 70
  },
  {
   "metadata": {},
   "cell_type": "markdown",
   "source": ""
  },
  {
   "cell_type": "code",
   "metadata": {
    "ExecuteTime": {
     "end_time": "2025-01-03T19:33:04.529692Z",
     "start_time": "2025-01-03T19:33:04.516134Z"
    }
   },
   "source": "week1.merge(right=customers, how='left', left_on='Customer ID', right_index=True).merge(right=food, how='left', left_on='Food ID', right_index=True)",
   "outputs": [
    {
     "data": {
      "text/plain": [
       "     Customer ID  Food ID First Name Last Name  Gender    Company  \\\n",
       "0            537        9     Cheryl   Carroll  Female   Zoombeat   \n",
       "1             97        4     Amanda   Watkins  Female        Ozu   \n",
       "2            658        1    Patrick      Webb    Male  Browsebug   \n",
       "3            202        2      Louis  Campbell    Male  Rhynoodle   \n",
       "4            155        9    Carolyn      Diaz  Female   Gigazoom   \n",
       "..           ...      ...        ...       ...     ...        ...   \n",
       "245          413        9      Diane    Bailey  Female    Wikibox   \n",
       "246          926        6       Anne    Wagner  Female      Skyba   \n",
       "247          134        3      Diana      Hall  Female      Quinu   \n",
       "248          396        6       Juan    Romero    Male    Zoonder   \n",
       "249          535       10      Nancy       Cox  Female     Trudeo   \n",
       "\n",
       "                        Occupation   Food Item  Price  \n",
       "0                 Registered Nurse       Donut   0.99  \n",
       "1              Account Coordinator  Quesadilla   4.25  \n",
       "2    Community Outreach Specialist       Sushi   3.99  \n",
       "3       Account Representative III     Burrito   9.99  \n",
       "4       Database Administrator III       Donut   0.99  \n",
       "..                             ...         ...    ...  \n",
       "245               Technical Writer       Donut   0.99  \n",
       "246                Legal Assistant       Pasta  13.99  \n",
       "247              Financial Advisor        Taco   2.99  \n",
       "248             Analyst Programmer       Pasta  13.99  \n",
       "249             Research Associate       Drink   1.75  \n",
       "\n",
       "[250 rows x 9 columns]"
      ],
      "text/html": [
       "<div>\n",
       "<style scoped>\n",
       "    .dataframe tbody tr th:only-of-type {\n",
       "        vertical-align: middle;\n",
       "    }\n",
       "\n",
       "    .dataframe tbody tr th {\n",
       "        vertical-align: top;\n",
       "    }\n",
       "\n",
       "    .dataframe thead th {\n",
       "        text-align: right;\n",
       "    }\n",
       "</style>\n",
       "<table border=\"1\" class=\"dataframe\">\n",
       "  <thead>\n",
       "    <tr style=\"text-align: right;\">\n",
       "      <th></th>\n",
       "      <th>Customer ID</th>\n",
       "      <th>Food ID</th>\n",
       "      <th>First Name</th>\n",
       "      <th>Last Name</th>\n",
       "      <th>Gender</th>\n",
       "      <th>Company</th>\n",
       "      <th>Occupation</th>\n",
       "      <th>Food Item</th>\n",
       "      <th>Price</th>\n",
       "    </tr>\n",
       "  </thead>\n",
       "  <tbody>\n",
       "    <tr>\n",
       "      <th>0</th>\n",
       "      <td>537</td>\n",
       "      <td>9</td>\n",
       "      <td>Cheryl</td>\n",
       "      <td>Carroll</td>\n",
       "      <td>Female</td>\n",
       "      <td>Zoombeat</td>\n",
       "      <td>Registered Nurse</td>\n",
       "      <td>Donut</td>\n",
       "      <td>0.99</td>\n",
       "    </tr>\n",
       "    <tr>\n",
       "      <th>1</th>\n",
       "      <td>97</td>\n",
       "      <td>4</td>\n",
       "      <td>Amanda</td>\n",
       "      <td>Watkins</td>\n",
       "      <td>Female</td>\n",
       "      <td>Ozu</td>\n",
       "      <td>Account Coordinator</td>\n",
       "      <td>Quesadilla</td>\n",
       "      <td>4.25</td>\n",
       "    </tr>\n",
       "    <tr>\n",
       "      <th>2</th>\n",
       "      <td>658</td>\n",
       "      <td>1</td>\n",
       "      <td>Patrick</td>\n",
       "      <td>Webb</td>\n",
       "      <td>Male</td>\n",
       "      <td>Browsebug</td>\n",
       "      <td>Community Outreach Specialist</td>\n",
       "      <td>Sushi</td>\n",
       "      <td>3.99</td>\n",
       "    </tr>\n",
       "    <tr>\n",
       "      <th>3</th>\n",
       "      <td>202</td>\n",
       "      <td>2</td>\n",
       "      <td>Louis</td>\n",
       "      <td>Campbell</td>\n",
       "      <td>Male</td>\n",
       "      <td>Rhynoodle</td>\n",
       "      <td>Account Representative III</td>\n",
       "      <td>Burrito</td>\n",
       "      <td>9.99</td>\n",
       "    </tr>\n",
       "    <tr>\n",
       "      <th>4</th>\n",
       "      <td>155</td>\n",
       "      <td>9</td>\n",
       "      <td>Carolyn</td>\n",
       "      <td>Diaz</td>\n",
       "      <td>Female</td>\n",
       "      <td>Gigazoom</td>\n",
       "      <td>Database Administrator III</td>\n",
       "      <td>Donut</td>\n",
       "      <td>0.99</td>\n",
       "    </tr>\n",
       "    <tr>\n",
       "      <th>...</th>\n",
       "      <td>...</td>\n",
       "      <td>...</td>\n",
       "      <td>...</td>\n",
       "      <td>...</td>\n",
       "      <td>...</td>\n",
       "      <td>...</td>\n",
       "      <td>...</td>\n",
       "      <td>...</td>\n",
       "      <td>...</td>\n",
       "    </tr>\n",
       "    <tr>\n",
       "      <th>245</th>\n",
       "      <td>413</td>\n",
       "      <td>9</td>\n",
       "      <td>Diane</td>\n",
       "      <td>Bailey</td>\n",
       "      <td>Female</td>\n",
       "      <td>Wikibox</td>\n",
       "      <td>Technical Writer</td>\n",
       "      <td>Donut</td>\n",
       "      <td>0.99</td>\n",
       "    </tr>\n",
       "    <tr>\n",
       "      <th>246</th>\n",
       "      <td>926</td>\n",
       "      <td>6</td>\n",
       "      <td>Anne</td>\n",
       "      <td>Wagner</td>\n",
       "      <td>Female</td>\n",
       "      <td>Skyba</td>\n",
       "      <td>Legal Assistant</td>\n",
       "      <td>Pasta</td>\n",
       "      <td>13.99</td>\n",
       "    </tr>\n",
       "    <tr>\n",
       "      <th>247</th>\n",
       "      <td>134</td>\n",
       "      <td>3</td>\n",
       "      <td>Diana</td>\n",
       "      <td>Hall</td>\n",
       "      <td>Female</td>\n",
       "      <td>Quinu</td>\n",
       "      <td>Financial Advisor</td>\n",
       "      <td>Taco</td>\n",
       "      <td>2.99</td>\n",
       "    </tr>\n",
       "    <tr>\n",
       "      <th>248</th>\n",
       "      <td>396</td>\n",
       "      <td>6</td>\n",
       "      <td>Juan</td>\n",
       "      <td>Romero</td>\n",
       "      <td>Male</td>\n",
       "      <td>Zoonder</td>\n",
       "      <td>Analyst Programmer</td>\n",
       "      <td>Pasta</td>\n",
       "      <td>13.99</td>\n",
       "    </tr>\n",
       "    <tr>\n",
       "      <th>249</th>\n",
       "      <td>535</td>\n",
       "      <td>10</td>\n",
       "      <td>Nancy</td>\n",
       "      <td>Cox</td>\n",
       "      <td>Female</td>\n",
       "      <td>Trudeo</td>\n",
       "      <td>Research Associate</td>\n",
       "      <td>Drink</td>\n",
       "      <td>1.75</td>\n",
       "    </tr>\n",
       "  </tbody>\n",
       "</table>\n",
       "<p>250 rows × 9 columns</p>\n",
       "</div>"
      ]
     },
     "execution_count": 74,
     "metadata": {},
     "output_type": "execute_result"
    }
   ],
   "execution_count": 74
  },
  {
   "cell_type": "markdown",
   "metadata": {},
   "source": [
    "## The join Method\n",
    "- The `join` method is a shortcut for concatenating two **DataFrames** when merging by index labels."
   ]
  },
  {
   "cell_type": "code",
   "metadata": {},
   "source": [],
   "outputs": [],
   "execution_count": null
  },
  {
   "cell_type": "code",
   "metadata": {},
   "source": [],
   "outputs": [],
   "execution_count": null
  },
  {
   "cell_type": "code",
   "metadata": {},
   "source": [],
   "outputs": [],
   "execution_count": null
  },
  {
   "cell_type": "code",
   "metadata": {},
   "source": [],
   "outputs": [],
   "execution_count": null
  },
  {
   "cell_type": "code",
   "metadata": {},
   "source": [],
   "outputs": [],
   "execution_count": null
  },
  {
   "cell_type": "code",
   "metadata": {},
   "source": [],
   "outputs": [],
   "execution_count": null
  },
  {
   "cell_type": "code",
   "metadata": {},
   "source": [],
   "outputs": [],
   "execution_count": null
  }
 ],
 "metadata": {
  "anaconda-cloud": {},
  "kernelspec": {
   "display_name": "Python 3 (ipykernel)",
   "language": "python",
   "name": "python3"
  },
  "language_info": {
   "codemirror_mode": {
    "name": "ipython",
    "version": 3
   },
   "file_extension": ".py",
   "mimetype": "text/x-python",
   "name": "python",
   "nbconvert_exporter": "python",
   "pygments_lexer": "ipython3",
   "version": "3.11.5"
  }
 },
 "nbformat": 4,
 "nbformat_minor": 4
}
