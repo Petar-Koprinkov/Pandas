{
 "cells": [
  {
   "cell_type": "markdown",
   "metadata": {},
   "source": [
    "# MultiIndex"
   ]
  },
  {
   "cell_type": "code",
   "metadata": {},
   "source": "import pandas as pd",
   "outputs": [],
   "execution_count": null
  },
  {
   "cell_type": "markdown",
   "metadata": {},
   "source": [
    "## This Module's Dataset"
   ]
  },
  {
   "cell_type": "code",
   "metadata": {},
   "source": [
    "bigmac = pd.read_csv('bigmac.csv', parse_dates=['Date'], date_format='%Y-%m-%d')\n",
    "bigmac"
   ],
   "outputs": [],
   "execution_count": null
  },
  {
   "cell_type": "code",
   "metadata": {},
   "source": "bigmac.info()",
   "outputs": [],
   "execution_count": null
  },
  {
   "metadata": {},
   "cell_type": "code",
   "source": "bigmac.dtypes",
   "outputs": [],
   "execution_count": null
  },
  {
   "metadata": {},
   "cell_type": "code",
   "source": "bigmac.nunique()",
   "outputs": [],
   "execution_count": null
  },
  {
   "cell_type": "markdown",
   "metadata": {},
   "source": [
    "## Create a MultiIndex\n",
    "- A **MultiIndex** is an index with multiple levels or layers.\n",
    "- Pass the `set_index` method a list of colum names to create a multi-index **DataFrame**.\n",
    "- The order of the list's values will determine the order of the levels.\n",
    "- Alternatively, we can pass the `read_csv` function's `index_col` parameter a list of columns."
   ]
  },
  {
   "cell_type": "code",
   "metadata": {},
   "source": "bigmac.set_index(keys=['Date', 'Country'])",
   "outputs": [],
   "execution_count": null
  },
  {
   "cell_type": "code",
   "metadata": {},
   "source": "bigmac.set_index(keys=['Country', 'Date']).sort_index()",
   "outputs": [],
   "execution_count": null
  },
  {
   "cell_type": "code",
   "metadata": {},
   "source": [
    "bigmac = pd.read_csv('bigmac.csv', parse_dates=['Date'], date_format='%Y-%m-%d', index_col=['Date', 'Country']).sort_index()\n",
    "bigmac"
   ],
   "outputs": [],
   "execution_count": null
  },
  {
   "cell_type": "markdown",
   "metadata": {},
   "source": [
    "## Extract Index Level Values\n",
    "- The `get_level_values` method extracts an **Index** with the values from one level in the **MultiIndex**.\n",
    "- Invoke the `get_level_values` on the **MultiIndex**, not the **DataFrame** itself.\n",
    "- The method expects either the level's index position or its name."
   ]
  },
  {
   "cell_type": "code",
   "metadata": {},
   "source": [
    "bigmac = pd.read_csv('bigmac.csv', parse_dates=['Date'], date_format='%Y-%m-%d', index_col=['Date', 'Country']).sort_index()\n",
    "bigmac"
   ],
   "outputs": [],
   "execution_count": null
  },
  {
   "cell_type": "code",
   "metadata": {},
   "source": "bigmac.index",
   "outputs": [],
   "execution_count": null
  },
  {
   "cell_type": "code",
   "metadata": {},
   "source": "bigmac.index.get_level_values('Date')",
   "outputs": [],
   "execution_count": null
  },
  {
   "cell_type": "code",
   "metadata": {},
   "source": "bigmac.index.get_level_values(0)",
   "outputs": [],
   "execution_count": null
  },
  {
   "metadata": {},
   "cell_type": "code",
   "source": "bigmac.index.get_level_values('Country')",
   "outputs": [],
   "execution_count": null
  },
  {
   "metadata": {},
   "cell_type": "code",
   "source": "bigmac.index.get_level_values(1)",
   "outputs": [],
   "execution_count": null
  },
  {
   "cell_type": "markdown",
   "metadata": {},
   "source": [
    "## Rename Index Levels\n",
    "- Invoke the `set_names` method on the **MultiIndex** to change one or more level names.\n",
    "- Use the `names` and `level` parameter to target a nested index at a given level.\n",
    "- Alternatively, pass `names` a list of strings to overwrite *all* level names.\n",
    "- The `set_names` method returns a copy, so replace the original index to alter the **DataFrame**."
   ]
  },
  {
   "cell_type": "code",
   "metadata": {},
   "source": [
    "bigmac = pd.read_csv('bigmac.csv', parse_dates=['Date'], date_format='%Y-%m-%d', index_col=['Date', 'Country']).sort_index()\n",
    "bigmac"
   ],
   "outputs": [],
   "execution_count": null
  },
  {
   "cell_type": "code",
   "metadata": {},
   "source": "bigmac.index.set_names(names='Time', level='Date')",
   "outputs": [],
   "execution_count": null
  },
  {
   "metadata": {},
   "cell_type": "code",
   "source": "bigmac",
   "outputs": [],
   "execution_count": null
  },
  {
   "metadata": {},
   "cell_type": "code",
   "source": "bigmac.index.set_names(names=['Time', 'Location'])",
   "outputs": [],
   "execution_count": null
  },
  {
   "cell_type": "code",
   "metadata": {},
   "source": "bigmac",
   "outputs": [],
   "execution_count": null
  },
  {
   "cell_type": "code",
   "metadata": {},
   "source": "bigmac.index = bigmac.index.set_names(names=['Time', 'Location'])",
   "outputs": [],
   "execution_count": null
  },
  {
   "metadata": {},
   "cell_type": "code",
   "source": "bigmac",
   "outputs": [],
   "execution_count": null
  },
  {
   "cell_type": "markdown",
   "metadata": {},
   "source": [
    "## The sort_index Method on a MultiIndex DataFrame\n",
    "- Using the `sort_index` method, we can target all levels or specific levels of the **MultiIndex**.\n",
    "- To apply a different sort order to different levels, pass a list of Booleans."
   ]
  },
  {
   "cell_type": "code",
   "metadata": {},
   "source": [
    "bigmac = pd.read_csv('bigmac.csv', parse_dates=['Date'], date_format='%Y-%m-%d' ,index_col=['Date', 'Country'])\n",
    "bigmac"
   ],
   "outputs": [],
   "execution_count": null
  },
  {
   "cell_type": "code",
   "metadata": {},
   "source": "bigmac.sort_index()",
   "outputs": [],
   "execution_count": null
  },
  {
   "cell_type": "code",
   "metadata": {},
   "source": "bigmac.sort_index(ascending=False)",
   "outputs": [],
   "execution_count": null
  },
  {
   "metadata": {},
   "cell_type": "code",
   "source": "bigmac.sort_index(ascending=[False, True])",
   "outputs": [],
   "execution_count": null
  },
  {
   "metadata": {},
   "cell_type": "code",
   "source": "bigmac.sort_index(ascending=[True, False])",
   "outputs": [],
   "execution_count": null
  },
  {
   "cell_type": "markdown",
   "metadata": {},
   "source": [
    "## Extract Rows from a MultiIndex DataFrame\n",
    "- A **tuple** is an immutable list. It cannot be modified after creation.\n",
    "- Create a tuple with a comma between elements. The community convention is to wrap the elements in parentheses.\n",
    "- The `iloc` and `loc` accessors are available to extract rows by index position or label.\n",
    "- For the `loc` accessor, pass a tuple to hold the labels from the index levels."
   ]
  },
  {
   "cell_type": "code",
   "metadata": {},
   "source": [
    "bigmac = pd.read_csv('bigmac.csv', parse_dates=['Date'], index_col=['Date', 'Country']).sort_index()\n",
    "bigmac"
   ],
   "outputs": [],
   "execution_count": null
  },
  {
   "cell_type": "code",
   "metadata": {},
   "source": "bigmac.iloc[0]",
   "outputs": [],
   "execution_count": null
  },
  {
   "cell_type": "code",
   "metadata": {},
   "source": "bigmac.iloc[1]",
   "outputs": [],
   "execution_count": null
  },
  {
   "cell_type": "code",
   "metadata": {},
   "source": "bigmac.iloc[69]",
   "outputs": [],
   "execution_count": null
  },
  {
   "metadata": {},
   "cell_type": "code",
   "source": "bigmac.loc['2000-04-01', 'Argentina']",
   "outputs": [],
   "execution_count": null
  },
  {
   "metadata": {},
   "cell_type": "code",
   "source": [
    "bigmac.loc[('2000-04-01', 'Brazil')]\n",
    "bigmac.loc['2000-04-01', 'Brazil']"
   ],
   "outputs": [],
   "execution_count": null
  },
  {
   "metadata": {},
   "cell_type": "code",
   "source": "bigmac.loc[('2000-04-01', 'Argentina'): ('2000-04-01', 'Brazil')]",
   "outputs": [],
   "execution_count": null
  },
  {
   "metadata": {},
   "cell_type": "code",
   "source": "bigmac.loc[('2000-04-01', 'Argentina'): ('2000-04-01', 'Brazil'), 'Price in US Dollars']",
   "outputs": [],
   "execution_count": null
  },
  {
   "metadata": {},
   "cell_type": "code",
   "source": "bigmac.loc[: ('2000-04-01', 'Brazil')]",
   "outputs": [],
   "execution_count": null
  },
  {
   "metadata": {},
   "cell_type": "code",
   "source": "bigmac.loc[('2020-04-01', 'Brazil'): ]",
   "outputs": [],
   "execution_count": null
  },
  {
   "metadata": {},
   "cell_type": "code",
   "source": [
    "start = ('2000-04-01', 'Argentina')\n",
    "end = ('2000-04-01', 'Brazil')\n",
    "bigmac.loc[start:end]"
   ],
   "outputs": [],
   "execution_count": null
  },
  {
   "cell_type": "markdown",
   "metadata": {},
   "source": [
    "## The transpose Method\n",
    "- The `transpose` method inverts/flips the horizontal and vertical axes of the **DataFrame**."
   ]
  },
  {
   "cell_type": "code",
   "metadata": {},
   "source": "bigmac",
   "outputs": [],
   "execution_count": null
  },
  {
   "cell_type": "code",
   "metadata": {},
   "source": [
    "start = ('2000-04-01', 'Argentina')\n",
    "end = ('2002-04-01', 'Brazil')\n",
    "bigmac.loc[start:end]"
   ],
   "outputs": [],
   "execution_count": null
  },
  {
   "cell_type": "code",
   "metadata": {},
   "source": "bigmac.loc[start:end].transpose()",
   "outputs": [],
   "execution_count": null
  },
  {
   "cell_type": "markdown",
   "metadata": {},
   "source": [
    "## The stack Method\n",
    "- The `stack` method moves the column index to the row index.\n",
    "- Pandas will return a **MultiIndex Series**.\n",
    "- Think of it like \"stacking\" index levels for a **MultiIndex**."
   ]
  },
  {
   "cell_type": "code",
   "metadata": {},
   "source": [
    "world = pd.read_csv('worldstats.csv', index_col=['year', 'country']).sort_index()\n",
    "world"
   ],
   "outputs": [],
   "execution_count": null
  },
  {
   "cell_type": "markdown",
   "metadata": {},
   "source": [
    "## The unstack Method\n",
    "- The `unstack` method moves a row index to the column index (the inverse of the `stack` method).\n",
    "- By default, the `unstack` method will move the innermost index.\n",
    "- We can customize the moved index with the `level` parameter.\n",
    "- The `level` parameter accepts the level's index position or its name. It can also accept a list of positions/names."
   ]
  },
  {
   "cell_type": "code",
   "metadata": {},
   "source": [
    "world = pd.read_csv('worldstats.csv', index_col=['year', 'country']).sort_index().stack()\n",
    "world.head(15)"
   ],
   "outputs": [],
   "execution_count": null
  },
  {
   "cell_type": "code",
   "metadata": {},
   "source": "world.unstack(level=0)",
   "outputs": [],
   "execution_count": null
  },
  {
   "cell_type": "code",
   "metadata": {},
   "source": "world.unstack(level='year')",
   "outputs": [],
   "execution_count": null
  },
  {
   "cell_type": "code",
   "metadata": {},
   "source": "world.unstack()",
   "outputs": [],
   "execution_count": null
  },
  {
   "cell_type": "markdown",
   "metadata": {},
   "source": [
    "## The pivot Method\n",
    "- The `pivot` method reshapes data from a tall format to a wide format.\n",
    "- Ask yourself which direction the data will expand in if you add more entries.\n",
    "- A tall/long format expands down. A wide format expands out.\n",
    "- The `index` parameter sets the horizontal index of the pivoted **DataFrame**.\n",
    "- The `columns` parameter sets the column whose values will be the columns in the pivoted **DataFrame**.\n",
    "- The `values` parameter set the values of the pivoted **DataFrame**. Pandas will populate the correct values based on the index and column intersections."
   ]
  },
  {
   "cell_type": "code",
   "metadata": {},
   "source": [
    "salesmen = pd.read_csv('salesmen.csv')\n",
    "salesmen"
   ],
   "outputs": [],
   "execution_count": null
  },
  {
   "cell_type": "code",
   "metadata": {},
   "source": "salesmen.pivot(index='Date', columns='Salesman', values='Revenue')",
   "outputs": [],
   "execution_count": null
  },
  {
   "cell_type": "markdown",
   "metadata": {},
   "source": [
    "## The melt Method\n",
    "- The `melt` method is the inverse of the `pivot` method.\n",
    "- It takes a 'wide' dataset and converts it to a 'tall' dataset.\n",
    "- The `melt` method is ideal when you have multiple columns storing the *same* data point.\n",
    "- Ask yourself whether the column's values are a *type* of the column header. If they're not, the data is likely stored in a wide format.\n",
    "- The `id_vars` parameters accepts the column whose values will be repeated for every column.\n",
    "- The `var_name` parameter sets the name of the new column for the varying values (the former column names).\n",
    "- The `value_name` parameter set the new name of the values column (holding the values from the original **DataFrame**)."
   ]
  },
  {
   "cell_type": "code",
   "metadata": {},
   "source": [
    "quarters = pd.read_csv('quarters.csv')\n",
    "quarters"
   ],
   "outputs": [],
   "execution_count": null
  },
  {
   "cell_type": "code",
   "metadata": {},
   "source": "quarters.melt(id_vars='Salesman', var_name='Quarter', value_name='Revenue')",
   "outputs": [],
   "execution_count": null
  },
  {
   "cell_type": "markdown",
   "metadata": {},
   "source": [
    "## The pivot_table Method\n",
    "- The `pivot_table` method operates similarly to the Pivot Table feature in Excel.\n",
    "- A pivot table is a table whose values are aggregations of groups of values from another table.\n",
    "- The `values` parameter accepts the numeric column whose values will be aggregated.\n",
    "- The `aggfunc` parameter declares the aggregation function (the default is mean/average).\n",
    "- The `index` parameter sets the index labels of the pivot table. MultiIndexes are permitted.\n",
    "- The `columns` parameter sets the column labels of the pivot table. MultiIndexes are permitted."
   ]
  },
  {
   "cell_type": "code",
   "metadata": {
    "ExecuteTime": {
     "end_time": "2025-01-02T12:59:38.964108Z",
     "start_time": "2025-01-02T12:59:38.942482Z"
    }
   },
   "source": [
    "foods = pd.read_csv('foods.csv')\n",
    "foods"
   ],
   "outputs": [
    {
     "data": {
      "text/plain": [
       "    First Name  Gender          City Frequency       Item  Spend\n",
       "0        Wanda  Female      Stamford    Weekly     Burger  15.66\n",
       "1         Eric    Male      Stamford     Daily    Chalupa  10.56\n",
       "2      Charles    Male      New York     Never      Sushi  42.14\n",
       "3         Anna  Female  Philadelphia      Once  Ice Cream  11.01\n",
       "4      Deborah  Female  Philadelphia     Daily    Chalupa  23.49\n",
       "..         ...     ...           ...       ...        ...    ...\n",
       "995      Donna  Female      New York   Monthly      Sushi  83.53\n",
       "996     Albert    Male  Philadelphia     Daily      Sushi  72.88\n",
       "997       Jean  Female      Stamford    Weekly      Donut   5.85\n",
       "998    Jessica  Female      New York     Daily    Chalupa  43.19\n",
       "999      Brian    Male      New York     Daily    Chalupa  28.36\n",
       "\n",
       "[1000 rows x 6 columns]"
      ],
      "text/html": [
       "<div>\n",
       "<style scoped>\n",
       "    .dataframe tbody tr th:only-of-type {\n",
       "        vertical-align: middle;\n",
       "    }\n",
       "\n",
       "    .dataframe tbody tr th {\n",
       "        vertical-align: top;\n",
       "    }\n",
       "\n",
       "    .dataframe thead th {\n",
       "        text-align: right;\n",
       "    }\n",
       "</style>\n",
       "<table border=\"1\" class=\"dataframe\">\n",
       "  <thead>\n",
       "    <tr style=\"text-align: right;\">\n",
       "      <th></th>\n",
       "      <th>First Name</th>\n",
       "      <th>Gender</th>\n",
       "      <th>City</th>\n",
       "      <th>Frequency</th>\n",
       "      <th>Item</th>\n",
       "      <th>Spend</th>\n",
       "    </tr>\n",
       "  </thead>\n",
       "  <tbody>\n",
       "    <tr>\n",
       "      <th>0</th>\n",
       "      <td>Wanda</td>\n",
       "      <td>Female</td>\n",
       "      <td>Stamford</td>\n",
       "      <td>Weekly</td>\n",
       "      <td>Burger</td>\n",
       "      <td>15.66</td>\n",
       "    </tr>\n",
       "    <tr>\n",
       "      <th>1</th>\n",
       "      <td>Eric</td>\n",
       "      <td>Male</td>\n",
       "      <td>Stamford</td>\n",
       "      <td>Daily</td>\n",
       "      <td>Chalupa</td>\n",
       "      <td>10.56</td>\n",
       "    </tr>\n",
       "    <tr>\n",
       "      <th>2</th>\n",
       "      <td>Charles</td>\n",
       "      <td>Male</td>\n",
       "      <td>New York</td>\n",
       "      <td>Never</td>\n",
       "      <td>Sushi</td>\n",
       "      <td>42.14</td>\n",
       "    </tr>\n",
       "    <tr>\n",
       "      <th>3</th>\n",
       "      <td>Anna</td>\n",
       "      <td>Female</td>\n",
       "      <td>Philadelphia</td>\n",
       "      <td>Once</td>\n",
       "      <td>Ice Cream</td>\n",
       "      <td>11.01</td>\n",
       "    </tr>\n",
       "    <tr>\n",
       "      <th>4</th>\n",
       "      <td>Deborah</td>\n",
       "      <td>Female</td>\n",
       "      <td>Philadelphia</td>\n",
       "      <td>Daily</td>\n",
       "      <td>Chalupa</td>\n",
       "      <td>23.49</td>\n",
       "    </tr>\n",
       "    <tr>\n",
       "      <th>...</th>\n",
       "      <td>...</td>\n",
       "      <td>...</td>\n",
       "      <td>...</td>\n",
       "      <td>...</td>\n",
       "      <td>...</td>\n",
       "      <td>...</td>\n",
       "    </tr>\n",
       "    <tr>\n",
       "      <th>995</th>\n",
       "      <td>Donna</td>\n",
       "      <td>Female</td>\n",
       "      <td>New York</td>\n",
       "      <td>Monthly</td>\n",
       "      <td>Sushi</td>\n",
       "      <td>83.53</td>\n",
       "    </tr>\n",
       "    <tr>\n",
       "      <th>996</th>\n",
       "      <td>Albert</td>\n",
       "      <td>Male</td>\n",
       "      <td>Philadelphia</td>\n",
       "      <td>Daily</td>\n",
       "      <td>Sushi</td>\n",
       "      <td>72.88</td>\n",
       "    </tr>\n",
       "    <tr>\n",
       "      <th>997</th>\n",
       "      <td>Jean</td>\n",
       "      <td>Female</td>\n",
       "      <td>Stamford</td>\n",
       "      <td>Weekly</td>\n",
       "      <td>Donut</td>\n",
       "      <td>5.85</td>\n",
       "    </tr>\n",
       "    <tr>\n",
       "      <th>998</th>\n",
       "      <td>Jessica</td>\n",
       "      <td>Female</td>\n",
       "      <td>New York</td>\n",
       "      <td>Daily</td>\n",
       "      <td>Chalupa</td>\n",
       "      <td>43.19</td>\n",
       "    </tr>\n",
       "    <tr>\n",
       "      <th>999</th>\n",
       "      <td>Brian</td>\n",
       "      <td>Male</td>\n",
       "      <td>New York</td>\n",
       "      <td>Daily</td>\n",
       "      <td>Chalupa</td>\n",
       "      <td>28.36</td>\n",
       "    </tr>\n",
       "  </tbody>\n",
       "</table>\n",
       "<p>1000 rows × 6 columns</p>\n",
       "</div>"
      ]
     },
     "execution_count": 123,
     "metadata": {},
     "output_type": "execute_result"
    }
   ],
   "execution_count": 123
  },
  {
   "cell_type": "code",
   "metadata": {
    "ExecuteTime": {
     "end_time": "2025-01-02T13:01:19.292668Z",
     "start_time": "2025-01-02T13:01:19.279684Z"
    }
   },
   "source": "foods.pivot_table(values='Spend', index='Item', aggfunc='sum')",
   "outputs": [
    {
     "data": {
      "text/plain": [
       "             Spend\n",
       "Item              \n",
       "Burger     7765.73\n",
       "Burrito    8270.44\n",
       "Chalupa    7644.52\n",
       "Donut      8758.76\n",
       "Ice Cream  8886.99\n",
       "Sushi      8742.93"
      ],
      "text/html": [
       "<div>\n",
       "<style scoped>\n",
       "    .dataframe tbody tr th:only-of-type {\n",
       "        vertical-align: middle;\n",
       "    }\n",
       "\n",
       "    .dataframe tbody tr th {\n",
       "        vertical-align: top;\n",
       "    }\n",
       "\n",
       "    .dataframe thead th {\n",
       "        text-align: right;\n",
       "    }\n",
       "</style>\n",
       "<table border=\"1\" class=\"dataframe\">\n",
       "  <thead>\n",
       "    <tr style=\"text-align: right;\">\n",
       "      <th></th>\n",
       "      <th>Spend</th>\n",
       "    </tr>\n",
       "    <tr>\n",
       "      <th>Item</th>\n",
       "      <th></th>\n",
       "    </tr>\n",
       "  </thead>\n",
       "  <tbody>\n",
       "    <tr>\n",
       "      <th>Burger</th>\n",
       "      <td>7765.73</td>\n",
       "    </tr>\n",
       "    <tr>\n",
       "      <th>Burrito</th>\n",
       "      <td>8270.44</td>\n",
       "    </tr>\n",
       "    <tr>\n",
       "      <th>Chalupa</th>\n",
       "      <td>7644.52</td>\n",
       "    </tr>\n",
       "    <tr>\n",
       "      <th>Donut</th>\n",
       "      <td>8758.76</td>\n",
       "    </tr>\n",
       "    <tr>\n",
       "      <th>Ice Cream</th>\n",
       "      <td>8886.99</td>\n",
       "    </tr>\n",
       "    <tr>\n",
       "      <th>Sushi</th>\n",
       "      <td>8742.93</td>\n",
       "    </tr>\n",
       "  </tbody>\n",
       "</table>\n",
       "</div>"
      ]
     },
     "execution_count": 125,
     "metadata": {},
     "output_type": "execute_result"
    }
   ],
   "execution_count": 125
  },
  {
   "cell_type": "code",
   "metadata": {
    "ExecuteTime": {
     "end_time": "2025-01-02T13:01:35.028486Z",
     "start_time": "2025-01-02T13:01:35.017314Z"
    }
   },
   "source": "foods.pivot_table(values='Spend', index='Item', aggfunc='mean')",
   "outputs": [
    {
     "data": {
      "text/plain": [
       "               Spend\n",
       "Item                \n",
       "Burger     49.780321\n",
       "Burrito    49.228810\n",
       "Chalupa    52.003537\n",
       "Donut      46.838289\n",
       "Ice Cream  50.494261\n",
       "Sushi      52.668253"
      ],
      "text/html": [
       "<div>\n",
       "<style scoped>\n",
       "    .dataframe tbody tr th:only-of-type {\n",
       "        vertical-align: middle;\n",
       "    }\n",
       "\n",
       "    .dataframe tbody tr th {\n",
       "        vertical-align: top;\n",
       "    }\n",
       "\n",
       "    .dataframe thead th {\n",
       "        text-align: right;\n",
       "    }\n",
       "</style>\n",
       "<table border=\"1\" class=\"dataframe\">\n",
       "  <thead>\n",
       "    <tr style=\"text-align: right;\">\n",
       "      <th></th>\n",
       "      <th>Spend</th>\n",
       "    </tr>\n",
       "    <tr>\n",
       "      <th>Item</th>\n",
       "      <th></th>\n",
       "    </tr>\n",
       "  </thead>\n",
       "  <tbody>\n",
       "    <tr>\n",
       "      <th>Burger</th>\n",
       "      <td>49.780321</td>\n",
       "    </tr>\n",
       "    <tr>\n",
       "      <th>Burrito</th>\n",
       "      <td>49.228810</td>\n",
       "    </tr>\n",
       "    <tr>\n",
       "      <th>Chalupa</th>\n",
       "      <td>52.003537</td>\n",
       "    </tr>\n",
       "    <tr>\n",
       "      <th>Donut</th>\n",
       "      <td>46.838289</td>\n",
       "    </tr>\n",
       "    <tr>\n",
       "      <th>Ice Cream</th>\n",
       "      <td>50.494261</td>\n",
       "    </tr>\n",
       "    <tr>\n",
       "      <th>Sushi</th>\n",
       "      <td>52.668253</td>\n",
       "    </tr>\n",
       "  </tbody>\n",
       "</table>\n",
       "</div>"
      ]
     },
     "execution_count": 126,
     "metadata": {},
     "output_type": "execute_result"
    }
   ],
   "execution_count": 126
  },
  {
   "cell_type": "code",
   "metadata": {
    "ExecuteTime": {
     "end_time": "2025-01-02T13:02:21.140645Z",
     "start_time": "2025-01-02T13:02:21.130198Z"
    }
   },
   "source": "foods.pivot_table(values='Spend', index='Gender', aggfunc='mean')",
   "outputs": [
    {
     "data": {
      "text/plain": [
       "            Spend\n",
       "Gender           \n",
       "Female  50.709629\n",
       "Male    49.397623"
      ],
      "text/html": [
       "<div>\n",
       "<style scoped>\n",
       "    .dataframe tbody tr th:only-of-type {\n",
       "        vertical-align: middle;\n",
       "    }\n",
       "\n",
       "    .dataframe tbody tr th {\n",
       "        vertical-align: top;\n",
       "    }\n",
       "\n",
       "    .dataframe thead th {\n",
       "        text-align: right;\n",
       "    }\n",
       "</style>\n",
       "<table border=\"1\" class=\"dataframe\">\n",
       "  <thead>\n",
       "    <tr style=\"text-align: right;\">\n",
       "      <th></th>\n",
       "      <th>Spend</th>\n",
       "    </tr>\n",
       "    <tr>\n",
       "      <th>Gender</th>\n",
       "      <th></th>\n",
       "    </tr>\n",
       "  </thead>\n",
       "  <tbody>\n",
       "    <tr>\n",
       "      <th>Female</th>\n",
       "      <td>50.709629</td>\n",
       "    </tr>\n",
       "    <tr>\n",
       "      <th>Male</th>\n",
       "      <td>49.397623</td>\n",
       "    </tr>\n",
       "  </tbody>\n",
       "</table>\n",
       "</div>"
      ]
     },
     "execution_count": 128,
     "metadata": {},
     "output_type": "execute_result"
    }
   ],
   "execution_count": 128
  },
  {
   "metadata": {
    "ExecuteTime": {
     "end_time": "2025-01-02T13:02:35.958957Z",
     "start_time": "2025-01-02T13:02:35.946407Z"
    }
   },
   "cell_type": "code",
   "source": "foods.pivot_table(values='Spend', index='Gender', aggfunc='max')",
   "outputs": [
    {
     "data": {
      "text/plain": [
       "        Spend\n",
       "Gender       \n",
       "Female  99.51\n",
       "Male    99.87"
      ],
      "text/html": [
       "<div>\n",
       "<style scoped>\n",
       "    .dataframe tbody tr th:only-of-type {\n",
       "        vertical-align: middle;\n",
       "    }\n",
       "\n",
       "    .dataframe tbody tr th {\n",
       "        vertical-align: top;\n",
       "    }\n",
       "\n",
       "    .dataframe thead th {\n",
       "        text-align: right;\n",
       "    }\n",
       "</style>\n",
       "<table border=\"1\" class=\"dataframe\">\n",
       "  <thead>\n",
       "    <tr style=\"text-align: right;\">\n",
       "      <th></th>\n",
       "      <th>Spend</th>\n",
       "    </tr>\n",
       "    <tr>\n",
       "      <th>Gender</th>\n",
       "      <th></th>\n",
       "    </tr>\n",
       "  </thead>\n",
       "  <tbody>\n",
       "    <tr>\n",
       "      <th>Female</th>\n",
       "      <td>99.51</td>\n",
       "    </tr>\n",
       "    <tr>\n",
       "      <th>Male</th>\n",
       "      <td>99.87</td>\n",
       "    </tr>\n",
       "  </tbody>\n",
       "</table>\n",
       "</div>"
      ]
     },
     "execution_count": 129,
     "metadata": {},
     "output_type": "execute_result"
    }
   ],
   "execution_count": 129
  },
  {
   "metadata": {
    "ExecuteTime": {
     "end_time": "2025-01-02T13:02:40.149735Z",
     "start_time": "2025-01-02T13:02:40.138746Z"
    }
   },
   "cell_type": "code",
   "source": "foods.pivot_table(values='Spend', index='Gender', aggfunc='min')",
   "outputs": [
    {
     "data": {
      "text/plain": [
       "        Spend\n",
       "Gender       \n",
       "Female   1.02\n",
       "Male     1.26"
      ],
      "text/html": [
       "<div>\n",
       "<style scoped>\n",
       "    .dataframe tbody tr th:only-of-type {\n",
       "        vertical-align: middle;\n",
       "    }\n",
       "\n",
       "    .dataframe tbody tr th {\n",
       "        vertical-align: top;\n",
       "    }\n",
       "\n",
       "    .dataframe thead th {\n",
       "        text-align: right;\n",
       "    }\n",
       "</style>\n",
       "<table border=\"1\" class=\"dataframe\">\n",
       "  <thead>\n",
       "    <tr style=\"text-align: right;\">\n",
       "      <th></th>\n",
       "      <th>Spend</th>\n",
       "    </tr>\n",
       "    <tr>\n",
       "      <th>Gender</th>\n",
       "      <th></th>\n",
       "    </tr>\n",
       "  </thead>\n",
       "  <tbody>\n",
       "    <tr>\n",
       "      <th>Female</th>\n",
       "      <td>1.02</td>\n",
       "    </tr>\n",
       "    <tr>\n",
       "      <th>Male</th>\n",
       "      <td>1.26</td>\n",
       "    </tr>\n",
       "  </tbody>\n",
       "</table>\n",
       "</div>"
      ]
     },
     "execution_count": 130,
     "metadata": {},
     "output_type": "execute_result"
    }
   ],
   "execution_count": 130
  },
  {
   "metadata": {
    "ExecuteTime": {
     "end_time": "2025-01-02T13:03:24.645475Z",
     "start_time": "2025-01-02T13:03:24.629136Z"
    }
   },
   "cell_type": "code",
   "source": "foods.pivot_table(values='Spend', index=['Item','City', 'Gender'], aggfunc='sum')",
   "outputs": [
    {
     "data": {
      "text/plain": [
       "                                 Spend\n",
       "Item      City         Gender         \n",
       "Burger    New York     Female  1239.04\n",
       "                       Male    1294.09\n",
       "          Philadelphia Female  1639.24\n",
       "                       Male     938.18\n",
       "          Stamford     Female  1216.02\n",
       "                       Male    1439.16\n",
       "Burrito   New York     Female   978.95\n",
       "                       Male    1399.40\n",
       "          Philadelphia Female  1458.76\n",
       "                       Male    1312.93\n",
       "          Stamford     Female  1820.11\n",
       "                       Male    1300.29\n",
       "Chalupa   New York     Female   876.58\n",
       "                       Male    1227.77\n",
       "          Philadelphia Female  1673.33\n",
       "                       Male    1114.23\n",
       "          Stamford     Female  1602.35\n",
       "                       Male    1150.26\n",
       "Donut     New York     Female  1446.78\n",
       "                       Male    1345.27\n",
       "          Philadelphia Female  1639.26\n",
       "                       Male    1249.36\n",
       "          Stamford     Female  1656.96\n",
       "                       Male    1421.13\n",
       "Ice Cream New York     Female  1521.62\n",
       "                       Male    1603.63\n",
       "          Philadelphia Female  1479.22\n",
       "                       Male    2191.27\n",
       "          Stamford     Female  1032.03\n",
       "                       Male    1059.22\n",
       "Sushi     New York     Female  1480.29\n",
       "                       Male    1396.15\n",
       "          Philadelphia Female  1742.88\n",
       "                       Male    1395.88\n",
       "          Stamford     Female  1459.91\n",
       "                       Male    1267.82"
      ],
      "text/html": [
       "<div>\n",
       "<style scoped>\n",
       "    .dataframe tbody tr th:only-of-type {\n",
       "        vertical-align: middle;\n",
       "    }\n",
       "\n",
       "    .dataframe tbody tr th {\n",
       "        vertical-align: top;\n",
       "    }\n",
       "\n",
       "    .dataframe thead th {\n",
       "        text-align: right;\n",
       "    }\n",
       "</style>\n",
       "<table border=\"1\" class=\"dataframe\">\n",
       "  <thead>\n",
       "    <tr style=\"text-align: right;\">\n",
       "      <th></th>\n",
       "      <th></th>\n",
       "      <th></th>\n",
       "      <th>Spend</th>\n",
       "    </tr>\n",
       "    <tr>\n",
       "      <th>Item</th>\n",
       "      <th>City</th>\n",
       "      <th>Gender</th>\n",
       "      <th></th>\n",
       "    </tr>\n",
       "  </thead>\n",
       "  <tbody>\n",
       "    <tr>\n",
       "      <th rowspan=\"6\" valign=\"top\">Burger</th>\n",
       "      <th rowspan=\"2\" valign=\"top\">New York</th>\n",
       "      <th>Female</th>\n",
       "      <td>1239.04</td>\n",
       "    </tr>\n",
       "    <tr>\n",
       "      <th>Male</th>\n",
       "      <td>1294.09</td>\n",
       "    </tr>\n",
       "    <tr>\n",
       "      <th rowspan=\"2\" valign=\"top\">Philadelphia</th>\n",
       "      <th>Female</th>\n",
       "      <td>1639.24</td>\n",
       "    </tr>\n",
       "    <tr>\n",
       "      <th>Male</th>\n",
       "      <td>938.18</td>\n",
       "    </tr>\n",
       "    <tr>\n",
       "      <th rowspan=\"2\" valign=\"top\">Stamford</th>\n",
       "      <th>Female</th>\n",
       "      <td>1216.02</td>\n",
       "    </tr>\n",
       "    <tr>\n",
       "      <th>Male</th>\n",
       "      <td>1439.16</td>\n",
       "    </tr>\n",
       "    <tr>\n",
       "      <th rowspan=\"6\" valign=\"top\">Burrito</th>\n",
       "      <th rowspan=\"2\" valign=\"top\">New York</th>\n",
       "      <th>Female</th>\n",
       "      <td>978.95</td>\n",
       "    </tr>\n",
       "    <tr>\n",
       "      <th>Male</th>\n",
       "      <td>1399.40</td>\n",
       "    </tr>\n",
       "    <tr>\n",
       "      <th rowspan=\"2\" valign=\"top\">Philadelphia</th>\n",
       "      <th>Female</th>\n",
       "      <td>1458.76</td>\n",
       "    </tr>\n",
       "    <tr>\n",
       "      <th>Male</th>\n",
       "      <td>1312.93</td>\n",
       "    </tr>\n",
       "    <tr>\n",
       "      <th rowspan=\"2\" valign=\"top\">Stamford</th>\n",
       "      <th>Female</th>\n",
       "      <td>1820.11</td>\n",
       "    </tr>\n",
       "    <tr>\n",
       "      <th>Male</th>\n",
       "      <td>1300.29</td>\n",
       "    </tr>\n",
       "    <tr>\n",
       "      <th rowspan=\"6\" valign=\"top\">Chalupa</th>\n",
       "      <th rowspan=\"2\" valign=\"top\">New York</th>\n",
       "      <th>Female</th>\n",
       "      <td>876.58</td>\n",
       "    </tr>\n",
       "    <tr>\n",
       "      <th>Male</th>\n",
       "      <td>1227.77</td>\n",
       "    </tr>\n",
       "    <tr>\n",
       "      <th rowspan=\"2\" valign=\"top\">Philadelphia</th>\n",
       "      <th>Female</th>\n",
       "      <td>1673.33</td>\n",
       "    </tr>\n",
       "    <tr>\n",
       "      <th>Male</th>\n",
       "      <td>1114.23</td>\n",
       "    </tr>\n",
       "    <tr>\n",
       "      <th rowspan=\"2\" valign=\"top\">Stamford</th>\n",
       "      <th>Female</th>\n",
       "      <td>1602.35</td>\n",
       "    </tr>\n",
       "    <tr>\n",
       "      <th>Male</th>\n",
       "      <td>1150.26</td>\n",
       "    </tr>\n",
       "    <tr>\n",
       "      <th rowspan=\"6\" valign=\"top\">Donut</th>\n",
       "      <th rowspan=\"2\" valign=\"top\">New York</th>\n",
       "      <th>Female</th>\n",
       "      <td>1446.78</td>\n",
       "    </tr>\n",
       "    <tr>\n",
       "      <th>Male</th>\n",
       "      <td>1345.27</td>\n",
       "    </tr>\n",
       "    <tr>\n",
       "      <th rowspan=\"2\" valign=\"top\">Philadelphia</th>\n",
       "      <th>Female</th>\n",
       "      <td>1639.26</td>\n",
       "    </tr>\n",
       "    <tr>\n",
       "      <th>Male</th>\n",
       "      <td>1249.36</td>\n",
       "    </tr>\n",
       "    <tr>\n",
       "      <th rowspan=\"2\" valign=\"top\">Stamford</th>\n",
       "      <th>Female</th>\n",
       "      <td>1656.96</td>\n",
       "    </tr>\n",
       "    <tr>\n",
       "      <th>Male</th>\n",
       "      <td>1421.13</td>\n",
       "    </tr>\n",
       "    <tr>\n",
       "      <th rowspan=\"6\" valign=\"top\">Ice Cream</th>\n",
       "      <th rowspan=\"2\" valign=\"top\">New York</th>\n",
       "      <th>Female</th>\n",
       "      <td>1521.62</td>\n",
       "    </tr>\n",
       "    <tr>\n",
       "      <th>Male</th>\n",
       "      <td>1603.63</td>\n",
       "    </tr>\n",
       "    <tr>\n",
       "      <th rowspan=\"2\" valign=\"top\">Philadelphia</th>\n",
       "      <th>Female</th>\n",
       "      <td>1479.22</td>\n",
       "    </tr>\n",
       "    <tr>\n",
       "      <th>Male</th>\n",
       "      <td>2191.27</td>\n",
       "    </tr>\n",
       "    <tr>\n",
       "      <th rowspan=\"2\" valign=\"top\">Stamford</th>\n",
       "      <th>Female</th>\n",
       "      <td>1032.03</td>\n",
       "    </tr>\n",
       "    <tr>\n",
       "      <th>Male</th>\n",
       "      <td>1059.22</td>\n",
       "    </tr>\n",
       "    <tr>\n",
       "      <th rowspan=\"6\" valign=\"top\">Sushi</th>\n",
       "      <th rowspan=\"2\" valign=\"top\">New York</th>\n",
       "      <th>Female</th>\n",
       "      <td>1480.29</td>\n",
       "    </tr>\n",
       "    <tr>\n",
       "      <th>Male</th>\n",
       "      <td>1396.15</td>\n",
       "    </tr>\n",
       "    <tr>\n",
       "      <th rowspan=\"2\" valign=\"top\">Philadelphia</th>\n",
       "      <th>Female</th>\n",
       "      <td>1742.88</td>\n",
       "    </tr>\n",
       "    <tr>\n",
       "      <th>Male</th>\n",
       "      <td>1395.88</td>\n",
       "    </tr>\n",
       "    <tr>\n",
       "      <th rowspan=\"2\" valign=\"top\">Stamford</th>\n",
       "      <th>Female</th>\n",
       "      <td>1459.91</td>\n",
       "    </tr>\n",
       "    <tr>\n",
       "      <th>Male</th>\n",
       "      <td>1267.82</td>\n",
       "    </tr>\n",
       "  </tbody>\n",
       "</table>\n",
       "</div>"
      ]
     },
     "execution_count": 132,
     "metadata": {},
     "output_type": "execute_result"
    }
   ],
   "execution_count": 132
  },
  {
   "metadata": {
    "ExecuteTime": {
     "end_time": "2025-01-02T13:04:20.747542Z",
     "start_time": "2025-01-02T13:04:20.729137Z"
    }
   },
   "cell_type": "code",
   "source": "foods.pivot_table(values='Spend', index='Item',columns=['Gender', 'City'] ,aggfunc='sum')",
   "outputs": [
    {
     "data": {
      "text/plain": [
       "Gender      Female                           Male                      \n",
       "City      New York Philadelphia Stamford New York Philadelphia Stamford\n",
       "Item                                                                   \n",
       "Burger     1239.04      1639.24  1216.02  1294.09       938.18  1439.16\n",
       "Burrito     978.95      1458.76  1820.11  1399.40      1312.93  1300.29\n",
       "Chalupa     876.58      1673.33  1602.35  1227.77      1114.23  1150.26\n",
       "Donut      1446.78      1639.26  1656.96  1345.27      1249.36  1421.13\n",
       "Ice Cream  1521.62      1479.22  1032.03  1603.63      2191.27  1059.22\n",
       "Sushi      1480.29      1742.88  1459.91  1396.15      1395.88  1267.82"
      ],
      "text/html": [
       "<div>\n",
       "<style scoped>\n",
       "    .dataframe tbody tr th:only-of-type {\n",
       "        vertical-align: middle;\n",
       "    }\n",
       "\n",
       "    .dataframe tbody tr th {\n",
       "        vertical-align: top;\n",
       "    }\n",
       "\n",
       "    .dataframe thead tr th {\n",
       "        text-align: left;\n",
       "    }\n",
       "\n",
       "    .dataframe thead tr:last-of-type th {\n",
       "        text-align: right;\n",
       "    }\n",
       "</style>\n",
       "<table border=\"1\" class=\"dataframe\">\n",
       "  <thead>\n",
       "    <tr>\n",
       "      <th>Gender</th>\n",
       "      <th colspan=\"3\" halign=\"left\">Female</th>\n",
       "      <th colspan=\"3\" halign=\"left\">Male</th>\n",
       "    </tr>\n",
       "    <tr>\n",
       "      <th>City</th>\n",
       "      <th>New York</th>\n",
       "      <th>Philadelphia</th>\n",
       "      <th>Stamford</th>\n",
       "      <th>New York</th>\n",
       "      <th>Philadelphia</th>\n",
       "      <th>Stamford</th>\n",
       "    </tr>\n",
       "    <tr>\n",
       "      <th>Item</th>\n",
       "      <th></th>\n",
       "      <th></th>\n",
       "      <th></th>\n",
       "      <th></th>\n",
       "      <th></th>\n",
       "      <th></th>\n",
       "    </tr>\n",
       "  </thead>\n",
       "  <tbody>\n",
       "    <tr>\n",
       "      <th>Burger</th>\n",
       "      <td>1239.04</td>\n",
       "      <td>1639.24</td>\n",
       "      <td>1216.02</td>\n",
       "      <td>1294.09</td>\n",
       "      <td>938.18</td>\n",
       "      <td>1439.16</td>\n",
       "    </tr>\n",
       "    <tr>\n",
       "      <th>Burrito</th>\n",
       "      <td>978.95</td>\n",
       "      <td>1458.76</td>\n",
       "      <td>1820.11</td>\n",
       "      <td>1399.40</td>\n",
       "      <td>1312.93</td>\n",
       "      <td>1300.29</td>\n",
       "    </tr>\n",
       "    <tr>\n",
       "      <th>Chalupa</th>\n",
       "      <td>876.58</td>\n",
       "      <td>1673.33</td>\n",
       "      <td>1602.35</td>\n",
       "      <td>1227.77</td>\n",
       "      <td>1114.23</td>\n",
       "      <td>1150.26</td>\n",
       "    </tr>\n",
       "    <tr>\n",
       "      <th>Donut</th>\n",
       "      <td>1446.78</td>\n",
       "      <td>1639.26</td>\n",
       "      <td>1656.96</td>\n",
       "      <td>1345.27</td>\n",
       "      <td>1249.36</td>\n",
       "      <td>1421.13</td>\n",
       "    </tr>\n",
       "    <tr>\n",
       "      <th>Ice Cream</th>\n",
       "      <td>1521.62</td>\n",
       "      <td>1479.22</td>\n",
       "      <td>1032.03</td>\n",
       "      <td>1603.63</td>\n",
       "      <td>2191.27</td>\n",
       "      <td>1059.22</td>\n",
       "    </tr>\n",
       "    <tr>\n",
       "      <th>Sushi</th>\n",
       "      <td>1480.29</td>\n",
       "      <td>1742.88</td>\n",
       "      <td>1459.91</td>\n",
       "      <td>1396.15</td>\n",
       "      <td>1395.88</td>\n",
       "      <td>1267.82</td>\n",
       "    </tr>\n",
       "  </tbody>\n",
       "</table>\n",
       "</div>"
      ]
     },
     "execution_count": 134,
     "metadata": {},
     "output_type": "execute_result"
    }
   ],
   "execution_count": 134
  }
 ],
 "metadata": {
  "anaconda-cloud": {},
  "kernelspec": {
   "display_name": "Python 3 (ipykernel)",
   "language": "python",
   "name": "python3"
  },
  "language_info": {
   "codemirror_mode": {
    "name": "ipython",
    "version": 3
   },
   "file_extension": ".py",
   "mimetype": "text/x-python",
   "name": "python",
   "nbconvert_exporter": "python",
   "pygments_lexer": "ipython3",
   "version": "3.11.5"
  }
 },
 "nbformat": 4,
 "nbformat_minor": 4
}
