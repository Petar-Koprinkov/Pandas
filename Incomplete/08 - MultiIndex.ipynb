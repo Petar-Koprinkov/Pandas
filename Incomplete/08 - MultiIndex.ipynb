{
 "cells": [
  {
   "cell_type": "markdown",
   "metadata": {},
   "source": [
    "# MultiIndex"
   ]
  },
  {
   "cell_type": "code",
   "metadata": {},
   "source": "import pandas as pd",
   "outputs": [],
   "execution_count": null
  },
  {
   "cell_type": "markdown",
   "metadata": {},
   "source": [
    "## This Module's Dataset"
   ]
  },
  {
   "cell_type": "code",
   "metadata": {},
   "source": [
    "bigmac = pd.read_csv('bigmac.csv', parse_dates=['Date'], date_format='%Y-%m-%d')\n",
    "bigmac"
   ],
   "outputs": [],
   "execution_count": null
  },
  {
   "cell_type": "code",
   "metadata": {},
   "source": "bigmac.info()",
   "outputs": [],
   "execution_count": null
  },
  {
   "metadata": {},
   "cell_type": "code",
   "source": "bigmac.dtypes",
   "outputs": [],
   "execution_count": null
  },
  {
   "metadata": {},
   "cell_type": "code",
   "source": "bigmac.nunique()",
   "outputs": [],
   "execution_count": null
  },
  {
   "cell_type": "markdown",
   "metadata": {},
   "source": [
    "## Create a MultiIndex\n",
    "- A **MultiIndex** is an index with multiple levels or layers.\n",
    "- Pass the `set_index` method a list of colum names to create a multi-index **DataFrame**.\n",
    "- The order of the list's values will determine the order of the levels.\n",
    "- Alternatively, we can pass the `read_csv` function's `index_col` parameter a list of columns."
   ]
  },
  {
   "cell_type": "code",
   "metadata": {},
   "source": "bigmac.set_index(keys=['Date', 'Country'])",
   "outputs": [],
   "execution_count": null
  },
  {
   "cell_type": "code",
   "metadata": {},
   "source": "bigmac.set_index(keys=['Country', 'Date']).sort_index()",
   "outputs": [],
   "execution_count": null
  },
  {
   "cell_type": "code",
   "metadata": {},
   "source": [
    "bigmac = pd.read_csv('bigmac.csv', parse_dates=['Date'], date_format='%Y-%m-%d', index_col=['Date', 'Country']).sort_index()\n",
    "bigmac"
   ],
   "outputs": [],
   "execution_count": null
  },
  {
   "cell_type": "markdown",
   "metadata": {},
   "source": [
    "## Extract Index Level Values\n",
    "- The `get_level_values` method extracts an **Index** with the values from one level in the **MultiIndex**.\n",
    "- Invoke the `get_level_values` on the **MultiIndex**, not the **DataFrame** itself.\n",
    "- The method expects either the level's index position or its name."
   ]
  },
  {
   "cell_type": "code",
   "metadata": {},
   "source": [
    "bigmac = pd.read_csv('bigmac.csv', parse_dates=['Date'], date_format='%Y-%m-%d', index_col=['Date', 'Country']).sort_index()\n",
    "bigmac"
   ],
   "outputs": [],
   "execution_count": null
  },
  {
   "cell_type": "code",
   "metadata": {},
   "source": "bigmac.index",
   "outputs": [],
   "execution_count": null
  },
  {
   "cell_type": "code",
   "metadata": {},
   "source": "bigmac.index.get_level_values('Date')",
   "outputs": [],
   "execution_count": null
  },
  {
   "cell_type": "code",
   "metadata": {},
   "source": "bigmac.index.get_level_values(0)",
   "outputs": [],
   "execution_count": null
  },
  {
   "metadata": {},
   "cell_type": "code",
   "source": "bigmac.index.get_level_values('Country')",
   "outputs": [],
   "execution_count": null
  },
  {
   "metadata": {},
   "cell_type": "code",
   "source": "bigmac.index.get_level_values(1)",
   "outputs": [],
   "execution_count": null
  },
  {
   "cell_type": "markdown",
   "metadata": {},
   "source": [
    "## Rename Index Levels\n",
    "- Invoke the `set_names` method on the **MultiIndex** to change one or more level names.\n",
    "- Use the `names` and `level` parameter to target a nested index at a given level.\n",
    "- Alternatively, pass `names` a list of strings to overwrite *all* level names.\n",
    "- The `set_names` method returns a copy, so replace the original index to alter the **DataFrame**."
   ]
  },
  {
   "cell_type": "code",
   "metadata": {},
   "source": [
    "bigmac = pd.read_csv('bigmac.csv', parse_dates=['Date'], date_format='%Y-%m-%d', index_col=['Date', 'Country']).sort_index()\n",
    "bigmac"
   ],
   "outputs": [],
   "execution_count": null
  },
  {
   "cell_type": "code",
   "metadata": {},
   "source": "bigmac.index.set_names(names='Time', level='Date')",
   "outputs": [],
   "execution_count": null
  },
  {
   "metadata": {},
   "cell_type": "code",
   "source": "bigmac",
   "outputs": [],
   "execution_count": null
  },
  {
   "metadata": {},
   "cell_type": "code",
   "source": "bigmac.index.set_names(names=['Time', 'Location'])",
   "outputs": [],
   "execution_count": null
  },
  {
   "cell_type": "code",
   "metadata": {},
   "source": "bigmac",
   "outputs": [],
   "execution_count": null
  },
  {
   "cell_type": "code",
   "metadata": {},
   "source": "bigmac.index = bigmac.index.set_names(names=['Time', 'Location'])",
   "outputs": [],
   "execution_count": null
  },
  {
   "metadata": {},
   "cell_type": "code",
   "source": "bigmac",
   "outputs": [],
   "execution_count": null
  },
  {
   "cell_type": "markdown",
   "metadata": {},
   "source": [
    "## The sort_index Method on a MultiIndex DataFrame\n",
    "- Using the `sort_index` method, we can target all levels or specific levels of the **MultiIndex**.\n",
    "- To apply a different sort order to different levels, pass a list of Booleans."
   ]
  },
  {
   "cell_type": "code",
   "metadata": {},
   "source": [
    "bigmac = pd.read_csv('bigmac.csv', parse_dates=['Date'], date_format='%Y-%m-%d' ,index_col=['Date', 'Country'])\n",
    "bigmac"
   ],
   "outputs": [],
   "execution_count": null
  },
  {
   "cell_type": "code",
   "metadata": {},
   "source": "bigmac.sort_index()",
   "outputs": [],
   "execution_count": null
  },
  {
   "cell_type": "code",
   "metadata": {},
   "source": "bigmac.sort_index(ascending=False)",
   "outputs": [],
   "execution_count": null
  },
  {
   "metadata": {},
   "cell_type": "code",
   "source": "bigmac.sort_index(ascending=[False, True])",
   "outputs": [],
   "execution_count": null
  },
  {
   "metadata": {},
   "cell_type": "code",
   "source": "bigmac.sort_index(ascending=[True, False])",
   "outputs": [],
   "execution_count": null
  },
  {
   "cell_type": "markdown",
   "metadata": {},
   "source": [
    "## Extract Rows from a MultiIndex DataFrame\n",
    "- A **tuple** is an immutable list. It cannot be modified after creation.\n",
    "- Create a tuple with a comma between elements. The community convention is to wrap the elements in parentheses.\n",
    "- The `iloc` and `loc` accessors are available to extract rows by index position or label.\n",
    "- For the `loc` accessor, pass a tuple to hold the labels from the index levels."
   ]
  },
  {
   "cell_type": "code",
   "metadata": {},
   "source": [
    "bigmac = pd.read_csv('bigmac.csv', parse_dates=['Date'], index_col=['Date', 'Country']).sort_index()\n",
    "bigmac"
   ],
   "outputs": [],
   "execution_count": null
  },
  {
   "cell_type": "code",
   "metadata": {},
   "source": "bigmac.iloc[0]",
   "outputs": [],
   "execution_count": null
  },
  {
   "cell_type": "code",
   "metadata": {},
   "source": "bigmac.iloc[1]",
   "outputs": [],
   "execution_count": null
  },
  {
   "cell_type": "code",
   "metadata": {},
   "source": "bigmac.iloc[69]",
   "outputs": [],
   "execution_count": null
  },
  {
   "metadata": {},
   "cell_type": "code",
   "source": "bigmac.loc['2000-04-01', 'Argentina']",
   "outputs": [],
   "execution_count": null
  },
  {
   "metadata": {},
   "cell_type": "code",
   "source": [
    "bigmac.loc[('2000-04-01', 'Brazil')]\n",
    "bigmac.loc['2000-04-01', 'Brazil']"
   ],
   "outputs": [],
   "execution_count": null
  },
  {
   "metadata": {},
   "cell_type": "code",
   "source": "bigmac.loc[('2000-04-01', 'Argentina'): ('2000-04-01', 'Brazil')]",
   "outputs": [],
   "execution_count": null
  },
  {
   "metadata": {},
   "cell_type": "code",
   "source": "bigmac.loc[('2000-04-01', 'Argentina'): ('2000-04-01', 'Brazil'), 'Price in US Dollars']",
   "outputs": [],
   "execution_count": null
  },
  {
   "metadata": {},
   "cell_type": "code",
   "source": "bigmac.loc[: ('2000-04-01', 'Brazil')]",
   "outputs": [],
   "execution_count": null
  },
  {
   "metadata": {},
   "cell_type": "code",
   "source": "bigmac.loc[('2020-04-01', 'Brazil'): ]",
   "outputs": [],
   "execution_count": null
  },
  {
   "metadata": {},
   "cell_type": "code",
   "source": [
    "start = ('2000-04-01', 'Argentina')\n",
    "end = ('2000-04-01', 'Brazil')\n",
    "bigmac.loc[start:end]"
   ],
   "outputs": [],
   "execution_count": null
  },
  {
   "cell_type": "markdown",
   "metadata": {},
   "source": [
    "## The transpose Method\n",
    "- The `transpose` method inverts/flips the horizontal and vertical axes of the **DataFrame**."
   ]
  },
  {
   "cell_type": "code",
   "metadata": {},
   "source": "bigmac",
   "outputs": [],
   "execution_count": null
  },
  {
   "cell_type": "code",
   "metadata": {},
   "source": [
    "start = ('2000-04-01', 'Argentina')\n",
    "end = ('2002-04-01', 'Brazil')\n",
    "bigmac.loc[start:end]"
   ],
   "outputs": [],
   "execution_count": null
  },
  {
   "cell_type": "code",
   "metadata": {},
   "source": "bigmac.loc[start:end].transpose()",
   "outputs": [],
   "execution_count": null
  },
  {
   "cell_type": "markdown",
   "metadata": {},
   "source": [
    "## The stack Method\n",
    "- The `stack` method moves the column index to the row index.\n",
    "- Pandas will return a **MultiIndex Series**.\n",
    "- Think of it like \"stacking\" index levels for a **MultiIndex**."
   ]
  },
  {
   "cell_type": "code",
   "metadata": {},
   "source": [
    "world = pd.read_csv('worldstats.csv', index_col=['year', 'country']).sort_index()\n",
    "world"
   ],
   "outputs": [],
   "execution_count": null
  },
  {
   "cell_type": "markdown",
   "metadata": {},
   "source": [
    "## The unstack Method\n",
    "- The `unstack` method moves a row index to the column index (the inverse of the `stack` method).\n",
    "- By default, the `unstack` method will move the innermost index.\n",
    "- We can customize the moved index with the `level` parameter.\n",
    "- The `level` parameter accepts the level's index position or its name. It can also accept a list of positions/names."
   ]
  },
  {
   "cell_type": "code",
   "metadata": {},
   "source": [
    "world = pd.read_csv('worldstats.csv', index_col=['year', 'country']).sort_index().stack()\n",
    "world.head(15)"
   ],
   "outputs": [],
   "execution_count": null
  },
  {
   "cell_type": "code",
   "metadata": {},
   "source": "world.unstack(level=0)",
   "outputs": [],
   "execution_count": null
  },
  {
   "cell_type": "code",
   "metadata": {},
   "source": "world.unstack(level='year')",
   "outputs": [],
   "execution_count": null
  },
  {
   "cell_type": "code",
   "metadata": {},
   "source": "world.unstack()",
   "outputs": [],
   "execution_count": null
  },
  {
   "cell_type": "markdown",
   "metadata": {},
   "source": [
    "## The pivot Method\n",
    "- The `pivot` method reshapes data from a tall format to a wide format.\n",
    "- Ask yourself which direction the data will expand in if you add more entries.\n",
    "- A tall/long format expands down. A wide format expands out.\n",
    "- The `index` parameter sets the horizontal index of the pivoted **DataFrame**.\n",
    "- The `columns` parameter sets the column whose values will be the columns in the pivoted **DataFrame**.\n",
    "- The `values` parameter set the values of the pivoted **DataFrame**. Pandas will populate the correct values based on the index and column intersections."
   ]
  },
  {
   "cell_type": "code",
   "metadata": {
    "ExecuteTime": {
     "end_time": "2025-01-02T11:56:16.406441Z",
     "start_time": "2025-01-02T11:56:16.394270Z"
    }
   },
   "source": [
    "salesmen = pd.read_csv('salesmen.csv')\n",
    "salesmen"
   ],
   "outputs": [
    {
     "data": {
      "text/plain": [
       "            Date Salesman  Revenue\n",
       "0       1/1/2025   Sharon     7172\n",
       "1       1/2/2025   Sharon     6362\n",
       "2       1/3/2025   Sharon     5982\n",
       "3       1/4/2025   Sharon     7917\n",
       "4       1/5/2025   Sharon     7837\n",
       "...          ...      ...      ...\n",
       "1820  12/27/2025    Oscar      835\n",
       "1821  12/28/2025    Oscar     3073\n",
       "1822  12/29/2025    Oscar     6424\n",
       "1823  12/30/2025    Oscar     7088\n",
       "1824  12/31/2025    Oscar     8408\n",
       "\n",
       "[1825 rows x 3 columns]"
      ],
      "text/html": [
       "<div>\n",
       "<style scoped>\n",
       "    .dataframe tbody tr th:only-of-type {\n",
       "        vertical-align: middle;\n",
       "    }\n",
       "\n",
       "    .dataframe tbody tr th {\n",
       "        vertical-align: top;\n",
       "    }\n",
       "\n",
       "    .dataframe thead th {\n",
       "        text-align: right;\n",
       "    }\n",
       "</style>\n",
       "<table border=\"1\" class=\"dataframe\">\n",
       "  <thead>\n",
       "    <tr style=\"text-align: right;\">\n",
       "      <th></th>\n",
       "      <th>Date</th>\n",
       "      <th>Salesman</th>\n",
       "      <th>Revenue</th>\n",
       "    </tr>\n",
       "  </thead>\n",
       "  <tbody>\n",
       "    <tr>\n",
       "      <th>0</th>\n",
       "      <td>1/1/2025</td>\n",
       "      <td>Sharon</td>\n",
       "      <td>7172</td>\n",
       "    </tr>\n",
       "    <tr>\n",
       "      <th>1</th>\n",
       "      <td>1/2/2025</td>\n",
       "      <td>Sharon</td>\n",
       "      <td>6362</td>\n",
       "    </tr>\n",
       "    <tr>\n",
       "      <th>2</th>\n",
       "      <td>1/3/2025</td>\n",
       "      <td>Sharon</td>\n",
       "      <td>5982</td>\n",
       "    </tr>\n",
       "    <tr>\n",
       "      <th>3</th>\n",
       "      <td>1/4/2025</td>\n",
       "      <td>Sharon</td>\n",
       "      <td>7917</td>\n",
       "    </tr>\n",
       "    <tr>\n",
       "      <th>4</th>\n",
       "      <td>1/5/2025</td>\n",
       "      <td>Sharon</td>\n",
       "      <td>7837</td>\n",
       "    </tr>\n",
       "    <tr>\n",
       "      <th>...</th>\n",
       "      <td>...</td>\n",
       "      <td>...</td>\n",
       "      <td>...</td>\n",
       "    </tr>\n",
       "    <tr>\n",
       "      <th>1820</th>\n",
       "      <td>12/27/2025</td>\n",
       "      <td>Oscar</td>\n",
       "      <td>835</td>\n",
       "    </tr>\n",
       "    <tr>\n",
       "      <th>1821</th>\n",
       "      <td>12/28/2025</td>\n",
       "      <td>Oscar</td>\n",
       "      <td>3073</td>\n",
       "    </tr>\n",
       "    <tr>\n",
       "      <th>1822</th>\n",
       "      <td>12/29/2025</td>\n",
       "      <td>Oscar</td>\n",
       "      <td>6424</td>\n",
       "    </tr>\n",
       "    <tr>\n",
       "      <th>1823</th>\n",
       "      <td>12/30/2025</td>\n",
       "      <td>Oscar</td>\n",
       "      <td>7088</td>\n",
       "    </tr>\n",
       "    <tr>\n",
       "      <th>1824</th>\n",
       "      <td>12/31/2025</td>\n",
       "      <td>Oscar</td>\n",
       "      <td>8408</td>\n",
       "    </tr>\n",
       "  </tbody>\n",
       "</table>\n",
       "<p>1825 rows × 3 columns</p>\n",
       "</div>"
      ]
     },
     "execution_count": 109,
     "metadata": {},
     "output_type": "execute_result"
    }
   ],
   "execution_count": 109
  },
  {
   "cell_type": "code",
   "metadata": {
    "ExecuteTime": {
     "end_time": "2025-01-02T11:57:19.758697Z",
     "start_time": "2025-01-02T11:57:19.735333Z"
    }
   },
   "source": "salesmen.pivot(index='Date', columns='Salesman', values='Revenue')",
   "outputs": [
    {
     "data": {
      "text/plain": [
       "Salesman   Alexander  Dave  Oscar  Ronald  Sharon\n",
       "Date                                             \n",
       "1/1/2025        4430  1864   5250    2639    7172\n",
       "1/10/2025        301  7105   7663    8267    7543\n",
       "1/11/2025       9489  6851   8888    1340    1053\n",
       "1/12/2025       8719  7147   3092     279    4362\n",
       "1/13/2025       2349  6160   6139    7540    6812\n",
       "...              ...   ...    ...     ...     ...\n",
       "9/5/2025        2439   211   7743    4252     992\n",
       "9/6/2025        7585  7293   5072    1112     556\n",
       "9/7/2025        6669  9774   5230    3608    6499\n",
       "9/8/2025        3058  8194   7755    5762    9621\n",
       "9/9/2025        6823  4733   5684    8922    1231\n",
       "\n",
       "[365 rows x 5 columns]"
      ],
      "text/html": [
       "<div>\n",
       "<style scoped>\n",
       "    .dataframe tbody tr th:only-of-type {\n",
       "        vertical-align: middle;\n",
       "    }\n",
       "\n",
       "    .dataframe tbody tr th {\n",
       "        vertical-align: top;\n",
       "    }\n",
       "\n",
       "    .dataframe thead th {\n",
       "        text-align: right;\n",
       "    }\n",
       "</style>\n",
       "<table border=\"1\" class=\"dataframe\">\n",
       "  <thead>\n",
       "    <tr style=\"text-align: right;\">\n",
       "      <th>Salesman</th>\n",
       "      <th>Alexander</th>\n",
       "      <th>Dave</th>\n",
       "      <th>Oscar</th>\n",
       "      <th>Ronald</th>\n",
       "      <th>Sharon</th>\n",
       "    </tr>\n",
       "    <tr>\n",
       "      <th>Date</th>\n",
       "      <th></th>\n",
       "      <th></th>\n",
       "      <th></th>\n",
       "      <th></th>\n",
       "      <th></th>\n",
       "    </tr>\n",
       "  </thead>\n",
       "  <tbody>\n",
       "    <tr>\n",
       "      <th>1/1/2025</th>\n",
       "      <td>4430</td>\n",
       "      <td>1864</td>\n",
       "      <td>5250</td>\n",
       "      <td>2639</td>\n",
       "      <td>7172</td>\n",
       "    </tr>\n",
       "    <tr>\n",
       "      <th>1/10/2025</th>\n",
       "      <td>301</td>\n",
       "      <td>7105</td>\n",
       "      <td>7663</td>\n",
       "      <td>8267</td>\n",
       "      <td>7543</td>\n",
       "    </tr>\n",
       "    <tr>\n",
       "      <th>1/11/2025</th>\n",
       "      <td>9489</td>\n",
       "      <td>6851</td>\n",
       "      <td>8888</td>\n",
       "      <td>1340</td>\n",
       "      <td>1053</td>\n",
       "    </tr>\n",
       "    <tr>\n",
       "      <th>1/12/2025</th>\n",
       "      <td>8719</td>\n",
       "      <td>7147</td>\n",
       "      <td>3092</td>\n",
       "      <td>279</td>\n",
       "      <td>4362</td>\n",
       "    </tr>\n",
       "    <tr>\n",
       "      <th>1/13/2025</th>\n",
       "      <td>2349</td>\n",
       "      <td>6160</td>\n",
       "      <td>6139</td>\n",
       "      <td>7540</td>\n",
       "      <td>6812</td>\n",
       "    </tr>\n",
       "    <tr>\n",
       "      <th>...</th>\n",
       "      <td>...</td>\n",
       "      <td>...</td>\n",
       "      <td>...</td>\n",
       "      <td>...</td>\n",
       "      <td>...</td>\n",
       "    </tr>\n",
       "    <tr>\n",
       "      <th>9/5/2025</th>\n",
       "      <td>2439</td>\n",
       "      <td>211</td>\n",
       "      <td>7743</td>\n",
       "      <td>4252</td>\n",
       "      <td>992</td>\n",
       "    </tr>\n",
       "    <tr>\n",
       "      <th>9/6/2025</th>\n",
       "      <td>7585</td>\n",
       "      <td>7293</td>\n",
       "      <td>5072</td>\n",
       "      <td>1112</td>\n",
       "      <td>556</td>\n",
       "    </tr>\n",
       "    <tr>\n",
       "      <th>9/7/2025</th>\n",
       "      <td>6669</td>\n",
       "      <td>9774</td>\n",
       "      <td>5230</td>\n",
       "      <td>3608</td>\n",
       "      <td>6499</td>\n",
       "    </tr>\n",
       "    <tr>\n",
       "      <th>9/8/2025</th>\n",
       "      <td>3058</td>\n",
       "      <td>8194</td>\n",
       "      <td>7755</td>\n",
       "      <td>5762</td>\n",
       "      <td>9621</td>\n",
       "    </tr>\n",
       "    <tr>\n",
       "      <th>9/9/2025</th>\n",
       "      <td>6823</td>\n",
       "      <td>4733</td>\n",
       "      <td>5684</td>\n",
       "      <td>8922</td>\n",
       "      <td>1231</td>\n",
       "    </tr>\n",
       "  </tbody>\n",
       "</table>\n",
       "<p>365 rows × 5 columns</p>\n",
       "</div>"
      ]
     },
     "execution_count": 110,
     "metadata": {},
     "output_type": "execute_result"
    }
   ],
   "execution_count": 110
  },
  {
   "cell_type": "markdown",
   "metadata": {},
   "source": [
    "## The melt Method\n",
    "- The `melt` method is the inverse of the `pivot` method.\n",
    "- It takes a 'wide' dataset and converts it to a 'tall' dataset.\n",
    "- The `melt` method is ideal when you have multiple columns storing the *same* data point.\n",
    "- Ask yourself whether the column's values are a *type* of the column header. If they're not, the data is likely stored in a wide format.\n",
    "- The `id_vars` parameters accepts the column whose values will be repeated for every column.\n",
    "- The `var_name` parameter sets the name of the new column for the varying values (the former column names).\n",
    "- The `value_name` parameter set the new name of the values column (holding the values from the original **DataFrame**)."
   ]
  },
  {
   "cell_type": "code",
   "metadata": {},
   "source": [],
   "outputs": [],
   "execution_count": null
  },
  {
   "cell_type": "code",
   "metadata": {},
   "source": [],
   "outputs": [],
   "execution_count": null
  },
  {
   "cell_type": "code",
   "metadata": {},
   "source": [],
   "outputs": [],
   "execution_count": null
  },
  {
   "cell_type": "code",
   "metadata": {},
   "source": [],
   "outputs": [],
   "execution_count": null
  },
  {
   "cell_type": "markdown",
   "metadata": {},
   "source": [
    "## The pivot_table Method\n",
    "- The `pivot_table` method operates similarly to the Pivot Table feature in Excel.\n",
    "- A pivot table is a table whose values are aggregations of groups of values from another table.\n",
    "- The `values` parameter accepts the numeric column whose values will be aggregated.\n",
    "- The `aggfunc` parameter declares the aggregation function (the default is mean/average).\n",
    "- The `index` parameter sets the index labels of the pivot table. MultiIndexes are permitted.\n",
    "- The `columns` parameter sets the column labels of the pivot table. MultiIndexes are permitted."
   ]
  },
  {
   "cell_type": "code",
   "metadata": {},
   "source": [],
   "outputs": [],
   "execution_count": null
  },
  {
   "cell_type": "code",
   "metadata": {},
   "source": [],
   "outputs": [],
   "execution_count": null
  },
  {
   "cell_type": "code",
   "metadata": {},
   "source": [],
   "outputs": [],
   "execution_count": null
  },
  {
   "cell_type": "code",
   "metadata": {},
   "source": [],
   "outputs": [],
   "execution_count": null
  },
  {
   "cell_type": "code",
   "metadata": {},
   "source": [],
   "outputs": [],
   "execution_count": null
  }
 ],
 "metadata": {
  "anaconda-cloud": {},
  "kernelspec": {
   "display_name": "Python 3 (ipykernel)",
   "language": "python",
   "name": "python3"
  },
  "language_info": {
   "codemirror_mode": {
    "name": "ipython",
    "version": 3
   },
   "file_extension": ".py",
   "mimetype": "text/x-python",
   "name": "python",
   "nbconvert_exporter": "python",
   "pygments_lexer": "ipython3",
   "version": "3.11.5"
  }
 },
 "nbformat": 4,
 "nbformat_minor": 4
}
