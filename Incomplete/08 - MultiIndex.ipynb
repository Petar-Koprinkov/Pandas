{
 "cells": [
  {
   "cell_type": "markdown",
   "metadata": {},
   "source": [
    "# MultiIndex"
   ]
  },
  {
   "cell_type": "code",
   "metadata": {},
   "source": "import pandas as pd",
   "outputs": [],
   "execution_count": null
  },
  {
   "cell_type": "markdown",
   "metadata": {},
   "source": [
    "## This Module's Dataset"
   ]
  },
  {
   "cell_type": "code",
   "metadata": {},
   "source": [
    "bigmac = pd.read_csv('bigmac.csv', parse_dates=['Date'], date_format='%Y-%m-%d')\n",
    "bigmac"
   ],
   "outputs": [],
   "execution_count": null
  },
  {
   "cell_type": "code",
   "metadata": {},
   "source": "bigmac.info()",
   "outputs": [],
   "execution_count": null
  },
  {
   "metadata": {},
   "cell_type": "code",
   "source": "bigmac.dtypes",
   "outputs": [],
   "execution_count": null
  },
  {
   "metadata": {},
   "cell_type": "code",
   "source": "bigmac.nunique()",
   "outputs": [],
   "execution_count": null
  },
  {
   "cell_type": "markdown",
   "metadata": {},
   "source": [
    "## Create a MultiIndex\n",
    "- A **MultiIndex** is an index with multiple levels or layers.\n",
    "- Pass the `set_index` method a list of colum names to create a multi-index **DataFrame**.\n",
    "- The order of the list's values will determine the order of the levels.\n",
    "- Alternatively, we can pass the `read_csv` function's `index_col` parameter a list of columns."
   ]
  },
  {
   "cell_type": "code",
   "metadata": {},
   "source": "bigmac.set_index(keys=['Date', 'Country'])",
   "outputs": [],
   "execution_count": null
  },
  {
   "cell_type": "code",
   "metadata": {},
   "source": "bigmac.set_index(keys=['Country', 'Date']).sort_index()",
   "outputs": [],
   "execution_count": null
  },
  {
   "cell_type": "code",
   "metadata": {},
   "source": [
    "bigmac = pd.read_csv('bigmac.csv', parse_dates=['Date'], date_format='%Y-%m-%d', index_col=['Date', 'Country']).sort_index()\n",
    "bigmac"
   ],
   "outputs": [],
   "execution_count": null
  },
  {
   "cell_type": "markdown",
   "metadata": {},
   "source": [
    "## Extract Index Level Values\n",
    "- The `get_level_values` method extracts an **Index** with the values from one level in the **MultiIndex**.\n",
    "- Invoke the `get_level_values` on the **MultiIndex**, not the **DataFrame** itself.\n",
    "- The method expects either the level's index position or its name."
   ]
  },
  {
   "cell_type": "code",
   "metadata": {},
   "source": [
    "bigmac = pd.read_csv('bigmac.csv', parse_dates=['Date'], date_format='%Y-%m-%d', index_col=['Date', 'Country']).sort_index()\n",
    "bigmac"
   ],
   "outputs": [],
   "execution_count": null
  },
  {
   "cell_type": "code",
   "metadata": {},
   "source": "bigmac.index",
   "outputs": [],
   "execution_count": null
  },
  {
   "cell_type": "code",
   "metadata": {},
   "source": "bigmac.index.get_level_values('Date')",
   "outputs": [],
   "execution_count": null
  },
  {
   "cell_type": "code",
   "metadata": {},
   "source": "bigmac.index.get_level_values(0)",
   "outputs": [],
   "execution_count": null
  },
  {
   "metadata": {},
   "cell_type": "code",
   "source": "bigmac.index.get_level_values('Country')",
   "outputs": [],
   "execution_count": null
  },
  {
   "metadata": {},
   "cell_type": "code",
   "source": "bigmac.index.get_level_values(1)",
   "outputs": [],
   "execution_count": null
  },
  {
   "cell_type": "markdown",
   "metadata": {},
   "source": [
    "## Rename Index Levels\n",
    "- Invoke the `set_names` method on the **MultiIndex** to change one or more level names.\n",
    "- Use the `names` and `level` parameter to target a nested index at a given level.\n",
    "- Alternatively, pass `names` a list of strings to overwrite *all* level names.\n",
    "- The `set_names` method returns a copy, so replace the original index to alter the **DataFrame**."
   ]
  },
  {
   "cell_type": "code",
   "metadata": {},
   "source": [
    "bigmac = pd.read_csv('bigmac.csv', parse_dates=['Date'], date_format='%Y-%m-%d', index_col=['Date', 'Country']).sort_index()\n",
    "bigmac"
   ],
   "outputs": [],
   "execution_count": null
  },
  {
   "cell_type": "code",
   "metadata": {},
   "source": "bigmac.index.set_names(names='Time', level='Date')",
   "outputs": [],
   "execution_count": null
  },
  {
   "metadata": {},
   "cell_type": "code",
   "source": "bigmac",
   "outputs": [],
   "execution_count": null
  },
  {
   "metadata": {},
   "cell_type": "code",
   "source": "bigmac.index.set_names(names=['Time', 'Location'])",
   "outputs": [],
   "execution_count": null
  },
  {
   "cell_type": "code",
   "metadata": {},
   "source": "bigmac",
   "outputs": [],
   "execution_count": null
  },
  {
   "cell_type": "code",
   "metadata": {},
   "source": "bigmac.index = bigmac.index.set_names(names=['Time', 'Location'])",
   "outputs": [],
   "execution_count": null
  },
  {
   "metadata": {},
   "cell_type": "code",
   "source": "bigmac",
   "outputs": [],
   "execution_count": null
  },
  {
   "cell_type": "markdown",
   "metadata": {},
   "source": [
    "## The sort_index Method on a MultiIndex DataFrame\n",
    "- Using the `sort_index` method, we can target all levels or specific levels of the **MultiIndex**.\n",
    "- To apply a different sort order to different levels, pass a list of Booleans."
   ]
  },
  {
   "cell_type": "code",
   "metadata": {},
   "source": [
    "bigmac = pd.read_csv('bigmac.csv', parse_dates=['Date'], date_format='%Y-%m-%d' ,index_col=['Date', 'Country'])\n",
    "bigmac"
   ],
   "outputs": [],
   "execution_count": null
  },
  {
   "cell_type": "code",
   "metadata": {},
   "source": "bigmac.sort_index()",
   "outputs": [],
   "execution_count": null
  },
  {
   "cell_type": "code",
   "metadata": {},
   "source": "bigmac.sort_index(ascending=False)",
   "outputs": [],
   "execution_count": null
  },
  {
   "metadata": {},
   "cell_type": "code",
   "source": "bigmac.sort_index(ascending=[False, True])",
   "outputs": [],
   "execution_count": null
  },
  {
   "metadata": {},
   "cell_type": "code",
   "source": "bigmac.sort_index(ascending=[True, False])",
   "outputs": [],
   "execution_count": null
  },
  {
   "cell_type": "markdown",
   "metadata": {},
   "source": [
    "## Extract Rows from a MultiIndex DataFrame\n",
    "- A **tuple** is an immutable list. It cannot be modified after creation.\n",
    "- Create a tuple with a comma between elements. The community convention is to wrap the elements in parentheses.\n",
    "- The `iloc` and `loc` accessors are available to extract rows by index position or label.\n",
    "- For the `loc` accessor, pass a tuple to hold the labels from the index levels."
   ]
  },
  {
   "cell_type": "code",
   "metadata": {},
   "source": [
    "bigmac = pd.read_csv('bigmac.csv', parse_dates=['Date'], index_col=['Date', 'Country']).sort_index()\n",
    "bigmac"
   ],
   "outputs": [],
   "execution_count": null
  },
  {
   "cell_type": "code",
   "metadata": {},
   "source": "bigmac.iloc[0]",
   "outputs": [],
   "execution_count": null
  },
  {
   "cell_type": "code",
   "metadata": {},
   "source": "bigmac.iloc[1]",
   "outputs": [],
   "execution_count": null
  },
  {
   "cell_type": "code",
   "metadata": {},
   "source": "bigmac.iloc[69]",
   "outputs": [],
   "execution_count": null
  },
  {
   "metadata": {},
   "cell_type": "code",
   "source": "bigmac.loc['2000-04-01', 'Argentina']",
   "outputs": [],
   "execution_count": null
  },
  {
   "metadata": {},
   "cell_type": "code",
   "source": [
    "bigmac.loc[('2000-04-01', 'Brazil')]\n",
    "bigmac.loc['2000-04-01', 'Brazil']"
   ],
   "outputs": [],
   "execution_count": null
  },
  {
   "metadata": {},
   "cell_type": "code",
   "source": "bigmac.loc[('2000-04-01', 'Argentina'): ('2000-04-01', 'Brazil')]",
   "outputs": [],
   "execution_count": null
  },
  {
   "metadata": {},
   "cell_type": "code",
   "source": "bigmac.loc[('2000-04-01', 'Argentina'): ('2000-04-01', 'Brazil'), 'Price in US Dollars']",
   "outputs": [],
   "execution_count": null
  },
  {
   "metadata": {},
   "cell_type": "code",
   "source": "bigmac.loc[: ('2000-04-01', 'Brazil')]",
   "outputs": [],
   "execution_count": null
  },
  {
   "metadata": {},
   "cell_type": "code",
   "source": "bigmac.loc[('2020-04-01', 'Brazil'): ]",
   "outputs": [],
   "execution_count": null
  },
  {
   "metadata": {},
   "cell_type": "code",
   "source": [
    "start = ('2000-04-01', 'Argentina')\n",
    "end = ('2000-04-01', 'Brazil')\n",
    "bigmac.loc[start:end]"
   ],
   "outputs": [],
   "execution_count": null
  },
  {
   "cell_type": "markdown",
   "metadata": {},
   "source": [
    "## The transpose Method\n",
    "- The `transpose` method inverts/flips the horizontal and vertical axes of the **DataFrame**."
   ]
  },
  {
   "cell_type": "code",
   "metadata": {},
   "source": "bigmac",
   "outputs": [],
   "execution_count": null
  },
  {
   "cell_type": "code",
   "metadata": {},
   "source": [
    "start = ('2000-04-01', 'Argentina')\n",
    "end = ('2002-04-01', 'Brazil')\n",
    "bigmac.loc[start:end]"
   ],
   "outputs": [],
   "execution_count": null
  },
  {
   "cell_type": "code",
   "metadata": {},
   "source": "bigmac.loc[start:end].transpose()",
   "outputs": [],
   "execution_count": null
  },
  {
   "cell_type": "markdown",
   "metadata": {},
   "source": [
    "## The stack Method\n",
    "- The `stack` method moves the column index to the row index.\n",
    "- Pandas will return a **MultiIndex Series**.\n",
    "- Think of it like \"stacking\" index levels for a **MultiIndex**."
   ]
  },
  {
   "cell_type": "code",
   "metadata": {},
   "source": [
    "world = pd.read_csv('worldstats.csv', index_col=['year', 'country']).sort_index()\n",
    "world"
   ],
   "outputs": [],
   "execution_count": null
  },
  {
   "cell_type": "markdown",
   "metadata": {},
   "source": [
    "## The unstack Method\n",
    "- The `unstack` method moves a row index to the column index (the inverse of the `stack` method).\n",
    "- By default, the `unstack` method will move the innermost index.\n",
    "- We can customize the moved index with the `level` parameter.\n",
    "- The `level` parameter accepts the level's index position or its name. It can also accept a list of positions/names."
   ]
  },
  {
   "cell_type": "code",
   "metadata": {},
   "source": [
    "world = pd.read_csv('worldstats.csv', index_col=['year', 'country']).sort_index().stack()\n",
    "world.head(15)"
   ],
   "outputs": [],
   "execution_count": null
  },
  {
   "cell_type": "code",
   "metadata": {},
   "source": "world.unstack(level=0)",
   "outputs": [],
   "execution_count": null
  },
  {
   "cell_type": "code",
   "metadata": {},
   "source": "world.unstack(level='year')",
   "outputs": [],
   "execution_count": null
  },
  {
   "cell_type": "code",
   "metadata": {},
   "source": "world.unstack()",
   "outputs": [],
   "execution_count": null
  },
  {
   "cell_type": "markdown",
   "metadata": {},
   "source": [
    "## The pivot Method\n",
    "- The `pivot` method reshapes data from a tall format to a wide format.\n",
    "- Ask yourself which direction the data will expand in if you add more entries.\n",
    "- A tall/long format expands down. A wide format expands out.\n",
    "- The `index` parameter sets the horizontal index of the pivoted **DataFrame**.\n",
    "- The `columns` parameter sets the column whose values will be the columns in the pivoted **DataFrame**.\n",
    "- The `values` parameter set the values of the pivoted **DataFrame**. Pandas will populate the correct values based on the index and column intersections."
   ]
  },
  {
   "cell_type": "code",
   "metadata": {},
   "source": [
    "salesmen = pd.read_csv('salesmen.csv')\n",
    "salesmen"
   ],
   "outputs": [],
   "execution_count": null
  },
  {
   "cell_type": "code",
   "metadata": {},
   "source": "salesmen.pivot(index='Date', columns='Salesman', values='Revenue')",
   "outputs": [],
   "execution_count": null
  },
  {
   "cell_type": "markdown",
   "metadata": {},
   "source": [
    "## The melt Method\n",
    "- The `melt` method is the inverse of the `pivot` method.\n",
    "- It takes a 'wide' dataset and converts it to a 'tall' dataset.\n",
    "- The `melt` method is ideal when you have multiple columns storing the *same* data point.\n",
    "- Ask yourself whether the column's values are a *type* of the column header. If they're not, the data is likely stored in a wide format.\n",
    "- The `id_vars` parameters accepts the column whose values will be repeated for every column.\n",
    "- The `var_name` parameter sets the name of the new column for the varying values (the former column names).\n",
    "- The `value_name` parameter set the new name of the values column (holding the values from the original **DataFrame**)."
   ]
  },
  {
   "cell_type": "code",
   "metadata": {},
   "source": [
    "quarters = pd.read_csv('quarters.csv')\n",
    "quarters"
   ],
   "outputs": [],
   "execution_count": null
  },
  {
   "cell_type": "code",
   "metadata": {},
   "source": "quarters.melt(id_vars='Salesman', var_name='Quarter', value_name='Revenue')",
   "outputs": [],
   "execution_count": null
  },
  {
   "cell_type": "markdown",
   "metadata": {},
   "source": [
    "## The pivot_table Method\n",
    "- The `pivot_table` method operates similarly to the Pivot Table feature in Excel.\n",
    "- A pivot table is a table whose values are aggregations of groups of values from another table.\n",
    "- The `values` parameter accepts the numeric column whose values will be aggregated.\n",
    "- The `aggfunc` parameter declares the aggregation function (the default is mean/average).\n",
    "- The `index` parameter sets the index labels of the pivot table. MultiIndexes are permitted.\n",
    "- The `columns` parameter sets the column labels of the pivot table. MultiIndexes are permitted."
   ]
  },
  {
   "cell_type": "code",
   "metadata": {},
   "source": [
    "foods = pd.read_csv('foods.csv')\n",
    "foods"
   ],
   "outputs": [],
   "execution_count": null
  },
  {
   "cell_type": "code",
   "metadata": {},
   "source": "foods.pivot_table(values='Spend', index='Item', aggfunc='sum')",
   "outputs": [],
   "execution_count": null
  },
  {
   "cell_type": "code",
   "metadata": {},
   "source": "foods.pivot_table(values='Spend', index='Item', aggfunc='mean')",
   "outputs": [],
   "execution_count": null
  },
  {
   "cell_type": "code",
   "metadata": {},
   "source": "foods.pivot_table(values='Spend', index='Gender', aggfunc='mean')",
   "outputs": [],
   "execution_count": null
  },
  {
   "metadata": {},
   "cell_type": "code",
   "source": "foods.pivot_table(values='Spend', index='Gender', aggfunc='max')",
   "outputs": [],
   "execution_count": null
  },
  {
   "metadata": {},
   "cell_type": "code",
   "source": "foods.pivot_table(values='Spend', index='Gender', aggfunc='min')",
   "outputs": [],
   "execution_count": null
  },
  {
   "metadata": {},
   "cell_type": "code",
   "source": "foods.pivot_table(values='Spend', index=['Item','City', 'Gender'], aggfunc='sum')",
   "outputs": [],
   "execution_count": null
  },
  {
   "metadata": {},
   "cell_type": "code",
   "source": "foods.pivot_table(values='Spend', index='Item',columns=['Gender', 'City'] ,aggfunc='sum')",
   "outputs": [],
   "execution_count": null
  }
 ],
 "metadata": {
  "anaconda-cloud": {},
  "kernelspec": {
   "display_name": "Python 3 (ipykernel)",
   "language": "python",
   "name": "python3"
  },
  "language_info": {
   "codemirror_mode": {
    "name": "ipython",
    "version": 3
   },
   "file_extension": ".py",
   "mimetype": "text/x-python",
   "name": "python",
   "nbconvert_exporter": "python",
   "pygments_lexer": "ipython3",
   "version": "3.11.5"
  }
 },
 "nbformat": 4,
 "nbformat_minor": 4
}
