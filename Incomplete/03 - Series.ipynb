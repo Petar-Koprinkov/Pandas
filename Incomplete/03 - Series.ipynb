{
 "cells": [
  {
   "cell_type": "markdown",
   "metadata": {},
   "source": [
    "# Series"
   ]
  },
  {
   "cell_type": "code",
   "metadata": {
    "ExecuteTime": {
     "end_time": "2024-12-18T10:44:48.995869Z",
     "start_time": "2024-12-18T10:44:48.991461Z"
    }
   },
   "source": "import pandas as pd",
   "outputs": [],
   "execution_count": 34
  },
  {
   "cell_type": "markdown",
   "metadata": {
    "slideshow": {
     "slide_type": "-"
    }
   },
   "source": [
    "## Create a Series Object from a List\n",
    "- A pandas **Series** is a one-dimensional labelled array.\n",
    "- A Series combines the best features of a list and a dictionary.\n",
    "- A Series maintains a single collection of ordered values (i.e. a single column of data).\n",
    "- We can assign each value an identifier, which does not have to *be* unique."
   ]
  },
  {
   "cell_type": "code",
   "metadata": {
    "ExecuteTime": {
     "end_time": "2024-12-18T10:44:50.475846Z",
     "start_time": "2024-12-18T10:44:50.469901Z"
    }
   },
   "source": "cars = ['BMW', 'Audi', 'Opel', 'VW', 'Mercedes-Benz']",
   "outputs": [],
   "execution_count": 35
  },
  {
   "cell_type": "code",
   "metadata": {
    "ExecuteTime": {
     "end_time": "2024-12-18T10:44:50.547253Z",
     "start_time": "2024-12-18T10:44:50.540871Z"
    }
   },
   "source": "pd.Series(cars)",
   "outputs": [
    {
     "data": {
      "text/plain": [
       "0              BMW\n",
       "1             Audi\n",
       "2             Opel\n",
       "3               VW\n",
       "4    Mercedes-Benz\n",
       "dtype: object"
      ]
     },
     "execution_count": 36,
     "metadata": {},
     "output_type": "execute_result"
    }
   ],
   "execution_count": 36
  },
  {
   "cell_type": "code",
   "metadata": {
    "ExecuteTime": {
     "end_time": "2024-12-18T10:44:50.659285Z",
     "start_time": "2024-12-18T10:44:50.655267Z"
    }
   },
   "source": "my_favourite_numbers = [1, 2, 3, 4, 5, 6]",
   "outputs": [],
   "execution_count": 37
  },
  {
   "metadata": {
    "ExecuteTime": {
     "end_time": "2024-12-18T10:44:50.713343Z",
     "start_time": "2024-12-18T10:44:50.706328Z"
    }
   },
   "cell_type": "code",
   "source": "pd.Series(my_favourite_numbers)",
   "outputs": [
    {
     "data": {
      "text/plain": [
       "0    1\n",
       "1    2\n",
       "2    3\n",
       "3    4\n",
       "4    5\n",
       "5    6\n",
       "dtype: int64"
      ]
     },
     "execution_count": 38,
     "metadata": {},
     "output_type": "execute_result"
    }
   ],
   "execution_count": 38
  },
  {
   "metadata": {
    "ExecuteTime": {
     "end_time": "2024-12-18T10:44:50.844447Z",
     "start_time": "2024-12-18T10:44:50.840296Z"
    }
   },
   "cell_type": "code",
   "source": "random = [True, False, True]",
   "outputs": [],
   "execution_count": 39
  },
  {
   "metadata": {
    "ExecuteTime": {
     "end_time": "2024-12-18T10:44:50.929313Z",
     "start_time": "2024-12-18T10:44:50.921468Z"
    }
   },
   "cell_type": "code",
   "source": "pd.Series(random)",
   "outputs": [
    {
     "data": {
      "text/plain": [
       "0     True\n",
       "1    False\n",
       "2     True\n",
       "dtype: bool"
      ]
     },
     "execution_count": 40,
     "metadata": {},
     "output_type": "execute_result"
    }
   ],
   "execution_count": 40
  },
  {
   "metadata": {},
   "cell_type": "code",
   "outputs": [],
   "execution_count": null,
   "source": ""
  },
  {
   "metadata": {
    "ExecuteTime": {
     "end_time": "2024-12-18T10:46:23.883419Z",
     "start_time": "2024-12-18T10:46:23.879539Z"
    }
   },
   "cell_type": "code",
   "source": "different_types = [1, 2, 3, 'BMW', 'Opel', True, False]",
   "outputs": [],
   "execution_count": 41
  },
  {
   "metadata": {
    "ExecuteTime": {
     "end_time": "2024-12-18T10:46:24.733428Z",
     "start_time": "2024-12-18T10:46:24.726224Z"
    }
   },
   "cell_type": "code",
   "source": "pd.Series(different_types)",
   "outputs": [
    {
     "data": {
      "text/plain": [
       "0        1\n",
       "1        2\n",
       "2        3\n",
       "3      BMW\n",
       "4     Opel\n",
       "5     True\n",
       "6    False\n",
       "dtype: object"
      ]
     },
     "execution_count": 42,
     "metadata": {},
     "output_type": "execute_result"
    }
   ],
   "execution_count": 42
  },
  {
   "cell_type": "markdown",
   "metadata": {},
   "source": [
    "## Create a Series Object from a Dictionary"
   ]
  },
  {
   "cell_type": "code",
   "metadata": {
    "ExecuteTime": {
     "end_time": "2024-12-18T10:44:51.078861Z",
     "start_time": "2024-12-18T10:44:51.075010Z"
    }
   },
   "source": [],
   "outputs": [],
   "execution_count": 40
  },
  {
   "cell_type": "markdown",
   "metadata": {},
   "source": [
    "## Intro to Series Methods\n",
    "- The syntax to invoke a method on any object is `object.method()`.\n",
    "- The `sum` method adds together the **Series'** values.\n",
    "- The `product` method multiplies the **Series'** values.\n",
    "- The `mean` method finds the average of the **Series'** values.\n",
    "- The `std` method finds the standard deviation of the **Series'** values."
   ]
  },
  {
   "cell_type": "code",
   "metadata": {
    "tags": [],
    "ExecuteTime": {
     "end_time": "2024-12-18T10:44:51.160917Z",
     "start_time": "2024-12-18T10:44:51.158884Z"
    }
   },
   "source": [],
   "outputs": [],
   "execution_count": 40
  },
  {
   "cell_type": "code",
   "metadata": {
    "tags": [],
    "ExecuteTime": {
     "end_time": "2024-12-18T10:44:51.279504Z",
     "start_time": "2024-12-18T10:44:51.275937Z"
    }
   },
   "source": [],
   "outputs": [],
   "execution_count": 40
  },
  {
   "cell_type": "code",
   "metadata": {
    "tags": [],
    "ExecuteTime": {
     "end_time": "2024-12-18T10:44:51.328078Z",
     "start_time": "2024-12-18T10:44:51.325514Z"
    }
   },
   "source": [],
   "outputs": [],
   "execution_count": 40
  },
  {
   "cell_type": "code",
   "metadata": {
    "tags": [],
    "ExecuteTime": {
     "end_time": "2024-12-18T10:44:51.419274Z",
     "start_time": "2024-12-18T10:44:51.416603Z"
    }
   },
   "source": [],
   "outputs": [],
   "execution_count": 40
  },
  {
   "cell_type": "code",
   "metadata": {
    "tags": [],
    "ExecuteTime": {
     "end_time": "2024-12-18T10:44:51.488369Z",
     "start_time": "2024-12-18T10:44:51.485336Z"
    }
   },
   "source": [],
   "outputs": [],
   "execution_count": 40
  },
  {
   "cell_type": "markdown",
   "metadata": {},
   "source": [
    "## Intro to Attributes\n",
    "- An **attribute** is a piece of data that lives on an object.\n",
    "- An **attribute** is a fact, a detail, a characteristic of the object.\n",
    "- Access an attribute with `object.attribute` syntax.\n",
    "- The `size` attribute returns a count of the number of values in the **Series**.\n",
    "- The `is_unique` attribute returns True if the **Series** has no duplicate values.\n",
    "- The `values` and `index` attributes return the underlying objects that holds the **Series'** values and index labels."
   ]
  },
  {
   "cell_type": "code",
   "metadata": {
    "tags": [],
    "ExecuteTime": {
     "end_time": "2024-12-18T10:44:51.574491Z",
     "start_time": "2024-12-18T10:44:51.571390Z"
    }
   },
   "source": [],
   "outputs": [],
   "execution_count": 40
  },
  {
   "cell_type": "code",
   "metadata": {
    "tags": [],
    "ExecuteTime": {
     "end_time": "2024-12-18T10:44:51.688286Z",
     "start_time": "2024-12-18T10:44:51.685545Z"
    }
   },
   "source": [],
   "outputs": [],
   "execution_count": 40
  },
  {
   "cell_type": "code",
   "metadata": {
    "tags": [],
    "ExecuteTime": {
     "end_time": "2024-12-18T10:44:51.782494Z",
     "start_time": "2024-12-18T10:44:51.780307Z"
    }
   },
   "source": [],
   "outputs": [],
   "execution_count": 40
  },
  {
   "cell_type": "code",
   "metadata": {
    "tags": [],
    "ExecuteTime": {
     "end_time": "2024-12-18T10:44:51.864524Z",
     "start_time": "2024-12-18T10:44:51.861519Z"
    }
   },
   "source": [],
   "outputs": [],
   "execution_count": 40
  },
  {
   "cell_type": "code",
   "metadata": {
    "tags": [],
    "ExecuteTime": {
     "end_time": "2024-12-18T10:44:51.941934Z",
     "start_time": "2024-12-18T10:44:51.938577Z"
    }
   },
   "source": [],
   "outputs": [],
   "execution_count": 40
  },
  {
   "cell_type": "code",
   "metadata": {
    "tags": [],
    "ExecuteTime": {
     "end_time": "2024-12-18T10:44:52.013331Z",
     "start_time": "2024-12-18T10:44:52.009991Z"
    }
   },
   "source": [],
   "outputs": [],
   "execution_count": 40
  },
  {
   "cell_type": "code",
   "metadata": {
    "tags": [],
    "ExecuteTime": {
     "end_time": "2024-12-18T10:44:52.105896Z",
     "start_time": "2024-12-18T10:44:52.103351Z"
    }
   },
   "source": [],
   "outputs": [],
   "execution_count": 40
  },
  {
   "cell_type": "markdown",
   "metadata": {},
   "source": [
    "## Parameters and Arguments\n",
    "- A **parameter** is the name for an expected input to a function/method/class instantiation.\n",
    "- An **argument** is the concrete value we provide for a parameter during invocation.\n",
    "- We can pass arguments either sequentially (based on parameter order) or with explicit parameter names written out.\n",
    "- The first two parameters for the **Series** constructor are `data` and `index`, which represent the values and the index labels."
   ]
  },
  {
   "cell_type": "code",
   "metadata": {
    "tags": [],
    "ExecuteTime": {
     "end_time": "2024-12-18T10:44:52.174158Z",
     "start_time": "2024-12-18T10:44:52.170964Z"
    }
   },
   "source": [],
   "outputs": [],
   "execution_count": 40
  },
  {
   "cell_type": "code",
   "metadata": {
    "tags": [],
    "ExecuteTime": {
     "end_time": "2024-12-18T10:44:52.255381Z",
     "start_time": "2024-12-18T10:44:52.253213Z"
    }
   },
   "source": [],
   "outputs": [],
   "execution_count": 40
  },
  {
   "cell_type": "code",
   "metadata": {
    "tags": [],
    "ExecuteTime": {
     "end_time": "2024-12-18T10:44:52.326976Z",
     "start_time": "2024-12-18T10:44:52.323434Z"
    }
   },
   "source": [],
   "outputs": [],
   "execution_count": 40
  },
  {
   "cell_type": "code",
   "metadata": {
    "tags": [],
    "ExecuteTime": {
     "end_time": "2024-12-18T10:44:52.415343Z",
     "start_time": "2024-12-18T10:44:52.412Z"
    }
   },
   "source": [],
   "outputs": [],
   "execution_count": 40
  },
  {
   "cell_type": "code",
   "metadata": {
    "ExecuteTime": {
     "end_time": "2024-12-18T10:44:52.481529Z",
     "start_time": "2024-12-18T10:44:52.478360Z"
    }
   },
   "source": [],
   "outputs": [],
   "execution_count": 40
  },
  {
   "cell_type": "code",
   "metadata": {
    "tags": [],
    "ExecuteTime": {
     "end_time": "2024-12-18T10:44:52.583838Z",
     "start_time": "2024-12-18T10:44:52.580593Z"
    }
   },
   "source": [],
   "outputs": [],
   "execution_count": 40
  },
  {
   "cell_type": "markdown",
   "metadata": {},
   "source": [
    "## Import Series with the pd.read_csv Function\n",
    "- A **CSV** is a plain text file that uses line breaks to separate rows and commas to separate row values.\n",
    "- Pandas ships with many different `read_` functions for different types of files.\n",
    "- The `read_csv` function accepts many different parameters. The first one specifies the file name/path.\n",
    "- The `read_csv` function will import the dataset as a **DataFrame**, a 2-dimensional table.\n",
    "- The `usecols` parameter accepts a list of the column(s) to import.\n",
    "- The `squeeze` method converts a **DataFrame** to a **Series**."
   ]
  },
  {
   "cell_type": "code",
   "metadata": {
    "ExecuteTime": {
     "end_time": "2024-12-18T10:44:52.616754Z",
     "start_time": "2024-12-18T10:44:52.613861Z"
    }
   },
   "source": [],
   "outputs": [],
   "execution_count": 40
  },
  {
   "cell_type": "code",
   "metadata": {
    "tags": [],
    "ExecuteTime": {
     "end_time": "2024-12-18T10:44:52.736457Z",
     "start_time": "2024-12-18T10:44:52.732811Z"
    }
   },
   "source": [],
   "outputs": [],
   "execution_count": 40
  },
  {
   "cell_type": "markdown",
   "metadata": {},
   "source": [
    "## The head and tail Methods\n",
    "- The `head` method returns a number of rows from the top/beginning of the `Series`.\n",
    "- The `tail` method returns a number of rows from the bottom/end of the `Series`."
   ]
  },
  {
   "cell_type": "code",
   "metadata": {
    "tags": [],
    "ExecuteTime": {
     "end_time": "2024-12-18T10:44:52.802656Z",
     "start_time": "2024-12-18T10:44:52.799482Z"
    }
   },
   "source": [],
   "outputs": [],
   "execution_count": 40
  },
  {
   "cell_type": "code",
   "metadata": {
    "tags": [],
    "ExecuteTime": {
     "end_time": "2024-12-18T10:44:52.933237Z",
     "start_time": "2024-12-18T10:44:52.929678Z"
    }
   },
   "source": [],
   "outputs": [],
   "execution_count": 40
  },
  {
   "cell_type": "code",
   "metadata": {
    "tags": [],
    "ExecuteTime": {
     "end_time": "2024-12-18T10:44:52.979296Z",
     "start_time": "2024-12-18T10:44:52.975358Z"
    }
   },
   "source": [],
   "outputs": [],
   "execution_count": 40
  },
  {
   "cell_type": "markdown",
   "metadata": {},
   "source": [
    "## Passing Series to Python's Built-In Functions\n",
    "- The `len` function returns the length of the **Series**.\n",
    "- The `type` function returns the type of an object.\n",
    "- The `list` function converts the **Series** to a list.\n",
    "- The `dict` function converts the **Series** to a dictionary.\n",
    "- The `sorted` function converts the **Series** to a sorted list.\n",
    "- The `max` function returns the largest value in the **Series**.\n",
    "- The `min` function returns the smalllest value in the **Series**."
   ]
  },
  {
   "cell_type": "code",
   "metadata": {
    "tags": [],
    "ExecuteTime": {
     "end_time": "2024-12-18T10:44:53.096699Z",
     "start_time": "2024-12-18T10:44:53.092319Z"
    }
   },
   "source": [],
   "outputs": [],
   "execution_count": 40
  },
  {
   "cell_type": "code",
   "metadata": {
    "tags": [],
    "ExecuteTime": {
     "end_time": "2024-12-18T10:44:53.150518Z",
     "start_time": "2024-12-18T10:44:53.147708Z"
    }
   },
   "source": [],
   "outputs": [],
   "execution_count": 40
  },
  {
   "cell_type": "code",
   "metadata": {
    "tags": [],
    "ExecuteTime": {
     "end_time": "2024-12-18T10:44:53.269068Z",
     "start_time": "2024-12-18T10:44:53.265543Z"
    }
   },
   "source": [],
   "outputs": [],
   "execution_count": 40
  },
  {
   "cell_type": "markdown",
   "metadata": {},
   "source": [
    "## Check for Inclusion with Python's in Keyword\n",
    "- The `in` keyword checks if a value exists within an object.\n",
    "- The `in` keyword will look for a value in the **Series's** index.\n",
    "- Use the `index` and `values` attributes to access \"nested\" objects within the **Series**.\n",
    "- Combine the `in` keyword with `values` to search within the **Series's** values."
   ]
  },
  {
   "cell_type": "code",
   "metadata": {
    "tags": [],
    "ExecuteTime": {
     "end_time": "2024-12-18T10:44:53.324037Z",
     "start_time": "2024-12-18T10:44:53.321094Z"
    }
   },
   "source": [],
   "outputs": [],
   "execution_count": 40
  },
  {
   "cell_type": "code",
   "metadata": {
    "tags": [],
    "ExecuteTime": {
     "end_time": "2024-12-18T10:44:53.452962Z",
     "start_time": "2024-12-18T10:44:53.450083Z"
    }
   },
   "source": [],
   "outputs": [],
   "execution_count": 40
  },
  {
   "cell_type": "markdown",
   "metadata": {},
   "source": [
    "## The sort_values Method\n",
    "- The `sort_values` method sorts a **Series** values in order.\n",
    "- By default, pandas applies an ascending sort (smallest to largest).\n",
    "- Customize the sort order with the `ascending` parameter."
   ]
  },
  {
   "cell_type": "code",
   "metadata": {
    "tags": [],
    "ExecuteTime": {
     "end_time": "2024-12-18T10:44:53.506835Z",
     "start_time": "2024-12-18T10:44:53.503972Z"
    }
   },
   "source": [],
   "outputs": [],
   "execution_count": 40
  },
  {
   "cell_type": "code",
   "metadata": {
    "tags": [],
    "ExecuteTime": {
     "end_time": "2024-12-18T10:44:53.620363Z",
     "start_time": "2024-12-18T10:44:53.616858Z"
    }
   },
   "source": [],
   "outputs": [],
   "execution_count": 40
  },
  {
   "cell_type": "code",
   "metadata": {
    "tags": [],
    "ExecuteTime": {
     "end_time": "2024-12-18T10:44:53.653325Z",
     "start_time": "2024-12-18T10:44:53.649420Z"
    }
   },
   "source": [],
   "outputs": [],
   "execution_count": 40
  },
  {
   "cell_type": "markdown",
   "metadata": {},
   "source": [
    "## The sort_index Method\n",
    "- The `sort_index` method sorts a **Series** by its index.\n",
    "- The `sort_index` method also accepts an `ascending` parameter to set sort order."
   ]
  },
  {
   "cell_type": "code",
   "metadata": {
    "tags": [],
    "ExecuteTime": {
     "end_time": "2024-12-18T10:44:53.715871Z",
     "start_time": "2024-12-18T10:44:53.713348Z"
    }
   },
   "source": [],
   "outputs": [],
   "execution_count": 40
  },
  {
   "cell_type": "code",
   "metadata": {
    "tags": [],
    "ExecuteTime": {
     "end_time": "2024-12-18T10:44:53.817024Z",
     "start_time": "2024-12-18T10:44:53.813928Z"
    }
   },
   "source": [],
   "outputs": [],
   "execution_count": 40
  },
  {
   "cell_type": "markdown",
   "metadata": {},
   "source": [
    "## Extract Series Value by Index Position\n",
    "- Use the `iloc` accessor to extract a **Series** value by its index position.\n",
    "- `iloc` is short for \"index location\".\n",
    "- Python's list slicing syntaxes (slices, slices from start, slices to end, etc.) are supported with **Series** objects."
   ]
  },
  {
   "cell_type": "code",
   "metadata": {
    "tags": [],
    "ExecuteTime": {
     "end_time": "2024-12-18T10:44:53.942121Z",
     "start_time": "2024-12-18T10:44:53.939047Z"
    }
   },
   "source": [],
   "outputs": [],
   "execution_count": 40
  },
  {
   "cell_type": "code",
   "metadata": {
    "ExecuteTime": {
     "end_time": "2024-12-18T10:44:53.995745Z",
     "start_time": "2024-12-18T10:44:53.992131Z"
    }
   },
   "source": [],
   "outputs": [],
   "execution_count": 40
  },
  {
   "cell_type": "markdown",
   "metadata": {},
   "source": [
    "## Extract Series Value by Index Label\n",
    "- Use the `loc` accessor to extract a **Series** value by its index label.\n",
    "- Pass a list to extract multiple values by index label.\n",
    "- If one index label/position in the list does not exist, Pandas will raise an error."
   ]
  },
  {
   "cell_type": "code",
   "metadata": {
    "tags": [],
    "ExecuteTime": {
     "end_time": "2024-12-18T10:44:54.117376Z",
     "start_time": "2024-12-18T10:44:54.113802Z"
    }
   },
   "source": [],
   "outputs": [],
   "execution_count": 40
  },
  {
   "cell_type": "code",
   "metadata": {
    "tags": [],
    "ExecuteTime": {
     "end_time": "2024-12-18T10:44:54.159629Z",
     "start_time": "2024-12-18T10:44:54.156400Z"
    }
   },
   "source": [],
   "outputs": [],
   "execution_count": 40
  },
  {
   "cell_type": "code",
   "metadata": {
    "tags": [],
    "ExecuteTime": {
     "end_time": "2024-12-18T10:44:54.265887Z",
     "start_time": "2024-12-18T10:44:54.262645Z"
    }
   },
   "source": [],
   "outputs": [],
   "execution_count": 40
  },
  {
   "cell_type": "code",
   "metadata": {
    "ExecuteTime": {
     "end_time": "2024-12-18T10:44:54.314426Z",
     "start_time": "2024-12-18T10:44:54.310943Z"
    }
   },
   "source": [],
   "outputs": [],
   "execution_count": 40
  },
  {
   "cell_type": "markdown",
   "metadata": {},
   "source": [
    "## The get Method on a Series\n",
    "- The `get` method extracts a **Series** value by index label. It is an alternative option to square brackets.\n",
    "- The `get` method's second argument sets the fallback value to return if the label/position does not exist."
   ]
  },
  {
   "cell_type": "code",
   "metadata": {
    "tags": [],
    "ExecuteTime": {
     "end_time": "2024-12-18T10:44:54.430531Z",
     "start_time": "2024-12-18T10:44:54.426448Z"
    }
   },
   "source": [],
   "outputs": [],
   "execution_count": 40
  },
  {
   "cell_type": "code",
   "metadata": {
    "tags": [],
    "ExecuteTime": {
     "end_time": "2024-12-18T10:44:54.462120Z",
     "start_time": "2024-12-18T10:44:54.457941Z"
    }
   },
   "source": [],
   "outputs": [],
   "execution_count": 40
  },
  {
   "cell_type": "markdown",
   "metadata": {
    "tags": []
   },
   "source": [
    "## Overwrite a Series Value\n",
    "- Use the `loc/iloc` accessor to target an index label/position, then use an equal sign to provide a new value."
   ]
  },
  {
   "cell_type": "code",
   "metadata": {
    "ExecuteTime": {
     "end_time": "2024-12-18T10:44:54.560201Z",
     "start_time": "2024-12-18T10:44:54.557151Z"
    }
   },
   "source": [],
   "outputs": [],
   "execution_count": 40
  },
  {
   "cell_type": "code",
   "metadata": {
    "ExecuteTime": {
     "end_time": "2024-12-18T10:44:54.661049Z",
     "start_time": "2024-12-18T10:44:54.657260Z"
    }
   },
   "source": [],
   "outputs": [],
   "execution_count": 40
  },
  {
   "cell_type": "code",
   "metadata": {
    "ExecuteTime": {
     "end_time": "2024-12-18T10:44:54.773198Z",
     "start_time": "2024-12-18T10:44:54.770059Z"
    }
   },
   "source": [],
   "outputs": [],
   "execution_count": 40
  },
  {
   "cell_type": "code",
   "metadata": {
    "ExecuteTime": {
     "end_time": "2024-12-18T10:44:54.800868Z",
     "start_time": "2024-12-18T10:44:54.797206Z"
    }
   },
   "source": [],
   "outputs": [],
   "execution_count": 40
  },
  {
   "cell_type": "code",
   "metadata": {
    "ExecuteTime": {
     "end_time": "2024-12-18T10:44:54.883024Z",
     "start_time": "2024-12-18T10:44:54.879888Z"
    }
   },
   "source": [],
   "outputs": [],
   "execution_count": 40
  },
  {
   "cell_type": "code",
   "metadata": {
    "ExecuteTime": {
     "end_time": "2024-12-18T10:44:54.979345Z",
     "start_time": "2024-12-18T10:44:54.976064Z"
    }
   },
   "source": [],
   "outputs": [],
   "execution_count": 40
  },
  {
   "cell_type": "code",
   "metadata": {
    "ExecuteTime": {
     "end_time": "2024-12-18T10:44:55.091520Z",
     "start_time": "2024-12-18T10:44:55.088401Z"
    }
   },
   "source": [],
   "outputs": [],
   "execution_count": 40
  },
  {
   "cell_type": "code",
   "metadata": {
    "ExecuteTime": {
     "end_time": "2024-12-18T10:44:55.142092Z",
     "start_time": "2024-12-18T10:44:55.138558Z"
    }
   },
   "source": [],
   "outputs": [],
   "execution_count": 40
  },
  {
   "cell_type": "code",
   "metadata": {
    "ExecuteTime": {
     "end_time": "2024-12-18T10:44:55.262642Z",
     "start_time": "2024-12-18T10:44:55.259147Z"
    }
   },
   "source": [],
   "outputs": [],
   "execution_count": 40
  },
  {
   "cell_type": "code",
   "metadata": {
    "ExecuteTime": {
     "end_time": "2024-12-18T10:44:55.295877Z",
     "start_time": "2024-12-18T10:44:55.292654Z"
    }
   },
   "source": [],
   "outputs": [],
   "execution_count": 40
  },
  {
   "cell_type": "markdown",
   "metadata": {},
   "source": [
    "## The copy Method\n",
    "- A **copy** is a duplicate/replica of an object.\n",
    "- Changes to a copy do not modify the original object.\n",
    "- A **view** is a different way of looking at the *same* data.\n",
    "- Changes to a view *do* modify the original object.\n",
    "- The `copy` method creates a copy of a pandas object."
   ]
  },
  {
   "cell_type": "code",
   "metadata": {
    "tags": [],
    "ExecuteTime": {
     "end_time": "2024-12-18T10:44:55.381751Z",
     "start_time": "2024-12-18T10:44:55.378927Z"
    }
   },
   "source": [],
   "outputs": [],
   "execution_count": 40
  },
  {
   "cell_type": "code",
   "metadata": {
    "tags": [],
    "ExecuteTime": {
     "end_time": "2024-12-18T10:44:55.426240Z",
     "start_time": "2024-12-18T10:44:55.422775Z"
    }
   },
   "source": [],
   "outputs": [],
   "execution_count": 40
  },
  {
   "cell_type": "code",
   "metadata": {
    "tags": [],
    "ExecuteTime": {
     "end_time": "2024-12-18T10:44:55.559471Z",
     "start_time": "2024-12-18T10:44:55.555513Z"
    }
   },
   "source": [],
   "outputs": [],
   "execution_count": 40
  },
  {
   "cell_type": "code",
   "metadata": {
    "tags": [],
    "ExecuteTime": {
     "end_time": "2024-12-18T10:44:55.601293Z",
     "start_time": "2024-12-18T10:44:55.598469Z"
    }
   },
   "source": [],
   "outputs": [],
   "execution_count": 40
  },
  {
   "cell_type": "code",
   "metadata": {
    "tags": [],
    "ExecuteTime": {
     "end_time": "2024-12-18T10:44:55.711625Z",
     "start_time": "2024-12-18T10:44:55.708363Z"
    }
   },
   "source": [],
   "outputs": [],
   "execution_count": 40
  },
  {
   "cell_type": "markdown",
   "metadata": {},
   "source": [
    "## Math Methods on Series Objects\n",
    "- The `count` method returns the number of values in the **Series**. It excludes missing values; the `size` attribute includes missing values.\n",
    "- The `sum` method adds together the **Series's** values.\n",
    "- The `product` method multiplies together the **Series's** values.\n",
    "- The `mean` method calculates the average of the **Series's** values.\n",
    "- The `std` method calculates the standard deviation of the **Series's** values.\n",
    "- The `max` method returns the largest value in the **Series**.\n",
    "- The `min` method returns the smallest value in the **Series**.\n",
    "- The `median` method returns the median of the **Series** (the value in the middle).\n",
    "- The `mode` method returns the mode of the **Series** (the most frequent alue).\n",
    "- The `describe` method returns a summary with various mathematical calculations."
   ]
  },
  {
   "cell_type": "code",
   "metadata": {
    "tags": [],
    "ExecuteTime": {
     "end_time": "2024-12-18T10:44:55.801465Z",
     "start_time": "2024-12-18T10:44:55.797648Z"
    }
   },
   "source": [],
   "outputs": [],
   "execution_count": 40
  },
  {
   "cell_type": "code",
   "metadata": {
    "tags": [],
    "ExecuteTime": {
     "end_time": "2024-12-18T10:44:55.926501Z",
     "start_time": "2024-12-18T10:44:55.922466Z"
    }
   },
   "source": [],
   "outputs": [],
   "execution_count": 40
  },
  {
   "cell_type": "markdown",
   "metadata": {},
   "source": [
    "## Broadcasting\n",
    "- **Broadcasting** describes the process of applying an arithmetic operation to an array (i.e., a **Series**).\n",
    "- We can combine mathematical operators with a **Series** to apply the mathematical operation to every value.\n",
    "- There are also methods to accomplish the same results (`add`, `sub`, `mul`, `div`, etc.)"
   ]
  },
  {
   "cell_type": "code",
   "metadata": {
    "tags": [],
    "ExecuteTime": {
     "end_time": "2024-12-18T10:44:56.000532Z",
     "start_time": "2024-12-18T10:44:55.996530Z"
    }
   },
   "source": [],
   "outputs": [],
   "execution_count": 40
  },
  {
   "cell_type": "code",
   "metadata": {
    "tags": [],
    "ExecuteTime": {
     "end_time": "2024-12-18T10:44:56.193150Z",
     "start_time": "2024-12-18T10:44:56.189562Z"
    }
   },
   "source": [],
   "outputs": [],
   "execution_count": 40
  },
  {
   "cell_type": "markdown",
   "metadata": {},
   "source": [
    "## The value_counts Method\n",
    "- The `value_counts` method returns the number of times each unique value occurs in the **Series**.\n",
    "- The `normalize` parameter returns the relative frequencies/percentages of the values instead of the counts."
   ]
  },
  {
   "cell_type": "code",
   "metadata": {
    "tags": [],
    "ExecuteTime": {
     "end_time": "2024-12-18T10:44:56.268347Z",
     "start_time": "2024-12-18T10:44:56.265203Z"
    }
   },
   "source": [],
   "outputs": [],
   "execution_count": 40
  },
  {
   "cell_type": "code",
   "metadata": {
    "tags": [],
    "ExecuteTime": {
     "end_time": "2024-12-18T10:44:56.360106Z",
     "start_time": "2024-12-18T10:44:56.357405Z"
    }
   },
   "source": [],
   "outputs": [],
   "execution_count": 40
  },
  {
   "cell_type": "markdown",
   "metadata": {},
   "source": [
    "## The apply Method\n",
    "- The `apply` method accepts a function. It invokes that function on every `Series` value."
   ]
  },
  {
   "cell_type": "code",
   "metadata": {
    "tags": [],
    "ExecuteTime": {
     "end_time": "2024-12-18T10:44:56.441391Z",
     "start_time": "2024-12-18T10:44:56.438136Z"
    }
   },
   "source": [],
   "outputs": [],
   "execution_count": 40
  },
  {
   "cell_type": "code",
   "metadata": {
    "tags": [],
    "ExecuteTime": {
     "end_time": "2024-12-18T10:44:56.546122Z",
     "start_time": "2024-12-18T10:44:56.543449Z"
    }
   },
   "source": [],
   "outputs": [],
   "execution_count": 40
  },
  {
   "cell_type": "code",
   "metadata": {
    "tags": [],
    "ExecuteTime": {
     "end_time": "2024-12-18T10:44:56.586989Z",
     "start_time": "2024-12-18T10:44:56.584175Z"
    }
   },
   "source": [],
   "outputs": [],
   "execution_count": 40
  },
  {
   "cell_type": "markdown",
   "metadata": {},
   "source": [
    "## The map Method\n",
    "- The `map` method \"maps\" or connects each **Series** values to another value.\n",
    "- We can pass the method a dictionary or a **Series**. Both types connects keys to values.\n",
    "- The `map` method uses our argument to connect or bridge together the values."
   ]
  },
  {
   "cell_type": "code",
   "metadata": {
    "tags": [],
    "ExecuteTime": {
     "end_time": "2024-12-18T10:44:56.699569Z",
     "start_time": "2024-12-18T10:44:56.696013Z"
    }
   },
   "source": [],
   "outputs": [],
   "execution_count": 40
  },
  {
   "cell_type": "code",
   "metadata": {
    "tags": [],
    "ExecuteTime": {
     "end_time": "2024-12-18T10:44:56.759716Z",
     "start_time": "2024-12-18T10:44:56.756625Z"
    }
   },
   "source": [],
   "outputs": [],
   "execution_count": 40
  },
  {
   "cell_type": "code",
   "metadata": {
    "tags": [],
    "ExecuteTime": {
     "end_time": "2024-12-18T10:44:56.882278Z",
     "start_time": "2024-12-18T10:44:56.879771Z"
    }
   },
   "source": [],
   "outputs": [],
   "execution_count": 40
  },
  {
   "cell_type": "code",
   "metadata": {
    "ExecuteTime": {
     "end_time": "2024-12-18T10:44:56.921320Z",
     "start_time": "2024-12-18T10:44:56.918309Z"
    }
   },
   "source": [],
   "outputs": [],
   "execution_count": 40
  },
  {
   "cell_type": "code",
   "metadata": {
    "ExecuteTime": {
     "end_time": "2024-12-18T10:44:57.053631Z",
     "start_time": "2024-12-18T10:44:57.049927Z"
    }
   },
   "source": [],
   "outputs": [],
   "execution_count": 40
  },
  {
   "cell_type": "code",
   "metadata": {
    "ExecuteTime": {
     "end_time": "2024-12-18T10:44:57.098462Z",
     "start_time": "2024-12-18T10:44:57.095689Z"
    }
   },
   "source": [],
   "outputs": [],
   "execution_count": 40
  }
 ],
 "metadata": {
  "anaconda-cloud": {},
  "kernelspec": {
   "display_name": "Python 3 (ipykernel)",
   "language": "python",
   "name": "python3"
  },
  "language_info": {
   "codemirror_mode": {
    "name": "ipython",
    "version": 3
   },
   "file_extension": ".py",
   "mimetype": "text/x-python",
   "name": "python",
   "nbconvert_exporter": "python",
   "pygments_lexer": "ipython3",
   "version": "3.11.5"
  }
 },
 "nbformat": 4,
 "nbformat_minor": 4
}
