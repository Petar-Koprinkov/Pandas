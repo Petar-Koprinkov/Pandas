{
 "cells": [
  {
   "cell_type": "markdown",
   "metadata": {},
   "source": [
    "# Series"
   ]
  },
  {
   "cell_type": "code",
   "metadata": {
    "ExecuteTime": {
     "end_time": "2024-12-22T12:03:35.021305Z",
     "start_time": "2024-12-22T12:03:35.017156Z"
    }
   },
   "source": "import pandas as pd",
   "outputs": [],
   "execution_count": 13
  },
  {
   "cell_type": "markdown",
   "metadata": {
    "slideshow": {
     "slide_type": "-"
    }
   },
   "source": [
    "## Create a Series Object from a List\n",
    "- A pandas **Series** is a one-dimensional labelled array.\n",
    "- A Series combines the best features of a list and a dictionary.\n",
    "- A Series maintains a single collection of ordered values (i.e. a single column of data).\n",
    "- We can assign each value an identifier, which does not have to *be* unique."
   ]
  },
  {
   "cell_type": "code",
   "metadata": {
    "ExecuteTime": {
     "end_time": "2024-12-22T12:03:36.572379Z",
     "start_time": "2024-12-22T12:03:36.566659Z"
    }
   },
   "source": "cars = ['BMW', 'Audi', 'Opel', 'VW', 'Mercedes-Benz']",
   "outputs": [],
   "execution_count": 14
  },
  {
   "cell_type": "code",
   "metadata": {
    "ExecuteTime": {
     "end_time": "2024-12-22T12:03:37.031295Z",
     "start_time": "2024-12-22T12:03:37.023236Z"
    }
   },
   "source": "pd.Series(cars)",
   "outputs": [
    {
     "data": {
      "text/plain": [
       "0              BMW\n",
       "1             Audi\n",
       "2             Opel\n",
       "3               VW\n",
       "4    Mercedes-Benz\n",
       "dtype: object"
      ]
     },
     "execution_count": 15,
     "metadata": {},
     "output_type": "execute_result"
    }
   ],
   "execution_count": 15
  },
  {
   "cell_type": "code",
   "metadata": {
    "ExecuteTime": {
     "end_time": "2024-12-22T12:03:41.366217Z",
     "start_time": "2024-12-22T12:03:41.361358Z"
    }
   },
   "source": "my_favourite_numbers = [1, 2, 3, 4, 5, 6]",
   "outputs": [],
   "execution_count": 16
  },
  {
   "metadata": {
    "ExecuteTime": {
     "end_time": "2024-12-22T12:03:43.107873Z",
     "start_time": "2024-12-22T12:03:43.100872Z"
    }
   },
   "cell_type": "code",
   "source": "pd.Series(my_favourite_numbers)",
   "outputs": [
    {
     "data": {
      "text/plain": [
       "0    1\n",
       "1    2\n",
       "2    3\n",
       "3    4\n",
       "4    5\n",
       "5    6\n",
       "dtype: int64"
      ]
     },
     "execution_count": 17,
     "metadata": {},
     "output_type": "execute_result"
    }
   ],
   "execution_count": 17
  },
  {
   "metadata": {
    "ExecuteTime": {
     "end_time": "2024-12-22T12:03:44.741934Z",
     "start_time": "2024-12-22T12:03:44.738583Z"
    }
   },
   "cell_type": "code",
   "source": "random = [True, False, True]",
   "outputs": [],
   "execution_count": 18
  },
  {
   "metadata": {
    "ExecuteTime": {
     "end_time": "2024-12-22T12:03:46.997999Z",
     "start_time": "2024-12-22T12:03:46.990994Z"
    }
   },
   "cell_type": "code",
   "source": "pd.Series(random)",
   "outputs": [
    {
     "data": {
      "text/plain": [
       "0     True\n",
       "1    False\n",
       "2     True\n",
       "dtype: bool"
      ]
     },
     "execution_count": 19,
     "metadata": {},
     "output_type": "execute_result"
    }
   ],
   "execution_count": 19
  },
  {
   "metadata": {
    "ExecuteTime": {
     "end_time": "2024-12-22T12:03:49.898786Z",
     "start_time": "2024-12-22T12:03:49.894351Z"
    }
   },
   "cell_type": "code",
   "source": "different_types = [1, 2, 3, 'BMW', 'Opel', True, False]",
   "outputs": [],
   "execution_count": 20
  },
  {
   "metadata": {
    "ExecuteTime": {
     "end_time": "2024-12-22T12:03:51.316255Z",
     "start_time": "2024-12-22T12:03:51.308800Z"
    }
   },
   "cell_type": "code",
   "source": "pd.Series(different_types)",
   "outputs": [
    {
     "data": {
      "text/plain": [
       "0        1\n",
       "1        2\n",
       "2        3\n",
       "3      BMW\n",
       "4     Opel\n",
       "5     True\n",
       "6    False\n",
       "dtype: object"
      ]
     },
     "execution_count": 21,
     "metadata": {},
     "output_type": "execute_result"
    }
   ],
   "execution_count": 21
  },
  {
   "cell_type": "markdown",
   "metadata": {},
   "source": [
    "## Create a Series Object from a Dictionary"
   ]
  },
  {
   "cell_type": "code",
   "metadata": {
    "ExecuteTime": {
     "end_time": "2024-12-22T12:03:56.772312Z",
     "start_time": "2024-12-22T12:03:56.767656Z"
    }
   },
   "source": "my_dict = {'a': 1, 'b': 2, 'c': 3, 'd': 4}",
   "outputs": [],
   "execution_count": 22
  },
  {
   "metadata": {
    "ExecuteTime": {
     "end_time": "2024-12-22T12:03:58.263488Z",
     "start_time": "2024-12-22T12:03:58.252143Z"
    }
   },
   "cell_type": "code",
   "source": "pd.Series(my_dict)",
   "outputs": [
    {
     "data": {
      "text/plain": [
       "a    1\n",
       "b    2\n",
       "c    3\n",
       "d    4\n",
       "dtype: int64"
      ]
     },
     "execution_count": 23,
     "metadata": {},
     "output_type": "execute_result"
    }
   ],
   "execution_count": 23
  },
  {
   "metadata": {
    "ExecuteTime": {
     "end_time": "2024-12-22T12:04:00.226023Z",
     "start_time": "2024-12-22T12:04:00.221364Z"
    }
   },
   "cell_type": "code",
   "source": [
    "my_cars = {\n",
    "    'Mercedes-Benz': 'CLS',\n",
    "    'BMW': 'M5 CS',\n",
    "    'Audi': 'RS 7',\n",
    "}"
   ],
   "outputs": [],
   "execution_count": 24
  },
  {
   "metadata": {
    "ExecuteTime": {
     "end_time": "2024-12-22T12:04:01.582097Z",
     "start_time": "2024-12-22T12:04:01.576061Z"
    }
   },
   "cell_type": "code",
   "source": "pd.Series(my_cars)",
   "outputs": [
    {
     "data": {
      "text/plain": [
       "Mercedes-Benz      CLS\n",
       "BMW              M5 CS\n",
       "Audi              RS 7\n",
       "dtype: object"
      ]
     },
     "execution_count": 25,
     "metadata": {},
     "output_type": "execute_result"
    }
   ],
   "execution_count": 25
  },
  {
   "cell_type": "markdown",
   "metadata": {},
   "source": [
    "## Intro to Series Methods\n",
    "- The syntax to invoke a method on any object is `object.method()`.\n",
    "- The `sum` method adds together the **Series'** values.\n",
    "- The `product` method multiplies the **Series'** values.\n",
    "- The `mean` method finds the average of the **Series'** values.\n",
    "- The `std` method finds the standard deviation of the **Series'** values."
   ]
  },
  {
   "metadata": {
    "ExecuteTime": {
     "end_time": "2024-12-22T12:04:16.034251Z",
     "start_time": "2024-12-22T12:04:16.030386Z"
    }
   },
   "cell_type": "code",
   "source": "my_numbers = pd.Series([1, 2, 3, 4, 5, 6, 7, 8, 9, 10])",
   "outputs": [],
   "execution_count": 26
  },
  {
   "metadata": {
    "ExecuteTime": {
     "end_time": "2024-12-22T12:04:16.846104Z",
     "start_time": "2024-12-22T12:04:16.839882Z"
    }
   },
   "cell_type": "code",
   "source": "my_numbers.sum()",
   "outputs": [
    {
     "data": {
      "text/plain": [
       "np.int64(55)"
      ]
     },
     "execution_count": 27,
     "metadata": {},
     "output_type": "execute_result"
    }
   ],
   "execution_count": 27
  },
  {
   "cell_type": "code",
   "metadata": {
    "tags": [],
    "ExecuteTime": {
     "end_time": "2024-12-22T12:04:21.356077Z",
     "start_time": "2024-12-22T12:04:21.350368Z"
    }
   },
   "source": "my_numbers.mean()",
   "outputs": [
    {
     "data": {
      "text/plain": [
       "np.float64(5.5)"
      ]
     },
     "execution_count": 28,
     "metadata": {},
     "output_type": "execute_result"
    }
   ],
   "execution_count": 28
  },
  {
   "cell_type": "code",
   "metadata": {
    "tags": []
   },
   "source": "my_numbers.std()",
   "outputs": [],
   "execution_count": null
  },
  {
   "cell_type": "code",
   "metadata": {
    "tags": []
   },
   "source": "my_numbers.product()",
   "outputs": [],
   "execution_count": null
  },
  {
   "cell_type": "markdown",
   "metadata": {},
   "source": [
    "## Intro to Attributes\n",
    "- An **attribute** is a piece of data that lives on an object.\n",
    "- An **attribute** is a fact, a detail, a characteristic of the object.\n",
    "- Access an attribute with `object.attribute` syntax.\n",
    "- The `size` attribute returns a count of the number of values in the **Series**.\n",
    "- The `is_unique` attribute returns True if the **Series** has no duplicate values.\n",
    "- The `values` and `index` attributes return the underlying objects that holds the **Series'** values and index labels."
   ]
  },
  {
   "cell_type": "code",
   "metadata": {
    "tags": [],
    "ExecuteTime": {
     "end_time": "2024-12-22T12:04:55.135098Z",
     "start_time": "2024-12-22T12:04:55.130149Z"
    }
   },
   "source": "my_list = ['Apple', 'Mango', 'Grape', 'Tomato', 'Tomato']",
   "outputs": [],
   "execution_count": 29
  },
  {
   "cell_type": "code",
   "metadata": {
    "tags": [],
    "ExecuteTime": {
     "end_time": "2024-12-22T12:04:57.883239Z",
     "start_time": "2024-12-22T12:04:57.877128Z"
    }
   },
   "source": "my_cell = pd.Series(my_list)",
   "outputs": [],
   "execution_count": 30
  },
  {
   "cell_type": "code",
   "metadata": {
    "tags": [],
    "ExecuteTime": {
     "end_time": "2024-12-22T12:05:22.675368Z",
     "start_time": "2024-12-22T12:05:22.668786Z"
    }
   },
   "source": "my_cell.is_unique",
   "outputs": [
    {
     "data": {
      "text/plain": [
       "False"
      ]
     },
     "execution_count": 31,
     "metadata": {},
     "output_type": "execute_result"
    }
   ],
   "execution_count": 31
  },
  {
   "cell_type": "code",
   "metadata": {
    "tags": [],
    "ExecuteTime": {
     "end_time": "2024-12-22T12:05:24.015861Z",
     "start_time": "2024-12-22T12:05:24.010442Z"
    }
   },
   "source": "my_cell.size",
   "outputs": [
    {
     "data": {
      "text/plain": [
       "5"
      ]
     },
     "execution_count": 32,
     "metadata": {},
     "output_type": "execute_result"
    }
   ],
   "execution_count": 32
  },
  {
   "cell_type": "code",
   "metadata": {
    "tags": [],
    "ExecuteTime": {
     "end_time": "2024-12-22T12:05:24.744079Z",
     "start_time": "2024-12-22T12:05:24.737669Z"
    }
   },
   "source": "my_cell.values",
   "outputs": [
    {
     "data": {
      "text/plain": [
       "array(['Apple', 'Mango', 'Grape', 'Tomato', 'Tomato'], dtype=object)"
      ]
     },
     "execution_count": 33,
     "metadata": {},
     "output_type": "execute_result"
    }
   ],
   "execution_count": 33
  },
  {
   "cell_type": "code",
   "metadata": {
    "tags": [],
    "ExecuteTime": {
     "end_time": "2024-12-22T12:05:25.176201Z",
     "start_time": "2024-12-22T12:05:25.169974Z"
    }
   },
   "source": "my_cell.index",
   "outputs": [
    {
     "data": {
      "text/plain": [
       "RangeIndex(start=0, stop=5, step=1)"
      ]
     },
     "execution_count": 34,
     "metadata": {},
     "output_type": "execute_result"
    }
   ],
   "execution_count": 34
  },
  {
   "cell_type": "code",
   "metadata": {
    "tags": [],
    "ExecuteTime": {
     "end_time": "2024-12-22T12:05:26.454158Z",
     "start_time": "2024-12-22T12:05:26.447673Z"
    }
   },
   "source": "type(my_cell.values)",
   "outputs": [
    {
     "data": {
      "text/plain": [
       "numpy.ndarray"
      ]
     },
     "execution_count": 35,
     "metadata": {},
     "output_type": "execute_result"
    }
   ],
   "execution_count": 35
  },
  {
   "metadata": {
    "ExecuteTime": {
     "end_time": "2024-12-22T12:05:27.249160Z",
     "start_time": "2024-12-22T12:05:27.243635Z"
    }
   },
   "cell_type": "code",
   "source": "type(my_cell.index)",
   "outputs": [
    {
     "data": {
      "text/plain": [
       "pandas.core.indexes.range.RangeIndex"
      ]
     },
     "execution_count": 36,
     "metadata": {},
     "output_type": "execute_result"
    }
   ],
   "execution_count": 36
  },
  {
   "cell_type": "markdown",
   "metadata": {},
   "source": [
    "## Parameters and Arguments\n",
    "- A **parameter** is the name for an expected input to a function/method/class instantiation.\n",
    "- An **argument** is the concrete value we provide for a parameter during invocation.\n",
    "- We can pass arguments either sequentially (based on parameter order) or with explicit parameter names written out.\n",
    "- The first two parameters for the **Series** constructor are `data` and `index`, which represent the values and the index labels."
   ]
  },
  {
   "cell_type": "code",
   "metadata": {
    "tags": []
   },
   "source": [
    "fruits = ['Orange', 'Apple', 'Manga', 'Grape', 'Tomato']\n",
    "weekdays = ['Monday', 'Tuesday', 'Wednesday', 'Thursday', 'Friday']"
   ],
   "outputs": [],
   "execution_count": null
  },
  {
   "cell_type": "code",
   "metadata": {
    "tags": []
   },
   "source": "pd.Series(data=fruits, index=weekdays)",
   "outputs": [],
   "execution_count": null
  },
  {
   "metadata": {},
   "cell_type": "markdown",
   "source": [
    "## Import Series with the pd.read_csv Function\n",
    "- A **CSV** is a plain text file that uses line breaks to separate rows and commas to separate row values.\n",
    "- Pandas ships with many different `read_` functions for different types of files.\n",
    "- The `read_csv` function accepts many different parameters. The first one specifies the file name/path.\n",
    "- The `read_csv` function will import the dataset as a **DataFrame**, a 2-dimensional table.\n",
    "- The `usecols` parameter accepts a list of the column(s) to import.\n",
    "- The `squeeze` method converts a **DataFrame** to a **Series**."
   ]
  },
  {
   "cell_type": "code",
   "metadata": {
    "ExecuteTime": {
     "end_time": "2024-12-22T12:05:49.086653Z",
     "start_time": "2024-12-22T12:05:49.074758Z"
    }
   },
   "source": [
    "pokemons = pd.read_csv('pokemon.csv', usecols=['Name']).squeeze('columns')\n",
    "pokemons"
   ],
   "outputs": [
    {
     "data": {
      "text/plain": [
       "0          Bulbasaur\n",
       "1            Ivysaur\n",
       "2           Venusaur\n",
       "3         Charmander\n",
       "4         Charmeleon\n",
       "            ...     \n",
       "1005    Iron Valiant\n",
       "1006        Koraidon\n",
       "1007        Miraidon\n",
       "1008    Walking Wake\n",
       "1009     Iron Leaves\n",
       "Name: Name, Length: 1010, dtype: object"
      ]
     },
     "execution_count": 38,
     "metadata": {},
     "output_type": "execute_result"
    }
   ],
   "execution_count": 38
  },
  {
   "cell_type": "markdown",
   "metadata": {},
   "source": [
    "## The head and tail Methods\n",
    "- The `head` method returns a number of rows from the top/beginning of the `Series`.\n",
    "- The `tail` method returns a number of rows from the bottom/end of the `Series`."
   ]
  },
  {
   "cell_type": "code",
   "metadata": {
    "tags": [],
    "ExecuteTime": {
     "end_time": "2024-12-22T12:06:17.654108Z",
     "start_time": "2024-12-22T12:06:17.647107Z"
    }
   },
   "source": "pokemons.head(6)",
   "outputs": [
    {
     "data": {
      "text/plain": [
       "0     Bulbasaur\n",
       "1       Ivysaur\n",
       "2      Venusaur\n",
       "3    Charmander\n",
       "4    Charmeleon\n",
       "5     Charizard\n",
       "Name: Name, dtype: object"
      ]
     },
     "execution_count": 39,
     "metadata": {},
     "output_type": "execute_result"
    }
   ],
   "execution_count": 39
  },
  {
   "cell_type": "code",
   "metadata": {
    "tags": [],
    "ExecuteTime": {
     "end_time": "2024-12-22T12:06:18.477758Z",
     "start_time": "2024-12-22T12:06:18.468900Z"
    }
   },
   "source": "pokemons.tail(2)",
   "outputs": [
    {
     "data": {
      "text/plain": [
       "1008    Walking Wake\n",
       "1009     Iron Leaves\n",
       "Name: Name, dtype: object"
      ]
     },
     "execution_count": 40,
     "metadata": {},
     "output_type": "execute_result"
    }
   ],
   "execution_count": 40
  },
  {
   "cell_type": "markdown",
   "metadata": {},
   "source": [
    "## Passing Series to Python's Built-In Functions\n",
    "- The `len` function returns the length of the **Series**.\n",
    "- The `type` function returns the type of an object.\n",
    "- The `list` function converts the **Series** to a list.\n",
    "- The `dict` function converts the **Series** to a dictionary.\n",
    "- The `sorted` function converts the **Series** to a sorted list.\n",
    "- The `max` function returns the largest value in the **Series**.\n",
    "- The `min` function returns the smalllest value in the **Series**."
   ]
  },
  {
   "cell_type": "code",
   "metadata": {
    "tags": [],
    "ExecuteTime": {
     "end_time": "2024-12-22T12:06:37.126243Z",
     "start_time": "2024-12-22T12:06:37.117584Z"
    }
   },
   "source": [
    "sample = pd.read_csv('pokemon.csv', usecols=['Name']).squeeze('columns')\n",
    "sample"
   ],
   "outputs": [
    {
     "data": {
      "text/plain": [
       "0          Bulbasaur\n",
       "1            Ivysaur\n",
       "2           Venusaur\n",
       "3         Charmander\n",
       "4         Charmeleon\n",
       "            ...     \n",
       "1005    Iron Valiant\n",
       "1006        Koraidon\n",
       "1007        Miraidon\n",
       "1008    Walking Wake\n",
       "1009     Iron Leaves\n",
       "Name: Name, Length: 1010, dtype: object"
      ]
     },
     "execution_count": 41,
     "metadata": {},
     "output_type": "execute_result"
    }
   ],
   "execution_count": 41
  },
  {
   "cell_type": "code",
   "metadata": {
    "tags": [],
    "ExecuteTime": {
     "end_time": "2024-12-22T12:06:38.525167Z",
     "start_time": "2024-12-22T12:06:38.520180Z"
    }
   },
   "source": "len(sample)",
   "outputs": [
    {
     "data": {
      "text/plain": [
       "1010"
      ]
     },
     "execution_count": 42,
     "metadata": {},
     "output_type": "execute_result"
    }
   ],
   "execution_count": 42
  },
  {
   "cell_type": "code",
   "metadata": {
    "tags": [],
    "ExecuteTime": {
     "end_time": "2024-12-22T12:06:39.602722Z",
     "start_time": "2024-12-22T12:06:39.597156Z"
    }
   },
   "source": "type(sample)",
   "outputs": [
    {
     "data": {
      "text/plain": [
       "pandas.core.series.Series"
      ]
     },
     "execution_count": 43,
     "metadata": {},
     "output_type": "execute_result"
    }
   ],
   "execution_count": 43
  },
  {
   "metadata": {
    "ExecuteTime": {
     "end_time": "2024-12-22T12:06:40.213642Z",
     "start_time": "2024-12-22T12:06:40.208085Z"
    }
   },
   "cell_type": "code",
   "source": "max(sample)",
   "outputs": [
    {
     "data": {
      "text/plain": [
       "'Zygarde'"
      ]
     },
     "execution_count": 44,
     "metadata": {},
     "output_type": "execute_result"
    }
   ],
   "execution_count": 44
  },
  {
   "metadata": {
    "ExecuteTime": {
     "end_time": "2024-12-22T12:06:41.635283Z",
     "start_time": "2024-12-22T12:06:41.630605Z"
    }
   },
   "cell_type": "code",
   "source": "min(sample)",
   "outputs": [
    {
     "data": {
      "text/plain": [
       "'Abomasnow'"
      ]
     },
     "execution_count": 45,
     "metadata": {},
     "output_type": "execute_result"
    }
   ],
   "execution_count": 45
  },
  {
   "metadata": {
    "ExecuteTime": {
     "end_time": "2024-12-22T12:06:42.516782Z",
     "start_time": "2024-12-22T12:06:42.499408Z"
    }
   },
   "cell_type": "code",
   "source": "sorted(sample)",
   "outputs": [
    {
     "data": {
      "text/plain": [
       "['Abomasnow',\n",
       " 'Abra',\n",
       " 'Absol',\n",
       " 'Accelgor',\n",
       " 'Aegislash',\n",
       " 'Aerodactyl',\n",
       " 'Aggron',\n",
       " 'Aipom',\n",
       " 'Alakazam',\n",
       " 'Alcremie',\n",
       " 'Alomomola',\n",
       " 'Altaria',\n",
       " 'Amaura',\n",
       " 'Ambipom',\n",
       " 'Amoonguss',\n",
       " 'Ampharos',\n",
       " 'Annihilape',\n",
       " 'Anorith',\n",
       " 'Appletun',\n",
       " 'Applin',\n",
       " 'Araquanid',\n",
       " 'Arbok',\n",
       " 'Arboliva',\n",
       " 'Arcanine',\n",
       " 'Arceus',\n",
       " 'Archen',\n",
       " 'Archeops',\n",
       " 'Arctibax',\n",
       " 'Arctovish',\n",
       " 'Arctozolt',\n",
       " 'Ariados',\n",
       " 'Armaldo',\n",
       " 'Armarouge',\n",
       " 'Aromatisse',\n",
       " 'Aron',\n",
       " 'Arrokuda',\n",
       " 'Articuno',\n",
       " 'Audino',\n",
       " 'Aurorus',\n",
       " 'Avalugg',\n",
       " 'Axew',\n",
       " 'Azelf',\n",
       " 'Azumarill',\n",
       " 'Azurill',\n",
       " 'Bagon',\n",
       " 'Baltoy',\n",
       " 'Banette',\n",
       " 'Barbaracle',\n",
       " 'Barboach',\n",
       " 'Barraskewda',\n",
       " 'Basculegion',\n",
       " 'Basculin',\n",
       " 'Bastiodon',\n",
       " 'Baxcalibur',\n",
       " 'Bayleef',\n",
       " 'Beartic',\n",
       " 'Beautifly',\n",
       " 'Beedrill',\n",
       " 'Beheeyem',\n",
       " 'Beldum',\n",
       " 'Bellibolt',\n",
       " 'Bellossom',\n",
       " 'Bellsprout',\n",
       " 'Bergmite',\n",
       " 'Bewear',\n",
       " 'Bibarel',\n",
       " 'Bidoof',\n",
       " 'Binacle',\n",
       " 'Bisharp',\n",
       " 'Blacephalon',\n",
       " 'Blastoise',\n",
       " 'Blaziken',\n",
       " 'Blipbug',\n",
       " 'Blissey',\n",
       " 'Blitzle',\n",
       " 'Boldore',\n",
       " 'Boltund',\n",
       " 'Bombirdier',\n",
       " 'Bonsly',\n",
       " 'Bouffalant',\n",
       " 'Bounsweet',\n",
       " 'Braixen',\n",
       " 'Brambleghast',\n",
       " 'Bramblin',\n",
       " 'Braviary',\n",
       " 'Breloom',\n",
       " 'Brionne',\n",
       " 'Bronzong',\n",
       " 'Bronzor',\n",
       " 'Brute Bonnet',\n",
       " 'Bruxish',\n",
       " 'Budew',\n",
       " 'Buizel',\n",
       " 'Bulbasaur',\n",
       " 'Buneary',\n",
       " 'Bunnelby',\n",
       " 'Burmy',\n",
       " 'Butterfree',\n",
       " 'Buzzwole',\n",
       " 'Cacnea',\n",
       " 'Cacturne',\n",
       " 'Calyrex',\n",
       " 'Camerupt',\n",
       " 'Capsakid',\n",
       " 'Carbink',\n",
       " 'Carkol',\n",
       " 'Carnivine',\n",
       " 'Carracosta',\n",
       " 'Carvanha',\n",
       " 'Cascoon',\n",
       " 'Castform',\n",
       " 'Caterpie',\n",
       " 'Celebi',\n",
       " 'Celesteela',\n",
       " 'Centiskorch',\n",
       " 'Ceruledge',\n",
       " 'Cetitan',\n",
       " 'Cetoddle',\n",
       " 'Chandelure',\n",
       " 'Chansey',\n",
       " 'Charcadet',\n",
       " 'Charizard',\n",
       " 'Charjabug',\n",
       " 'Charmander',\n",
       " 'Charmeleon',\n",
       " 'Chatot',\n",
       " 'Cherrim',\n",
       " 'Cherubi',\n",
       " 'Chesnaught',\n",
       " 'Chespin',\n",
       " 'Chewtle',\n",
       " 'Chi-Yu',\n",
       " 'Chien-Pao',\n",
       " 'Chikorita',\n",
       " 'Chimchar',\n",
       " 'Chimecho',\n",
       " 'Chinchou',\n",
       " 'Chingling',\n",
       " 'Cinccino',\n",
       " 'Cinderace',\n",
       " 'Clamperl',\n",
       " 'Clauncher',\n",
       " 'Clawitzer',\n",
       " 'Claydol',\n",
       " 'Clefable',\n",
       " 'Clefairy',\n",
       " 'Cleffa',\n",
       " 'Clobbopus',\n",
       " 'Clodsire',\n",
       " 'Cloyster',\n",
       " 'Coalossal',\n",
       " 'Cobalion',\n",
       " 'Cofagrigus',\n",
       " 'Combee',\n",
       " 'Combusken',\n",
       " 'Comfey',\n",
       " 'Conkeldurr',\n",
       " 'Copperajah',\n",
       " 'Corphish',\n",
       " 'Corsola',\n",
       " 'Corviknight',\n",
       " 'Corvisquire',\n",
       " 'Cosmoem',\n",
       " 'Cosmog',\n",
       " 'Cottonee',\n",
       " 'Crabominable',\n",
       " 'Crabrawler',\n",
       " 'Cradily',\n",
       " 'Cramorant',\n",
       " 'Cranidos',\n",
       " 'Crawdaunt',\n",
       " 'Cresselia',\n",
       " 'Croagunk',\n",
       " 'Crobat',\n",
       " 'Crocalor',\n",
       " 'Croconaw',\n",
       " 'Crustle',\n",
       " 'Cryogonal',\n",
       " 'Cubchoo',\n",
       " 'Cubone',\n",
       " 'Cufant',\n",
       " 'Cursola',\n",
       " 'Cutiefly',\n",
       " 'Cyclizar',\n",
       " 'Cyndaquil',\n",
       " 'Dachsbun',\n",
       " 'Darkrai',\n",
       " 'Darmanitan',\n",
       " 'Dartrix',\n",
       " 'Darumaka',\n",
       " 'Decidueye',\n",
       " 'Dedenne',\n",
       " 'Deerling',\n",
       " 'Deino',\n",
       " 'Delcatty',\n",
       " 'Delibird',\n",
       " 'Delphox',\n",
       " 'Deoxys',\n",
       " 'Dewgong',\n",
       " 'Dewott',\n",
       " 'Dewpider',\n",
       " 'Dhelmise',\n",
       " 'Dialga',\n",
       " 'Diancie',\n",
       " 'Diggersby',\n",
       " 'Diglett',\n",
       " 'Ditto',\n",
       " 'Dodrio',\n",
       " 'Doduo',\n",
       " 'Dolliv',\n",
       " 'Dondozo',\n",
       " 'Donphan',\n",
       " 'Dottler',\n",
       " 'Doublade',\n",
       " 'Dracovish',\n",
       " 'Dracozolt',\n",
       " 'Dragalge',\n",
       " 'Dragapult',\n",
       " 'Dragonair',\n",
       " 'Dragonite',\n",
       " 'Drakloak',\n",
       " 'Drampa',\n",
       " 'Drapion',\n",
       " 'Dratini',\n",
       " 'Drednaw',\n",
       " 'Dreepy',\n",
       " 'Drifblim',\n",
       " 'Drifloon',\n",
       " 'Drilbur',\n",
       " 'Drizzile',\n",
       " 'Drowzee',\n",
       " 'Druddigon',\n",
       " 'Dubwool',\n",
       " 'Ducklett',\n",
       " 'Dudunsparce',\n",
       " 'Dugtrio',\n",
       " 'Dunsparce',\n",
       " 'Duosion',\n",
       " 'Duraludon',\n",
       " 'Durant',\n",
       " 'Dusclops',\n",
       " 'Dusknoir',\n",
       " 'Duskull',\n",
       " 'Dustox',\n",
       " 'Dwebble',\n",
       " 'Eelektrik',\n",
       " 'Eelektross',\n",
       " 'Eevee',\n",
       " 'Eiscue',\n",
       " 'Ekans',\n",
       " 'Eldegoss',\n",
       " 'Electabuzz',\n",
       " 'Electivire',\n",
       " 'Electrike',\n",
       " 'Electrode',\n",
       " 'Elekid',\n",
       " 'Elgyem',\n",
       " 'Emboar',\n",
       " 'Emolga',\n",
       " 'Empoleon',\n",
       " 'Enamorus',\n",
       " 'Entei',\n",
       " 'Escavalier',\n",
       " 'Espathra',\n",
       " 'Espeon',\n",
       " 'Espurr',\n",
       " 'Eternatus',\n",
       " 'Excadrill',\n",
       " 'Exeggcute',\n",
       " 'Exeggutor',\n",
       " 'Exploud',\n",
       " 'Falinks',\n",
       " 'Farfetch’d',\n",
       " 'Farigiraf',\n",
       " 'Fearow',\n",
       " 'Feebas',\n",
       " 'Fennekin',\n",
       " 'Feraligatr',\n",
       " 'Ferroseed',\n",
       " 'Ferrothorn',\n",
       " 'Fidough',\n",
       " 'Finizen',\n",
       " 'Finneon',\n",
       " 'Flaaffy',\n",
       " 'Flabébé',\n",
       " 'Flamigo',\n",
       " 'Flapple',\n",
       " 'Flareon',\n",
       " 'Fletchinder',\n",
       " 'Fletchling',\n",
       " 'Flittle',\n",
       " 'Floatzel',\n",
       " 'Floette',\n",
       " 'Floragato',\n",
       " 'Florges',\n",
       " 'Flutter Mane',\n",
       " 'Flygon',\n",
       " 'Fomantis',\n",
       " 'Foongus',\n",
       " 'Forretress',\n",
       " 'Fraxure',\n",
       " 'Frigibax',\n",
       " 'Frillish',\n",
       " 'Froakie',\n",
       " 'Frogadier',\n",
       " 'Froslass',\n",
       " 'Frosmoth',\n",
       " 'Fuecoco',\n",
       " 'Furfrou',\n",
       " 'Furret',\n",
       " 'Gabite',\n",
       " 'Gallade',\n",
       " 'Galvantula',\n",
       " 'Garbodor',\n",
       " 'Garchomp',\n",
       " 'Gardevoir',\n",
       " 'Garganacl',\n",
       " 'Gastly',\n",
       " 'Gastrodon',\n",
       " 'Genesect',\n",
       " 'Gengar',\n",
       " 'Geodude',\n",
       " 'Gholdengo',\n",
       " 'Gible',\n",
       " 'Gigalith',\n",
       " 'Gimmighoul',\n",
       " 'Girafarig',\n",
       " 'Giratina',\n",
       " 'Glaceon',\n",
       " 'Glalie',\n",
       " 'Glameow',\n",
       " 'Glastrier',\n",
       " 'Gligar',\n",
       " 'Glimmet',\n",
       " 'Glimmora',\n",
       " 'Gliscor',\n",
       " 'Gloom',\n",
       " 'Gogoat',\n",
       " 'Golbat',\n",
       " 'Goldeen',\n",
       " 'Golduck',\n",
       " 'Golem',\n",
       " 'Golett',\n",
       " 'Golisopod',\n",
       " 'Golurk',\n",
       " 'Goodra',\n",
       " 'Goomy',\n",
       " 'Gorebyss',\n",
       " 'Gossifleur',\n",
       " 'Gothita',\n",
       " 'Gothitelle',\n",
       " 'Gothorita',\n",
       " 'Gourgeist',\n",
       " 'Grafaiai',\n",
       " 'Granbull',\n",
       " 'Grapploct',\n",
       " 'Graveler',\n",
       " 'Great Tusk',\n",
       " 'Greavard',\n",
       " 'Greedent',\n",
       " 'Greninja',\n",
       " 'Grimer',\n",
       " 'Grimmsnarl',\n",
       " 'Grookey',\n",
       " 'Grotle',\n",
       " 'Groudon',\n",
       " 'Grovyle',\n",
       " 'Growlithe',\n",
       " 'Grubbin',\n",
       " 'Grumpig',\n",
       " 'Gulpin',\n",
       " 'Gumshoos',\n",
       " 'Gurdurr',\n",
       " 'Guzzlord',\n",
       " 'Gyarados',\n",
       " 'Hakamo-o',\n",
       " 'Happiny',\n",
       " 'Hariyama',\n",
       " 'Hatenna',\n",
       " 'Hatterene',\n",
       " 'Hattrem',\n",
       " 'Haunter',\n",
       " 'Hawlucha',\n",
       " 'Haxorus',\n",
       " 'Heatmor',\n",
       " 'Heatran',\n",
       " 'Heliolisk',\n",
       " 'Helioptile',\n",
       " 'Heracross',\n",
       " 'Herdier',\n",
       " 'Hippopotas',\n",
       " 'Hippowdon',\n",
       " 'Hitmonchan',\n",
       " 'Hitmonlee',\n",
       " 'Hitmontop',\n",
       " 'Ho-Oh',\n",
       " 'Honchkrow',\n",
       " 'Honedge',\n",
       " 'Hoopa',\n",
       " 'Hoothoot',\n",
       " 'Hoppip',\n",
       " 'Horsea',\n",
       " 'Houndoom',\n",
       " 'Houndour',\n",
       " 'Houndstone',\n",
       " 'Huntail',\n",
       " 'Hydreigon',\n",
       " 'Hypno',\n",
       " 'Igglybuff',\n",
       " 'Illumise',\n",
       " 'Impidimp',\n",
       " 'Incineroar',\n",
       " 'Indeedee',\n",
       " 'Infernape',\n",
       " 'Inkay',\n",
       " 'Inteleon',\n",
       " 'Iron Bundle',\n",
       " 'Iron Hands',\n",
       " 'Iron Jugulis',\n",
       " 'Iron Leaves',\n",
       " 'Iron Moth',\n",
       " 'Iron Thorns',\n",
       " 'Iron Treads',\n",
       " 'Iron Valiant',\n",
       " 'Ivysaur',\n",
       " 'Jangmo-o',\n",
       " 'Jellicent',\n",
       " 'Jigglypuff',\n",
       " 'Jirachi',\n",
       " 'Jolteon',\n",
       " 'Joltik',\n",
       " 'Jumpluff',\n",
       " 'Jynx',\n",
       " 'Kabuto',\n",
       " 'Kabutops',\n",
       " 'Kadabra',\n",
       " 'Kakuna',\n",
       " 'Kangaskhan',\n",
       " 'Karrablast',\n",
       " 'Kartana',\n",
       " 'Kecleon',\n",
       " 'Keldeo',\n",
       " 'Kilowattrel',\n",
       " 'Kingambit',\n",
       " 'Kingdra',\n",
       " 'Kingler',\n",
       " 'Kirlia',\n",
       " 'Klang',\n",
       " 'Klawf',\n",
       " 'Kleavor',\n",
       " 'Klefki',\n",
       " 'Klink',\n",
       " 'Klinklang',\n",
       " 'Koffing',\n",
       " 'Komala',\n",
       " 'Kommo-o',\n",
       " 'Koraidon',\n",
       " 'Krabby',\n",
       " 'Kricketot',\n",
       " 'Kricketune',\n",
       " 'Krokorok',\n",
       " 'Krookodile',\n",
       " 'Kubfu',\n",
       " 'Kyogre',\n",
       " 'Kyurem',\n",
       " 'Lairon',\n",
       " 'Lampent',\n",
       " 'Landorus',\n",
       " 'Lanturn',\n",
       " 'Lapras',\n",
       " 'Larvesta',\n",
       " 'Larvitar',\n",
       " 'Latias',\n",
       " 'Latios',\n",
       " 'Leafeon',\n",
       " 'Leavanny',\n",
       " 'Lechonk',\n",
       " 'Ledian',\n",
       " 'Ledyba',\n",
       " 'Lickilicky',\n",
       " 'Lickitung',\n",
       " 'Liepard',\n",
       " 'Lileep',\n",
       " 'Lilligant',\n",
       " 'Lillipup',\n",
       " 'Linoone',\n",
       " 'Litleo',\n",
       " 'Litten',\n",
       " 'Litwick',\n",
       " 'Lokix',\n",
       " 'Lombre',\n",
       " 'Lopunny',\n",
       " 'Lotad',\n",
       " 'Loudred',\n",
       " 'Lucario',\n",
       " 'Ludicolo',\n",
       " 'Lugia',\n",
       " 'Lumineon',\n",
       " 'Lunala',\n",
       " 'Lunatone',\n",
       " 'Lurantis',\n",
       " 'Luvdisc',\n",
       " 'Luxio',\n",
       " 'Luxray',\n",
       " 'Lycanroc',\n",
       " 'Mabosstiff',\n",
       " 'Machamp',\n",
       " 'Machoke',\n",
       " 'Machop',\n",
       " 'Magby',\n",
       " 'Magcargo',\n",
       " 'Magearna',\n",
       " 'Magikarp',\n",
       " 'Magmar',\n",
       " 'Magmortar',\n",
       " 'Magnemite',\n",
       " 'Magneton',\n",
       " 'Magnezone',\n",
       " 'Makuhita',\n",
       " 'Malamar',\n",
       " 'Mamoswine',\n",
       " 'Manaphy',\n",
       " 'Mandibuzz',\n",
       " 'Manectric',\n",
       " 'Mankey',\n",
       " 'Mantine',\n",
       " 'Mantyke',\n",
       " 'Maractus',\n",
       " 'Mareanie',\n",
       " 'Mareep',\n",
       " 'Marill',\n",
       " 'Marowak',\n",
       " 'Marshadow',\n",
       " 'Marshtomp',\n",
       " 'Maschiff',\n",
       " 'Masquerain',\n",
       " 'Maushold',\n",
       " 'Mawile',\n",
       " 'Medicham',\n",
       " 'Meditite',\n",
       " 'Meganium',\n",
       " 'Melmetal',\n",
       " 'Meloetta',\n",
       " 'Meltan',\n",
       " 'Meowscarada',\n",
       " 'Meowstic',\n",
       " 'Meowth',\n",
       " 'Mesprit',\n",
       " 'Metagross',\n",
       " 'Metang',\n",
       " 'Metapod',\n",
       " 'Mew',\n",
       " 'Mewtwo',\n",
       " 'Mienfoo',\n",
       " 'Mienshao',\n",
       " 'Mightyena',\n",
       " 'Milcery',\n",
       " 'Milotic',\n",
       " 'Miltank',\n",
       " 'Mime Jr.',\n",
       " 'Mimikyu',\n",
       " 'Minccino',\n",
       " 'Minior',\n",
       " 'Minun',\n",
       " 'Miraidon',\n",
       " 'Misdreavus',\n",
       " 'Mismagius',\n",
       " 'Moltres',\n",
       " 'Monferno',\n",
       " 'Morelull',\n",
       " 'Morgrem',\n",
       " 'Morpeko',\n",
       " 'Mothim',\n",
       " 'Mr. Mime',\n",
       " 'Mr. Rime',\n",
       " 'Mudbray',\n",
       " 'Mudkip',\n",
       " 'Mudsdale',\n",
       " 'Muk',\n",
       " 'Munchlax',\n",
       " 'Munna',\n",
       " 'Murkrow',\n",
       " 'Musharna',\n",
       " 'Nacli',\n",
       " 'Naclstack',\n",
       " 'Naganadel',\n",
       " 'Natu',\n",
       " 'Necrozma',\n",
       " 'Nickit',\n",
       " 'Nidoking',\n",
       " 'Nidoqueen',\n",
       " 'Nidoran♀',\n",
       " 'Nidoran♂',\n",
       " 'Nidorina',\n",
       " 'Nidorino',\n",
       " 'Nihilego',\n",
       " 'Nincada',\n",
       " 'Ninetales',\n",
       " 'Ninjask',\n",
       " 'Noctowl',\n",
       " 'Noibat',\n",
       " 'Noivern',\n",
       " 'Nosepass',\n",
       " 'Numel',\n",
       " 'Nuzleaf',\n",
       " 'Nymble',\n",
       " 'Obstagoon',\n",
       " 'Octillery',\n",
       " 'Oddish',\n",
       " 'Oinkologne',\n",
       " 'Omanyte',\n",
       " 'Omastar',\n",
       " 'Onix',\n",
       " 'Oranguru',\n",
       " 'Orbeetle',\n",
       " 'Oricorio',\n",
       " 'Orthworm',\n",
       " 'Oshawott',\n",
       " 'Overqwil',\n",
       " 'Pachirisu',\n",
       " 'Palafin',\n",
       " 'Palkia',\n",
       " 'Palossand',\n",
       " 'Palpitoad',\n",
       " 'Pancham',\n",
       " 'Pangoro',\n",
       " 'Panpour',\n",
       " 'Pansage',\n",
       " 'Pansear',\n",
       " 'Paras',\n",
       " 'Parasect',\n",
       " 'Passimian',\n",
       " 'Patrat',\n",
       " 'Pawmi',\n",
       " 'Pawmo',\n",
       " 'Pawmot',\n",
       " 'Pawniard',\n",
       " 'Pelipper',\n",
       " 'Perrserker',\n",
       " 'Persian',\n",
       " 'Petilil',\n",
       " 'Phanpy',\n",
       " 'Phantump',\n",
       " 'Pheromosa',\n",
       " 'Phione',\n",
       " 'Pichu',\n",
       " 'Pidgeot',\n",
       " 'Pidgeotto',\n",
       " 'Pidgey',\n",
       " 'Pidove',\n",
       " 'Pignite',\n",
       " 'Pikachu',\n",
       " 'Pikipek',\n",
       " 'Piloswine',\n",
       " 'Pincurchin',\n",
       " 'Pineco',\n",
       " 'Pinsir',\n",
       " 'Piplup',\n",
       " 'Plusle',\n",
       " 'Poipole',\n",
       " 'Politoed',\n",
       " 'Poliwag',\n",
       " 'Poliwhirl',\n",
       " 'Poliwrath',\n",
       " 'Polteageist',\n",
       " 'Ponyta',\n",
       " 'Poochyena',\n",
       " 'Popplio',\n",
       " 'Porygon',\n",
       " 'Porygon-Z',\n",
       " 'Porygon2',\n",
       " 'Primarina',\n",
       " 'Primeape',\n",
       " 'Prinplup',\n",
       " 'Probopass',\n",
       " 'Psyduck',\n",
       " 'Pumpkaboo',\n",
       " 'Pupitar',\n",
       " 'Purrloin',\n",
       " 'Purugly',\n",
       " 'Pyroar',\n",
       " 'Pyukumuku',\n",
       " 'Quagsire',\n",
       " 'Quaquaval',\n",
       " 'Quaxly',\n",
       " 'Quaxwell',\n",
       " 'Quilava',\n",
       " 'Quilladin',\n",
       " 'Qwilfish',\n",
       " 'Raboot',\n",
       " 'Rabsca',\n",
       " 'Raichu',\n",
       " 'Raikou',\n",
       " 'Ralts',\n",
       " 'Rampardos',\n",
       " 'Rapidash',\n",
       " 'Raticate',\n",
       " 'Rattata',\n",
       " 'Rayquaza',\n",
       " 'Regice',\n",
       " 'Regidrago',\n",
       " 'Regieleki',\n",
       " 'Regigigas',\n",
       " 'Regirock',\n",
       " 'Registeel',\n",
       " 'Relicanth',\n",
       " 'Rellor',\n",
       " 'Remoraid',\n",
       " 'Reshiram',\n",
       " 'Reuniclus',\n",
       " 'Revavroom',\n",
       " 'Rhydon',\n",
       " 'Rhyhorn',\n",
       " 'Rhyperior',\n",
       " 'Ribombee',\n",
       " 'Rillaboom',\n",
       " 'Riolu',\n",
       " 'Roaring Moon',\n",
       " 'Rockruff',\n",
       " 'Roggenrola',\n",
       " 'Rolycoly',\n",
       " 'Rookidee',\n",
       " 'Roselia',\n",
       " 'Roserade',\n",
       " 'Rotom',\n",
       " 'Rowlet',\n",
       " 'Rufflet',\n",
       " 'Runerigus',\n",
       " 'Sableye',\n",
       " 'Salamence',\n",
       " 'Salandit',\n",
       " 'Salazzle',\n",
       " 'Samurott',\n",
       " 'Sandaconda',\n",
       " 'Sandile',\n",
       " 'Sandshrew',\n",
       " 'Sandslash',\n",
       " 'Sandy Shocks',\n",
       " 'Sandygast',\n",
       " 'Sawk',\n",
       " 'Sawsbuck',\n",
       " 'Scatterbug',\n",
       " 'Sceptile',\n",
       " 'Scizor',\n",
       " 'Scolipede',\n",
       " 'Scorbunny',\n",
       " 'Scovillain',\n",
       " 'Scrafty',\n",
       " 'Scraggy',\n",
       " 'Scream Tail',\n",
       " 'Scyther',\n",
       " 'Seadra',\n",
       " 'Seaking',\n",
       " 'Sealeo',\n",
       " 'Seedot',\n",
       " 'Seel',\n",
       " 'Seismitoad',\n",
       " 'Sentret',\n",
       " 'Serperior',\n",
       " 'Servine',\n",
       " 'Seviper',\n",
       " 'Sewaddle',\n",
       " 'Sharpedo',\n",
       " 'Shaymin',\n",
       " 'Shedinja',\n",
       " 'Shelgon',\n",
       " 'Shellder',\n",
       " 'Shellos',\n",
       " 'Shelmet',\n",
       " 'Shieldon',\n",
       " 'Shiftry',\n",
       " 'Shiinotic',\n",
       " 'Shinx',\n",
       " 'Shroodle',\n",
       " 'Shroomish',\n",
       " 'Shuckle',\n",
       " 'Shuppet',\n",
       " 'Sigilyph',\n",
       " 'Silcoon',\n",
       " 'Silicobra',\n",
       " 'Silvally',\n",
       " 'Simipour',\n",
       " 'Simisage',\n",
       " 'Simisear',\n",
       " 'Sinistea',\n",
       " 'Sirfetch’d',\n",
       " 'Sizzlipede',\n",
       " 'Skarmory',\n",
       " 'Skeledirge',\n",
       " 'Skiddo',\n",
       " 'Skiploom',\n",
       " 'Skitty',\n",
       " 'Skorupi',\n",
       " 'Skrelp',\n",
       " 'Skuntank',\n",
       " 'Skwovet',\n",
       " 'Slaking',\n",
       " 'Slakoth',\n",
       " 'Sliggoo',\n",
       " 'Slither Wing',\n",
       " 'Slowbro',\n",
       " 'Slowking',\n",
       " 'Slowpoke',\n",
       " 'Slugma',\n",
       " 'Slurpuff',\n",
       " 'Smeargle',\n",
       " 'Smoliv',\n",
       " 'Smoochum',\n",
       " 'Sneasel',\n",
       " 'Sneasler',\n",
       " 'Snivy',\n",
       " 'Snom',\n",
       " 'Snorlax',\n",
       " 'Snorunt',\n",
       " 'Snover',\n",
       " 'Snubbull',\n",
       " 'Sobble',\n",
       " 'Solgaleo',\n",
       " 'Solosis',\n",
       " 'Solrock',\n",
       " 'Spearow',\n",
       " 'Spectrier',\n",
       " 'Spewpa',\n",
       " 'Spheal',\n",
       " 'Spidops',\n",
       " 'Spinarak',\n",
       " 'Spinda',\n",
       " 'Spiritomb',\n",
       " 'Spoink',\n",
       " 'Sprigatito',\n",
       " 'Spritzee',\n",
       " 'Squawkabilly',\n",
       " 'Squirtle',\n",
       " 'Stakataka',\n",
       " 'Stantler',\n",
       " 'Staraptor',\n",
       " 'Staravia',\n",
       " 'Starly',\n",
       " 'Starmie',\n",
       " 'Staryu',\n",
       " 'Steelix',\n",
       " 'Steenee',\n",
       " 'Stonjourner',\n",
       " 'Stoutland',\n",
       " 'Stufful',\n",
       " 'Stunfisk',\n",
       " 'Stunky',\n",
       " 'Sudowoodo',\n",
       " 'Suicune',\n",
       " 'Sunflora',\n",
       " 'Sunkern',\n",
       " 'Surskit',\n",
       " 'Swablu',\n",
       " 'Swadloon',\n",
       " 'Swalot',\n",
       " 'Swampert',\n",
       " 'Swanna',\n",
       " 'Swellow',\n",
       " 'Swinub',\n",
       " 'Swirlix',\n",
       " 'Swoobat',\n",
       " 'Sylveon',\n",
       " 'Tadbulb',\n",
       " 'Taillow',\n",
       " 'Talonflame',\n",
       " 'Tandemaus',\n",
       " 'Tangela',\n",
       " 'Tangrowth',\n",
       " 'Tapu Bulu',\n",
       " 'Tapu Fini',\n",
       " 'Tapu Koko',\n",
       " 'Tapu Lele',\n",
       " 'Tarountula',\n",
       " 'Tatsugiri',\n",
       " 'Tauros',\n",
       " 'Teddiursa',\n",
       " 'Tentacool',\n",
       " 'Tentacruel',\n",
       " 'Tepig',\n",
       " 'Terrakion',\n",
       " 'Thievul',\n",
       " 'Throh',\n",
       " 'Thundurus',\n",
       " 'Thwackey',\n",
       " 'Timburr',\n",
       " 'Ting-Lu',\n",
       " 'Tinkatink',\n",
       " 'Tinkaton',\n",
       " 'Tinkatuff',\n",
       " 'Tirtouga',\n",
       " 'Toedscool',\n",
       " 'Toedscruel',\n",
       " 'Togedemaru',\n",
       " 'Togekiss',\n",
       " 'Togepi',\n",
       " 'Togetic',\n",
       " 'Torchic',\n",
       " 'Torkoal',\n",
       " 'Tornadus',\n",
       " 'Torracat',\n",
       " 'Torterra',\n",
       " 'Totodile',\n",
       " 'Toucannon',\n",
       " 'Toxapex',\n",
       " 'Toxel',\n",
       " 'Toxicroak',\n",
       " 'Toxtricity',\n",
       " 'Tranquill',\n",
       " 'Trapinch',\n",
       " 'Treecko',\n",
       " 'Trevenant',\n",
       " 'Tropius',\n",
       " 'Trubbish',\n",
       " 'Trumbeak',\n",
       " 'Tsareena',\n",
       " 'Turtonator',\n",
       " 'Turtwig',\n",
       " 'Tympole',\n",
       " 'Tynamo',\n",
       " 'Type: Null',\n",
       " 'Typhlosion',\n",
       " 'Tyranitar',\n",
       " 'Tyrantrum',\n",
       " 'Tyrogue',\n",
       " 'Tyrunt',\n",
       " 'Umbreon',\n",
       " 'Unfezant',\n",
       " 'Unown',\n",
       " 'Ursaluna',\n",
       " 'Ursaring',\n",
       " 'Urshifu',\n",
       " 'Uxie',\n",
       " 'Vanillish',\n",
       " 'Vanillite',\n",
       " 'Vanilluxe',\n",
       " 'Vaporeon',\n",
       " 'Varoom',\n",
       " 'Veluza',\n",
       " 'Venipede',\n",
       " 'Venomoth',\n",
       " 'Venonat',\n",
       " 'Venusaur',\n",
       " 'Vespiquen',\n",
       " 'Vibrava',\n",
       " 'Victini',\n",
       " 'Victreebel',\n",
       " 'Vigoroth',\n",
       " 'Vikavolt',\n",
       " 'Vileplume',\n",
       " 'Virizion',\n",
       " 'Vivillon',\n",
       " 'Volbeat',\n",
       " 'Volcanion',\n",
       " 'Volcarona',\n",
       " 'Voltorb',\n",
       " 'Vullaby',\n",
       " 'Vulpix',\n",
       " 'Wailmer',\n",
       " 'Wailord',\n",
       " 'Walking Wake',\n",
       " 'Walrein',\n",
       " 'Wartortle',\n",
       " 'Watchog',\n",
       " 'Wattrel',\n",
       " 'Weavile',\n",
       " 'Weedle',\n",
       " 'Weepinbell',\n",
       " 'Weezing',\n",
       " 'Whimsicott',\n",
       " 'Whirlipede',\n",
       " 'Whiscash',\n",
       " 'Whismur',\n",
       " 'Wigglytuff',\n",
       " 'Wiglett',\n",
       " 'Wimpod',\n",
       " 'Wingull',\n",
       " 'Wishiwashi',\n",
       " 'Wo-Chien',\n",
       " 'Wobbuffet',\n",
       " 'Woobat',\n",
       " 'Wooloo',\n",
       " 'Wooper',\n",
       " 'Wormadam',\n",
       " 'Wugtrio',\n",
       " 'Wurmple',\n",
       " 'Wynaut',\n",
       " 'Wyrdeer',\n",
       " 'Xatu',\n",
       " 'Xerneas',\n",
       " 'Xurkitree',\n",
       " 'Yamask',\n",
       " 'Yamper',\n",
       " 'Yanma',\n",
       " 'Yanmega',\n",
       " 'Yungoos',\n",
       " 'Yveltal',\n",
       " 'Zacian',\n",
       " 'Zamazenta',\n",
       " 'Zangoose',\n",
       " 'Zapdos',\n",
       " ...]"
      ]
     },
     "execution_count": 46,
     "metadata": {},
     "output_type": "execute_result"
    }
   ],
   "execution_count": 46
  },
  {
   "metadata": {
    "ExecuteTime": {
     "end_time": "2024-12-22T12:06:53.922027Z",
     "start_time": "2024-12-22T12:06:53.900871Z"
    }
   },
   "cell_type": "code",
   "source": "dict(sample)",
   "outputs": [
    {
     "data": {
      "text/plain": [
       "{0: 'Bulbasaur',\n",
       " 1: 'Ivysaur',\n",
       " 2: 'Venusaur',\n",
       " 3: 'Charmander',\n",
       " 4: 'Charmeleon',\n",
       " 5: 'Charizard',\n",
       " 6: 'Squirtle',\n",
       " 7: 'Wartortle',\n",
       " 8: 'Blastoise',\n",
       " 9: 'Caterpie',\n",
       " 10: 'Metapod',\n",
       " 11: 'Butterfree',\n",
       " 12: 'Weedle',\n",
       " 13: 'Kakuna',\n",
       " 14: 'Beedrill',\n",
       " 15: 'Pidgey',\n",
       " 16: 'Pidgeotto',\n",
       " 17: 'Pidgeot',\n",
       " 18: 'Rattata',\n",
       " 19: 'Raticate',\n",
       " 20: 'Spearow',\n",
       " 21: 'Fearow',\n",
       " 22: 'Ekans',\n",
       " 23: 'Arbok',\n",
       " 24: 'Pikachu',\n",
       " 25: 'Raichu',\n",
       " 26: 'Sandshrew',\n",
       " 27: 'Sandslash',\n",
       " 28: 'Nidoran♀',\n",
       " 29: 'Nidorina',\n",
       " 30: 'Nidoqueen',\n",
       " 31: 'Nidoran♂',\n",
       " 32: 'Nidorino',\n",
       " 33: 'Nidoking',\n",
       " 34: 'Clefairy',\n",
       " 35: 'Clefable',\n",
       " 36: 'Vulpix',\n",
       " 37: 'Ninetales',\n",
       " 38: 'Jigglypuff',\n",
       " 39: 'Wigglytuff',\n",
       " 40: 'Zubat',\n",
       " 41: 'Golbat',\n",
       " 42: 'Oddish',\n",
       " 43: 'Gloom',\n",
       " 44: 'Vileplume',\n",
       " 45: 'Paras',\n",
       " 46: 'Parasect',\n",
       " 47: 'Venonat',\n",
       " 48: 'Venomoth',\n",
       " 49: 'Diglett',\n",
       " 50: 'Dugtrio',\n",
       " 51: 'Meowth',\n",
       " 52: 'Persian',\n",
       " 53: 'Psyduck',\n",
       " 54: 'Golduck',\n",
       " 55: 'Mankey',\n",
       " 56: 'Primeape',\n",
       " 57: 'Growlithe',\n",
       " 58: 'Arcanine',\n",
       " 59: 'Poliwag',\n",
       " 60: 'Poliwhirl',\n",
       " 61: 'Poliwrath',\n",
       " 62: 'Abra',\n",
       " 63: 'Kadabra',\n",
       " 64: 'Alakazam',\n",
       " 65: 'Machop',\n",
       " 66: 'Machoke',\n",
       " 67: 'Machamp',\n",
       " 68: 'Bellsprout',\n",
       " 69: 'Weepinbell',\n",
       " 70: 'Victreebel',\n",
       " 71: 'Tentacool',\n",
       " 72: 'Tentacruel',\n",
       " 73: 'Geodude',\n",
       " 74: 'Graveler',\n",
       " 75: 'Golem',\n",
       " 76: 'Ponyta',\n",
       " 77: 'Rapidash',\n",
       " 78: 'Slowpoke',\n",
       " 79: 'Slowbro',\n",
       " 80: 'Magnemite',\n",
       " 81: 'Magneton',\n",
       " 82: 'Farfetch’d',\n",
       " 83: 'Doduo',\n",
       " 84: 'Dodrio',\n",
       " 85: 'Seel',\n",
       " 86: 'Dewgong',\n",
       " 87: 'Grimer',\n",
       " 88: 'Muk',\n",
       " 89: 'Shellder',\n",
       " 90: 'Cloyster',\n",
       " 91: 'Gastly',\n",
       " 92: 'Haunter',\n",
       " 93: 'Gengar',\n",
       " 94: 'Onix',\n",
       " 95: 'Drowzee',\n",
       " 96: 'Hypno',\n",
       " 97: 'Krabby',\n",
       " 98: 'Kingler',\n",
       " 99: 'Voltorb',\n",
       " 100: 'Electrode',\n",
       " 101: 'Exeggcute',\n",
       " 102: 'Exeggutor',\n",
       " 103: 'Cubone',\n",
       " 104: 'Marowak',\n",
       " 105: 'Hitmonlee',\n",
       " 106: 'Hitmonchan',\n",
       " 107: 'Lickitung',\n",
       " 108: 'Koffing',\n",
       " 109: 'Weezing',\n",
       " 110: 'Rhyhorn',\n",
       " 111: 'Rhydon',\n",
       " 112: 'Chansey',\n",
       " 113: 'Tangela',\n",
       " 114: 'Kangaskhan',\n",
       " 115: 'Horsea',\n",
       " 116: 'Seadra',\n",
       " 117: 'Goldeen',\n",
       " 118: 'Seaking',\n",
       " 119: 'Staryu',\n",
       " 120: 'Starmie',\n",
       " 121: 'Mr. Mime',\n",
       " 122: 'Scyther',\n",
       " 123: 'Jynx',\n",
       " 124: 'Electabuzz',\n",
       " 125: 'Magmar',\n",
       " 126: 'Pinsir',\n",
       " 127: 'Tauros',\n",
       " 128: 'Magikarp',\n",
       " 129: 'Gyarados',\n",
       " 130: 'Lapras',\n",
       " 131: 'Ditto',\n",
       " 132: 'Eevee',\n",
       " 133: 'Vaporeon',\n",
       " 134: 'Jolteon',\n",
       " 135: 'Flareon',\n",
       " 136: 'Porygon',\n",
       " 137: 'Omanyte',\n",
       " 138: 'Omastar',\n",
       " 139: 'Kabuto',\n",
       " 140: 'Kabutops',\n",
       " 141: 'Aerodactyl',\n",
       " 142: 'Snorlax',\n",
       " 143: 'Articuno',\n",
       " 144: 'Zapdos',\n",
       " 145: 'Moltres',\n",
       " 146: 'Dratini',\n",
       " 147: 'Dragonair',\n",
       " 148: 'Dragonite',\n",
       " 149: 'Mewtwo',\n",
       " 150: 'Mew',\n",
       " 151: 'Chikorita',\n",
       " 152: 'Bayleef',\n",
       " 153: 'Meganium',\n",
       " 154: 'Cyndaquil',\n",
       " 155: 'Quilava',\n",
       " 156: 'Typhlosion',\n",
       " 157: 'Totodile',\n",
       " 158: 'Croconaw',\n",
       " 159: 'Feraligatr',\n",
       " 160: 'Sentret',\n",
       " 161: 'Furret',\n",
       " 162: 'Hoothoot',\n",
       " 163: 'Noctowl',\n",
       " 164: 'Ledyba',\n",
       " 165: 'Ledian',\n",
       " 166: 'Spinarak',\n",
       " 167: 'Ariados',\n",
       " 168: 'Crobat',\n",
       " 169: 'Chinchou',\n",
       " 170: 'Lanturn',\n",
       " 171: 'Pichu',\n",
       " 172: 'Cleffa',\n",
       " 173: 'Igglybuff',\n",
       " 174: 'Togepi',\n",
       " 175: 'Togetic',\n",
       " 176: 'Natu',\n",
       " 177: 'Xatu',\n",
       " 178: 'Mareep',\n",
       " 179: 'Flaaffy',\n",
       " 180: 'Ampharos',\n",
       " 181: 'Bellossom',\n",
       " 182: 'Marill',\n",
       " 183: 'Azumarill',\n",
       " 184: 'Sudowoodo',\n",
       " 185: 'Politoed',\n",
       " 186: 'Hoppip',\n",
       " 187: 'Skiploom',\n",
       " 188: 'Jumpluff',\n",
       " 189: 'Aipom',\n",
       " 190: 'Sunkern',\n",
       " 191: 'Sunflora',\n",
       " 192: 'Yanma',\n",
       " 193: 'Wooper',\n",
       " 194: 'Quagsire',\n",
       " 195: 'Espeon',\n",
       " 196: 'Umbreon',\n",
       " 197: 'Murkrow',\n",
       " 198: 'Slowking',\n",
       " 199: 'Misdreavus',\n",
       " 200: 'Unown',\n",
       " 201: 'Wobbuffet',\n",
       " 202: 'Girafarig',\n",
       " 203: 'Pineco',\n",
       " 204: 'Forretress',\n",
       " 205: 'Dunsparce',\n",
       " 206: 'Gligar',\n",
       " 207: 'Steelix',\n",
       " 208: 'Snubbull',\n",
       " 209: 'Granbull',\n",
       " 210: 'Qwilfish',\n",
       " 211: 'Scizor',\n",
       " 212: 'Shuckle',\n",
       " 213: 'Heracross',\n",
       " 214: 'Sneasel',\n",
       " 215: 'Teddiursa',\n",
       " 216: 'Ursaring',\n",
       " 217: 'Slugma',\n",
       " 218: 'Magcargo',\n",
       " 219: 'Swinub',\n",
       " 220: 'Piloswine',\n",
       " 221: 'Corsola',\n",
       " 222: 'Remoraid',\n",
       " 223: 'Octillery',\n",
       " 224: 'Delibird',\n",
       " 225: 'Mantine',\n",
       " 226: 'Skarmory',\n",
       " 227: 'Houndour',\n",
       " 228: 'Houndoom',\n",
       " 229: 'Kingdra',\n",
       " 230: 'Phanpy',\n",
       " 231: 'Donphan',\n",
       " 232: 'Porygon2',\n",
       " 233: 'Stantler',\n",
       " 234: 'Smeargle',\n",
       " 235: 'Tyrogue',\n",
       " 236: 'Hitmontop',\n",
       " 237: 'Smoochum',\n",
       " 238: 'Elekid',\n",
       " 239: 'Magby',\n",
       " 240: 'Miltank',\n",
       " 241: 'Blissey',\n",
       " 242: 'Raikou',\n",
       " 243: 'Entei',\n",
       " 244: 'Suicune',\n",
       " 245: 'Larvitar',\n",
       " 246: 'Pupitar',\n",
       " 247: 'Tyranitar',\n",
       " 248: 'Lugia',\n",
       " 249: 'Ho-Oh',\n",
       " 250: 'Celebi',\n",
       " 251: 'Treecko',\n",
       " 252: 'Grovyle',\n",
       " 253: 'Sceptile',\n",
       " 254: 'Torchic',\n",
       " 255: 'Combusken',\n",
       " 256: 'Blaziken',\n",
       " 257: 'Mudkip',\n",
       " 258: 'Marshtomp',\n",
       " 259: 'Swampert',\n",
       " 260: 'Poochyena',\n",
       " 261: 'Mightyena',\n",
       " 262: 'Zigzagoon',\n",
       " 263: 'Linoone',\n",
       " 264: 'Wurmple',\n",
       " 265: 'Silcoon',\n",
       " 266: 'Beautifly',\n",
       " 267: 'Cascoon',\n",
       " 268: 'Dustox',\n",
       " 269: 'Lotad',\n",
       " 270: 'Lombre',\n",
       " 271: 'Ludicolo',\n",
       " 272: 'Seedot',\n",
       " 273: 'Nuzleaf',\n",
       " 274: 'Shiftry',\n",
       " 275: 'Taillow',\n",
       " 276: 'Swellow',\n",
       " 277: 'Wingull',\n",
       " 278: 'Pelipper',\n",
       " 279: 'Ralts',\n",
       " 280: 'Kirlia',\n",
       " 281: 'Gardevoir',\n",
       " 282: 'Surskit',\n",
       " 283: 'Masquerain',\n",
       " 284: 'Shroomish',\n",
       " 285: 'Breloom',\n",
       " 286: 'Slakoth',\n",
       " 287: 'Vigoroth',\n",
       " 288: 'Slaking',\n",
       " 289: 'Nincada',\n",
       " 290: 'Ninjask',\n",
       " 291: 'Shedinja',\n",
       " 292: 'Whismur',\n",
       " 293: 'Loudred',\n",
       " 294: 'Exploud',\n",
       " 295: 'Makuhita',\n",
       " 296: 'Hariyama',\n",
       " 297: 'Azurill',\n",
       " 298: 'Nosepass',\n",
       " 299: 'Skitty',\n",
       " 300: 'Delcatty',\n",
       " 301: 'Sableye',\n",
       " 302: 'Mawile',\n",
       " 303: 'Aron',\n",
       " 304: 'Lairon',\n",
       " 305: 'Aggron',\n",
       " 306: 'Meditite',\n",
       " 307: 'Medicham',\n",
       " 308: 'Electrike',\n",
       " 309: 'Manectric',\n",
       " 310: 'Plusle',\n",
       " 311: 'Minun',\n",
       " 312: 'Volbeat',\n",
       " 313: 'Illumise',\n",
       " 314: 'Roselia',\n",
       " 315: 'Gulpin',\n",
       " 316: 'Swalot',\n",
       " 317: 'Carvanha',\n",
       " 318: 'Sharpedo',\n",
       " 319: 'Wailmer',\n",
       " 320: 'Wailord',\n",
       " 321: 'Numel',\n",
       " 322: 'Camerupt',\n",
       " 323: 'Torkoal',\n",
       " 324: 'Spoink',\n",
       " 325: 'Grumpig',\n",
       " 326: 'Spinda',\n",
       " 327: 'Trapinch',\n",
       " 328: 'Vibrava',\n",
       " 329: 'Flygon',\n",
       " 330: 'Cacnea',\n",
       " 331: 'Cacturne',\n",
       " 332: 'Swablu',\n",
       " 333: 'Altaria',\n",
       " 334: 'Zangoose',\n",
       " 335: 'Seviper',\n",
       " 336: 'Lunatone',\n",
       " 337: 'Solrock',\n",
       " 338: 'Barboach',\n",
       " 339: 'Whiscash',\n",
       " 340: 'Corphish',\n",
       " 341: 'Crawdaunt',\n",
       " 342: 'Baltoy',\n",
       " 343: 'Claydol',\n",
       " 344: 'Lileep',\n",
       " 345: 'Cradily',\n",
       " 346: 'Anorith',\n",
       " 347: 'Armaldo',\n",
       " 348: 'Feebas',\n",
       " 349: 'Milotic',\n",
       " 350: 'Castform',\n",
       " 351: 'Kecleon',\n",
       " 352: 'Shuppet',\n",
       " 353: 'Banette',\n",
       " 354: 'Duskull',\n",
       " 355: 'Dusclops',\n",
       " 356: 'Tropius',\n",
       " 357: 'Chimecho',\n",
       " 358: 'Absol',\n",
       " 359: 'Wynaut',\n",
       " 360: 'Snorunt',\n",
       " 361: 'Glalie',\n",
       " 362: 'Spheal',\n",
       " 363: 'Sealeo',\n",
       " 364: 'Walrein',\n",
       " 365: 'Clamperl',\n",
       " 366: 'Huntail',\n",
       " 367: 'Gorebyss',\n",
       " 368: 'Relicanth',\n",
       " 369: 'Luvdisc',\n",
       " 370: 'Bagon',\n",
       " 371: 'Shelgon',\n",
       " 372: 'Salamence',\n",
       " 373: 'Beldum',\n",
       " 374: 'Metang',\n",
       " 375: 'Metagross',\n",
       " 376: 'Regirock',\n",
       " 377: 'Regice',\n",
       " 378: 'Registeel',\n",
       " 379: 'Latias',\n",
       " 380: 'Latios',\n",
       " 381: 'Kyogre',\n",
       " 382: 'Groudon',\n",
       " 383: 'Rayquaza',\n",
       " 384: 'Jirachi',\n",
       " 385: 'Deoxys',\n",
       " 386: 'Turtwig',\n",
       " 387: 'Grotle',\n",
       " 388: 'Torterra',\n",
       " 389: 'Chimchar',\n",
       " 390: 'Monferno',\n",
       " 391: 'Infernape',\n",
       " 392: 'Piplup',\n",
       " 393: 'Prinplup',\n",
       " 394: 'Empoleon',\n",
       " 395: 'Starly',\n",
       " 396: 'Staravia',\n",
       " 397: 'Staraptor',\n",
       " 398: 'Bidoof',\n",
       " 399: 'Bibarel',\n",
       " 400: 'Kricketot',\n",
       " 401: 'Kricketune',\n",
       " 402: 'Shinx',\n",
       " 403: 'Luxio',\n",
       " 404: 'Luxray',\n",
       " 405: 'Budew',\n",
       " 406: 'Roserade',\n",
       " 407: 'Cranidos',\n",
       " 408: 'Rampardos',\n",
       " 409: 'Shieldon',\n",
       " 410: 'Bastiodon',\n",
       " 411: 'Burmy',\n",
       " 412: 'Wormadam',\n",
       " 413: 'Mothim',\n",
       " 414: 'Combee',\n",
       " 415: 'Vespiquen',\n",
       " 416: 'Pachirisu',\n",
       " 417: 'Buizel',\n",
       " 418: 'Floatzel',\n",
       " 419: 'Cherubi',\n",
       " 420: 'Cherrim',\n",
       " 421: 'Shellos',\n",
       " 422: 'Gastrodon',\n",
       " 423: 'Ambipom',\n",
       " 424: 'Drifloon',\n",
       " 425: 'Drifblim',\n",
       " 426: 'Buneary',\n",
       " 427: 'Lopunny',\n",
       " 428: 'Mismagius',\n",
       " 429: 'Honchkrow',\n",
       " 430: 'Glameow',\n",
       " 431: 'Purugly',\n",
       " 432: 'Chingling',\n",
       " 433: 'Stunky',\n",
       " 434: 'Skuntank',\n",
       " 435: 'Bronzor',\n",
       " 436: 'Bronzong',\n",
       " 437: 'Bonsly',\n",
       " 438: 'Mime Jr.',\n",
       " 439: 'Happiny',\n",
       " 440: 'Chatot',\n",
       " 441: 'Spiritomb',\n",
       " 442: 'Gible',\n",
       " 443: 'Gabite',\n",
       " 444: 'Garchomp',\n",
       " 445: 'Munchlax',\n",
       " 446: 'Riolu',\n",
       " 447: 'Lucario',\n",
       " 448: 'Hippopotas',\n",
       " 449: 'Hippowdon',\n",
       " 450: 'Skorupi',\n",
       " 451: 'Drapion',\n",
       " 452: 'Croagunk',\n",
       " 453: 'Toxicroak',\n",
       " 454: 'Carnivine',\n",
       " 455: 'Finneon',\n",
       " 456: 'Lumineon',\n",
       " 457: 'Mantyke',\n",
       " 458: 'Snover',\n",
       " 459: 'Abomasnow',\n",
       " 460: 'Weavile',\n",
       " 461: 'Magnezone',\n",
       " 462: 'Lickilicky',\n",
       " 463: 'Rhyperior',\n",
       " 464: 'Tangrowth',\n",
       " 465: 'Electivire',\n",
       " 466: 'Magmortar',\n",
       " 467: 'Togekiss',\n",
       " 468: 'Yanmega',\n",
       " 469: 'Leafeon',\n",
       " 470: 'Glaceon',\n",
       " 471: 'Gliscor',\n",
       " 472: 'Mamoswine',\n",
       " 473: 'Porygon-Z',\n",
       " 474: 'Gallade',\n",
       " 475: 'Probopass',\n",
       " 476: 'Dusknoir',\n",
       " 477: 'Froslass',\n",
       " 478: 'Rotom',\n",
       " 479: 'Uxie',\n",
       " 480: 'Mesprit',\n",
       " 481: 'Azelf',\n",
       " 482: 'Dialga',\n",
       " 483: 'Palkia',\n",
       " 484: 'Heatran',\n",
       " 485: 'Regigigas',\n",
       " 486: 'Giratina',\n",
       " 487: 'Cresselia',\n",
       " 488: 'Phione',\n",
       " 489: 'Manaphy',\n",
       " 490: 'Darkrai',\n",
       " 491: 'Shaymin',\n",
       " 492: 'Arceus',\n",
       " 493: 'Victini',\n",
       " 494: 'Snivy',\n",
       " 495: 'Servine',\n",
       " 496: 'Serperior',\n",
       " 497: 'Tepig',\n",
       " 498: 'Pignite',\n",
       " 499: 'Emboar',\n",
       " 500: 'Oshawott',\n",
       " 501: 'Dewott',\n",
       " 502: 'Samurott',\n",
       " 503: 'Patrat',\n",
       " 504: 'Watchog',\n",
       " 505: 'Lillipup',\n",
       " 506: 'Herdier',\n",
       " 507: 'Stoutland',\n",
       " 508: 'Purrloin',\n",
       " 509: 'Liepard',\n",
       " 510: 'Pansage',\n",
       " 511: 'Simisage',\n",
       " 512: 'Pansear',\n",
       " 513: 'Simisear',\n",
       " 514: 'Panpour',\n",
       " 515: 'Simipour',\n",
       " 516: 'Munna',\n",
       " 517: 'Musharna',\n",
       " 518: 'Pidove',\n",
       " 519: 'Tranquill',\n",
       " 520: 'Unfezant',\n",
       " 521: 'Blitzle',\n",
       " 522: 'Zebstrika',\n",
       " 523: 'Roggenrola',\n",
       " 524: 'Boldore',\n",
       " 525: 'Gigalith',\n",
       " 526: 'Woobat',\n",
       " 527: 'Swoobat',\n",
       " 528: 'Drilbur',\n",
       " 529: 'Excadrill',\n",
       " 530: 'Audino',\n",
       " 531: 'Timburr',\n",
       " 532: 'Gurdurr',\n",
       " 533: 'Conkeldurr',\n",
       " 534: 'Tympole',\n",
       " 535: 'Palpitoad',\n",
       " 536: 'Seismitoad',\n",
       " 537: 'Throh',\n",
       " 538: 'Sawk',\n",
       " 539: 'Sewaddle',\n",
       " 540: 'Swadloon',\n",
       " 541: 'Leavanny',\n",
       " 542: 'Venipede',\n",
       " 543: 'Whirlipede',\n",
       " 544: 'Scolipede',\n",
       " 545: 'Cottonee',\n",
       " 546: 'Whimsicott',\n",
       " 547: 'Petilil',\n",
       " 548: 'Lilligant',\n",
       " 549: 'Basculin',\n",
       " 550: 'Sandile',\n",
       " 551: 'Krokorok',\n",
       " 552: 'Krookodile',\n",
       " 553: 'Darumaka',\n",
       " 554: 'Darmanitan',\n",
       " 555: 'Maractus',\n",
       " 556: 'Dwebble',\n",
       " 557: 'Crustle',\n",
       " 558: 'Scraggy',\n",
       " 559: 'Scrafty',\n",
       " 560: 'Sigilyph',\n",
       " 561: 'Yamask',\n",
       " 562: 'Cofagrigus',\n",
       " 563: 'Tirtouga',\n",
       " 564: 'Carracosta',\n",
       " 565: 'Archen',\n",
       " 566: 'Archeops',\n",
       " 567: 'Trubbish',\n",
       " 568: 'Garbodor',\n",
       " 569: 'Zorua',\n",
       " 570: 'Zoroark',\n",
       " 571: 'Minccino',\n",
       " 572: 'Cinccino',\n",
       " 573: 'Gothita',\n",
       " 574: 'Gothorita',\n",
       " 575: 'Gothitelle',\n",
       " 576: 'Solosis',\n",
       " 577: 'Duosion',\n",
       " 578: 'Reuniclus',\n",
       " 579: 'Ducklett',\n",
       " 580: 'Swanna',\n",
       " 581: 'Vanillite',\n",
       " 582: 'Vanillish',\n",
       " 583: 'Vanilluxe',\n",
       " 584: 'Deerling',\n",
       " 585: 'Sawsbuck',\n",
       " 586: 'Emolga',\n",
       " 587: 'Karrablast',\n",
       " 588: 'Escavalier',\n",
       " 589: 'Foongus',\n",
       " 590: 'Amoonguss',\n",
       " 591: 'Frillish',\n",
       " 592: 'Jellicent',\n",
       " 593: 'Alomomola',\n",
       " 594: 'Joltik',\n",
       " 595: 'Galvantula',\n",
       " 596: 'Ferroseed',\n",
       " 597: 'Ferrothorn',\n",
       " 598: 'Klink',\n",
       " 599: 'Klang',\n",
       " 600: 'Klinklang',\n",
       " 601: 'Tynamo',\n",
       " 602: 'Eelektrik',\n",
       " 603: 'Eelektross',\n",
       " 604: 'Elgyem',\n",
       " 605: 'Beheeyem',\n",
       " 606: 'Litwick',\n",
       " 607: 'Lampent',\n",
       " 608: 'Chandelure',\n",
       " 609: 'Axew',\n",
       " 610: 'Fraxure',\n",
       " 611: 'Haxorus',\n",
       " 612: 'Cubchoo',\n",
       " 613: 'Beartic',\n",
       " 614: 'Cryogonal',\n",
       " 615: 'Shelmet',\n",
       " 616: 'Accelgor',\n",
       " 617: 'Stunfisk',\n",
       " 618: 'Mienfoo',\n",
       " 619: 'Mienshao',\n",
       " 620: 'Druddigon',\n",
       " 621: 'Golett',\n",
       " 622: 'Golurk',\n",
       " 623: 'Pawniard',\n",
       " 624: 'Bisharp',\n",
       " 625: 'Bouffalant',\n",
       " 626: 'Rufflet',\n",
       " 627: 'Braviary',\n",
       " 628: 'Vullaby',\n",
       " 629: 'Mandibuzz',\n",
       " 630: 'Heatmor',\n",
       " 631: 'Durant',\n",
       " 632: 'Deino',\n",
       " 633: 'Zweilous',\n",
       " 634: 'Hydreigon',\n",
       " 635: 'Larvesta',\n",
       " 636: 'Volcarona',\n",
       " 637: 'Cobalion',\n",
       " 638: 'Terrakion',\n",
       " 639: 'Virizion',\n",
       " 640: 'Tornadus',\n",
       " 641: 'Thundurus',\n",
       " 642: 'Reshiram',\n",
       " 643: 'Zekrom',\n",
       " 644: 'Landorus',\n",
       " 645: 'Kyurem',\n",
       " 646: 'Keldeo',\n",
       " 647: 'Meloetta',\n",
       " 648: 'Genesect',\n",
       " 649: 'Chespin',\n",
       " 650: 'Quilladin',\n",
       " 651: 'Chesnaught',\n",
       " 652: 'Fennekin',\n",
       " 653: 'Braixen',\n",
       " 654: 'Delphox',\n",
       " 655: 'Froakie',\n",
       " 656: 'Frogadier',\n",
       " 657: 'Greninja',\n",
       " 658: 'Bunnelby',\n",
       " 659: 'Diggersby',\n",
       " 660: 'Fletchling',\n",
       " 661: 'Fletchinder',\n",
       " 662: 'Talonflame',\n",
       " 663: 'Scatterbug',\n",
       " 664: 'Spewpa',\n",
       " 665: 'Vivillon',\n",
       " 666: 'Litleo',\n",
       " 667: 'Pyroar',\n",
       " 668: 'Flabébé',\n",
       " 669: 'Floette',\n",
       " 670: 'Florges',\n",
       " 671: 'Skiddo',\n",
       " 672: 'Gogoat',\n",
       " 673: 'Pancham',\n",
       " 674: 'Pangoro',\n",
       " 675: 'Furfrou',\n",
       " 676: 'Espurr',\n",
       " 677: 'Meowstic',\n",
       " 678: 'Honedge',\n",
       " 679: 'Doublade',\n",
       " 680: 'Aegislash',\n",
       " 681: 'Spritzee',\n",
       " 682: 'Aromatisse',\n",
       " 683: 'Swirlix',\n",
       " 684: 'Slurpuff',\n",
       " 685: 'Inkay',\n",
       " 686: 'Malamar',\n",
       " 687: 'Binacle',\n",
       " 688: 'Barbaracle',\n",
       " 689: 'Skrelp',\n",
       " 690: 'Dragalge',\n",
       " 691: 'Clauncher',\n",
       " 692: 'Clawitzer',\n",
       " 693: 'Helioptile',\n",
       " 694: 'Heliolisk',\n",
       " 695: 'Tyrunt',\n",
       " 696: 'Tyrantrum',\n",
       " 697: 'Amaura',\n",
       " 698: 'Aurorus',\n",
       " 699: 'Sylveon',\n",
       " 700: 'Hawlucha',\n",
       " 701: 'Dedenne',\n",
       " 702: 'Carbink',\n",
       " 703: 'Goomy',\n",
       " 704: 'Sliggoo',\n",
       " 705: 'Goodra',\n",
       " 706: 'Klefki',\n",
       " 707: 'Phantump',\n",
       " 708: 'Trevenant',\n",
       " 709: 'Pumpkaboo',\n",
       " 710: 'Gourgeist',\n",
       " 711: 'Bergmite',\n",
       " 712: 'Avalugg',\n",
       " 713: 'Noibat',\n",
       " 714: 'Noivern',\n",
       " 715: 'Xerneas',\n",
       " 716: 'Yveltal',\n",
       " 717: 'Zygarde',\n",
       " 718: 'Diancie',\n",
       " 719: 'Hoopa',\n",
       " 720: 'Volcanion',\n",
       " 721: 'Rowlet',\n",
       " 722: 'Dartrix',\n",
       " 723: 'Decidueye',\n",
       " 724: 'Litten',\n",
       " 725: 'Torracat',\n",
       " 726: 'Incineroar',\n",
       " 727: 'Popplio',\n",
       " 728: 'Brionne',\n",
       " 729: 'Primarina',\n",
       " 730: 'Pikipek',\n",
       " 731: 'Trumbeak',\n",
       " 732: 'Toucannon',\n",
       " 733: 'Yungoos',\n",
       " 734: 'Gumshoos',\n",
       " 735: 'Grubbin',\n",
       " 736: 'Charjabug',\n",
       " 737: 'Vikavolt',\n",
       " 738: 'Crabrawler',\n",
       " 739: 'Crabominable',\n",
       " 740: 'Oricorio',\n",
       " 741: 'Cutiefly',\n",
       " 742: 'Ribombee',\n",
       " 743: 'Rockruff',\n",
       " 744: 'Lycanroc',\n",
       " 745: 'Wishiwashi',\n",
       " 746: 'Mareanie',\n",
       " 747: 'Toxapex',\n",
       " 748: 'Mudbray',\n",
       " 749: 'Mudsdale',\n",
       " 750: 'Dewpider',\n",
       " 751: 'Araquanid',\n",
       " 752: 'Fomantis',\n",
       " 753: 'Lurantis',\n",
       " 754: 'Morelull',\n",
       " 755: 'Shiinotic',\n",
       " 756: 'Salandit',\n",
       " 757: 'Salazzle',\n",
       " 758: 'Stufful',\n",
       " 759: 'Bewear',\n",
       " 760: 'Bounsweet',\n",
       " 761: 'Steenee',\n",
       " 762: 'Tsareena',\n",
       " 763: 'Comfey',\n",
       " 764: 'Oranguru',\n",
       " 765: 'Passimian',\n",
       " 766: 'Wimpod',\n",
       " 767: 'Golisopod',\n",
       " 768: 'Sandygast',\n",
       " 769: 'Palossand',\n",
       " 770: 'Pyukumuku',\n",
       " 771: 'Type: Null',\n",
       " 772: 'Silvally',\n",
       " 773: 'Minior',\n",
       " 774: 'Komala',\n",
       " 775: 'Turtonator',\n",
       " 776: 'Togedemaru',\n",
       " 777: 'Mimikyu',\n",
       " 778: 'Bruxish',\n",
       " 779: 'Drampa',\n",
       " 780: 'Dhelmise',\n",
       " 781: 'Jangmo-o',\n",
       " 782: 'Hakamo-o',\n",
       " 783: 'Kommo-o',\n",
       " 784: 'Tapu Koko',\n",
       " 785: 'Tapu Lele',\n",
       " 786: 'Tapu Bulu',\n",
       " 787: 'Tapu Fini',\n",
       " 788: 'Cosmog',\n",
       " 789: 'Cosmoem',\n",
       " 790: 'Solgaleo',\n",
       " 791: 'Lunala',\n",
       " 792: 'Nihilego',\n",
       " 793: 'Buzzwole',\n",
       " 794: 'Pheromosa',\n",
       " 795: 'Xurkitree',\n",
       " 796: 'Celesteela',\n",
       " 797: 'Kartana',\n",
       " 798: 'Guzzlord',\n",
       " 799: 'Necrozma',\n",
       " 800: 'Magearna',\n",
       " 801: 'Marshadow',\n",
       " 802: 'Poipole',\n",
       " 803: 'Naganadel',\n",
       " 804: 'Stakataka',\n",
       " 805: 'Blacephalon',\n",
       " 806: 'Zeraora',\n",
       " 807: 'Meltan',\n",
       " 808: 'Melmetal',\n",
       " 809: 'Grookey',\n",
       " 810: 'Thwackey',\n",
       " 811: 'Rillaboom',\n",
       " 812: 'Scorbunny',\n",
       " 813: 'Raboot',\n",
       " 814: 'Cinderace',\n",
       " 815: 'Sobble',\n",
       " 816: 'Drizzile',\n",
       " 817: 'Inteleon',\n",
       " 818: 'Skwovet',\n",
       " 819: 'Greedent',\n",
       " 820: 'Rookidee',\n",
       " 821: 'Corvisquire',\n",
       " 822: 'Corviknight',\n",
       " 823: 'Blipbug',\n",
       " 824: 'Dottler',\n",
       " 825: 'Orbeetle',\n",
       " 826: 'Nickit',\n",
       " 827: 'Thievul',\n",
       " 828: 'Gossifleur',\n",
       " 829: 'Eldegoss',\n",
       " 830: 'Wooloo',\n",
       " 831: 'Dubwool',\n",
       " 832: 'Chewtle',\n",
       " 833: 'Drednaw',\n",
       " 834: 'Yamper',\n",
       " 835: 'Boltund',\n",
       " 836: 'Rolycoly',\n",
       " 837: 'Carkol',\n",
       " 838: 'Coalossal',\n",
       " 839: 'Applin',\n",
       " 840: 'Flapple',\n",
       " 841: 'Appletun',\n",
       " 842: 'Silicobra',\n",
       " 843: 'Sandaconda',\n",
       " 844: 'Cramorant',\n",
       " 845: 'Arrokuda',\n",
       " 846: 'Barraskewda',\n",
       " 847: 'Toxel',\n",
       " 848: 'Toxtricity',\n",
       " 849: 'Sizzlipede',\n",
       " 850: 'Centiskorch',\n",
       " 851: 'Clobbopus',\n",
       " 852: 'Grapploct',\n",
       " 853: 'Sinistea',\n",
       " 854: 'Polteageist',\n",
       " 855: 'Hatenna',\n",
       " 856: 'Hattrem',\n",
       " 857: 'Hatterene',\n",
       " 858: 'Impidimp',\n",
       " 859: 'Morgrem',\n",
       " 860: 'Grimmsnarl',\n",
       " 861: 'Obstagoon',\n",
       " 862: 'Perrserker',\n",
       " 863: 'Cursola',\n",
       " 864: 'Sirfetch’d',\n",
       " 865: 'Mr. Rime',\n",
       " 866: 'Runerigus',\n",
       " 867: 'Milcery',\n",
       " 868: 'Alcremie',\n",
       " 869: 'Falinks',\n",
       " 870: 'Pincurchin',\n",
       " 871: 'Snom',\n",
       " 872: 'Frosmoth',\n",
       " 873: 'Stonjourner',\n",
       " 874: 'Eiscue',\n",
       " 875: 'Indeedee',\n",
       " 876: 'Morpeko',\n",
       " 877: 'Cufant',\n",
       " 878: 'Copperajah',\n",
       " 879: 'Dracozolt',\n",
       " 880: 'Arctozolt',\n",
       " 881: 'Dracovish',\n",
       " 882: 'Arctovish',\n",
       " 883: 'Duraludon',\n",
       " 884: 'Dreepy',\n",
       " 885: 'Drakloak',\n",
       " 886: 'Dragapult',\n",
       " 887: 'Zacian',\n",
       " 888: 'Zamazenta',\n",
       " 889: 'Eternatus',\n",
       " 890: 'Kubfu',\n",
       " 891: 'Urshifu',\n",
       " 892: 'Zarude',\n",
       " 893: 'Regieleki',\n",
       " 894: 'Regidrago',\n",
       " 895: 'Glastrier',\n",
       " 896: 'Spectrier',\n",
       " 897: 'Calyrex',\n",
       " 898: 'Wyrdeer',\n",
       " 899: 'Kleavor',\n",
       " 900: 'Ursaluna',\n",
       " 901: 'Basculegion',\n",
       " 902: 'Sneasler',\n",
       " 903: 'Overqwil',\n",
       " 904: 'Enamorus',\n",
       " 905: 'Sprigatito',\n",
       " 906: 'Floragato',\n",
       " 907: 'Meowscarada',\n",
       " 908: 'Fuecoco',\n",
       " 909: 'Crocalor',\n",
       " 910: 'Skeledirge',\n",
       " 911: 'Quaxly',\n",
       " 912: 'Quaxwell',\n",
       " 913: 'Quaquaval',\n",
       " 914: 'Lechonk',\n",
       " 915: 'Oinkologne',\n",
       " 916: 'Tarountula',\n",
       " 917: 'Spidops',\n",
       " 918: 'Nymble',\n",
       " 919: 'Lokix',\n",
       " 920: 'Pawmi',\n",
       " 921: 'Pawmo',\n",
       " 922: 'Pawmot',\n",
       " 923: 'Tandemaus',\n",
       " 924: 'Maushold',\n",
       " 925: 'Fidough',\n",
       " 926: 'Dachsbun',\n",
       " 927: 'Smoliv',\n",
       " 928: 'Dolliv',\n",
       " 929: 'Arboliva',\n",
       " 930: 'Squawkabilly',\n",
       " 931: 'Nacli',\n",
       " 932: 'Naclstack',\n",
       " 933: 'Garganacl',\n",
       " 934: 'Charcadet',\n",
       " 935: 'Armarouge',\n",
       " 936: 'Ceruledge',\n",
       " 937: 'Tadbulb',\n",
       " 938: 'Bellibolt',\n",
       " 939: 'Wattrel',\n",
       " 940: 'Kilowattrel',\n",
       " 941: 'Maschiff',\n",
       " 942: 'Mabosstiff',\n",
       " 943: 'Shroodle',\n",
       " 944: 'Grafaiai',\n",
       " 945: 'Bramblin',\n",
       " 946: 'Brambleghast',\n",
       " 947: 'Toedscool',\n",
       " 948: 'Toedscruel',\n",
       " 949: 'Klawf',\n",
       " 950: 'Capsakid',\n",
       " 951: 'Scovillain',\n",
       " 952: 'Rellor',\n",
       " 953: 'Rabsca',\n",
       " 954: 'Flittle',\n",
       " 955: 'Espathra',\n",
       " 956: 'Tinkatink',\n",
       " 957: 'Tinkatuff',\n",
       " 958: 'Tinkaton',\n",
       " 959: 'Wiglett',\n",
       " 960: 'Wugtrio',\n",
       " 961: 'Bombirdier',\n",
       " 962: 'Finizen',\n",
       " 963: 'Palafin',\n",
       " 964: 'Varoom',\n",
       " 965: 'Revavroom',\n",
       " 966: 'Cyclizar',\n",
       " 967: 'Orthworm',\n",
       " 968: 'Glimmet',\n",
       " 969: 'Glimmora',\n",
       " 970: 'Greavard',\n",
       " 971: 'Houndstone',\n",
       " 972: 'Flamigo',\n",
       " 973: 'Cetoddle',\n",
       " 974: 'Cetitan',\n",
       " 975: 'Veluza',\n",
       " 976: 'Dondozo',\n",
       " 977: 'Tatsugiri',\n",
       " 978: 'Annihilape',\n",
       " 979: 'Clodsire',\n",
       " 980: 'Farigiraf',\n",
       " 981: 'Dudunsparce',\n",
       " 982: 'Kingambit',\n",
       " 983: 'Great Tusk',\n",
       " 984: 'Scream Tail',\n",
       " 985: 'Brute Bonnet',\n",
       " 986: 'Flutter Mane',\n",
       " 987: 'Slither Wing',\n",
       " 988: 'Sandy Shocks',\n",
       " 989: 'Iron Treads',\n",
       " 990: 'Iron Bundle',\n",
       " 991: 'Iron Hands',\n",
       " 992: 'Iron Jugulis',\n",
       " 993: 'Iron Moth',\n",
       " 994: 'Iron Thorns',\n",
       " 995: 'Frigibax',\n",
       " 996: 'Arctibax',\n",
       " 997: 'Baxcalibur',\n",
       " 998: 'Gimmighoul',\n",
       " 999: 'Gholdengo',\n",
       " ...}"
      ]
     },
     "execution_count": 47,
     "metadata": {},
     "output_type": "execute_result"
    }
   ],
   "execution_count": 47
  },
  {
   "cell_type": "markdown",
   "metadata": {},
   "source": [
    "## Check for Inclusion with Python's in Keyword\n",
    "- The `in` keyword checks if a value exists within an object.\n",
    "- The `in` keyword will look for a value in the **Series's** index.\n",
    "- Use the `index` and `values` attributes to access \"nested\" objects within the **Series**.\n",
    "- Combine the `in` keyword with `values` to search within the **Series's** values."
   ]
  },
  {
   "cell_type": "code",
   "metadata": {
    "tags": [],
    "ExecuteTime": {
     "end_time": "2024-12-22T12:06:58.489981Z",
     "start_time": "2024-12-22T12:06:58.481689Z"
    }
   },
   "source": [
    "pokemons = pd.read_csv('pokemon.csv', usecols=['Name']).squeeze('columns')\n",
    "\n",
    "'Pikachu' in pokemons.values"
   ],
   "outputs": [
    {
     "data": {
      "text/plain": [
       "True"
      ]
     },
     "execution_count": 48,
     "metadata": {},
     "output_type": "execute_result"
    }
   ],
   "execution_count": 48
  },
  {
   "cell_type": "code",
   "metadata": {
    "tags": [],
    "ExecuteTime": {
     "end_time": "2024-12-22T12:06:58.814332Z",
     "start_time": "2024-12-22T12:06:58.808812Z"
    }
   },
   "source": "'Nigachu' in pokemons.values",
   "outputs": [
    {
     "data": {
      "text/plain": [
       "False"
      ]
     },
     "execution_count": 49,
     "metadata": {},
     "output_type": "execute_result"
    }
   ],
   "execution_count": 49
  },
  {
   "metadata": {
    "ExecuteTime": {
     "end_time": "2024-12-22T12:06:59.211384Z",
     "start_time": "2024-12-22T12:06:59.205870Z"
    }
   },
   "cell_type": "code",
   "source": "0 in pokemons",
   "outputs": [
    {
     "data": {
      "text/plain": [
       "True"
      ]
     },
     "execution_count": 50,
     "metadata": {},
     "output_type": "execute_result"
    }
   ],
   "execution_count": 50
  },
  {
   "metadata": {
    "ExecuteTime": {
     "end_time": "2024-12-22T12:07:00.247503Z",
     "start_time": "2024-12-22T12:07:00.241515Z"
    }
   },
   "cell_type": "code",
   "source": "2 in pokemons.index",
   "outputs": [
    {
     "data": {
      "text/plain": [
       "True"
      ]
     },
     "execution_count": 51,
     "metadata": {},
     "output_type": "execute_result"
    }
   ],
   "execution_count": 51
  },
  {
   "cell_type": "markdown",
   "metadata": {},
   "source": [
    "## The sort_values Method\n",
    "- The `sort_values` method sorts a **Series** values in order.\n",
    "- By default, pandas applies an ascending sort (smallest to largest).\n",
    "- Customize the sort order with the `ascending` parameter."
   ]
  },
  {
   "cell_type": "code",
   "metadata": {
    "tags": [],
    "ExecuteTime": {
     "end_time": "2024-12-22T12:07:09.667397Z",
     "start_time": "2024-12-22T12:07:09.653305Z"
    }
   },
   "source": [
    "google = pd.read_csv('google_stock_price.csv', usecols=['Price']).squeeze('columns')\n",
    "sorted_google_desc = google.sort_values(ascending=False).head()\n",
    "sorted_google_desc"
   ],
   "outputs": [
    {
     "data": {
      "text/plain": [
       "4395    151.863495\n",
       "4345    151.000000\n",
       "4346    150.141754\n",
       "4341    150.000000\n",
       "4336    150.000000\n",
       "Name: Price, dtype: float64"
      ]
     },
     "execution_count": 52,
     "metadata": {},
     "output_type": "execute_result"
    }
   ],
   "execution_count": 52
  },
  {
   "cell_type": "code",
   "metadata": {
    "tags": [],
    "ExecuteTime": {
     "end_time": "2024-12-22T12:07:21.644702Z",
     "start_time": "2024-12-22T12:07:21.636822Z"
    }
   },
   "source": [
    "sorted_google_asc = google.sort_values(ascending=True).head()\n",
    "sorted_google_asc"
   ],
   "outputs": [
    {
     "data": {
      "text/plain": [
       "10    2.470490\n",
       "0     2.490664\n",
       "13    2.509095\n",
       "11    2.514326\n",
       "1     2.515820\n",
       "Name: Price, dtype: float64"
      ]
     },
     "execution_count": 53,
     "metadata": {},
     "output_type": "execute_result"
    }
   ],
   "execution_count": 53
  },
  {
   "cell_type": "markdown",
   "metadata": {},
   "source": [
    "## The sort_index Method\n",
    "- The `sort_index` method sorts a **Series** by its index.\n",
    "- The `sort_index` method also accepts an `ascending` parameter to set sort order."
   ]
  },
  {
   "cell_type": "code",
   "metadata": {
    "tags": [],
    "ExecuteTime": {
     "end_time": "2024-12-22T12:07:36.225581Z",
     "start_time": "2024-12-22T12:07:36.216007Z"
    }
   },
   "source": [
    "pokemons = pd.read_csv('pokemon.csv', index_col='Name').squeeze('columns')\n",
    "pokemons.sort_index(ascending=True).head()"
   ],
   "outputs": [
    {
     "data": {
      "text/plain": [
       "Name\n",
       "Abomasnow      Grass, Ice\n",
       "Abra              Psychic\n",
       "Absol                Dark\n",
       "Accelgor              Bug\n",
       "Aegislash    Steel, Ghost\n",
       "Name: Type, dtype: object"
      ]
     },
     "execution_count": 54,
     "metadata": {},
     "output_type": "execute_result"
    }
   ],
   "execution_count": 54
  },
  {
   "cell_type": "code",
   "metadata": {
    "tags": [],
    "ExecuteTime": {
     "end_time": "2024-12-22T12:07:41.188145Z",
     "start_time": "2024-12-22T12:07:41.180913Z"
    }
   },
   "source": "pokemons.sort_index(ascending=False).head()",
   "outputs": [
    {
     "data": {
      "text/plain": [
       "Name\n",
       "Zygarde     Dragon, Ground\n",
       "Zweilous      Dark, Dragon\n",
       "Zubat       Poison, Flying\n",
       "Zorua                 Dark\n",
       "Zoroark               Dark\n",
       "Name: Type, dtype: object"
      ]
     },
     "execution_count": 55,
     "metadata": {},
     "output_type": "execute_result"
    }
   ],
   "execution_count": 55
  },
  {
   "cell_type": "markdown",
   "metadata": {},
   "source": [
    "## Extract Series Value by Index Position\n",
    "- Use the `iloc` accessor to extract a **Series** value by its index position.\n",
    "- `iloc` is short for \"index location\".\n",
    "- Python's list slicing syntaxes (slices, slices from start, slices to end, etc.) are supported with **Series** objects."
   ]
  },
  {
   "cell_type": "code",
   "metadata": {
    "tags": [],
    "ExecuteTime": {
     "end_time": "2024-12-22T12:07:43.075894Z",
     "start_time": "2024-12-22T12:07:43.066659Z"
    }
   },
   "source": [
    "pokemons = pd.read_csv('pokemon.csv', usecols=['Name']).squeeze('columns')\n",
    "pokemons"
   ],
   "outputs": [
    {
     "data": {
      "text/plain": [
       "0          Bulbasaur\n",
       "1            Ivysaur\n",
       "2           Venusaur\n",
       "3         Charmander\n",
       "4         Charmeleon\n",
       "            ...     \n",
       "1005    Iron Valiant\n",
       "1006        Koraidon\n",
       "1007        Miraidon\n",
       "1008    Walking Wake\n",
       "1009     Iron Leaves\n",
       "Name: Name, Length: 1010, dtype: object"
      ]
     },
     "execution_count": 56,
     "metadata": {},
     "output_type": "execute_result"
    }
   ],
   "execution_count": 56
  },
  {
   "cell_type": "code",
   "metadata": {
    "ExecuteTime": {
     "end_time": "2024-12-22T12:07:54.276588Z",
     "start_time": "2024-12-22T12:07:54.269378Z"
    }
   },
   "source": "pokemons.iloc[0]",
   "outputs": [
    {
     "data": {
      "text/plain": [
       "'Bulbasaur'"
      ]
     },
     "execution_count": 57,
     "metadata": {},
     "output_type": "execute_result"
    }
   ],
   "execution_count": 57
  },
  {
   "metadata": {
    "ExecuteTime": {
     "end_time": "2024-12-22T12:07:55.407904Z",
     "start_time": "2024-12-22T12:07:55.402702Z"
    }
   },
   "cell_type": "code",
   "source": "pokemons.iloc[-1]",
   "outputs": [
    {
     "data": {
      "text/plain": [
       "'Iron Leaves'"
      ]
     },
     "execution_count": 58,
     "metadata": {},
     "output_type": "execute_result"
    }
   ],
   "execution_count": 58
  },
  {
   "metadata": {
    "ExecuteTime": {
     "end_time": "2024-12-22T12:07:55.949910Z",
     "start_time": "2024-12-22T12:07:55.944047Z"
    }
   },
   "cell_type": "code",
   "source": "pokemons.iloc[:500]",
   "outputs": [
    {
     "data": {
      "text/plain": [
       "0       Bulbasaur\n",
       "1         Ivysaur\n",
       "2        Venusaur\n",
       "3      Charmander\n",
       "4      Charmeleon\n",
       "          ...    \n",
       "495       Servine\n",
       "496     Serperior\n",
       "497         Tepig\n",
       "498       Pignite\n",
       "499        Emboar\n",
       "Name: Name, Length: 500, dtype: object"
      ]
     },
     "execution_count": 59,
     "metadata": {},
     "output_type": "execute_result"
    }
   ],
   "execution_count": 59
  },
  {
   "metadata": {
    "ExecuteTime": {
     "end_time": "2024-12-22T12:07:57.085944Z",
     "start_time": "2024-12-22T12:07:57.077493Z"
    }
   },
   "cell_type": "code",
   "source": "pokemons.iloc[[50, 100, 1000]]",
   "outputs": [
    {
     "data": {
      "text/plain": [
       "50        Dugtrio\n",
       "100     Electrode\n",
       "1000     Wo-Chien\n",
       "Name: Name, dtype: object"
      ]
     },
     "execution_count": 60,
     "metadata": {},
     "output_type": "execute_result"
    }
   ],
   "execution_count": 60
  },
  {
   "cell_type": "markdown",
   "metadata": {},
   "source": [
    "## Extract Series Value by Index Label\n",
    "- Use the `loc` accessor to extract a **Series** value by its index label.\n",
    "- Pass a list to extract multiple values by index label.\n",
    "- If one index label/position in the list does not exist, Pandas will raise an error."
   ]
  },
  {
   "cell_type": "code",
   "metadata": {
    "tags": [],
    "ExecuteTime": {
     "end_time": "2024-12-22T12:08:03.944571Z",
     "start_time": "2024-12-22T12:08:03.934753Z"
    }
   },
   "source": [
    "pokemons = pd.read_csv('pokemon.csv', index_col='Name').squeeze('columns')\n",
    "pokemons"
   ],
   "outputs": [
    {
     "data": {
      "text/plain": [
       "Name\n",
       "Bulbasaur          Grass, Poison\n",
       "Ivysaur            Grass, Poison\n",
       "Venusaur           Grass, Poison\n",
       "Charmander                  Fire\n",
       "Charmeleon                  Fire\n",
       "                      ...       \n",
       "Iron Valiant     Fairy, Fighting\n",
       "Koraidon        Fighting, Dragon\n",
       "Miraidon        Electric, Dragon\n",
       "Walking Wake       Water, Dragon\n",
       "Iron Leaves       Grass, Psychic\n",
       "Name: Type, Length: 1010, dtype: object"
      ]
     },
     "execution_count": 61,
     "metadata": {},
     "output_type": "execute_result"
    }
   ],
   "execution_count": 61
  },
  {
   "cell_type": "code",
   "metadata": {
    "tags": [],
    "ExecuteTime": {
     "end_time": "2024-12-22T12:08:04.315451Z",
     "start_time": "2024-12-22T12:08:04.308840Z"
    }
   },
   "source": "pokemons.loc['Pikachu']",
   "outputs": [
    {
     "data": {
      "text/plain": [
       "'Electric'"
      ]
     },
     "execution_count": 62,
     "metadata": {},
     "output_type": "execute_result"
    }
   ],
   "execution_count": 62
  },
  {
   "cell_type": "code",
   "metadata": {
    "tags": [],
    "ExecuteTime": {
     "end_time": "2024-12-22T12:08:04.605992Z",
     "start_time": "2024-12-22T12:08:04.597599Z"
    }
   },
   "source": "pokemons.loc[['Pikachu', 'Bulbasaur']]",
   "outputs": [
    {
     "data": {
      "text/plain": [
       "Name\n",
       "Pikachu           Electric\n",
       "Bulbasaur    Grass, Poison\n",
       "Name: Type, dtype: object"
      ]
     },
     "execution_count": 63,
     "metadata": {},
     "output_type": "execute_result"
    }
   ],
   "execution_count": 63
  },
  {
   "cell_type": "markdown",
   "metadata": {},
   "source": [
    "## The get Method on a Series\n",
    "- The `get` method extracts a **Series** value by index label. It is an alternative option to square brackets.\n",
    "- The `get` method's second argument sets the fallback value to return if the label/position does not exist."
   ]
  },
  {
   "cell_type": "code",
   "metadata": {
    "tags": [],
    "ExecuteTime": {
     "end_time": "2024-12-22T12:08:09.626861Z",
     "start_time": "2024-12-22T12:08:09.621302Z"
    }
   },
   "source": "pokemons.get('Pikachu')",
   "outputs": [
    {
     "data": {
      "text/plain": [
       "'Electric'"
      ]
     },
     "execution_count": 64,
     "metadata": {},
     "output_type": "execute_result"
    }
   ],
   "execution_count": 64
  },
  {
   "metadata": {
    "ExecuteTime": {
     "end_time": "2024-12-22T12:08:10.559305Z",
     "start_time": "2024-12-22T12:08:10.552668Z"
    }
   },
   "cell_type": "code",
   "source": "pokemons.get('Nigachu', 'There is no pokemon with that name')",
   "outputs": [
    {
     "data": {
      "text/plain": [
       "'There is no pokemon with that name'"
      ]
     },
     "execution_count": 65,
     "metadata": {},
     "output_type": "execute_result"
    }
   ],
   "execution_count": 65
  },
  {
   "cell_type": "code",
   "metadata": {
    "tags": [],
    "ExecuteTime": {
     "end_time": "2024-12-22T12:08:11.644629Z",
     "start_time": "2024-12-22T12:08:11.633161Z"
    }
   },
   "source": "pokemons.get(['Pikachu', 'Bulbasaur'])",
   "outputs": [
    {
     "data": {
      "text/plain": [
       "Name\n",
       "Pikachu           Electric\n",
       "Bulbasaur    Grass, Poison\n",
       "Name: Type, dtype: object"
      ]
     },
     "execution_count": 66,
     "metadata": {},
     "output_type": "execute_result"
    }
   ],
   "execution_count": 66
  },
  {
   "cell_type": "markdown",
   "metadata": {
    "tags": []
   },
   "source": [
    "## Overwrite a Series Value\n",
    "- Use the `loc/iloc` accessor to target an index label/position, then use an equal sign to provide a new value."
   ]
  },
  {
   "cell_type": "code",
   "metadata": {
    "ExecuteTime": {
     "end_time": "2024-12-22T12:08:32.557798Z",
     "start_time": "2024-12-22T12:08:32.548800Z"
    }
   },
   "source": [
    "pokemons = pd.read_csv('pokemon.csv', index_col='Name').squeeze('columns')\n",
    "pokemons.head()"
   ],
   "outputs": [
    {
     "data": {
      "text/plain": [
       "Name\n",
       "Bulbasaur     Grass, Poison\n",
       "Ivysaur       Grass, Poison\n",
       "Venusaur      Grass, Poison\n",
       "Charmander             Fire\n",
       "Charmeleon             Fire\n",
       "Name: Type, dtype: object"
      ]
     },
     "execution_count": 67,
     "metadata": {},
     "output_type": "execute_result"
    }
   ],
   "execution_count": 67
  },
  {
   "cell_type": "code",
   "metadata": {
    "ExecuteTime": {
     "end_time": "2024-12-22T12:08:32.893081Z",
     "start_time": "2024-12-22T12:08:32.888277Z"
    }
   },
   "source": "pokemons.loc['Ivysaur'] = 'Blue'",
   "outputs": [],
   "execution_count": 68
  },
  {
   "cell_type": "code",
   "metadata": {
    "ExecuteTime": {
     "end_time": "2024-12-22T12:08:33.209317Z",
     "start_time": "2024-12-22T12:08:33.202490Z"
    }
   },
   "source": "pokemons.head()",
   "outputs": [
    {
     "data": {
      "text/plain": [
       "Name\n",
       "Bulbasaur     Grass, Poison\n",
       "Ivysaur                Blue\n",
       "Venusaur      Grass, Poison\n",
       "Charmander             Fire\n",
       "Charmeleon             Fire\n",
       "Name: Type, dtype: object"
      ]
     },
     "execution_count": 69,
     "metadata": {},
     "output_type": "execute_result"
    }
   ],
   "execution_count": 69
  },
  {
   "cell_type": "code",
   "metadata": {
    "ExecuteTime": {
     "end_time": "2024-12-22T12:08:33.591624Z",
     "start_time": "2024-12-22T12:08:33.581478Z"
    }
   },
   "source": [
    "pokemons.iloc[0] = 'Red, Green'\n",
    "pokemons.head()"
   ],
   "outputs": [
    {
     "data": {
      "text/plain": [
       "Name\n",
       "Bulbasaur        Red, Green\n",
       "Ivysaur                Blue\n",
       "Venusaur      Grass, Poison\n",
       "Charmander             Fire\n",
       "Charmeleon             Fire\n",
       "Name: Type, dtype: object"
      ]
     },
     "execution_count": 70,
     "metadata": {},
     "output_type": "execute_result"
    }
   ],
   "execution_count": 70
  },
  {
   "cell_type": "code",
   "metadata": {
    "ExecuteTime": {
     "end_time": "2024-12-22T12:08:34.727146Z",
     "start_time": "2024-12-22T12:08:34.698049Z"
    }
   },
   "source": [
    "pokemons.iloc[-1] = 'Yellow'\n",
    "pokemons.tail()"
   ],
   "outputs": [
    {
     "data": {
      "text/plain": [
       "Name\n",
       "Iron Valiant     Fairy, Fighting\n",
       "Koraidon        Fighting, Dragon\n",
       "Miraidon        Electric, Dragon\n",
       "Walking Wake       Water, Dragon\n",
       "Iron Leaves               Yellow\n",
       "Name: Type, dtype: object"
      ]
     },
     "execution_count": 71,
     "metadata": {},
     "output_type": "execute_result"
    }
   ],
   "execution_count": 71
  },
  {
   "cell_type": "markdown",
   "metadata": {},
   "source": [
    "## The copy Method\n",
    "- A **copy** is a duplicate/replica of an object.\n",
    "- Changes to a copy do not modify the original object.\n",
    "- A **view** is a different way of looking at the *same* data.\n",
    "- Changes to a view *do* modify the original object.\n",
    "- The `copy` method creates a copy of a pandas object."
   ]
  },
  {
   "cell_type": "code",
   "metadata": {
    "tags": []
   },
   "source": [
    "pokemons_df = pd.read_csv('pokemon.csv', usecols=['Name'])\n",
    "pokemons_df"
   ],
   "outputs": [],
   "execution_count": null
  },
  {
   "cell_type": "code",
   "metadata": {
    "tags": []
   },
   "source": [
    "pokemons_series = pokemons_df.squeeze('columns').copy()\n",
    "pokemons_series"
   ],
   "outputs": [],
   "execution_count": null
  },
  {
   "cell_type": "code",
   "metadata": {
    "tags": []
   },
   "source": [
    "pokemons_series.iloc[0] = 'Nigachu'\n",
    "pokemons_series.head()"
   ],
   "outputs": [],
   "execution_count": null
  },
  {
   "cell_type": "code",
   "metadata": {
    "tags": []
   },
   "source": "pokemons_df.head()",
   "outputs": [],
   "execution_count": null
  },
  {
   "cell_type": "markdown",
   "metadata": {},
   "source": [
    "## Math Methods on Series Objects\n",
    "- The `count` method returns the number of values in the **Series**. It excludes missing values; the `size` attribute includes missing values.\n",
    "- The `sum` method adds together the **Series's** values.\n",
    "- The `product` method multiplies together the **Series's** values.\n",
    "- The `mean` method calculates the average of the **Series's** values.\n",
    "- The `std` method calculates the standard deviation of the **Series's** values.\n",
    "- The `max` method returns the largest value in the **Series**.\n",
    "- The `min` method returns the smallest value in the **Series**.\n",
    "- The `median` method returns the median of the **Series** (the value in the middle).\n",
    "- The `mode` method returns the mode of the **Series** (the most frequent alue).\n",
    "- The `describe` method returns a summary with various mathematical calculations."
   ]
  },
  {
   "cell_type": "code",
   "metadata": {
    "tags": []
   },
   "source": [
    "google = pd.read_csv('google_stock_price.csv', usecols=['Price']).squeeze('columns').head()\n",
    "google"
   ],
   "outputs": [],
   "execution_count": null
  },
  {
   "cell_type": "code",
   "metadata": {
    "tags": []
   },
   "source": [
    "google.min()\n",
    "google.max()\n",
    "google.mean()\n",
    "google.median()\n",
    "google.describe()\n",
    "google.count()\n",
    "google.mode()"
   ],
   "outputs": [],
   "execution_count": null
  },
  {
   "cell_type": "markdown",
   "metadata": {},
   "source": [
    "## Broadcasting\n",
    "- **Broadcasting** describes the process of applying an arithmetic operation to an array (i.e., a **Series**).\n",
    "- We can combine mathematical operators with a **Series** to apply the mathematical operation to every value.\n",
    "- There are also methods to accomplish the same results (`add`, `sub`, `mul`, `div`, etc.)"
   ]
  },
  {
   "cell_type": "code",
   "metadata": {
    "tags": []
   },
   "source": [
    "google = pd.read_csv('google_stock_price.csv', usecols=['Price']).squeeze('columns').head()\n",
    "google"
   ],
   "outputs": [],
   "execution_count": null
  },
  {
   "cell_type": "code",
   "metadata": {
    "tags": []
   },
   "source": [
    "google.add(1)\n",
    "google.mul(2)\n",
    "google.div(2)\n",
    "google.sub(50)"
   ],
   "outputs": [],
   "execution_count": null
  },
  {
   "cell_type": "markdown",
   "metadata": {},
   "source": [
    "## The value_counts Method\n",
    "- The `value_counts` method returns the number of times each unique value occurs in the **Series**.\n",
    "- The `normalize` parameter returns the relative frequencies/percentages of the values instead of the counts."
   ]
  },
  {
   "cell_type": "code",
   "metadata": {
    "tags": []
   },
   "source": [
    "pokemons = pd.read_csv('pokemon.csv', usecols=['Type']).squeeze('columns')\n",
    "pokemons"
   ],
   "outputs": [],
   "execution_count": null
  },
  {
   "cell_type": "code",
   "metadata": {
    "tags": []
   },
   "source": "pokemons.value_counts(ascending=False, normalize=True).mul(100)",
   "outputs": [],
   "execution_count": null
  },
  {
   "cell_type": "markdown",
   "metadata": {},
   "source": [
    "## The apply Method\n",
    "- The `apply` method accepts a function. It invokes that function on every `Series` value."
   ]
  },
  {
   "cell_type": "code",
   "metadata": {
    "tags": []
   },
   "source": [
    "pokemons = pd.read_csv('pokemon.csv', usecols=['Name']).squeeze('columns')\n",
    "pokemons"
   ],
   "outputs": [],
   "execution_count": null
  },
  {
   "cell_type": "code",
   "metadata": {
    "tags": []
   },
   "source": [
    "def count_a(pokemon):\n",
    "    return pokemon.count('a')\n",
    "\n",
    "\n",
    "pokemons.apply(count_a)"
   ],
   "outputs": [],
   "execution_count": null
  },
  {
   "cell_type": "code",
   "metadata": {
    "tags": []
   },
   "source": "pokemons.apply(len)",
   "outputs": [],
   "execution_count": null
  },
  {
   "cell_type": "markdown",
   "metadata": {},
   "source": [
    "## The map Method\n",
    "- The `map` method \"maps\" or connects each **Series** values to another value.\n",
    "- We can pass the method a dictionary or a **Series**. Both types connects keys to values.\n",
    "- The `map` method uses our argument to connect or bridge together the values."
   ]
  },
  {
   "cell_type": "code",
   "metadata": {
    "tags": [],
    "ExecuteTime": {
     "end_time": "2024-12-22T10:49:11.673949Z",
     "start_time": "2024-12-22T10:49:11.658358Z"
    }
   },
   "source": [
    "pokemons = pd.read_csv('pokemon.csv', index_col='Name').squeeze('columns')\n",
    "pokemons"
   ],
   "outputs": [
    {
     "data": {
      "text/plain": [
       "Name\n",
       "Bulbasaur          Grass, Poison\n",
       "Ivysaur            Grass, Poison\n",
       "Venusaur           Grass, Poison\n",
       "Charmander                  Fire\n",
       "Charmeleon                  Fire\n",
       "                      ...       \n",
       "Iron Valiant     Fairy, Fighting\n",
       "Koraidon        Fighting, Dragon\n",
       "Miraidon        Electric, Dragon\n",
       "Walking Wake       Water, Dragon\n",
       "Iron Leaves       Grass, Psychic\n",
       "Name: Type, Length: 1010, dtype: object"
      ]
     },
     "execution_count": 5,
     "metadata": {},
     "output_type": "execute_result"
    }
   ],
   "execution_count": 5
  },
  {
   "cell_type": "code",
   "metadata": {
    "tags": [],
    "ExecuteTime": {
     "end_time": "2024-12-22T10:50:59.592072Z",
     "start_time": "2024-12-22T10:50:59.580135Z"
    }
   },
   "source": [
    "attacking_points = pd.Series({\n",
    "    'Grass, Poison': 10,\n",
    "    'Fire': 20,\n",
    "    'Fire, Flying': 30,\n",
    "    'Water': 40,\n",
    "    'Bug': 50\n",
    "})\n",
    "attacking_points"
   ],
   "outputs": [
    {
     "data": {
      "text/plain": [
       "Grass, Poison    10\n",
       "Fire             20\n",
       "Fire, Flying     30\n",
       "Water            40\n",
       "Bug              50\n",
       "dtype: int64"
      ]
     },
     "execution_count": 9,
     "metadata": {},
     "output_type": "execute_result"
    }
   ],
   "execution_count": 9
  },
  {
   "cell_type": "code",
   "metadata": {
    "tags": [],
    "ExecuteTime": {
     "end_time": "2024-12-22T10:51:00.652789Z",
     "start_time": "2024-12-22T10:51:00.643792Z"
    }
   },
   "source": "pokemons.map(attacking_points)",
   "outputs": [
    {
     "data": {
      "text/plain": [
       "Name\n",
       "Bulbasaur       10.0\n",
       "Ivysaur         10.0\n",
       "Venusaur        10.0\n",
       "Charmander      20.0\n",
       "Charmeleon      20.0\n",
       "                ... \n",
       "Iron Valiant     NaN\n",
       "Koraidon         NaN\n",
       "Miraidon         NaN\n",
       "Walking Wake     NaN\n",
       "Iron Leaves      NaN\n",
       "Name: Type, Length: 1010, dtype: float64"
      ]
     },
     "execution_count": 10,
     "metadata": {},
     "output_type": "execute_result"
    }
   ],
   "execution_count": 10
  }
 ],
 "metadata": {
  "anaconda-cloud": {},
  "kernelspec": {
   "display_name": "Python 3 (ipykernel)",
   "language": "python",
   "name": "python3"
  },
  "language_info": {
   "codemirror_mode": {
    "name": "ipython",
    "version": 3
   },
   "file_extension": ".py",
   "mimetype": "text/x-python",
   "name": "python",
   "nbconvert_exporter": "python",
   "pygments_lexer": "ipython3",
   "version": "3.11.5"
  }
 },
 "nbformat": 4,
 "nbformat_minor": 4
}
