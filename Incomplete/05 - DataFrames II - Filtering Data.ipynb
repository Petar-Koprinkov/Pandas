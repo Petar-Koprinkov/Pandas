{
 "cells": [
  {
   "cell_type": "markdown",
   "metadata": {},
   "source": [
    "# DataFrames II: Filtering Data"
   ]
  },
  {
   "cell_type": "code",
   "metadata": {},
   "source": "import pandas as pd",
   "outputs": [],
   "execution_count": null
  },
  {
   "cell_type": "markdown",
   "metadata": {},
   "source": [
    "## This Module's Dataset + Memory Optimization\n",
    "- The `pd.to_datetime` method converts a **Series** to hold datetime values.\n",
    "- The `format` parameter informs pandas of the format that the times are stored in.\n",
    "- We pass symbols designating the segments of the string. For example, %m means \"month\" and %d means day.\n",
    "- The `dt` attribute reveals an object with many datetime-related attributes and methods.\n",
    "- The `dt.time` attribute extracts only the time from each value in a datetime **Series**.\n",
    "- Use the `astype` method to convert the values in a **Series** to another type.\n",
    "- The `parse_dates` parameter of `read_csv` is an alternate way to parse strings as datetimes."
   ]
  },
  {
   "cell_type": "code",
   "metadata": {},
   "source": [
    "employees = pd.read_csv('employees.csv')\n",
    "employees.info()"
   ],
   "outputs": [],
   "execution_count": null
  },
  {
   "metadata": {},
   "cell_type": "code",
   "source": "employees",
   "outputs": [],
   "execution_count": null
  },
  {
   "cell_type": "code",
   "metadata": {},
   "source": [
    "employees[\"Start Date\"] = pd.to_datetime(employees[\"Start Date\"], format=\"%m/%d/%Y\")\n",
    "employees.info()"
   ],
   "outputs": [],
   "execution_count": null
  },
  {
   "cell_type": "code",
   "metadata": {},
   "source": "employees",
   "outputs": [],
   "execution_count": null
  },
  {
   "cell_type": "code",
   "metadata": {},
   "source": "employees[\"Last Login Time\"] = pd.to_datetime(employees[\"Last Login Time\"], format=\"%H:%M %p\").dt.time",
   "outputs": [],
   "execution_count": null
  },
  {
   "cell_type": "code",
   "metadata": {},
   "source": "employees.info()",
   "outputs": [],
   "execution_count": null
  },
  {
   "cell_type": "code",
   "metadata": {},
   "source": "employees",
   "outputs": [],
   "execution_count": null
  },
  {
   "cell_type": "code",
   "metadata": {},
   "source": "employees['Gender'] = employees['Gender'].astype('category')",
   "outputs": [],
   "execution_count": null
  },
  {
   "cell_type": "code",
   "metadata": {},
   "source": "employees.info()",
   "outputs": [],
   "execution_count": null
  },
  {
   "cell_type": "code",
   "metadata": {},
   "source": "employees",
   "outputs": [],
   "execution_count": null
  },
  {
   "metadata": {},
   "cell_type": "code",
   "source": "employees['Senior Management'] = employees['Senior Management'].astype(bool)",
   "outputs": [],
   "execution_count": null
  },
  {
   "metadata": {},
   "cell_type": "code",
   "source": "employees",
   "outputs": [],
   "execution_count": null
  },
  {
   "metadata": {},
   "cell_type": "code",
   "source": "employees['Senior Management'] = employees['Senior Management'].astype('category')",
   "outputs": [],
   "execution_count": null
  },
  {
   "metadata": {},
   "cell_type": "code",
   "source": "employees.info()",
   "outputs": [],
   "execution_count": null
  },
  {
   "metadata": {},
   "cell_type": "code",
   "source": [
    "employees = pd.read_csv('employees.csv', parse_dates=['Start Date'], date_format='%m/%d/%Y')\n",
    "employees"
   ],
   "outputs": [],
   "execution_count": null
  },
  {
   "cell_type": "markdown",
   "metadata": {},
   "source": [
    "## Filter A DataFrame  Based On A Condition\n",
    "- Pandas needs a **Series** of Booleans to perform a filter.\n",
    "- Pass the Boolean Series inside square brackets after the **DataFrame**.\n",
    "- We can generate a Boolean Series using a wide variety of operations (equality, inequality, less than, greater than, inclusion, etc)"
   ]
  },
  {
   "metadata": {},
   "cell_type": "code",
   "source": [
    "employees = pd.read_csv('employees.csv', parse_dates=['Start Date'], date_format='%m/%d/%Y')\n",
    "employees['Last Login Time'] = pd.to_datetime(employees['Last Login Time'], format=\"%H:%M %p\").dt.time\n",
    "employees['Gender'] = employees['Gender'].astype('category')\n",
    "employees['Senior Management'] = employees['Senior Management'].astype(bool)\n",
    "employees['Senior Management'] = employees['Senior Management'].astype('category')\n",
    "employees"
   ],
   "outputs": [],
   "execution_count": null
  },
  {
   "metadata": {},
   "cell_type": "code",
   "source": "employees[employees['Gender'] == 'Male']",
   "outputs": [],
   "execution_count": null
  },
  {
   "metadata": {},
   "cell_type": "code",
   "source": "employees[employees['Salary'] > 148_980]",
   "outputs": [],
   "execution_count": null
  },
  {
   "metadata": {},
   "cell_type": "code",
   "source": "employees[employees['Start Date'] > '2016-05-01']",
   "outputs": [],
   "execution_count": null
  },
  {
   "metadata": {},
   "cell_type": "code",
   "source": "import datetime as dt",
   "outputs": [],
   "execution_count": null
  },
  {
   "metadata": {},
   "cell_type": "code",
   "source": "employees[employees['Last Login Time'] > dt.time(12, 5, 0)]",
   "outputs": [],
   "execution_count": null
  },
  {
   "cell_type": "markdown",
   "metadata": {},
   "source": [
    "## Filter with More than One Condition (AND)\n",
    "- Add the `&` operator in between two Boolean **Series** to filter by multiple conditions.\n",
    "- We can assign the **Series** to variables to make the syntax more readable."
   ]
  },
  {
   "cell_type": "code",
   "metadata": {},
   "source": [
    "employees = pd.read_csv('employees.csv', parse_dates=['Start Date'], date_format='%m/%d/%Y')\n",
    "employees['Last Login Time'] = pd.to_datetime(employees['Last Login Time'], format=\"%H:%M %p\").dt.time\n",
    "employees['Gender'] = employees['Gender'].astype('category')\n",
    "employees['Senior Management'] = employees['Senior Management'].astype(bool)\n",
    "employees['Senior Management'] = employees['Senior Management'].astype('category')\n",
    "employees"
   ],
   "outputs": [],
   "execution_count": null
  },
  {
   "cell_type": "code",
   "metadata": {},
   "source": [
    "male_employees = employees['Gender'] == 'Male'\n",
    "high_salary = employees['Team'] == 'Finance'\n",
    "employees[male_employees & high_salary]"
   ],
   "outputs": [],
   "execution_count": null
  },
  {
   "cell_type": "code",
   "metadata": {},
   "source": [
    "high_salary = employees['Salary'] > 130_000\n",
    "early_start_date = employees['Start Date'] < '1981-01-01'\n",
    "employees[high_salary & early_start_date]"
   ],
   "outputs": [],
   "execution_count": null
  },
  {
   "cell_type": "markdown",
   "metadata": {},
   "source": [
    "## Filter with More than One Condition (OR)\n",
    "- Use the `|` operator in between two Boolean **Series** to filter by *either* condition."
   ]
  },
  {
   "cell_type": "code",
   "metadata": {
    "ExecuteTime": {
     "end_time": "2024-12-25T15:50:10.035542Z",
     "start_time": "2024-12-25T15:50:09.999233Z"
    }
   },
   "source": [
    "employees = pd.read_csv('employees.csv', parse_dates=['Start Date'], date_format='%m/%d/%Y')\n",
    "employees['Last Login Time'] = pd.to_datetime(employees['Last Login Time'], format=\"%H:%M %p\").dt.time\n",
    "employees['Gender'] = employees['Gender'].astype('category')\n",
    "employees['Senior Management'] = employees['Senior Management'].astype(bool)\n",
    "employees['Senior Management'] = employees['Senior Management'].astype('category')\n",
    "employees"
   ],
   "outputs": [
    {
     "data": {
      "text/plain": [
       "    First Name  Gender Start Date Last Login Time  Salary  Bonus %  \\\n",
       "0      Douglas    Male 1993-08-06        12:42:00   97308    6.945   \n",
       "1       Thomas    Male 1996-03-31        06:53:00   61933    4.170   \n",
       "2        Maria  Female 1993-04-23        11:17:00  130590   11.858   \n",
       "3        Jerry    Male 2005-03-04        01:00:00  138705    9.340   \n",
       "4        Larry    Male 1998-01-24        04:47:00  101004    1.389   \n",
       "..         ...     ...        ...             ...     ...      ...   \n",
       "995      Henry     NaN 2014-11-23        06:09:00  132483   16.655   \n",
       "996    Phillip    Male 1984-01-31        06:30:00   42392   19.675   \n",
       "997    Russell    Male 2013-05-20        12:39:00   96914    1.421   \n",
       "998      Larry    Male 2013-04-20        04:45:00   60500   11.985   \n",
       "999     Albert    Male 2012-05-15        06:24:00  129949   10.169   \n",
       "\n",
       "    Senior Management                  Team  \n",
       "0                True             Marketing  \n",
       "1                True                   NaN  \n",
       "2               False               Finance  \n",
       "3                True               Finance  \n",
       "4                True       Client Services  \n",
       "..                ...                   ...  \n",
       "995             False          Distribution  \n",
       "996             False               Finance  \n",
       "997             False               Product  \n",
       "998             False  Business Development  \n",
       "999              True                 Sales  \n",
       "\n",
       "[1000 rows x 8 columns]"
      ],
      "text/html": [
       "<div>\n",
       "<style scoped>\n",
       "    .dataframe tbody tr th:only-of-type {\n",
       "        vertical-align: middle;\n",
       "    }\n",
       "\n",
       "    .dataframe tbody tr th {\n",
       "        vertical-align: top;\n",
       "    }\n",
       "\n",
       "    .dataframe thead th {\n",
       "        text-align: right;\n",
       "    }\n",
       "</style>\n",
       "<table border=\"1\" class=\"dataframe\">\n",
       "  <thead>\n",
       "    <tr style=\"text-align: right;\">\n",
       "      <th></th>\n",
       "      <th>First Name</th>\n",
       "      <th>Gender</th>\n",
       "      <th>Start Date</th>\n",
       "      <th>Last Login Time</th>\n",
       "      <th>Salary</th>\n",
       "      <th>Bonus %</th>\n",
       "      <th>Senior Management</th>\n",
       "      <th>Team</th>\n",
       "    </tr>\n",
       "  </thead>\n",
       "  <tbody>\n",
       "    <tr>\n",
       "      <th>0</th>\n",
       "      <td>Douglas</td>\n",
       "      <td>Male</td>\n",
       "      <td>1993-08-06</td>\n",
       "      <td>12:42:00</td>\n",
       "      <td>97308</td>\n",
       "      <td>6.945</td>\n",
       "      <td>True</td>\n",
       "      <td>Marketing</td>\n",
       "    </tr>\n",
       "    <tr>\n",
       "      <th>1</th>\n",
       "      <td>Thomas</td>\n",
       "      <td>Male</td>\n",
       "      <td>1996-03-31</td>\n",
       "      <td>06:53:00</td>\n",
       "      <td>61933</td>\n",
       "      <td>4.170</td>\n",
       "      <td>True</td>\n",
       "      <td>NaN</td>\n",
       "    </tr>\n",
       "    <tr>\n",
       "      <th>2</th>\n",
       "      <td>Maria</td>\n",
       "      <td>Female</td>\n",
       "      <td>1993-04-23</td>\n",
       "      <td>11:17:00</td>\n",
       "      <td>130590</td>\n",
       "      <td>11.858</td>\n",
       "      <td>False</td>\n",
       "      <td>Finance</td>\n",
       "    </tr>\n",
       "    <tr>\n",
       "      <th>3</th>\n",
       "      <td>Jerry</td>\n",
       "      <td>Male</td>\n",
       "      <td>2005-03-04</td>\n",
       "      <td>01:00:00</td>\n",
       "      <td>138705</td>\n",
       "      <td>9.340</td>\n",
       "      <td>True</td>\n",
       "      <td>Finance</td>\n",
       "    </tr>\n",
       "    <tr>\n",
       "      <th>4</th>\n",
       "      <td>Larry</td>\n",
       "      <td>Male</td>\n",
       "      <td>1998-01-24</td>\n",
       "      <td>04:47:00</td>\n",
       "      <td>101004</td>\n",
       "      <td>1.389</td>\n",
       "      <td>True</td>\n",
       "      <td>Client Services</td>\n",
       "    </tr>\n",
       "    <tr>\n",
       "      <th>...</th>\n",
       "      <td>...</td>\n",
       "      <td>...</td>\n",
       "      <td>...</td>\n",
       "      <td>...</td>\n",
       "      <td>...</td>\n",
       "      <td>...</td>\n",
       "      <td>...</td>\n",
       "      <td>...</td>\n",
       "    </tr>\n",
       "    <tr>\n",
       "      <th>995</th>\n",
       "      <td>Henry</td>\n",
       "      <td>NaN</td>\n",
       "      <td>2014-11-23</td>\n",
       "      <td>06:09:00</td>\n",
       "      <td>132483</td>\n",
       "      <td>16.655</td>\n",
       "      <td>False</td>\n",
       "      <td>Distribution</td>\n",
       "    </tr>\n",
       "    <tr>\n",
       "      <th>996</th>\n",
       "      <td>Phillip</td>\n",
       "      <td>Male</td>\n",
       "      <td>1984-01-31</td>\n",
       "      <td>06:30:00</td>\n",
       "      <td>42392</td>\n",
       "      <td>19.675</td>\n",
       "      <td>False</td>\n",
       "      <td>Finance</td>\n",
       "    </tr>\n",
       "    <tr>\n",
       "      <th>997</th>\n",
       "      <td>Russell</td>\n",
       "      <td>Male</td>\n",
       "      <td>2013-05-20</td>\n",
       "      <td>12:39:00</td>\n",
       "      <td>96914</td>\n",
       "      <td>1.421</td>\n",
       "      <td>False</td>\n",
       "      <td>Product</td>\n",
       "    </tr>\n",
       "    <tr>\n",
       "      <th>998</th>\n",
       "      <td>Larry</td>\n",
       "      <td>Male</td>\n",
       "      <td>2013-04-20</td>\n",
       "      <td>04:45:00</td>\n",
       "      <td>60500</td>\n",
       "      <td>11.985</td>\n",
       "      <td>False</td>\n",
       "      <td>Business Development</td>\n",
       "    </tr>\n",
       "    <tr>\n",
       "      <th>999</th>\n",
       "      <td>Albert</td>\n",
       "      <td>Male</td>\n",
       "      <td>2012-05-15</td>\n",
       "      <td>06:24:00</td>\n",
       "      <td>129949</td>\n",
       "      <td>10.169</td>\n",
       "      <td>True</td>\n",
       "      <td>Sales</td>\n",
       "    </tr>\n",
       "  </tbody>\n",
       "</table>\n",
       "<p>1000 rows × 8 columns</p>\n",
       "</div>"
      ]
     },
     "execution_count": 167,
     "metadata": {},
     "output_type": "execute_result"
    }
   ],
   "execution_count": 167
  },
  {
   "cell_type": "code",
   "metadata": {
    "ExecuteTime": {
     "end_time": "2024-12-25T15:52:08.200451Z",
     "start_time": "2024-12-25T15:52:08.196209Z"
    }
   },
   "source": [
    "Dennis_name = employees['First Name'] == 'Dennis'\n",
    "finance_team = employees['Team'] == 'Finance'"
   ],
   "outputs": [],
   "execution_count": 173
  },
  {
   "cell_type": "code",
   "metadata": {
    "ExecuteTime": {
     "end_time": "2024-12-25T15:52:08.933515Z",
     "start_time": "2024-12-25T15:52:08.921047Z"
    }
   },
   "source": [
    "dennis_or_finance = employees[Dennis_name | finance_team]\n",
    "dennis_or_finance"
   ],
   "outputs": [
    {
     "data": {
      "text/plain": [
       "    First Name  Gender Start Date Last Login Time  Salary  Bonus %  \\\n",
       "2        Maria  Female 1993-04-23        11:17:00  130590   11.858   \n",
       "3        Jerry    Male 2005-03-04        01:00:00  138705    9.340   \n",
       "5       Dennis    Male 1987-04-18        01:35:00  115163   10.125   \n",
       "7          NaN  Female 2015-07-20        10:43:00   45906   11.598   \n",
       "14    Kimberly  Female 1999-01-14        07:13:00   41426   14.543   \n",
       "..         ...     ...        ...             ...     ...      ...   \n",
       "907  Elizabeth  Female 1998-07-27        11:12:00  137144   10.081   \n",
       "954        Joe    Male 1980-01-19        04:06:00  119667    1.148   \n",
       "987     Gloria  Female 2014-12-08        05:08:00  136709   10.331   \n",
       "992    Anthony    Male 2011-10-16        08:35:00  112769   11.625   \n",
       "996    Phillip    Male 1984-01-31        06:30:00   42392   19.675   \n",
       "\n",
       "    Senior Management     Team  \n",
       "2               False  Finance  \n",
       "3                True  Finance  \n",
       "5               False    Legal  \n",
       "7                True  Finance  \n",
       "14               True  Finance  \n",
       "..                ...      ...  \n",
       "907             False  Finance  \n",
       "954              True  Finance  \n",
       "987              True  Finance  \n",
       "992              True  Finance  \n",
       "996             False  Finance  \n",
       "\n",
       "[103 rows x 8 columns]"
      ],
      "text/html": [
       "<div>\n",
       "<style scoped>\n",
       "    .dataframe tbody tr th:only-of-type {\n",
       "        vertical-align: middle;\n",
       "    }\n",
       "\n",
       "    .dataframe tbody tr th {\n",
       "        vertical-align: top;\n",
       "    }\n",
       "\n",
       "    .dataframe thead th {\n",
       "        text-align: right;\n",
       "    }\n",
       "</style>\n",
       "<table border=\"1\" class=\"dataframe\">\n",
       "  <thead>\n",
       "    <tr style=\"text-align: right;\">\n",
       "      <th></th>\n",
       "      <th>First Name</th>\n",
       "      <th>Gender</th>\n",
       "      <th>Start Date</th>\n",
       "      <th>Last Login Time</th>\n",
       "      <th>Salary</th>\n",
       "      <th>Bonus %</th>\n",
       "      <th>Senior Management</th>\n",
       "      <th>Team</th>\n",
       "    </tr>\n",
       "  </thead>\n",
       "  <tbody>\n",
       "    <tr>\n",
       "      <th>2</th>\n",
       "      <td>Maria</td>\n",
       "      <td>Female</td>\n",
       "      <td>1993-04-23</td>\n",
       "      <td>11:17:00</td>\n",
       "      <td>130590</td>\n",
       "      <td>11.858</td>\n",
       "      <td>False</td>\n",
       "      <td>Finance</td>\n",
       "    </tr>\n",
       "    <tr>\n",
       "      <th>3</th>\n",
       "      <td>Jerry</td>\n",
       "      <td>Male</td>\n",
       "      <td>2005-03-04</td>\n",
       "      <td>01:00:00</td>\n",
       "      <td>138705</td>\n",
       "      <td>9.340</td>\n",
       "      <td>True</td>\n",
       "      <td>Finance</td>\n",
       "    </tr>\n",
       "    <tr>\n",
       "      <th>5</th>\n",
       "      <td>Dennis</td>\n",
       "      <td>Male</td>\n",
       "      <td>1987-04-18</td>\n",
       "      <td>01:35:00</td>\n",
       "      <td>115163</td>\n",
       "      <td>10.125</td>\n",
       "      <td>False</td>\n",
       "      <td>Legal</td>\n",
       "    </tr>\n",
       "    <tr>\n",
       "      <th>7</th>\n",
       "      <td>NaN</td>\n",
       "      <td>Female</td>\n",
       "      <td>2015-07-20</td>\n",
       "      <td>10:43:00</td>\n",
       "      <td>45906</td>\n",
       "      <td>11.598</td>\n",
       "      <td>True</td>\n",
       "      <td>Finance</td>\n",
       "    </tr>\n",
       "    <tr>\n",
       "      <th>14</th>\n",
       "      <td>Kimberly</td>\n",
       "      <td>Female</td>\n",
       "      <td>1999-01-14</td>\n",
       "      <td>07:13:00</td>\n",
       "      <td>41426</td>\n",
       "      <td>14.543</td>\n",
       "      <td>True</td>\n",
       "      <td>Finance</td>\n",
       "    </tr>\n",
       "    <tr>\n",
       "      <th>...</th>\n",
       "      <td>...</td>\n",
       "      <td>...</td>\n",
       "      <td>...</td>\n",
       "      <td>...</td>\n",
       "      <td>...</td>\n",
       "      <td>...</td>\n",
       "      <td>...</td>\n",
       "      <td>...</td>\n",
       "    </tr>\n",
       "    <tr>\n",
       "      <th>907</th>\n",
       "      <td>Elizabeth</td>\n",
       "      <td>Female</td>\n",
       "      <td>1998-07-27</td>\n",
       "      <td>11:12:00</td>\n",
       "      <td>137144</td>\n",
       "      <td>10.081</td>\n",
       "      <td>False</td>\n",
       "      <td>Finance</td>\n",
       "    </tr>\n",
       "    <tr>\n",
       "      <th>954</th>\n",
       "      <td>Joe</td>\n",
       "      <td>Male</td>\n",
       "      <td>1980-01-19</td>\n",
       "      <td>04:06:00</td>\n",
       "      <td>119667</td>\n",
       "      <td>1.148</td>\n",
       "      <td>True</td>\n",
       "      <td>Finance</td>\n",
       "    </tr>\n",
       "    <tr>\n",
       "      <th>987</th>\n",
       "      <td>Gloria</td>\n",
       "      <td>Female</td>\n",
       "      <td>2014-12-08</td>\n",
       "      <td>05:08:00</td>\n",
       "      <td>136709</td>\n",
       "      <td>10.331</td>\n",
       "      <td>True</td>\n",
       "      <td>Finance</td>\n",
       "    </tr>\n",
       "    <tr>\n",
       "      <th>992</th>\n",
       "      <td>Anthony</td>\n",
       "      <td>Male</td>\n",
       "      <td>2011-10-16</td>\n",
       "      <td>08:35:00</td>\n",
       "      <td>112769</td>\n",
       "      <td>11.625</td>\n",
       "      <td>True</td>\n",
       "      <td>Finance</td>\n",
       "    </tr>\n",
       "    <tr>\n",
       "      <th>996</th>\n",
       "      <td>Phillip</td>\n",
       "      <td>Male</td>\n",
       "      <td>1984-01-31</td>\n",
       "      <td>06:30:00</td>\n",
       "      <td>42392</td>\n",
       "      <td>19.675</td>\n",
       "      <td>False</td>\n",
       "      <td>Finance</td>\n",
       "    </tr>\n",
       "  </tbody>\n",
       "</table>\n",
       "<p>103 rows × 8 columns</p>\n",
       "</div>"
      ]
     },
     "execution_count": 174,
     "metadata": {},
     "output_type": "execute_result"
    }
   ],
   "execution_count": 174
  },
  {
   "cell_type": "code",
   "metadata": {
    "ExecuteTime": {
     "end_time": "2024-12-25T15:54:47.093590Z",
     "start_time": "2024-12-25T15:54:47.087786Z"
    }
   },
   "source": [
    "marketing_team = employees['Team'] == 'Marketing'\n",
    "early_date = employees['Start Date'] < '1981-01-01'\n",
    "high_salary = employees['Salary'] > 149_000"
   ],
   "outputs": [],
   "execution_count": 187
  },
  {
   "metadata": {
    "ExecuteTime": {
     "end_time": "2024-12-25T15:54:48.379182Z",
     "start_time": "2024-12-25T15:54:48.366983Z"
    }
   },
   "cell_type": "code",
   "source": [
    "result = employees[high_salary | (early_date & marketing_team)]\n",
    "result"
   ],
   "outputs": [
    {
     "data": {
      "text/plain": [
       "    First Name  Gender Start Date Last Login Time  Salary  Bonus %  \\\n",
       "43     Marilyn  Female 1980-12-07        03:16:00   73524    5.207   \n",
       "160      Kathy  Female 2000-03-18        07:26:00  149563   16.991   \n",
       "186        NaN  Female 2005-02-23        09:50:00  149654    1.825   \n",
       "429       Rose  Female 2015-05-28        08:40:00  149903    5.630   \n",
       "601  Christine     NaN 1980-06-15        06:00:00   50366    9.862   \n",
       "644  Katherine  Female 1996-08-13        12:21:00  149908   18.912   \n",
       "740    Russell     NaN 2009-05-09        11:59:00  149456    3.533   \n",
       "793     Andrea  Female 1999-07-22        09:25:00  149105   13.707   \n",
       "828    Cynthia  Female 2006-07-12        08:55:00  149684    7.864   \n",
       "881       Ruby  Female 1980-01-28        11:08:00  142868    6.318   \n",
       "\n",
       "    Senior Management             Team  \n",
       "43               True        Marketing  \n",
       "160              True          Finance  \n",
       "186              True            Sales  \n",
       "429             False  Human Resources  \n",
       "601              True        Marketing  \n",
       "644             False          Finance  \n",
       "740             False        Marketing  \n",
       "793              True     Distribution  \n",
       "828             False          Product  \n",
       "881             False        Marketing  "
      ],
      "text/html": [
       "<div>\n",
       "<style scoped>\n",
       "    .dataframe tbody tr th:only-of-type {\n",
       "        vertical-align: middle;\n",
       "    }\n",
       "\n",
       "    .dataframe tbody tr th {\n",
       "        vertical-align: top;\n",
       "    }\n",
       "\n",
       "    .dataframe thead th {\n",
       "        text-align: right;\n",
       "    }\n",
       "</style>\n",
       "<table border=\"1\" class=\"dataframe\">\n",
       "  <thead>\n",
       "    <tr style=\"text-align: right;\">\n",
       "      <th></th>\n",
       "      <th>First Name</th>\n",
       "      <th>Gender</th>\n",
       "      <th>Start Date</th>\n",
       "      <th>Last Login Time</th>\n",
       "      <th>Salary</th>\n",
       "      <th>Bonus %</th>\n",
       "      <th>Senior Management</th>\n",
       "      <th>Team</th>\n",
       "    </tr>\n",
       "  </thead>\n",
       "  <tbody>\n",
       "    <tr>\n",
       "      <th>43</th>\n",
       "      <td>Marilyn</td>\n",
       "      <td>Female</td>\n",
       "      <td>1980-12-07</td>\n",
       "      <td>03:16:00</td>\n",
       "      <td>73524</td>\n",
       "      <td>5.207</td>\n",
       "      <td>True</td>\n",
       "      <td>Marketing</td>\n",
       "    </tr>\n",
       "    <tr>\n",
       "      <th>160</th>\n",
       "      <td>Kathy</td>\n",
       "      <td>Female</td>\n",
       "      <td>2000-03-18</td>\n",
       "      <td>07:26:00</td>\n",
       "      <td>149563</td>\n",
       "      <td>16.991</td>\n",
       "      <td>True</td>\n",
       "      <td>Finance</td>\n",
       "    </tr>\n",
       "    <tr>\n",
       "      <th>186</th>\n",
       "      <td>NaN</td>\n",
       "      <td>Female</td>\n",
       "      <td>2005-02-23</td>\n",
       "      <td>09:50:00</td>\n",
       "      <td>149654</td>\n",
       "      <td>1.825</td>\n",
       "      <td>True</td>\n",
       "      <td>Sales</td>\n",
       "    </tr>\n",
       "    <tr>\n",
       "      <th>429</th>\n",
       "      <td>Rose</td>\n",
       "      <td>Female</td>\n",
       "      <td>2015-05-28</td>\n",
       "      <td>08:40:00</td>\n",
       "      <td>149903</td>\n",
       "      <td>5.630</td>\n",
       "      <td>False</td>\n",
       "      <td>Human Resources</td>\n",
       "    </tr>\n",
       "    <tr>\n",
       "      <th>601</th>\n",
       "      <td>Christine</td>\n",
       "      <td>NaN</td>\n",
       "      <td>1980-06-15</td>\n",
       "      <td>06:00:00</td>\n",
       "      <td>50366</td>\n",
       "      <td>9.862</td>\n",
       "      <td>True</td>\n",
       "      <td>Marketing</td>\n",
       "    </tr>\n",
       "    <tr>\n",
       "      <th>644</th>\n",
       "      <td>Katherine</td>\n",
       "      <td>Female</td>\n",
       "      <td>1996-08-13</td>\n",
       "      <td>12:21:00</td>\n",
       "      <td>149908</td>\n",
       "      <td>18.912</td>\n",
       "      <td>False</td>\n",
       "      <td>Finance</td>\n",
       "    </tr>\n",
       "    <tr>\n",
       "      <th>740</th>\n",
       "      <td>Russell</td>\n",
       "      <td>NaN</td>\n",
       "      <td>2009-05-09</td>\n",
       "      <td>11:59:00</td>\n",
       "      <td>149456</td>\n",
       "      <td>3.533</td>\n",
       "      <td>False</td>\n",
       "      <td>Marketing</td>\n",
       "    </tr>\n",
       "    <tr>\n",
       "      <th>793</th>\n",
       "      <td>Andrea</td>\n",
       "      <td>Female</td>\n",
       "      <td>1999-07-22</td>\n",
       "      <td>09:25:00</td>\n",
       "      <td>149105</td>\n",
       "      <td>13.707</td>\n",
       "      <td>True</td>\n",
       "      <td>Distribution</td>\n",
       "    </tr>\n",
       "    <tr>\n",
       "      <th>828</th>\n",
       "      <td>Cynthia</td>\n",
       "      <td>Female</td>\n",
       "      <td>2006-07-12</td>\n",
       "      <td>08:55:00</td>\n",
       "      <td>149684</td>\n",
       "      <td>7.864</td>\n",
       "      <td>False</td>\n",
       "      <td>Product</td>\n",
       "    </tr>\n",
       "    <tr>\n",
       "      <th>881</th>\n",
       "      <td>Ruby</td>\n",
       "      <td>Female</td>\n",
       "      <td>1980-01-28</td>\n",
       "      <td>11:08:00</td>\n",
       "      <td>142868</td>\n",
       "      <td>6.318</td>\n",
       "      <td>False</td>\n",
       "      <td>Marketing</td>\n",
       "    </tr>\n",
       "  </tbody>\n",
       "</table>\n",
       "</div>"
      ]
     },
     "execution_count": 188,
     "metadata": {},
     "output_type": "execute_result"
    }
   ],
   "execution_count": 188
  },
  {
   "cell_type": "markdown",
   "metadata": {},
   "source": [
    "## The isin Method\n",
    "- The `isin` **Series** method accepts a collection object like a list, tuple, or **Series**.\n",
    "- The method returns True for a row if its value is found in the collection."
   ]
  },
  {
   "cell_type": "code",
   "metadata": {},
   "source": [],
   "outputs": [],
   "execution_count": null
  },
  {
   "cell_type": "code",
   "metadata": {},
   "source": [],
   "outputs": [],
   "execution_count": null
  },
  {
   "cell_type": "code",
   "metadata": {},
   "source": [],
   "outputs": [],
   "execution_count": null
  },
  {
   "cell_type": "markdown",
   "metadata": {},
   "source": [
    "## The isnull and notnull Methods\n",
    "- The `isnull` method returns True for `NaN` values in a **Series**.\n",
    "- The `notnull` method returns True for present values in a **Series**."
   ]
  },
  {
   "cell_type": "code",
   "metadata": {},
   "source": [],
   "outputs": [],
   "execution_count": null
  },
  {
   "cell_type": "code",
   "metadata": {},
   "source": [],
   "outputs": [],
   "execution_count": null
  },
  {
   "cell_type": "markdown",
   "metadata": {},
   "source": [
    "## The between Method\n",
    "- The `between` method returns True if a **Series** value is found within its range."
   ]
  },
  {
   "cell_type": "code",
   "metadata": {},
   "source": [],
   "outputs": [],
   "execution_count": null
  },
  {
   "cell_type": "code",
   "metadata": {},
   "source": [],
   "outputs": [],
   "execution_count": null
  },
  {
   "cell_type": "code",
   "metadata": {},
   "source": [],
   "outputs": [],
   "execution_count": null
  },
  {
   "cell_type": "markdown",
   "metadata": {},
   "source": [
    "## The duplicated Method\n",
    "- The `duplicated` method returns True if a **Series** value is a duplicate.\n",
    "- Pandas will mark one occurrence of a repeated value as a non-duplicate.\n",
    "- Use the `keep` parameter to designate whether the first or last occurrence of a repeated value should be considered the \"non-duplicate\".\n",
    "- Pass False to the `keep` parameter to mark all occurrences of repeated values as duplicates.\n",
    "- Use the tilde symbol (`~`) to invert a **Series's** values. Trues will become Falses, and Falses will become trues."
   ]
  },
  {
   "cell_type": "code",
   "metadata": {},
   "source": [],
   "outputs": [],
   "execution_count": null
  },
  {
   "cell_type": "code",
   "metadata": {},
   "source": [],
   "outputs": [],
   "execution_count": null
  },
  {
   "cell_type": "code",
   "metadata": {},
   "source": [],
   "outputs": [],
   "execution_count": null
  },
  {
   "cell_type": "markdown",
   "metadata": {},
   "source": [
    "## The drop_duplicates Method\n",
    "- The `drop_duplicates` method deletes rows with duplicate values.\n",
    "- By default, it will remove a row if *all* of its values are shared with another row.\n",
    "- The `subset` parameter configures the columns to look for duplicate values within.\n",
    "- Pass a list to `subset` parameter to look for duplicates across multiple columns."
   ]
  },
  {
   "cell_type": "code",
   "metadata": {},
   "source": [],
   "outputs": [],
   "execution_count": null
  },
  {
   "cell_type": "code",
   "metadata": {},
   "source": [],
   "outputs": [],
   "execution_count": null
  },
  {
   "cell_type": "code",
   "metadata": {},
   "source": [],
   "outputs": [],
   "execution_count": null
  },
  {
   "cell_type": "markdown",
   "metadata": {},
   "source": [
    "## The unique and nunique Methods\n",
    "- The `unique` method on a **Series** returns a collection of its unique values. The method does not exist on a **DataFrame**.\n",
    "- The `nunique` method returns a *count* of the number of unique values in the **Series**/**DataFrame**.\n",
    "- The `dropna` parameter configures whether to include or exclude missing (`NaN`) values."
   ]
  },
  {
   "cell_type": "code",
   "metadata": {},
   "source": [],
   "outputs": [],
   "execution_count": null
  },
  {
   "cell_type": "code",
   "metadata": {},
   "source": [],
   "outputs": [],
   "execution_count": null
  },
  {
   "cell_type": "code",
   "metadata": {},
   "source": [],
   "outputs": [],
   "execution_count": null
  },
  {
   "cell_type": "code",
   "metadata": {},
   "source": [],
   "outputs": [],
   "execution_count": null
  },
  {
   "cell_type": "code",
   "metadata": {},
   "source": [],
   "outputs": [],
   "execution_count": null
  },
  {
   "cell_type": "code",
   "metadata": {},
   "source": [],
   "outputs": [],
   "execution_count": null
  }
 ],
 "metadata": {
  "anaconda-cloud": {},
  "kernelspec": {
   "display_name": "Python 3 (ipykernel)",
   "language": "python",
   "name": "python3"
  },
  "language_info": {
   "codemirror_mode": {
    "name": "ipython",
    "version": 3
   },
   "file_extension": ".py",
   "mimetype": "text/x-python",
   "name": "python",
   "nbconvert_exporter": "python",
   "pygments_lexer": "ipython3",
   "version": "3.11.5"
  }
 },
 "nbformat": 4,
 "nbformat_minor": 4
}
