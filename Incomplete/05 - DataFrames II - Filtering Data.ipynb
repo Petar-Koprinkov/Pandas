{
 "cells": [
  {
   "cell_type": "markdown",
   "metadata": {},
   "source": [
    "# DataFrames II: Filtering Data"
   ]
  },
  {
   "cell_type": "code",
   "metadata": {},
   "source": "import pandas as pd",
   "outputs": [],
   "execution_count": null
  },
  {
   "cell_type": "markdown",
   "metadata": {},
   "source": [
    "## This Module's Dataset + Memory Optimization\n",
    "- The `pd.to_datetime` method converts a **Series** to hold datetime values.\n",
    "- The `format` parameter informs pandas of the format that the times are stored in.\n",
    "- We pass symbols designating the segments of the string. For example, %m means \"month\" and %d means day.\n",
    "- The `dt` attribute reveals an object with many datetime-related attributes and methods.\n",
    "- The `dt.time` attribute extracts only the time from each value in a datetime **Series**.\n",
    "- Use the `astype` method to convert the values in a **Series** to another type.\n",
    "- The `parse_dates` parameter of `read_csv` is an alternate way to parse strings as datetimes."
   ]
  },
  {
   "cell_type": "code",
   "metadata": {},
   "source": [
    "employees = pd.read_csv('employees.csv')\n",
    "employees.info()"
   ],
   "outputs": [],
   "execution_count": null
  },
  {
   "metadata": {},
   "cell_type": "code",
   "source": "employees",
   "outputs": [],
   "execution_count": null
  },
  {
   "cell_type": "code",
   "metadata": {},
   "source": [
    "employees[\"Start Date\"] = pd.to_datetime(employees[\"Start Date\"], format=\"%m/%d/%Y\")\n",
    "employees.info()"
   ],
   "outputs": [],
   "execution_count": null
  },
  {
   "cell_type": "code",
   "metadata": {},
   "source": "employees",
   "outputs": [],
   "execution_count": null
  },
  {
   "cell_type": "code",
   "metadata": {},
   "source": "employees[\"Last Login Time\"] = pd.to_datetime(employees[\"Last Login Time\"], format=\"%H:%M %p\").dt.time",
   "outputs": [],
   "execution_count": null
  },
  {
   "cell_type": "code",
   "metadata": {},
   "source": "employees.info()",
   "outputs": [],
   "execution_count": null
  },
  {
   "cell_type": "code",
   "metadata": {},
   "source": "employees",
   "outputs": [],
   "execution_count": null
  },
  {
   "cell_type": "code",
   "metadata": {},
   "source": "employees['Gender'] = employees['Gender'].astype('category')",
   "outputs": [],
   "execution_count": null
  },
  {
   "cell_type": "code",
   "metadata": {},
   "source": "employees.info()",
   "outputs": [],
   "execution_count": null
  },
  {
   "cell_type": "code",
   "metadata": {},
   "source": "employees",
   "outputs": [],
   "execution_count": null
  },
  {
   "metadata": {},
   "cell_type": "code",
   "source": "employees['Senior Management'] = employees['Senior Management'].astype(bool)",
   "outputs": [],
   "execution_count": null
  },
  {
   "metadata": {},
   "cell_type": "code",
   "source": "employees",
   "outputs": [],
   "execution_count": null
  },
  {
   "metadata": {},
   "cell_type": "code",
   "source": "employees['Senior Management'] = employees['Senior Management'].astype('category')",
   "outputs": [],
   "execution_count": null
  },
  {
   "metadata": {},
   "cell_type": "code",
   "source": "employees.info()",
   "outputs": [],
   "execution_count": null
  },
  {
   "metadata": {},
   "cell_type": "code",
   "source": [
    "employees = pd.read_csv('employees.csv', parse_dates=['Start Date'], date_format='%m/%d/%Y')\n",
    "employees"
   ],
   "outputs": [],
   "execution_count": null
  },
  {
   "cell_type": "markdown",
   "metadata": {},
   "source": [
    "## Filter A DataFrame  Based On A Condition\n",
    "- Pandas needs a **Series** of Booleans to perform a filter.\n",
    "- Pass the Boolean Series inside square brackets after the **DataFrame**.\n",
    "- We can generate a Boolean Series using a wide variety of operations (equality, inequality, less than, greater than, inclusion, etc)"
   ]
  },
  {
   "metadata": {},
   "cell_type": "code",
   "source": [
    "employees = pd.read_csv('employees.csv', parse_dates=['Start Date'], date_format='%m/%d/%Y')\n",
    "employees['Last Login Time'] = pd.to_datetime(employees['Last Login Time'], format=\"%H:%M %p\").dt.time\n",
    "employees['Gender'] = employees['Gender'].astype('category')\n",
    "employees['Senior Management'] = employees['Senior Management'].astype(bool)\n",
    "employees['Senior Management'] = employees['Senior Management'].astype('category')\n",
    "employees"
   ],
   "outputs": [],
   "execution_count": null
  },
  {
   "metadata": {},
   "cell_type": "code",
   "source": "employees[employees['Gender'] == 'Male']",
   "outputs": [],
   "execution_count": null
  },
  {
   "metadata": {},
   "cell_type": "code",
   "source": "employees[employees['Salary'] > 148_980]",
   "outputs": [],
   "execution_count": null
  },
  {
   "metadata": {},
   "cell_type": "code",
   "source": "employees[employees['Start Date'] > '2016-05-01']",
   "outputs": [],
   "execution_count": null
  },
  {
   "metadata": {},
   "cell_type": "code",
   "source": "import datetime as dt",
   "outputs": [],
   "execution_count": null
  },
  {
   "metadata": {},
   "cell_type": "code",
   "source": "employees[employees['Last Login Time'] > dt.time(12, 5, 0)]",
   "outputs": [],
   "execution_count": null
  },
  {
   "cell_type": "markdown",
   "metadata": {},
   "source": [
    "## Filter with More than One Condition (AND)\n",
    "- Add the `&` operator in between two Boolean **Series** to filter by multiple conditions.\n",
    "- We can assign the **Series** to variables to make the syntax more readable."
   ]
  },
  {
   "cell_type": "code",
   "metadata": {},
   "source": [
    "employees = pd.read_csv('employees.csv', parse_dates=['Start Date'], date_format='%m/%d/%Y')\n",
    "employees['Last Login Time'] = pd.to_datetime(employees['Last Login Time'], format=\"%H:%M %p\").dt.time\n",
    "employees['Gender'] = employees['Gender'].astype('category')\n",
    "employees['Senior Management'] = employees['Senior Management'].astype(bool)\n",
    "employees['Senior Management'] = employees['Senior Management'].astype('category')\n",
    "employees"
   ],
   "outputs": [],
   "execution_count": null
  },
  {
   "cell_type": "code",
   "metadata": {},
   "source": [
    "male_employees = employees['Gender'] == 'Male'\n",
    "high_salary = employees['Team'] == 'Finance'\n",
    "employees[male_employees & high_salary]"
   ],
   "outputs": [],
   "execution_count": null
  },
  {
   "cell_type": "code",
   "metadata": {},
   "source": [
    "high_salary = employees['Salary'] > 130_000\n",
    "early_start_date = employees['Start Date'] < '1981-01-01'\n",
    "employees[high_salary & early_start_date]"
   ],
   "outputs": [],
   "execution_count": null
  },
  {
   "cell_type": "markdown",
   "metadata": {},
   "source": [
    "## Filter with More than One Condition (OR)\n",
    "- Use the `|` operator in between two Boolean **Series** to filter by *either* condition."
   ]
  },
  {
   "cell_type": "code",
   "metadata": {},
   "source": [
    "employees = pd.read_csv('employees.csv', parse_dates=['Start Date'], date_format='%m/%d/%Y')\n",
    "employees['Last Login Time'] = pd.to_datetime(employees['Last Login Time'], format=\"%H:%M %p\").dt.time\n",
    "employees['Gender'] = employees['Gender'].astype('category')\n",
    "employees['Senior Management'] = employees['Senior Management'].astype(bool)\n",
    "employees['Senior Management'] = employees['Senior Management'].astype('category')\n",
    "employees"
   ],
   "outputs": [],
   "execution_count": null
  },
  {
   "cell_type": "code",
   "metadata": {},
   "source": [
    "Dennis_name = employees['First Name'] == 'Dennis'\n",
    "finance_team = employees['Team'] == 'Finance'"
   ],
   "outputs": [],
   "execution_count": null
  },
  {
   "cell_type": "code",
   "metadata": {},
   "source": [
    "dennis_or_finance = employees[Dennis_name | finance_team]\n",
    "dennis_or_finance"
   ],
   "outputs": [],
   "execution_count": null
  },
  {
   "cell_type": "code",
   "metadata": {},
   "source": [
    "marketing_team = employees['Team'] == 'Marketing'\n",
    "early_date = employees['Start Date'] < '1981-01-01'\n",
    "high_salary = employees['Salary'] > 149_000"
   ],
   "outputs": [],
   "execution_count": null
  },
  {
   "metadata": {},
   "cell_type": "code",
   "source": [
    "result = employees[high_salary | (early_date & marketing_team)]\n",
    "result"
   ],
   "outputs": [],
   "execution_count": null
  },
  {
   "cell_type": "markdown",
   "metadata": {},
   "source": [
    "## The isin Method\n",
    "- The `isin` **Series** method accepts a collection object like a list, tuple, or **Series**.\n",
    "- The method returns True for a row if its value is found in the collection."
   ]
  },
  {
   "cell_type": "code",
   "metadata": {},
   "source": [
    "employees = pd.read_csv('employees.csv', parse_dates=['Start Date'], date_format='%m/%d/%Y')\n",
    "employees['Last Login Time'] = pd.to_datetime(employees['Last Login Time'], format=\"%H:%M %p\").dt.time\n",
    "employees['Gender'] = employees['Gender'].astype('category')\n",
    "employees['Senior Management'] = employees['Senior Management'].astype(bool)\n",
    "employees['Senior Management'] = employees['Senior Management'].astype('category')\n",
    "employees"
   ],
   "outputs": [],
   "execution_count": null
  },
  {
   "cell_type": "code",
   "metadata": {},
   "source": "result = employees['Team'].isin(['Finance', 'Marketing', 'Legal'])",
   "outputs": [],
   "execution_count": null
  },
  {
   "cell_type": "code",
   "metadata": {},
   "source": "employees[result]",
   "outputs": [],
   "execution_count": null
  },
  {
   "cell_type": "markdown",
   "metadata": {},
   "source": [
    "## The isnull and notnull Methods\n",
    "- The `isnull` method returns True for `NaN` values in a **Series**.\n",
    "- The `notnull` method returns True for present values in a **Series**."
   ]
  },
  {
   "cell_type": "code",
   "metadata": {},
   "source": [
    "employees = pd.read_csv('employees.csv', parse_dates=['Start Date'], date_format='%m/%d/%Y')\n",
    "employees['Last Login Time'] = pd.to_datetime(employees['Last Login Time'], format=\"%H:%M %p\").dt.time\n",
    "employees['Gender'] = employees['Gender'].astype('category')\n",
    "employees['Senior Management'] = employees['Senior Management'].astype(bool)\n",
    "employees['Senior Management'] = employees['Senior Management'].astype('category')\n",
    "employees"
   ],
   "outputs": [],
   "execution_count": null
  },
  {
   "metadata": {},
   "cell_type": "code",
   "source": [
    "employees['First Name'].isnull()\n",
    "employees['Team'].notnull()\n",
    "employees[employees['First Name'].isnull() & employees['Team'].notnull()]"
   ],
   "outputs": [],
   "execution_count": null
  },
  {
   "cell_type": "markdown",
   "metadata": {},
   "source": [
    "## The between Method\n",
    "- The `between` method returns True if a **Series** value is found within its range."
   ]
  },
  {
   "cell_type": "code",
   "metadata": {},
   "source": [
    "employees = pd.read_csv('employees.csv', parse_dates=['Start Date'], date_format='%m/%d/%Y')\n",
    "employees['Last Login Time'] = pd.to_datetime(employees['Last Login Time'], format=\"%H:%M %p\").dt.time\n",
    "employees['Gender'] = employees['Gender'].astype('category')\n",
    "employees['Senior Management'] = employees['Senior Management'].astype(bool)\n",
    "employees['Senior Management'] = employees['Senior Management'].astype('category')\n",
    "employees"
   ],
   "outputs": [],
   "execution_count": null
  },
  {
   "cell_type": "code",
   "metadata": {},
   "source": "employees[employees['Bonus %'].between(2, 10)]",
   "outputs": [],
   "execution_count": null
  },
  {
   "cell_type": "code",
   "metadata": {},
   "source": "employees[employees['Start Date'].between('1990-01-01', '2000-02-01')]",
   "outputs": [],
   "execution_count": null
  },
  {
   "metadata": {},
   "cell_type": "code",
   "source": "import datetime as dt",
   "outputs": [],
   "execution_count": null
  },
  {
   "metadata": {},
   "cell_type": "code",
   "source": "employees[employees['Last Login Time'].between(dt.time(12, 0, 0), dt.time(14, 0, 0))]",
   "outputs": [],
   "execution_count": null
  },
  {
   "cell_type": "markdown",
   "metadata": {},
   "source": [
    "## The duplicated Method\n",
    "- The `duplicated` method returns True if a **Series** value is a duplicate.\n",
    "- Pandas will mark one occurrence of a repeated value as a non-duplicate.\n",
    "- Use the `keep` parameter to designate whether the first or last occurrence of a repeated value should be considered the \"non-duplicate\".\n",
    "- Pass False to the `keep` parameter to mark all occurrences of repeated values as duplicates.\n",
    "- Use the tilde symbol (`~`) to invert a **Series's** values. Trues will become Falses, and Falses will become trues."
   ]
  },
  {
   "metadata": {},
   "cell_type": "code",
   "source": [
    "employees = pd.read_csv('employees.csv', parse_dates=['Start Date'], date_format='%m/%d/%Y')\n",
    "employees['Last Login Time'] = pd.to_datetime(employees['Last Login Time'], format=\"%H:%M %p\").dt.time\n",
    "employees['Gender'] = employees['Gender'].astype('category')\n",
    "employees['Senior Management'] = employees['Senior Management'].astype(bool)\n",
    "employees['Senior Management'] = employees['Senior Management'].astype('category')\n",
    "employees"
   ],
   "outputs": [],
   "execution_count": null
  },
  {
   "cell_type": "code",
   "metadata": {},
   "source": "employees[employees['First Name'].duplicated(keep='first')]",
   "outputs": [],
   "execution_count": null
  },
  {
   "cell_type": "code",
   "metadata": {},
   "source": "employees[employees['First Name'].duplicated(keep='last')]",
   "outputs": [],
   "execution_count": null
  },
  {
   "cell_type": "code",
   "metadata": {},
   "source": "employees[~employees['First Name'].duplicated(keep=False)]",
   "outputs": [],
   "execution_count": null
  },
  {
   "metadata": {},
   "cell_type": "code",
   "source": "employees[~employees['Team'].duplicated(keep='first')]",
   "outputs": [],
   "execution_count": null
  },
  {
   "cell_type": "markdown",
   "metadata": {},
   "source": [
    "## The drop_duplicates Method\n",
    "- The `drop_duplicates` method deletes rows with duplicate values.\n",
    "- By default, it will remove a row if *all* of its values are shared with another row.\n",
    "- The `subset` parameter configures the columns to look for duplicate values within.\n",
    "- Pass a list to `subset` parameter to look for duplicates across multiple columns."
   ]
  },
  {
   "cell_type": "code",
   "metadata": {},
   "source": [
    "employees = pd.read_csv('employees.csv', parse_dates=['Start Date'], date_format='%m/%d/%Y')\n",
    "employees['Last Login Time'] = pd.to_datetime(employees['Last Login Time'], format=\"%H:%M %p\").dt.time\n",
    "employees['Gender'] = employees['Gender'].astype('category')\n",
    "employees['Senior Management'] = employees['Senior Management'].astype(bool)\n",
    "employees['Senior Management'] = employees['Senior Management'].astype('category')\n",
    "employees"
   ],
   "outputs": [],
   "execution_count": null
  },
  {
   "cell_type": "code",
   "metadata": {},
   "source": "employees.drop_duplicates(['Team', 'Senior Management'], keep='last')",
   "outputs": [],
   "execution_count": null
  },
  {
   "cell_type": "code",
   "metadata": {},
   "source": "employees.drop_duplicates(['Team', 'Senior Management'])",
   "outputs": [],
   "execution_count": null
  },
  {
   "metadata": {},
   "cell_type": "code",
   "source": "employees.drop_duplicates()",
   "outputs": [],
   "execution_count": null
  },
  {
   "cell_type": "markdown",
   "metadata": {},
   "source": [
    "## The unique and nunique Methods\n",
    "- The `unique` method on a **Series** returns a collection of its unique values. The method does not exist on a **DataFrame**.\n",
    "- The `nunique` method returns a *count* of the number of unique values in the **Series**/**DataFrame**.\n",
    "- The `dropna` parameter configures whether to include or exclude missing (`NaN`) values."
   ]
  },
  {
   "cell_type": "code",
   "metadata": {},
   "source": [
    "employees = pd.read_csv('employees.csv', parse_dates=['Start Date'], date_format='%m/%d/%Y')\n",
    "employees['Last Login Time'] = pd.to_datetime(employees['Last Login Time'], format=\"%H:%M %p\").dt.time\n",
    "employees['Gender'] = employees['Gender'].astype('category')\n",
    "employees['Senior Management'] = employees['Senior Management'].astype(bool)\n",
    "employees['Senior Management'] = employees['Senior Management'].astype('category')\n",
    "employees"
   ],
   "outputs": [],
   "execution_count": null
  },
  {
   "cell_type": "code",
   "metadata": {},
   "source": "employees['Team'].unique()",
   "outputs": [],
   "execution_count": null
  },
  {
   "cell_type": "code",
   "metadata": {},
   "source": "employees['Team'].unique()",
   "outputs": [],
   "execution_count": null
  },
  {
   "cell_type": "code",
   "metadata": {},
   "source": [
    "employees['Team'].nunique(dropna=True)\n",
    "employees['Team'].nunique()"
   ],
   "outputs": [],
   "execution_count": null
  },
  {
   "cell_type": "code",
   "metadata": {},
   "source": "employees['Team'].nunique(dropna=False)",
   "outputs": [],
   "execution_count": null
  }
 ],
 "metadata": {
  "anaconda-cloud": {},
  "kernelspec": {
   "display_name": "Python 3 (ipykernel)",
   "language": "python",
   "name": "python3"
  },
  "language_info": {
   "codemirror_mode": {
    "name": "ipython",
    "version": 3
   },
   "file_extension": ".py",
   "mimetype": "text/x-python",
   "name": "python",
   "nbconvert_exporter": "python",
   "pygments_lexer": "ipython3",
   "version": "3.11.5"
  }
 },
 "nbformat": 4,
 "nbformat_minor": 4
}
