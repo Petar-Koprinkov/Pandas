{
 "cells": [
  {
   "cell_type": "markdown",
   "metadata": {},
   "source": [
    "# DataFrames II: Filtering Data"
   ]
  },
  {
   "cell_type": "code",
   "metadata": {},
   "source": "import pandas as pd",
   "outputs": [],
   "execution_count": null
  },
  {
   "cell_type": "markdown",
   "metadata": {},
   "source": [
    "## This Module's Dataset + Memory Optimization\n",
    "- The `pd.to_datetime` method converts a **Series** to hold datetime values.\n",
    "- The `format` parameter informs pandas of the format that the times are stored in.\n",
    "- We pass symbols designating the segments of the string. For example, %m means \"month\" and %d means day.\n",
    "- The `dt` attribute reveals an object with many datetime-related attributes and methods.\n",
    "- The `dt.time` attribute extracts only the time from each value in a datetime **Series**.\n",
    "- Use the `astype` method to convert the values in a **Series** to another type.\n",
    "- The `parse_dates` parameter of `read_csv` is an alternate way to parse strings as datetimes."
   ]
  },
  {
   "cell_type": "code",
   "metadata": {},
   "source": [
    "employees = pd.read_csv('employees.csv')\n",
    "employees.info()"
   ],
   "outputs": [],
   "execution_count": null
  },
  {
   "metadata": {},
   "cell_type": "code",
   "source": "employees",
   "outputs": [],
   "execution_count": null
  },
  {
   "cell_type": "code",
   "metadata": {},
   "source": [
    "employees[\"Start Date\"] = pd.to_datetime(employees[\"Start Date\"], format=\"%m/%d/%Y\")\n",
    "employees.info()"
   ],
   "outputs": [],
   "execution_count": null
  },
  {
   "cell_type": "code",
   "metadata": {},
   "source": "employees",
   "outputs": [],
   "execution_count": null
  },
  {
   "cell_type": "code",
   "metadata": {},
   "source": "employees[\"Last Login Time\"] = pd.to_datetime(employees[\"Last Login Time\"], format=\"%H:%M %p\").dt.time",
   "outputs": [],
   "execution_count": null
  },
  {
   "cell_type": "code",
   "metadata": {},
   "source": "employees.info()",
   "outputs": [],
   "execution_count": null
  },
  {
   "cell_type": "code",
   "metadata": {},
   "source": "employees",
   "outputs": [],
   "execution_count": null
  },
  {
   "cell_type": "code",
   "metadata": {},
   "source": "employees['Gender'] = employees['Gender'].astype('category')",
   "outputs": [],
   "execution_count": null
  },
  {
   "cell_type": "code",
   "metadata": {},
   "source": "employees.info()",
   "outputs": [],
   "execution_count": null
  },
  {
   "cell_type": "code",
   "metadata": {},
   "source": "employees",
   "outputs": [],
   "execution_count": null
  },
  {
   "metadata": {},
   "cell_type": "code",
   "source": "employees['Senior Management'] = employees['Senior Management'].astype(bool)",
   "outputs": [],
   "execution_count": null
  },
  {
   "metadata": {},
   "cell_type": "code",
   "source": "employees",
   "outputs": [],
   "execution_count": null
  },
  {
   "metadata": {},
   "cell_type": "code",
   "source": "employees['Senior Management'] = employees['Senior Management'].astype('category')",
   "outputs": [],
   "execution_count": null
  },
  {
   "metadata": {},
   "cell_type": "code",
   "source": "employees.info()",
   "outputs": [],
   "execution_count": null
  },
  {
   "metadata": {},
   "cell_type": "code",
   "source": [
    "employees = pd.read_csv('employees.csv', parse_dates=['Start Date'], date_format='%m/%d/%Y')\n",
    "employees"
   ],
   "outputs": [],
   "execution_count": null
  },
  {
   "cell_type": "markdown",
   "metadata": {},
   "source": [
    "## Filter A DataFrame  Based On A Condition\n",
    "- Pandas needs a **Series** of Booleans to perform a filter.\n",
    "- Pass the Boolean Series inside square brackets after the **DataFrame**.\n",
    "- We can generate a Boolean Series using a wide variety of operations (equality, inequality, less than, greater than, inclusion, etc)"
   ]
  },
  {
   "metadata": {},
   "cell_type": "code",
   "source": [
    "employees = pd.read_csv('employees.csv', parse_dates=['Start Date'], date_format='%m/%d/%Y')\n",
    "employees['Last Login Time'] = pd.to_datetime(employees['Last Login Time'], format=\"%H:%M %p\").dt.time\n",
    "employees['Gender'] = employees['Gender'].astype('category')\n",
    "employees['Senior Management'] = employees['Senior Management'].astype(bool)\n",
    "employees['Senior Management'] = employees['Senior Management'].astype('category')\n",
    "employees"
   ],
   "outputs": [],
   "execution_count": null
  },
  {
   "metadata": {},
   "cell_type": "code",
   "source": "employees[employees['Gender'] == 'Male']",
   "outputs": [],
   "execution_count": null
  },
  {
   "metadata": {},
   "cell_type": "code",
   "source": "employees[employees['Salary'] > 148_980]",
   "outputs": [],
   "execution_count": null
  },
  {
   "metadata": {},
   "cell_type": "code",
   "source": "employees[employees['Start Date'] > '2016-05-01']",
   "outputs": [],
   "execution_count": null
  },
  {
   "metadata": {},
   "cell_type": "code",
   "source": "import datetime as dt",
   "outputs": [],
   "execution_count": null
  },
  {
   "metadata": {},
   "cell_type": "code",
   "source": "employees[employees['Last Login Time'] > dt.time(12, 5, 0)]",
   "outputs": [],
   "execution_count": null
  },
  {
   "cell_type": "markdown",
   "metadata": {},
   "source": [
    "## Filter with More than One Condition (AND)\n",
    "- Add the `&` operator in between two Boolean **Series** to filter by multiple conditions.\n",
    "- We can assign the **Series** to variables to make the syntax more readable."
   ]
  },
  {
   "cell_type": "code",
   "metadata": {},
   "source": [
    "employees = pd.read_csv('employees.csv', parse_dates=['Start Date'], date_format='%m/%d/%Y')\n",
    "employees['Last Login Time'] = pd.to_datetime(employees['Last Login Time'], format=\"%H:%M %p\").dt.time\n",
    "employees['Gender'] = employees['Gender'].astype('category')\n",
    "employees['Senior Management'] = employees['Senior Management'].astype(bool)\n",
    "employees['Senior Management'] = employees['Senior Management'].astype('category')\n",
    "employees"
   ],
   "outputs": [],
   "execution_count": null
  },
  {
   "cell_type": "code",
   "metadata": {},
   "source": [
    "male_employees = employees['Gender'] == 'Male'\n",
    "high_salary = employees['Team'] == 'Finance'\n",
    "employees[male_employees & high_salary]"
   ],
   "outputs": [],
   "execution_count": null
  },
  {
   "cell_type": "code",
   "metadata": {},
   "source": [
    "high_salary = employees['Salary'] > 130_000\n",
    "early_start_date = employees['Start Date'] < '1981-01-01'\n",
    "employees[high_salary & early_start_date]"
   ],
   "outputs": [],
   "execution_count": null
  },
  {
   "cell_type": "markdown",
   "metadata": {},
   "source": [
    "## Filter with More than One Condition (OR)\n",
    "- Use the `|` operator in between two Boolean **Series** to filter by *either* condition."
   ]
  },
  {
   "cell_type": "code",
   "metadata": {},
   "source": [
    "employees = pd.read_csv('employees.csv', parse_dates=['Start Date'], date_format='%m/%d/%Y')\n",
    "employees['Last Login Time'] = pd.to_datetime(employees['Last Login Time'], format=\"%H:%M %p\").dt.time\n",
    "employees['Gender'] = employees['Gender'].astype('category')\n",
    "employees['Senior Management'] = employees['Senior Management'].astype(bool)\n",
    "employees['Senior Management'] = employees['Senior Management'].astype('category')\n",
    "employees"
   ],
   "outputs": [],
   "execution_count": null
  },
  {
   "cell_type": "code",
   "metadata": {},
   "source": [
    "Dennis_name = employees['First Name'] == 'Dennis'\n",
    "finance_team = employees['Team'] == 'Finance'"
   ],
   "outputs": [],
   "execution_count": null
  },
  {
   "cell_type": "code",
   "metadata": {},
   "source": [
    "dennis_or_finance = employees[Dennis_name | finance_team]\n",
    "dennis_or_finance"
   ],
   "outputs": [],
   "execution_count": null
  },
  {
   "cell_type": "code",
   "metadata": {},
   "source": [
    "marketing_team = employees['Team'] == 'Marketing'\n",
    "early_date = employees['Start Date'] < '1981-01-01'\n",
    "high_salary = employees['Salary'] > 149_000"
   ],
   "outputs": [],
   "execution_count": null
  },
  {
   "metadata": {},
   "cell_type": "code",
   "source": [
    "result = employees[high_salary | (early_date & marketing_team)]\n",
    "result"
   ],
   "outputs": [],
   "execution_count": null
  },
  {
   "cell_type": "markdown",
   "metadata": {},
   "source": [
    "## The isin Method\n",
    "- The `isin` **Series** method accepts a collection object like a list, tuple, or **Series**.\n",
    "- The method returns True for a row if its value is found in the collection."
   ]
  },
  {
   "cell_type": "code",
   "metadata": {},
   "source": [
    "employees = pd.read_csv('employees.csv', parse_dates=['Start Date'], date_format='%m/%d/%Y')\n",
    "employees['Last Login Time'] = pd.to_datetime(employees['Last Login Time'], format=\"%H:%M %p\").dt.time\n",
    "employees['Gender'] = employees['Gender'].astype('category')\n",
    "employees['Senior Management'] = employees['Senior Management'].astype(bool)\n",
    "employees['Senior Management'] = employees['Senior Management'].astype('category')\n",
    "employees"
   ],
   "outputs": [],
   "execution_count": null
  },
  {
   "cell_type": "code",
   "metadata": {},
   "source": "result = employees['Team'].isin(['Finance', 'Marketing', 'Legal'])",
   "outputs": [],
   "execution_count": null
  },
  {
   "cell_type": "code",
   "metadata": {},
   "source": "employees[result]",
   "outputs": [],
   "execution_count": null
  },
  {
   "cell_type": "markdown",
   "metadata": {},
   "source": [
    "## The isnull and notnull Methods\n",
    "- The `isnull` method returns True for `NaN` values in a **Series**.\n",
    "- The `notnull` method returns True for present values in a **Series**."
   ]
  },
  {
   "cell_type": "code",
   "metadata": {},
   "source": [
    "employees = pd.read_csv('employees.csv', parse_dates=['Start Date'], date_format='%m/%d/%Y')\n",
    "employees['Last Login Time'] = pd.to_datetime(employees['Last Login Time'], format=\"%H:%M %p\").dt.time\n",
    "employees['Gender'] = employees['Gender'].astype('category')\n",
    "employees['Senior Management'] = employees['Senior Management'].astype(bool)\n",
    "employees['Senior Management'] = employees['Senior Management'].astype('category')\n",
    "employees"
   ],
   "outputs": [],
   "execution_count": null
  },
  {
   "metadata": {},
   "cell_type": "code",
   "source": [
    "employees['First Name'].isnull()\n",
    "employees['Team'].notnull()\n",
    "employees[employees['First Name'].isnull() & employees['Team'].notnull()]"
   ],
   "outputs": [],
   "execution_count": null
  },
  {
   "cell_type": "markdown",
   "metadata": {},
   "source": [
    "## The between Method\n",
    "- The `between` method returns True if a **Series** value is found within its range."
   ]
  },
  {
   "cell_type": "code",
   "metadata": {},
   "source": [
    "employees = pd.read_csv('employees.csv', parse_dates=['Start Date'], date_format='%m/%d/%Y')\n",
    "employees['Last Login Time'] = pd.to_datetime(employees['Last Login Time'], format=\"%H:%M %p\").dt.time\n",
    "employees['Gender'] = employees['Gender'].astype('category')\n",
    "employees['Senior Management'] = employees['Senior Management'].astype(bool)\n",
    "employees['Senior Management'] = employees['Senior Management'].astype('category')\n",
    "employees"
   ],
   "outputs": [],
   "execution_count": null
  },
  {
   "cell_type": "code",
   "metadata": {},
   "source": "employees[employees['Bonus %'].between(2, 10)]",
   "outputs": [],
   "execution_count": null
  },
  {
   "cell_type": "code",
   "metadata": {},
   "source": "employees[employees['Start Date'].between('1990-01-01', '2000-02-01')]",
   "outputs": [],
   "execution_count": null
  },
  {
   "metadata": {},
   "cell_type": "code",
   "source": "import datetime as dt",
   "outputs": [],
   "execution_count": null
  },
  {
   "metadata": {},
   "cell_type": "code",
   "source": "employees[employees['Last Login Time'].between(dt.time(12, 0, 0), dt.time(14, 0, 0))]",
   "outputs": [],
   "execution_count": null
  },
  {
   "cell_type": "markdown",
   "metadata": {},
   "source": [
    "## The duplicated Method\n",
    "- The `duplicated` method returns True if a **Series** value is a duplicate.\n",
    "- Pandas will mark one occurrence of a repeated value as a non-duplicate.\n",
    "- Use the `keep` parameter to designate whether the first or last occurrence of a repeated value should be considered the \"non-duplicate\".\n",
    "- Pass False to the `keep` parameter to mark all occurrences of repeated values as duplicates.\n",
    "- Use the tilde symbol (`~`) to invert a **Series's** values. Trues will become Falses, and Falses will become trues."
   ]
  },
  {
   "metadata": {},
   "cell_type": "code",
   "source": [
    "employees = pd.read_csv('employees.csv', parse_dates=['Start Date'], date_format='%m/%d/%Y')\n",
    "employees['Last Login Time'] = pd.to_datetime(employees['Last Login Time'], format=\"%H:%M %p\").dt.time\n",
    "employees['Gender'] = employees['Gender'].astype('category')\n",
    "employees['Senior Management'] = employees['Senior Management'].astype(bool)\n",
    "employees['Senior Management'] = employees['Senior Management'].astype('category')\n",
    "employees"
   ],
   "outputs": [],
   "execution_count": null
  },
  {
   "cell_type": "code",
   "metadata": {},
   "source": "employees[employees['First Name'].duplicated(keep='first')]",
   "outputs": [],
   "execution_count": null
  },
  {
   "cell_type": "code",
   "metadata": {},
   "source": "employees[employees['First Name'].duplicated(keep='last')]",
   "outputs": [],
   "execution_count": null
  },
  {
   "cell_type": "code",
   "metadata": {},
   "source": "employees[~employees['First Name'].duplicated(keep=False)]",
   "outputs": [],
   "execution_count": null
  },
  {
   "metadata": {
    "ExecuteTime": {
     "end_time": "2024-12-26T12:48:12.154521Z",
     "start_time": "2024-12-26T12:48:12.140950Z"
    }
   },
   "cell_type": "code",
   "source": "employees[~employees['Team'].duplicated(keep='first')]",
   "outputs": [
    {
     "data": {
      "text/plain": [
       "   First Name  Gender Start Date Last Login Time  Salary  Bonus %  \\\n",
       "0     Douglas    Male 1993-08-06        12:42:00   97308    6.945   \n",
       "1      Thomas    Male 1996-03-31        06:53:00   61933    4.170   \n",
       "2       Maria  Female 1993-04-23        11:17:00  130590   11.858   \n",
       "4       Larry    Male 1998-01-24        04:47:00  101004    1.389   \n",
       "5      Dennis    Male 1987-04-18        01:35:00  115163   10.125   \n",
       "6        Ruby  Female 1987-08-17        04:20:00   65476   10.012   \n",
       "8      Angela  Female 2005-11-22        06:29:00   95570   18.523   \n",
       "9     Frances  Female 2002-08-08        06:51:00  139852    7.524   \n",
       "12    Brandon    Male 1980-12-01        01:08:00  112807   17.492   \n",
       "13       Gary    Male 2008-01-27        11:40:00  109831    5.831   \n",
       "40    Michael    Male 2008-10-10        11:25:00   99283    2.665   \n",
       "\n",
       "   Senior Management                  Team  \n",
       "0               True             Marketing  \n",
       "1               True                   NaN  \n",
       "2              False               Finance  \n",
       "4               True       Client Services  \n",
       "5              False                 Legal  \n",
       "6               True               Product  \n",
       "8               True           Engineering  \n",
       "9               True  Business Development  \n",
       "12              True       Human Resources  \n",
       "13             False                 Sales  \n",
       "40              True          Distribution  "
      ],
      "text/html": [
       "<div>\n",
       "<style scoped>\n",
       "    .dataframe tbody tr th:only-of-type {\n",
       "        vertical-align: middle;\n",
       "    }\n",
       "\n",
       "    .dataframe tbody tr th {\n",
       "        vertical-align: top;\n",
       "    }\n",
       "\n",
       "    .dataframe thead th {\n",
       "        text-align: right;\n",
       "    }\n",
       "</style>\n",
       "<table border=\"1\" class=\"dataframe\">\n",
       "  <thead>\n",
       "    <tr style=\"text-align: right;\">\n",
       "      <th></th>\n",
       "      <th>First Name</th>\n",
       "      <th>Gender</th>\n",
       "      <th>Start Date</th>\n",
       "      <th>Last Login Time</th>\n",
       "      <th>Salary</th>\n",
       "      <th>Bonus %</th>\n",
       "      <th>Senior Management</th>\n",
       "      <th>Team</th>\n",
       "    </tr>\n",
       "  </thead>\n",
       "  <tbody>\n",
       "    <tr>\n",
       "      <th>0</th>\n",
       "      <td>Douglas</td>\n",
       "      <td>Male</td>\n",
       "      <td>1993-08-06</td>\n",
       "      <td>12:42:00</td>\n",
       "      <td>97308</td>\n",
       "      <td>6.945</td>\n",
       "      <td>True</td>\n",
       "      <td>Marketing</td>\n",
       "    </tr>\n",
       "    <tr>\n",
       "      <th>1</th>\n",
       "      <td>Thomas</td>\n",
       "      <td>Male</td>\n",
       "      <td>1996-03-31</td>\n",
       "      <td>06:53:00</td>\n",
       "      <td>61933</td>\n",
       "      <td>4.170</td>\n",
       "      <td>True</td>\n",
       "      <td>NaN</td>\n",
       "    </tr>\n",
       "    <tr>\n",
       "      <th>2</th>\n",
       "      <td>Maria</td>\n",
       "      <td>Female</td>\n",
       "      <td>1993-04-23</td>\n",
       "      <td>11:17:00</td>\n",
       "      <td>130590</td>\n",
       "      <td>11.858</td>\n",
       "      <td>False</td>\n",
       "      <td>Finance</td>\n",
       "    </tr>\n",
       "    <tr>\n",
       "      <th>4</th>\n",
       "      <td>Larry</td>\n",
       "      <td>Male</td>\n",
       "      <td>1998-01-24</td>\n",
       "      <td>04:47:00</td>\n",
       "      <td>101004</td>\n",
       "      <td>1.389</td>\n",
       "      <td>True</td>\n",
       "      <td>Client Services</td>\n",
       "    </tr>\n",
       "    <tr>\n",
       "      <th>5</th>\n",
       "      <td>Dennis</td>\n",
       "      <td>Male</td>\n",
       "      <td>1987-04-18</td>\n",
       "      <td>01:35:00</td>\n",
       "      <td>115163</td>\n",
       "      <td>10.125</td>\n",
       "      <td>False</td>\n",
       "      <td>Legal</td>\n",
       "    </tr>\n",
       "    <tr>\n",
       "      <th>6</th>\n",
       "      <td>Ruby</td>\n",
       "      <td>Female</td>\n",
       "      <td>1987-08-17</td>\n",
       "      <td>04:20:00</td>\n",
       "      <td>65476</td>\n",
       "      <td>10.012</td>\n",
       "      <td>True</td>\n",
       "      <td>Product</td>\n",
       "    </tr>\n",
       "    <tr>\n",
       "      <th>8</th>\n",
       "      <td>Angela</td>\n",
       "      <td>Female</td>\n",
       "      <td>2005-11-22</td>\n",
       "      <td>06:29:00</td>\n",
       "      <td>95570</td>\n",
       "      <td>18.523</td>\n",
       "      <td>True</td>\n",
       "      <td>Engineering</td>\n",
       "    </tr>\n",
       "    <tr>\n",
       "      <th>9</th>\n",
       "      <td>Frances</td>\n",
       "      <td>Female</td>\n",
       "      <td>2002-08-08</td>\n",
       "      <td>06:51:00</td>\n",
       "      <td>139852</td>\n",
       "      <td>7.524</td>\n",
       "      <td>True</td>\n",
       "      <td>Business Development</td>\n",
       "    </tr>\n",
       "    <tr>\n",
       "      <th>12</th>\n",
       "      <td>Brandon</td>\n",
       "      <td>Male</td>\n",
       "      <td>1980-12-01</td>\n",
       "      <td>01:08:00</td>\n",
       "      <td>112807</td>\n",
       "      <td>17.492</td>\n",
       "      <td>True</td>\n",
       "      <td>Human Resources</td>\n",
       "    </tr>\n",
       "    <tr>\n",
       "      <th>13</th>\n",
       "      <td>Gary</td>\n",
       "      <td>Male</td>\n",
       "      <td>2008-01-27</td>\n",
       "      <td>11:40:00</td>\n",
       "      <td>109831</td>\n",
       "      <td>5.831</td>\n",
       "      <td>False</td>\n",
       "      <td>Sales</td>\n",
       "    </tr>\n",
       "    <tr>\n",
       "      <th>40</th>\n",
       "      <td>Michael</td>\n",
       "      <td>Male</td>\n",
       "      <td>2008-10-10</td>\n",
       "      <td>11:25:00</td>\n",
       "      <td>99283</td>\n",
       "      <td>2.665</td>\n",
       "      <td>True</td>\n",
       "      <td>Distribution</td>\n",
       "    </tr>\n",
       "  </tbody>\n",
       "</table>\n",
       "</div>"
      ]
     },
     "execution_count": 28,
     "metadata": {},
     "output_type": "execute_result"
    }
   ],
   "execution_count": 28
  },
  {
   "cell_type": "markdown",
   "metadata": {},
   "source": [
    "## The drop_duplicates Method\n",
    "- The `drop_duplicates` method deletes rows with duplicate values.\n",
    "- By default, it will remove a row if *all* of its values are shared with another row.\n",
    "- The `subset` parameter configures the columns to look for duplicate values within.\n",
    "- Pass a list to `subset` parameter to look for duplicates across multiple columns."
   ]
  },
  {
   "cell_type": "code",
   "metadata": {},
   "source": [],
   "outputs": [],
   "execution_count": null
  },
  {
   "cell_type": "code",
   "metadata": {},
   "source": [],
   "outputs": [],
   "execution_count": null
  },
  {
   "cell_type": "code",
   "metadata": {},
   "source": [],
   "outputs": [],
   "execution_count": null
  },
  {
   "cell_type": "markdown",
   "metadata": {},
   "source": [
    "## The unique and nunique Methods\n",
    "- The `unique` method on a **Series** returns a collection of its unique values. The method does not exist on a **DataFrame**.\n",
    "- The `nunique` method returns a *count* of the number of unique values in the **Series**/**DataFrame**.\n",
    "- The `dropna` parameter configures whether to include or exclude missing (`NaN`) values."
   ]
  },
  {
   "cell_type": "code",
   "metadata": {},
   "source": [],
   "outputs": [],
   "execution_count": null
  },
  {
   "cell_type": "code",
   "metadata": {},
   "source": [],
   "outputs": [],
   "execution_count": null
  },
  {
   "cell_type": "code",
   "metadata": {},
   "source": [],
   "outputs": [],
   "execution_count": null
  },
  {
   "cell_type": "code",
   "metadata": {},
   "source": [],
   "outputs": [],
   "execution_count": null
  },
  {
   "cell_type": "code",
   "metadata": {},
   "source": [],
   "outputs": [],
   "execution_count": null
  },
  {
   "cell_type": "code",
   "metadata": {},
   "source": [],
   "outputs": [],
   "execution_count": null
  }
 ],
 "metadata": {
  "anaconda-cloud": {},
  "kernelspec": {
   "display_name": "Python 3 (ipykernel)",
   "language": "python",
   "name": "python3"
  },
  "language_info": {
   "codemirror_mode": {
    "name": "ipython",
    "version": 3
   },
   "file_extension": ".py",
   "mimetype": "text/x-python",
   "name": "python",
   "nbconvert_exporter": "python",
   "pygments_lexer": "ipython3",
   "version": "3.11.5"
  }
 },
 "nbformat": 4,
 "nbformat_minor": 4
}
