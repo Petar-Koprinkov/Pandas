{
 "cells": [
  {
   "cell_type": "markdown",
   "id": "953f78eb",
   "metadata": {},
   "source": [
    "# DataFrames I"
   ]
  },
  {
   "cell_type": "code",
   "id": "b098a2b1",
   "metadata": {},
   "source": "import pandas as pd",
   "outputs": [],
   "execution_count": null
  },
  {
   "cell_type": "markdown",
   "id": "a0d5e19f",
   "metadata": {},
   "source": [
    "## Methods and Attributes between Series and DataFrames\n",
    "- A **DataFrame** is a 2-dimensional table consisting of rows and columns.\n",
    "- Pandas uses a `NaN` designation for cells that have a missing value. It is short for \"not a number\". Most operations on `NaN` values will produce `NaN` values.\n",
    "- Like with a **Series**, Pandas assigns an index position/label to each **DataFrame** row.\n",
    "- The **DataFrame** and **Series** have common and exclusive methods/attributes.\n",
    "- The `hasnans` attribute exists only a **Series**. The `columns` attribute exists only on a **DataFrame**.\n",
    "- Some methods/attributes will return different types of data.\n",
    "- The `info` method returns a summary of the pandas object."
   ]
  },
  {
   "cell_type": "code",
   "id": "a0f61f9e-50bf-43e8-bcb5-15e7bbf35369",
   "metadata": {},
   "source": [
    "nba = pd.read_csv('nba.csv')\n",
    "nba"
   ],
   "outputs": [],
   "execution_count": null
  },
  {
   "cell_type": "code",
   "id": "596e9443-20f1-479e-89c7-d80169a5a60f",
   "metadata": {},
   "source": "nba.info()",
   "outputs": [],
   "execution_count": null
  },
  {
   "cell_type": "code",
   "id": "ab3396a6-7c23-4e27-8738-91f209f6f610",
   "metadata": {},
   "source": "nba.columns",
   "outputs": [],
   "execution_count": null
  },
  {
   "cell_type": "code",
   "id": "fdad99e0-2ff6-43e3-bebb-5543cb5e91a3",
   "metadata": {},
   "source": "nba.index",
   "outputs": [],
   "execution_count": null
  },
  {
   "cell_type": "code",
   "id": "02a7aa10-8161-4f5e-ad59-91f6f8266782",
   "metadata": {},
   "source": "type(nba)",
   "outputs": [],
   "execution_count": null
  },
  {
   "cell_type": "code",
   "id": "0916f365-76be-4cce-bc1e-4957edbc0f97",
   "metadata": {},
   "source": "",
   "outputs": [],
   "execution_count": null
  },
  {
   "cell_type": "markdown",
   "id": "62207b08",
   "metadata": {},
   "source": [
    "## Differences between Shared Methods\n",
    "- The `sum` method adds a **Series's** values.\n",
    "- On a **DataFrame**, the `sum` method defaults to adding the values by traversing the index (row values).\n",
    "- The `axis` parameter customizes the direction that we add across. Pass `\"columns\"` or `1` to add \"across\" the columns."
   ]
  },
  {
   "cell_type": "code",
   "id": "04fb2051-2756-4f17-9672-faad84f290f3",
   "metadata": {},
   "source": [
    "revenue = pd.read_csv('revenue.csv', index_col='Date')\n",
    "revenue"
   ],
   "outputs": [],
   "execution_count": null
  },
  {
   "cell_type": "code",
   "id": "583fc4c9-7d6d-4d88-a520-bc3433e442aa",
   "metadata": {},
   "source": "revenue.sum(axis='index')",
   "outputs": [],
   "execution_count": null
  },
  {
   "cell_type": "code",
   "id": "463a501f-8af3-49e0-93a3-a35327fd3b73",
   "metadata": {},
   "source": "revenue.sum('columns')",
   "outputs": [],
   "execution_count": null
  },
  {
   "metadata": {},
   "cell_type": "code",
   "source": [
    "revenue.sum('columns').sum()\n",
    "type(revenue.sum('columns'))"
   ],
   "id": "3c9b5741c7ce8955",
   "outputs": [],
   "execution_count": null
  },
  {
   "cell_type": "markdown",
   "id": "b55398f0",
   "metadata": {},
   "source": [
    "## Select One Column from a DataFrame\n",
    "- We can use attribute syntax (`df.column_name`) to select a column from a **DataFrame**. The syntax will not work if the column name has spaces.\n",
    "- We can also use square bracket syntax (`df[\"column name\"]`) which will work for any column name.\n",
    "- Pandas extracts a column from a **DataFrame** as a **Series**.\n",
    "- The **Series** is a view, so changes to the **Series** *will* affect the **DataFrame**.\n",
    "- Pandas will display a warning if you mutate the **Series**. Use the `copy` method to create a duplicate."
   ]
  },
  {
   "cell_type": "code",
   "id": "95716d00-dcc4-44fe-9d38-39ab0a2ce782",
   "metadata": {},
   "source": [
    "nba = pd.read_csv('nba.csv')\n",
    "nba"
   ],
   "outputs": [],
   "execution_count": null
  },
  {
   "cell_type": "code",
   "id": "5be97bda-a164-4435-a662-7c241b1de4d6",
   "metadata": {},
   "source": [
    "teams = nba.Team\n",
    "teams"
   ],
   "outputs": [],
   "execution_count": null
  },
  {
   "cell_type": "code",
   "id": "572b9d22-8105-4246-9f35-306d5357da86",
   "metadata": {},
   "source": [
    "names = nba['Name']\n",
    "names"
   ],
   "outputs": [],
   "execution_count": null
  },
  {
   "cell_type": "code",
   "id": "a3c83066-dbb5-4fea-85c0-f96ae33cb106",
   "metadata": {},
   "source": "names.iloc[0] = 'Petar Koprinkov'",
   "outputs": [],
   "execution_count": null
  },
  {
   "cell_type": "code",
   "id": "5eb8fb06-8ffc-4492-8d0f-d4912ae9e0af",
   "metadata": {},
   "source": "nba",
   "outputs": [],
   "execution_count": null
  },
  {
   "cell_type": "markdown",
   "id": "771e31d7",
   "metadata": {},
   "source": [
    "## Select Multiple Columns from a DataFrame\n",
    "- Use square brackets with a list of names to extract multiple **DataFrame** columns.\n",
    "- Pandas stores the result in a new **DataFrame** (a copy)."
   ]
  },
  {
   "cell_type": "code",
   "id": "46886e4d-002e-432c-bbd6-4365c56882b3",
   "metadata": {},
   "source": [
    "nba = pd.read_csv('nba.csv')\n",
    "nba"
   ],
   "outputs": [],
   "execution_count": null
  },
  {
   "cell_type": "code",
   "id": "771c1a66-b619-4b3d-a3be-23c25caafd47",
   "metadata": {},
   "source": [
    "columns_to_extract = ['Name', 'Team']\n",
    "name_and_team = nba[columns_to_extract]\n",
    "name_and_team"
   ],
   "outputs": [],
   "execution_count": null
  },
  {
   "cell_type": "markdown",
   "id": "7a5e932e",
   "metadata": {},
   "source": [
    "## Add New Column to DataFrame\n",
    "- Use square bracket extraction syntax with an equal sign to add a new **Series** to a **DataFrame**.\n",
    "- The `insert` method allows us to insert an element at a specific column index.\n",
    "- On the right-hand side, we can reference an existing **DataFrame** column and perform a broadcasting operation on it to create the new **Series**."
   ]
  },
  {
   "cell_type": "code",
   "id": "14418ecb-5a16-4dd1-83cc-19cdd533f421",
   "metadata": {},
   "source": [
    "nba = pd.read_csv('nba.csv')\n",
    "nba"
   ],
   "outputs": [],
   "execution_count": null
  },
  {
   "cell_type": "code",
   "id": "c66ca9b8-5989-48c8-bda2-0946f0ef27ba",
   "metadata": {},
   "source": [
    "new_value=nba['Salary'].mul(2)\n",
    "nba.insert(loc=7, column='Doubled Salary', value=new_value)\n",
    "type(new_value)"
   ],
   "outputs": [],
   "execution_count": null
  },
  {
   "cell_type": "code",
   "id": "7471cc75-63aa-40f1-8cf0-2690c5376d23",
   "metadata": {
    "scrolled": true
   },
   "source": [
    "nba['New Value'] = nba['Salary'] * 3\n",
    "nba"
   ],
   "outputs": [],
   "execution_count": null
  },
  {
   "cell_type": "markdown",
   "id": "d98d7a8c",
   "metadata": {},
   "source": [
    "## A Review of the value_counts Method\n",
    "- The `value_counts` method counts the number of times that each unique value occurs in a **Series**."
   ]
  },
  {
   "cell_type": "code",
   "id": "04702b40-777a-4da3-84d0-bc5709eb269d",
   "metadata": {},
   "source": [
    "nba = pd.read_csv('nba.csv')\n",
    "nba"
   ],
   "outputs": [],
   "execution_count": null
  },
  {
   "metadata": {},
   "cell_type": "code",
   "source": "nba['Position'].value_counts(ascending = False, normalize=True).mul(100)",
   "id": "fa00ce7305eeee81",
   "outputs": [],
   "execution_count": null
  },
  {
   "cell_type": "markdown",
   "id": "695a7ffa",
   "metadata": {},
   "source": [
    "## Drop Rows with Missing Values\n",
    "- Pandas uses a `NaN` designation for cells that have a missing value.\n",
    "- The `dropna` method deletes rows with missing values. Its default behavior is to remove a row if it has *any* missing values.\n",
    "- Pass the `how` parameter an argument of \"all\" to delete rows where all the values are `NaN`.\n",
    "- The `subset` parameters customizes/limits the columns that pandas will use to drop rows with missing values."
   ]
  },
  {
   "cell_type": "code",
   "id": "541d51d1-9c34-4b8a-b65a-b7f736b951f4",
   "metadata": {},
   "source": [
    "nba = pd.read_csv('nba.csv')\n",
    "nba"
   ],
   "outputs": [],
   "execution_count": null
  },
  {
   "cell_type": "code",
   "id": "08ec7d63-8bcb-46f8-aa30-b2e04e93e8c3",
   "metadata": {},
   "source": "nba.dropna(how='all')",
   "outputs": [],
   "execution_count": null
  },
  {
   "metadata": {},
   "cell_type": "code",
   "source": "nba.dropna(subset=['Position', 'Salary'])",
   "id": "bdbc4e9b26451a6e",
   "outputs": [],
   "execution_count": null
  },
  {
   "cell_type": "markdown",
   "id": "8d33a3d7",
   "metadata": {},
   "source": [
    "## Fill in Missing Values with the fillna Method\n",
    "- The `fillna` method replaces missing `NaN` values with its argument.\n",
    "- The `fillna` method is available on both **DataFrames** and **Series**.\n",
    "- An extracted **Series** is a view on the original **DataFrame**, but the `fillna` method returns a copy."
   ]
  },
  {
   "cell_type": "code",
   "id": "6d087355-37b8-4348-a223-b0ae4435162e",
   "metadata": {},
   "source": [
    "nba = pd.read_csv('nba.csv').dropna(how='all')\n",
    "nba"
   ],
   "outputs": [],
   "execution_count": null
  },
  {
   "cell_type": "code",
   "id": "74f0392f-eb9e-4306-82f6-862311030faa",
   "metadata": {},
   "source": "nba['Salary'] = nba['Salary'].fillna(value=0)",
   "outputs": [],
   "execution_count": null
  },
  {
   "cell_type": "code",
   "id": "ff8ffa8c-1868-4444-8455-fb513c3078c2",
   "metadata": {},
   "source": "nba",
   "outputs": [],
   "execution_count": null
  },
  {
   "cell_type": "code",
   "id": "735dab76-188e-4389-a13d-9008696a8e8b",
   "metadata": {},
   "source": [
    "nba['College'] = nba['College'].fillna(value='Uknown')\n",
    "nba"
   ],
   "outputs": [],
   "execution_count": null
  },
  {
   "cell_type": "markdown",
   "id": "bc7be33b",
   "metadata": {},
   "source": [
    "## The astype Method I\n",
    "- The `astype` method converts a **Series's** values to a specified type.\n",
    "- Pass in the specified type as either a string or the core Python data type.\n",
    "- Pandas cannot convert `NaN` values to numeric types, so we need to eliminate/replace them before we perform the conversion.\n",
    "- The `dtypes` attribute returns a **Series** with the **DataFrame's** columns and their types."
   ]
  },
  {
   "cell_type": "code",
   "id": "38f6a68b-abb9-4e32-81b5-6402a2b25eba",
   "metadata": {},
   "source": [
    "nba = pd.read_csv('nba.csv')\n",
    "nba"
   ],
   "outputs": [],
   "execution_count": null
  },
  {
   "cell_type": "code",
   "id": "9e3ac701-31cf-413b-8987-986c4e20c095",
   "metadata": {},
   "source": "nba.dropna(how='all')",
   "outputs": [],
   "execution_count": null
  },
  {
   "cell_type": "code",
   "id": "ece08955-111c-4a7f-8590-0ce5cd458359",
   "metadata": {},
   "source": [
    "nba['Salary'] = nba['Salary'].fillna(value=0)\n",
    "nba"
   ],
   "outputs": [],
   "execution_count": null
  },
  {
   "cell_type": "code",
   "id": "7ec15d0f-5534-4d28-84b5-8475f37a6b19",
   "metadata": {},
   "source": [
    "nba['Salary'] = nba['Salary'].astype('int64')\n",
    "nba"
   ],
   "outputs": [],
   "execution_count": null
  },
  {
   "cell_type": "code",
   "id": "63a268dc-62b4-4f3d-9eb9-39350338fce5",
   "metadata": {},
   "source": [
    "nba['Weight'] = nba['Weight'].fillna(value=0)\n",
    "nba"
   ],
   "outputs": [],
   "execution_count": null
  },
  {
   "metadata": {},
   "cell_type": "code",
   "source": [
    "nba['Weight'] = nba['Weight'].astype('int64')\n",
    "nba"
   ],
   "id": "1ebc696a831713c3",
   "outputs": [],
   "execution_count": null
  },
  {
   "cell_type": "markdown",
   "id": "3f6381c2",
   "metadata": {},
   "source": [
    "## The astype Method II\n",
    "- The `category` type is ideal for columns with a limited number of unique values.\n",
    "- The `nunique` method will return a **Series** with the number of unique values in each column.\n",
    "- With categories, pandas does not create a separate value in memory for each \"cell\". Rather, the cells point to a single copy for each unique value."
   ]
  },
  {
   "cell_type": "code",
   "id": "e8017ea4-a4b9-4068-a0f7-ed86f51fc51f",
   "metadata": {},
   "source": [
    "nba = pd.read_csv('nba.csv')\n",
    "nba.info()"
   ],
   "outputs": [],
   "execution_count": null
  },
  {
   "cell_type": "code",
   "id": "153dcfe2-77c5-44f7-8b9a-60b50fd78626",
   "metadata": {},
   "source": [
    "nba['Position'] = nba.Position.astype('category')\n",
    "nba.info()"
   ],
   "outputs": [],
   "execution_count": null
  },
  {
   "cell_type": "code",
   "id": "59b034e0-5fd8-458a-b43c-e9074bb02e29",
   "metadata": {},
   "source": [
    "nba['Team'] = nba['Team'].astype('category')\n",
    "nba.info()"
   ],
   "outputs": [],
   "execution_count": null
  },
  {
   "cell_type": "markdown",
   "id": "8c9851d8",
   "metadata": {},
   "source": [
    "## Sort a DataFrame with the sort_values Method I\n",
    "- The `sort_values` method sorts a **DataFrame** by the values in one or more columns. The default sort is an ascending one (alphabetical for strings).\n",
    "- The first parameter (`by`) expects the column(s) to sort by.\n",
    "- If sorting by a single column, pass a string with its name.\n",
    "- The `ascending` parameter customizes the sort order.\n",
    "- The `na_position` parameter customizes where pandas places `NaN` values."
   ]
  },
  {
   "cell_type": "code",
   "id": "8cdda111-6a2d-43a1-b098-8dbefe3fbe57",
   "metadata": {},
   "source": [
    "nba = pd.read_csv('nba.csv')\n",
    "nba"
   ],
   "outputs": [],
   "execution_count": null
  },
  {
   "cell_type": "code",
   "id": "4f9a8e76-6d45-456a-b7ee-da279ca4b846",
   "metadata": {},
   "source": "nba.sort_values(by='Name', ascending=True)",
   "outputs": [],
   "execution_count": null
  },
  {
   "metadata": {},
   "cell_type": "code",
   "source": "nba.sort_values(by=['Salary', 'Team'], ascending=False, na_position='first')",
   "id": "fb19ca4d5633b0ed",
   "outputs": [],
   "execution_count": null
  },
  {
   "cell_type": "markdown",
   "id": "086886da",
   "metadata": {},
   "source": [
    "## Sort a DataFrame with the sort_values Method II\n",
    "- To sort by multiple columns, pass the `by` parameter a list of column names. Pandas will sort in the specified column order (first to last).\n",
    "- Pass the `ascending` parameter a Boolean to sort all columns in a consistent order (all ascending or all descending).\n",
    "- Pass `ascending` a list to customize the sort order *per* column. The `ascending` list length must match the `by` list."
   ]
  },
  {
   "cell_type": "code",
   "id": "b666d298-1fee-4372-8775-91353dd0caa6",
   "metadata": {},
   "source": [
    "nba = pd.read_csv('nba.csv')\n",
    "nba"
   ],
   "outputs": [],
   "execution_count": null
  },
  {
   "cell_type": "code",
   "id": "da2a2d40-9c78-499a-a0cf-42750443ea54",
   "metadata": {},
   "source": "nba = nba.sort_values(by=['Salary', 'Name'], ascending=[False, True], na_position='last')",
   "outputs": [],
   "execution_count": null
  },
  {
   "metadata": {},
   "cell_type": "code",
   "source": "nba",
   "id": "bedeb89153678090",
   "outputs": [],
   "execution_count": null
  },
  {
   "cell_type": "markdown",
   "id": "0439e26b",
   "metadata": {},
   "source": [
    "## Sort a DataFrame by its Index\n",
    "- The `sort_index` method sorts the **DataFrame** by its index positions/labels."
   ]
  },
  {
   "cell_type": "code",
   "id": "b429f999-e4fc-4c1e-84ba-167da47ed5eb",
   "metadata": {},
   "source": [
    "nba = pd.read_csv('nba.csv')\n",
    "nba"
   ],
   "outputs": [],
   "execution_count": null
  },
  {
   "cell_type": "code",
   "id": "89f28797-2194-44ed-ad24-bff2bd2a92b2",
   "metadata": {},
   "source": "nba.sort_index(ascending=False)",
   "outputs": [],
   "execution_count": null
  },
  {
   "cell_type": "markdown",
   "id": "093e0239",
   "metadata": {},
   "source": [
    "## Rank Values with the rank Method\n",
    "- The `rank` method assigns a numeric ranking to each **Series** value.\n",
    "- Pandas will assign the same rank to equal values and create a \"gap\" in the dataset for the ranks."
   ]
  },
  {
   "cell_type": "code",
   "id": "8765d174",
   "metadata": {},
   "source": [
    "nba = pd.read_csv('nba.csv')\n",
    "nba"
   ],
   "outputs": [],
   "execution_count": null
  },
  {
   "cell_type": "code",
   "id": "dcdb7a22-55d9-45cc-a919-83957bf52823",
   "metadata": {},
   "source": [
    "nba = nba.dropna(how='all')\n",
    "nba"
   ],
   "outputs": [],
   "execution_count": null
  },
  {
   "cell_type": "code",
   "id": "bbf0e745-976d-4a51-8780-c33e01470991",
   "metadata": {},
   "source": [
    "nba['Salary'] = nba['Salary'].fillna(value=0).astype('int64')\n",
    "nba"
   ],
   "outputs": [],
   "execution_count": null
  },
  {
   "cell_type": "code",
   "id": "f4118c87-2691-4662-96ff-513a626eaa32",
   "metadata": {},
   "source": "nba_rank_by_salary = nba['Salary'].rank(ascending=False).astype('int64')",
   "outputs": [],
   "execution_count": null
  },
  {
   "cell_type": "code",
   "id": "b0f520ff-71ed-4924-8479-dba05a5a5782",
   "metadata": {},
   "source": "nba.insert(loc=7, column='Ranked Salary', value=nba_rank_by_salary)",
   "outputs": [],
   "execution_count": null
  },
  {
   "cell_type": "code",
   "id": "2811a88c",
   "metadata": {},
   "source": "nba.sort_values(by='Ranked Salary', ascending=True, na_position='last')",
   "outputs": [],
   "execution_count": null
  }
 ],
 "metadata": {
  "kernelspec": {
   "display_name": "Python 3 (ipykernel)",
   "language": "python",
   "name": "python3"
  },
  "language_info": {
   "codemirror_mode": {
    "name": "ipython",
    "version": 3
   },
   "file_extension": ".py",
   "mimetype": "text/x-python",
   "name": "python",
   "nbconvert_exporter": "python",
   "pygments_lexer": "ipython3",
   "version": "3.11.5"
  }
 },
 "nbformat": 4,
 "nbformat_minor": 5
}
