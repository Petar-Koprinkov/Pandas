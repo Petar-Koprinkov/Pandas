{
 "cells": [
  {
   "cell_type": "markdown",
   "metadata": {},
   "source": [
    "# Input and Output"
   ]
  },
  {
   "cell_type": "code",
   "metadata": {},
   "source": "import pandas as pd",
   "outputs": [],
   "execution_count": null
  },
  {
   "cell_type": "code",
   "metadata": {
    "collapsed": false,
    "jupyter": {
     "outputs_hidden": false
    }
   },
   "source": [
    "url = 'https://data.cityofnewyork.us/api/views/25th-nujf/rows.csv'\n",
    "baby_names = pd.read_csv(url)\n",
    "baby_names"
   ],
   "outputs": [],
   "execution_count": null
  },
  {
   "cell_type": "markdown",
   "metadata": {},
   "source": [
    "## Export DataFrame to CSV File\n",
    "- The `to_csv` method exports a **DataFrame** to a CSV file.\n",
    "- Its first argument is the filename.\n",
    "- By default, pandas will include the index. Set the `index` parameter to False to exclude the index.\n",
    "- The `columns` parameter limits the exported columns."
   ]
  },
  {
   "cell_type": "code",
   "metadata": {},
   "source": "baby_names.to_csv('baby_names.csv')",
   "outputs": [],
   "execution_count": null
  },
  {
   "cell_type": "code",
   "metadata": {},
   "source": "baby_names.to_csv('baby_names.csv', index=False)",
   "outputs": [],
   "execution_count": null
  },
  {
   "cell_type": "code",
   "metadata": {},
   "source": "baby_names.to_csv('baby_names.csv', index=False, columns=['Year of Birth', 'Gender', 'Child\\'s First Name'])",
   "outputs": [],
   "execution_count": null
  },
  {
   "cell_type": "code",
   "metadata": {},
   "source": [],
   "outputs": [],
   "execution_count": null
  },
  {
   "cell_type": "markdown",
   "metadata": {},
   "source": [
    "## Install openpyxl Library to Read and Write Excel Files"
   ]
  },
  {
   "cell_type": "markdown",
   "metadata": {},
   "source": [
    "## Import Excel File into pandas\n",
    "- The `read_excel` function reads an Excel file/workbook into a **DataFrame**.\n",
    "- Use the `sheet_name` parameter if the workbook contains multiple worksheets. Pass a single worksheet name or a list of worksheet names/index positions.\n",
    "- Pass the `sheet_name` parameter an argument of **None** to include all worksheets.\n",
    "- Pandas will store multiple worksheets in a Python dictionary. The keys will be the worksheet names, and the values will be the **DataFrames**."
   ]
  },
  {
   "cell_type": "code",
   "metadata": {},
   "source": "pd.read_excel('Data - Single Worksheet.xlsx')",
   "outputs": [],
   "execution_count": null
  },
  {
   "cell_type": "code",
   "metadata": {},
   "source": "pd.read_excel('Data - Multiple Worksheets.xlsx')",
   "outputs": [],
   "execution_count": null
  },
  {
   "metadata": {},
   "cell_type": "code",
   "source": "pd.read_excel('Data - Multiple Worksheets.xlsx', sheet_name='Data 1')",
   "outputs": [],
   "execution_count": null
  },
  {
   "metadata": {},
   "cell_type": "code",
   "source": "pd.read_excel('Data - Multiple Worksheets.xlsx', sheet_name='Data 2')",
   "outputs": [],
   "execution_count": null
  },
  {
   "metadata": {},
   "cell_type": "code",
   "source": "pd.read_excel('Data - Multiple Worksheets.xlsx', sheet_name=0)",
   "outputs": [],
   "execution_count": null
  },
  {
   "cell_type": "code",
   "metadata": {},
   "source": "pd.read_excel('Data - Multiple Worksheets.xlsx', sheet_name=1)",
   "outputs": [],
   "execution_count": null
  },
  {
   "cell_type": "code",
   "metadata": {},
   "source": "pd.read_excel('Data - Multiple Worksheets.xlsx', sheet_name=['Data 1', 'Data 2'])",
   "outputs": [],
   "execution_count": null
  },
  {
   "metadata": {},
   "cell_type": "code",
   "source": "pd.read_excel('Data - Multiple Worksheets.xlsx', sheet_name=[0, 1])",
   "outputs": [],
   "execution_count": null
  },
  {
   "metadata": {},
   "cell_type": "code",
   "source": "pd.read_excel('Data - Multiple Worksheets.xlsx', sheet_name=None)",
   "outputs": [],
   "execution_count": null
  },
  {
   "metadata": {},
   "cell_type": "code",
   "source": [
    "data = pd.read_excel('Data - Multiple Worksheets.xlsx', sheet_name=None)\n",
    "data"
   ],
   "outputs": [],
   "execution_count": null
  },
  {
   "metadata": {},
   "cell_type": "code",
   "source": "data['Data 1']",
   "outputs": [],
   "execution_count": null
  },
  {
   "metadata": {},
   "cell_type": "code",
   "source": "data['Data 2']",
   "outputs": [],
   "execution_count": null
  },
  {
   "cell_type": "markdown",
   "metadata": {},
   "source": [
    "## Export Excel File from pandas\n",
    "- The **ExcelWriter** class writes one or more **DataFrames** to an Excel file.\n",
    "- Use a context manager (the `with` keyword) in combination with the **ExcelWriter** object and an assigned variable.\n",
    "- Invoke the `to_excel` method on every **DataFrame** to include in the Excel workbook and pass in the **ExcelWriter** object as the first argument.\n",
    "- The `to_excel` method supports `sheet_name`, `index`, and `columns` parameters."
   ]
  },
  {
   "cell_type": "code",
   "metadata": {},
   "source": [
    "url = 'https://data.cityofnewyork.us/api/views/25th-nujf/rows.csv'\n",
    "baby_names = pd.read_csv(url)\n",
    "baby_names"
   ],
   "outputs": [],
   "execution_count": null
  },
  {
   "cell_type": "code",
   "metadata": {},
   "source": [
    "males = baby_names[baby_names['Gender'] == 'MALE']\n",
    "males"
   ],
   "outputs": [],
   "execution_count": null
  },
  {
   "cell_type": "code",
   "metadata": {},
   "source": [
    "females = baby_names[baby_names['Gender'] == 'FEMALE']\n",
    "females"
   ],
   "outputs": [],
   "execution_count": null
  },
  {
   "cell_type": "code",
   "metadata": {},
   "source": [
    "with pd.ExcelWriter('Data - Baby Names.xlsx') as excel_file:\n",
    "    males.to_excel(excel_file, index=False)\n",
    "    females.to_excel(excel_file, index=False)"
   ],
   "outputs": [],
   "execution_count": null
  },
  {
   "cell_type": "code",
   "metadata": {},
   "source": [
    "males.to_excel('Data - Males.xlsx', index=False)\n",
    "females.to_excel('Data - Females.xlsx', index=False)"
   ],
   "outputs": [],
   "execution_count": null
  }
 ],
 "metadata": {
  "anaconda-cloud": {},
  "kernelspec": {
   "display_name": "Python 3 (ipykernel)",
   "language": "python",
   "name": "python3"
  },
  "language_info": {
   "codemirror_mode": {
    "name": "ipython",
    "version": 3
   },
   "file_extension": ".py",
   "mimetype": "text/x-python",
   "name": "python",
   "nbconvert_exporter": "python",
   "pygments_lexer": "ipython3",
   "version": "3.11.5"
  }
 },
 "nbformat": 4,
 "nbformat_minor": 4
}
